{
 "cells": [
  {
   "cell_type": "markdown",
   "metadata": {},
   "source": [
    "# Fire up graphlab create"
   ]
  },
  {
   "cell_type": "code",
   "execution_count": 1,
   "metadata": {
    "collapsed": true
   },
   "outputs": [],
   "source": [
    "import graphlab"
   ]
  },
  {
   "cell_type": "markdown",
   "metadata": {},
   "source": [
    "# Load some house sales data\n",
    "\n",
    "Dataset is from house sales in King County, the region where the city of Seattle, WA is located."
   ]
  },
  {
   "cell_type": "code",
   "execution_count": 4,
   "metadata": {
    "collapsed": false
   },
   "outputs": [],
   "source": [
    "sales = graphlab.SFrame('home_data.gl/')"
   ]
  },
  {
   "cell_type": "code",
   "execution_count": 5,
   "metadata": {
    "collapsed": false
   },
   "outputs": [
    {
     "data": {
      "text/html": [
       "<div style=\"max-height:1000px;max-width:1500px;overflow:auto;\"><table frame=\"box\" rules=\"cols\">\n",
       "    <tr>\n",
       "        <th style=\"padding-left: 1em; padding-right: 1em; text-align: center\">id</th>\n",
       "        <th style=\"padding-left: 1em; padding-right: 1em; text-align: center\">date</th>\n",
       "        <th style=\"padding-left: 1em; padding-right: 1em; text-align: center\">price</th>\n",
       "        <th style=\"padding-left: 1em; padding-right: 1em; text-align: center\">bedrooms</th>\n",
       "        <th style=\"padding-left: 1em; padding-right: 1em; text-align: center\">bathrooms</th>\n",
       "        <th style=\"padding-left: 1em; padding-right: 1em; text-align: center\">sqft_living</th>\n",
       "        <th style=\"padding-left: 1em; padding-right: 1em; text-align: center\">sqft_lot</th>\n",
       "        <th style=\"padding-left: 1em; padding-right: 1em; text-align: center\">floors</th>\n",
       "        <th style=\"padding-left: 1em; padding-right: 1em; text-align: center\">waterfront</th>\n",
       "    </tr>\n",
       "    <tr>\n",
       "        <td style=\"padding-left: 1em; padding-right: 1em; text-align: center; vertical-align: top\">7129300520</td>\n",
       "        <td style=\"padding-left: 1em; padding-right: 1em; text-align: center; vertical-align: top\">2014-10-13 00:00:00+00:00</td>\n",
       "        <td style=\"padding-left: 1em; padding-right: 1em; text-align: center; vertical-align: top\">221900</td>\n",
       "        <td style=\"padding-left: 1em; padding-right: 1em; text-align: center; vertical-align: top\">3</td>\n",
       "        <td style=\"padding-left: 1em; padding-right: 1em; text-align: center; vertical-align: top\">1</td>\n",
       "        <td style=\"padding-left: 1em; padding-right: 1em; text-align: center; vertical-align: top\">1180</td>\n",
       "        <td style=\"padding-left: 1em; padding-right: 1em; text-align: center; vertical-align: top\">5650</td>\n",
       "        <td style=\"padding-left: 1em; padding-right: 1em; text-align: center; vertical-align: top\">1</td>\n",
       "        <td style=\"padding-left: 1em; padding-right: 1em; text-align: center; vertical-align: top\">0</td>\n",
       "    </tr>\n",
       "    <tr>\n",
       "        <td style=\"padding-left: 1em; padding-right: 1em; text-align: center; vertical-align: top\">6414100192</td>\n",
       "        <td style=\"padding-left: 1em; padding-right: 1em; text-align: center; vertical-align: top\">2014-12-09 00:00:00+00:00</td>\n",
       "        <td style=\"padding-left: 1em; padding-right: 1em; text-align: center; vertical-align: top\">538000</td>\n",
       "        <td style=\"padding-left: 1em; padding-right: 1em; text-align: center; vertical-align: top\">3</td>\n",
       "        <td style=\"padding-left: 1em; padding-right: 1em; text-align: center; vertical-align: top\">2.25</td>\n",
       "        <td style=\"padding-left: 1em; padding-right: 1em; text-align: center; vertical-align: top\">2570</td>\n",
       "        <td style=\"padding-left: 1em; padding-right: 1em; text-align: center; vertical-align: top\">7242</td>\n",
       "        <td style=\"padding-left: 1em; padding-right: 1em; text-align: center; vertical-align: top\">2</td>\n",
       "        <td style=\"padding-left: 1em; padding-right: 1em; text-align: center; vertical-align: top\">0</td>\n",
       "    </tr>\n",
       "    <tr>\n",
       "        <td style=\"padding-left: 1em; padding-right: 1em; text-align: center; vertical-align: top\">5631500400</td>\n",
       "        <td style=\"padding-left: 1em; padding-right: 1em; text-align: center; vertical-align: top\">2015-02-25 00:00:00+00:00</td>\n",
       "        <td style=\"padding-left: 1em; padding-right: 1em; text-align: center; vertical-align: top\">180000</td>\n",
       "        <td style=\"padding-left: 1em; padding-right: 1em; text-align: center; vertical-align: top\">2</td>\n",
       "        <td style=\"padding-left: 1em; padding-right: 1em; text-align: center; vertical-align: top\">1</td>\n",
       "        <td style=\"padding-left: 1em; padding-right: 1em; text-align: center; vertical-align: top\">770</td>\n",
       "        <td style=\"padding-left: 1em; padding-right: 1em; text-align: center; vertical-align: top\">10000</td>\n",
       "        <td style=\"padding-left: 1em; padding-right: 1em; text-align: center; vertical-align: top\">1</td>\n",
       "        <td style=\"padding-left: 1em; padding-right: 1em; text-align: center; vertical-align: top\">0</td>\n",
       "    </tr>\n",
       "    <tr>\n",
       "        <td style=\"padding-left: 1em; padding-right: 1em; text-align: center; vertical-align: top\">2487200875</td>\n",
       "        <td style=\"padding-left: 1em; padding-right: 1em; text-align: center; vertical-align: top\">2014-12-09 00:00:00+00:00</td>\n",
       "        <td style=\"padding-left: 1em; padding-right: 1em; text-align: center; vertical-align: top\">604000</td>\n",
       "        <td style=\"padding-left: 1em; padding-right: 1em; text-align: center; vertical-align: top\">4</td>\n",
       "        <td style=\"padding-left: 1em; padding-right: 1em; text-align: center; vertical-align: top\">3</td>\n",
       "        <td style=\"padding-left: 1em; padding-right: 1em; text-align: center; vertical-align: top\">1960</td>\n",
       "        <td style=\"padding-left: 1em; padding-right: 1em; text-align: center; vertical-align: top\">5000</td>\n",
       "        <td style=\"padding-left: 1em; padding-right: 1em; text-align: center; vertical-align: top\">1</td>\n",
       "        <td style=\"padding-left: 1em; padding-right: 1em; text-align: center; vertical-align: top\">0</td>\n",
       "    </tr>\n",
       "    <tr>\n",
       "        <td style=\"padding-left: 1em; padding-right: 1em; text-align: center; vertical-align: top\">1954400510</td>\n",
       "        <td style=\"padding-left: 1em; padding-right: 1em; text-align: center; vertical-align: top\">2015-02-18 00:00:00+00:00</td>\n",
       "        <td style=\"padding-left: 1em; padding-right: 1em; text-align: center; vertical-align: top\">510000</td>\n",
       "        <td style=\"padding-left: 1em; padding-right: 1em; text-align: center; vertical-align: top\">3</td>\n",
       "        <td style=\"padding-left: 1em; padding-right: 1em; text-align: center; vertical-align: top\">2</td>\n",
       "        <td style=\"padding-left: 1em; padding-right: 1em; text-align: center; vertical-align: top\">1680</td>\n",
       "        <td style=\"padding-left: 1em; padding-right: 1em; text-align: center; vertical-align: top\">8080</td>\n",
       "        <td style=\"padding-left: 1em; padding-right: 1em; text-align: center; vertical-align: top\">1</td>\n",
       "        <td style=\"padding-left: 1em; padding-right: 1em; text-align: center; vertical-align: top\">0</td>\n",
       "    </tr>\n",
       "    <tr>\n",
       "        <td style=\"padding-left: 1em; padding-right: 1em; text-align: center; vertical-align: top\">7237550310</td>\n",
       "        <td style=\"padding-left: 1em; padding-right: 1em; text-align: center; vertical-align: top\">2014-05-12 00:00:00+00:00</td>\n",
       "        <td style=\"padding-left: 1em; padding-right: 1em; text-align: center; vertical-align: top\">1225000</td>\n",
       "        <td style=\"padding-left: 1em; padding-right: 1em; text-align: center; vertical-align: top\">4</td>\n",
       "        <td style=\"padding-left: 1em; padding-right: 1em; text-align: center; vertical-align: top\">4.5</td>\n",
       "        <td style=\"padding-left: 1em; padding-right: 1em; text-align: center; vertical-align: top\">5420</td>\n",
       "        <td style=\"padding-left: 1em; padding-right: 1em; text-align: center; vertical-align: top\">101930</td>\n",
       "        <td style=\"padding-left: 1em; padding-right: 1em; text-align: center; vertical-align: top\">1</td>\n",
       "        <td style=\"padding-left: 1em; padding-right: 1em; text-align: center; vertical-align: top\">0</td>\n",
       "    </tr>\n",
       "    <tr>\n",
       "        <td style=\"padding-left: 1em; padding-right: 1em; text-align: center; vertical-align: top\">1321400060</td>\n",
       "        <td style=\"padding-left: 1em; padding-right: 1em; text-align: center; vertical-align: top\">2014-06-27 00:00:00+00:00</td>\n",
       "        <td style=\"padding-left: 1em; padding-right: 1em; text-align: center; vertical-align: top\">257500</td>\n",
       "        <td style=\"padding-left: 1em; padding-right: 1em; text-align: center; vertical-align: top\">3</td>\n",
       "        <td style=\"padding-left: 1em; padding-right: 1em; text-align: center; vertical-align: top\">2.25</td>\n",
       "        <td style=\"padding-left: 1em; padding-right: 1em; text-align: center; vertical-align: top\">1715</td>\n",
       "        <td style=\"padding-left: 1em; padding-right: 1em; text-align: center; vertical-align: top\">6819</td>\n",
       "        <td style=\"padding-left: 1em; padding-right: 1em; text-align: center; vertical-align: top\">2</td>\n",
       "        <td style=\"padding-left: 1em; padding-right: 1em; text-align: center; vertical-align: top\">0</td>\n",
       "    </tr>\n",
       "    <tr>\n",
       "        <td style=\"padding-left: 1em; padding-right: 1em; text-align: center; vertical-align: top\">2008000270</td>\n",
       "        <td style=\"padding-left: 1em; padding-right: 1em; text-align: center; vertical-align: top\">2015-01-15 00:00:00+00:00</td>\n",
       "        <td style=\"padding-left: 1em; padding-right: 1em; text-align: center; vertical-align: top\">291850</td>\n",
       "        <td style=\"padding-left: 1em; padding-right: 1em; text-align: center; vertical-align: top\">3</td>\n",
       "        <td style=\"padding-left: 1em; padding-right: 1em; text-align: center; vertical-align: top\">1.5</td>\n",
       "        <td style=\"padding-left: 1em; padding-right: 1em; text-align: center; vertical-align: top\">1060</td>\n",
       "        <td style=\"padding-left: 1em; padding-right: 1em; text-align: center; vertical-align: top\">9711</td>\n",
       "        <td style=\"padding-left: 1em; padding-right: 1em; text-align: center; vertical-align: top\">1</td>\n",
       "        <td style=\"padding-left: 1em; padding-right: 1em; text-align: center; vertical-align: top\">0</td>\n",
       "    </tr>\n",
       "    <tr>\n",
       "        <td style=\"padding-left: 1em; padding-right: 1em; text-align: center; vertical-align: top\">2414600126</td>\n",
       "        <td style=\"padding-left: 1em; padding-right: 1em; text-align: center; vertical-align: top\">2015-04-15 00:00:00+00:00</td>\n",
       "        <td style=\"padding-left: 1em; padding-right: 1em; text-align: center; vertical-align: top\">229500</td>\n",
       "        <td style=\"padding-left: 1em; padding-right: 1em; text-align: center; vertical-align: top\">3</td>\n",
       "        <td style=\"padding-left: 1em; padding-right: 1em; text-align: center; vertical-align: top\">1</td>\n",
       "        <td style=\"padding-left: 1em; padding-right: 1em; text-align: center; vertical-align: top\">1780</td>\n",
       "        <td style=\"padding-left: 1em; padding-right: 1em; text-align: center; vertical-align: top\">7470</td>\n",
       "        <td style=\"padding-left: 1em; padding-right: 1em; text-align: center; vertical-align: top\">1</td>\n",
       "        <td style=\"padding-left: 1em; padding-right: 1em; text-align: center; vertical-align: top\">0</td>\n",
       "    </tr>\n",
       "    <tr>\n",
       "        <td style=\"padding-left: 1em; padding-right: 1em; text-align: center; vertical-align: top\">3793500160</td>\n",
       "        <td style=\"padding-left: 1em; padding-right: 1em; text-align: center; vertical-align: top\">2015-03-12 00:00:00+00:00</td>\n",
       "        <td style=\"padding-left: 1em; padding-right: 1em; text-align: center; vertical-align: top\">323000</td>\n",
       "        <td style=\"padding-left: 1em; padding-right: 1em; text-align: center; vertical-align: top\">3</td>\n",
       "        <td style=\"padding-left: 1em; padding-right: 1em; text-align: center; vertical-align: top\">2.5</td>\n",
       "        <td style=\"padding-left: 1em; padding-right: 1em; text-align: center; vertical-align: top\">1890</td>\n",
       "        <td style=\"padding-left: 1em; padding-right: 1em; text-align: center; vertical-align: top\">6560</td>\n",
       "        <td style=\"padding-left: 1em; padding-right: 1em; text-align: center; vertical-align: top\">2</td>\n",
       "        <td style=\"padding-left: 1em; padding-right: 1em; text-align: center; vertical-align: top\">0</td>\n",
       "    </tr>\n",
       "</table>\n",
       "<table frame=\"box\" rules=\"cols\">\n",
       "    <tr>\n",
       "        <th style=\"padding-left: 1em; padding-right: 1em; text-align: center\">view</th>\n",
       "        <th style=\"padding-left: 1em; padding-right: 1em; text-align: center\">condition</th>\n",
       "        <th style=\"padding-left: 1em; padding-right: 1em; text-align: center\">grade</th>\n",
       "        <th style=\"padding-left: 1em; padding-right: 1em; text-align: center\">sqft_above</th>\n",
       "        <th style=\"padding-left: 1em; padding-right: 1em; text-align: center\">sqft_basement</th>\n",
       "        <th style=\"padding-left: 1em; padding-right: 1em; text-align: center\">yr_built</th>\n",
       "        <th style=\"padding-left: 1em; padding-right: 1em; text-align: center\">yr_renovated</th>\n",
       "        <th style=\"padding-left: 1em; padding-right: 1em; text-align: center\">zipcode</th>\n",
       "        <th style=\"padding-left: 1em; padding-right: 1em; text-align: center\">lat</th>\n",
       "    </tr>\n",
       "    <tr>\n",
       "        <td style=\"padding-left: 1em; padding-right: 1em; text-align: center; vertical-align: top\">0</td>\n",
       "        <td style=\"padding-left: 1em; padding-right: 1em; text-align: center; vertical-align: top\">3</td>\n",
       "        <td style=\"padding-left: 1em; padding-right: 1em; text-align: center; vertical-align: top\">7</td>\n",
       "        <td style=\"padding-left: 1em; padding-right: 1em; text-align: center; vertical-align: top\">1180</td>\n",
       "        <td style=\"padding-left: 1em; padding-right: 1em; text-align: center; vertical-align: top\">0</td>\n",
       "        <td style=\"padding-left: 1em; padding-right: 1em; text-align: center; vertical-align: top\">1955</td>\n",
       "        <td style=\"padding-left: 1em; padding-right: 1em; text-align: center; vertical-align: top\">0</td>\n",
       "        <td style=\"padding-left: 1em; padding-right: 1em; text-align: center; vertical-align: top\">98178</td>\n",
       "        <td style=\"padding-left: 1em; padding-right: 1em; text-align: center; vertical-align: top\">47.51123398</td>\n",
       "    </tr>\n",
       "    <tr>\n",
       "        <td style=\"padding-left: 1em; padding-right: 1em; text-align: center; vertical-align: top\">0</td>\n",
       "        <td style=\"padding-left: 1em; padding-right: 1em; text-align: center; vertical-align: top\">3</td>\n",
       "        <td style=\"padding-left: 1em; padding-right: 1em; text-align: center; vertical-align: top\">7</td>\n",
       "        <td style=\"padding-left: 1em; padding-right: 1em; text-align: center; vertical-align: top\">2170</td>\n",
       "        <td style=\"padding-left: 1em; padding-right: 1em; text-align: center; vertical-align: top\">400</td>\n",
       "        <td style=\"padding-left: 1em; padding-right: 1em; text-align: center; vertical-align: top\">1951</td>\n",
       "        <td style=\"padding-left: 1em; padding-right: 1em; text-align: center; vertical-align: top\">1991</td>\n",
       "        <td style=\"padding-left: 1em; padding-right: 1em; text-align: center; vertical-align: top\">98125</td>\n",
       "        <td style=\"padding-left: 1em; padding-right: 1em; text-align: center; vertical-align: top\">47.72102274</td>\n",
       "    </tr>\n",
       "    <tr>\n",
       "        <td style=\"padding-left: 1em; padding-right: 1em; text-align: center; vertical-align: top\">0</td>\n",
       "        <td style=\"padding-left: 1em; padding-right: 1em; text-align: center; vertical-align: top\">3</td>\n",
       "        <td style=\"padding-left: 1em; padding-right: 1em; text-align: center; vertical-align: top\">6</td>\n",
       "        <td style=\"padding-left: 1em; padding-right: 1em; text-align: center; vertical-align: top\">770</td>\n",
       "        <td style=\"padding-left: 1em; padding-right: 1em; text-align: center; vertical-align: top\">0</td>\n",
       "        <td style=\"padding-left: 1em; padding-right: 1em; text-align: center; vertical-align: top\">1933</td>\n",
       "        <td style=\"padding-left: 1em; padding-right: 1em; text-align: center; vertical-align: top\">0</td>\n",
       "        <td style=\"padding-left: 1em; padding-right: 1em; text-align: center; vertical-align: top\">98028</td>\n",
       "        <td style=\"padding-left: 1em; padding-right: 1em; text-align: center; vertical-align: top\">47.73792661</td>\n",
       "    </tr>\n",
       "    <tr>\n",
       "        <td style=\"padding-left: 1em; padding-right: 1em; text-align: center; vertical-align: top\">0</td>\n",
       "        <td style=\"padding-left: 1em; padding-right: 1em; text-align: center; vertical-align: top\">5</td>\n",
       "        <td style=\"padding-left: 1em; padding-right: 1em; text-align: center; vertical-align: top\">7</td>\n",
       "        <td style=\"padding-left: 1em; padding-right: 1em; text-align: center; vertical-align: top\">1050</td>\n",
       "        <td style=\"padding-left: 1em; padding-right: 1em; text-align: center; vertical-align: top\">910</td>\n",
       "        <td style=\"padding-left: 1em; padding-right: 1em; text-align: center; vertical-align: top\">1965</td>\n",
       "        <td style=\"padding-left: 1em; padding-right: 1em; text-align: center; vertical-align: top\">0</td>\n",
       "        <td style=\"padding-left: 1em; padding-right: 1em; text-align: center; vertical-align: top\">98136</td>\n",
       "        <td style=\"padding-left: 1em; padding-right: 1em; text-align: center; vertical-align: top\">47.52082</td>\n",
       "    </tr>\n",
       "    <tr>\n",
       "        <td style=\"padding-left: 1em; padding-right: 1em; text-align: center; vertical-align: top\">0</td>\n",
       "        <td style=\"padding-left: 1em; padding-right: 1em; text-align: center; vertical-align: top\">3</td>\n",
       "        <td style=\"padding-left: 1em; padding-right: 1em; text-align: center; vertical-align: top\">8</td>\n",
       "        <td style=\"padding-left: 1em; padding-right: 1em; text-align: center; vertical-align: top\">1680</td>\n",
       "        <td style=\"padding-left: 1em; padding-right: 1em; text-align: center; vertical-align: top\">0</td>\n",
       "        <td style=\"padding-left: 1em; padding-right: 1em; text-align: center; vertical-align: top\">1987</td>\n",
       "        <td style=\"padding-left: 1em; padding-right: 1em; text-align: center; vertical-align: top\">0</td>\n",
       "        <td style=\"padding-left: 1em; padding-right: 1em; text-align: center; vertical-align: top\">98074</td>\n",
       "        <td style=\"padding-left: 1em; padding-right: 1em; text-align: center; vertical-align: top\">47.61681228</td>\n",
       "    </tr>\n",
       "    <tr>\n",
       "        <td style=\"padding-left: 1em; padding-right: 1em; text-align: center; vertical-align: top\">0</td>\n",
       "        <td style=\"padding-left: 1em; padding-right: 1em; text-align: center; vertical-align: top\">3</td>\n",
       "        <td style=\"padding-left: 1em; padding-right: 1em; text-align: center; vertical-align: top\">11</td>\n",
       "        <td style=\"padding-left: 1em; padding-right: 1em; text-align: center; vertical-align: top\">3890</td>\n",
       "        <td style=\"padding-left: 1em; padding-right: 1em; text-align: center; vertical-align: top\">1530</td>\n",
       "        <td style=\"padding-left: 1em; padding-right: 1em; text-align: center; vertical-align: top\">2001</td>\n",
       "        <td style=\"padding-left: 1em; padding-right: 1em; text-align: center; vertical-align: top\">0</td>\n",
       "        <td style=\"padding-left: 1em; padding-right: 1em; text-align: center; vertical-align: top\">98053</td>\n",
       "        <td style=\"padding-left: 1em; padding-right: 1em; text-align: center; vertical-align: top\">47.65611835</td>\n",
       "    </tr>\n",
       "    <tr>\n",
       "        <td style=\"padding-left: 1em; padding-right: 1em; text-align: center; vertical-align: top\">0</td>\n",
       "        <td style=\"padding-left: 1em; padding-right: 1em; text-align: center; vertical-align: top\">3</td>\n",
       "        <td style=\"padding-left: 1em; padding-right: 1em; text-align: center; vertical-align: top\">7</td>\n",
       "        <td style=\"padding-left: 1em; padding-right: 1em; text-align: center; vertical-align: top\">1715</td>\n",
       "        <td style=\"padding-left: 1em; padding-right: 1em; text-align: center; vertical-align: top\">0</td>\n",
       "        <td style=\"padding-left: 1em; padding-right: 1em; text-align: center; vertical-align: top\">1995</td>\n",
       "        <td style=\"padding-left: 1em; padding-right: 1em; text-align: center; vertical-align: top\">0</td>\n",
       "        <td style=\"padding-left: 1em; padding-right: 1em; text-align: center; vertical-align: top\">98003</td>\n",
       "        <td style=\"padding-left: 1em; padding-right: 1em; text-align: center; vertical-align: top\">47.30972002</td>\n",
       "    </tr>\n",
       "    <tr>\n",
       "        <td style=\"padding-left: 1em; padding-right: 1em; text-align: center; vertical-align: top\">0</td>\n",
       "        <td style=\"padding-left: 1em; padding-right: 1em; text-align: center; vertical-align: top\">3</td>\n",
       "        <td style=\"padding-left: 1em; padding-right: 1em; text-align: center; vertical-align: top\">7</td>\n",
       "        <td style=\"padding-left: 1em; padding-right: 1em; text-align: center; vertical-align: top\">1060</td>\n",
       "        <td style=\"padding-left: 1em; padding-right: 1em; text-align: center; vertical-align: top\">0</td>\n",
       "        <td style=\"padding-left: 1em; padding-right: 1em; text-align: center; vertical-align: top\">1963</td>\n",
       "        <td style=\"padding-left: 1em; padding-right: 1em; text-align: center; vertical-align: top\">0</td>\n",
       "        <td style=\"padding-left: 1em; padding-right: 1em; text-align: center; vertical-align: top\">98198</td>\n",
       "        <td style=\"padding-left: 1em; padding-right: 1em; text-align: center; vertical-align: top\">47.40949984</td>\n",
       "    </tr>\n",
       "    <tr>\n",
       "        <td style=\"padding-left: 1em; padding-right: 1em; text-align: center; vertical-align: top\">0</td>\n",
       "        <td style=\"padding-left: 1em; padding-right: 1em; text-align: center; vertical-align: top\">3</td>\n",
       "        <td style=\"padding-left: 1em; padding-right: 1em; text-align: center; vertical-align: top\">7</td>\n",
       "        <td style=\"padding-left: 1em; padding-right: 1em; text-align: center; vertical-align: top\">1050</td>\n",
       "        <td style=\"padding-left: 1em; padding-right: 1em; text-align: center; vertical-align: top\">730</td>\n",
       "        <td style=\"padding-left: 1em; padding-right: 1em; text-align: center; vertical-align: top\">1960</td>\n",
       "        <td style=\"padding-left: 1em; padding-right: 1em; text-align: center; vertical-align: top\">0</td>\n",
       "        <td style=\"padding-left: 1em; padding-right: 1em; text-align: center; vertical-align: top\">98146</td>\n",
       "        <td style=\"padding-left: 1em; padding-right: 1em; text-align: center; vertical-align: top\">47.51229381</td>\n",
       "    </tr>\n",
       "    <tr>\n",
       "        <td style=\"padding-left: 1em; padding-right: 1em; text-align: center; vertical-align: top\">0</td>\n",
       "        <td style=\"padding-left: 1em; padding-right: 1em; text-align: center; vertical-align: top\">3</td>\n",
       "        <td style=\"padding-left: 1em; padding-right: 1em; text-align: center; vertical-align: top\">7</td>\n",
       "        <td style=\"padding-left: 1em; padding-right: 1em; text-align: center; vertical-align: top\">1890</td>\n",
       "        <td style=\"padding-left: 1em; padding-right: 1em; text-align: center; vertical-align: top\">0</td>\n",
       "        <td style=\"padding-left: 1em; padding-right: 1em; text-align: center; vertical-align: top\">2003</td>\n",
       "        <td style=\"padding-left: 1em; padding-right: 1em; text-align: center; vertical-align: top\">0</td>\n",
       "        <td style=\"padding-left: 1em; padding-right: 1em; text-align: center; vertical-align: top\">98038</td>\n",
       "        <td style=\"padding-left: 1em; padding-right: 1em; text-align: center; vertical-align: top\">47.36840673</td>\n",
       "    </tr>\n",
       "</table>\n",
       "<table frame=\"box\" rules=\"cols\">\n",
       "    <tr>\n",
       "        <th style=\"padding-left: 1em; padding-right: 1em; text-align: center\">long</th>\n",
       "        <th style=\"padding-left: 1em; padding-right: 1em; text-align: center\">sqft_living15</th>\n",
       "        <th style=\"padding-left: 1em; padding-right: 1em; text-align: center\">sqft_lot15</th>\n",
       "    </tr>\n",
       "    <tr>\n",
       "        <td style=\"padding-left: 1em; padding-right: 1em; text-align: center; vertical-align: top\">-122.25677536</td>\n",
       "        <td style=\"padding-left: 1em; padding-right: 1em; text-align: center; vertical-align: top\">1340.0</td>\n",
       "        <td style=\"padding-left: 1em; padding-right: 1em; text-align: center; vertical-align: top\">5650.0</td>\n",
       "    </tr>\n",
       "    <tr>\n",
       "        <td style=\"padding-left: 1em; padding-right: 1em; text-align: center; vertical-align: top\">-122.3188624</td>\n",
       "        <td style=\"padding-left: 1em; padding-right: 1em; text-align: center; vertical-align: top\">1690.0</td>\n",
       "        <td style=\"padding-left: 1em; padding-right: 1em; text-align: center; vertical-align: top\">7639.0</td>\n",
       "    </tr>\n",
       "    <tr>\n",
       "        <td style=\"padding-left: 1em; padding-right: 1em; text-align: center; vertical-align: top\">-122.23319601</td>\n",
       "        <td style=\"padding-left: 1em; padding-right: 1em; text-align: center; vertical-align: top\">2720.0</td>\n",
       "        <td style=\"padding-left: 1em; padding-right: 1em; text-align: center; vertical-align: top\">8062.0</td>\n",
       "    </tr>\n",
       "    <tr>\n",
       "        <td style=\"padding-left: 1em; padding-right: 1em; text-align: center; vertical-align: top\">-122.39318505</td>\n",
       "        <td style=\"padding-left: 1em; padding-right: 1em; text-align: center; vertical-align: top\">1360.0</td>\n",
       "        <td style=\"padding-left: 1em; padding-right: 1em; text-align: center; vertical-align: top\">5000.0</td>\n",
       "    </tr>\n",
       "    <tr>\n",
       "        <td style=\"padding-left: 1em; padding-right: 1em; text-align: center; vertical-align: top\">-122.04490059</td>\n",
       "        <td style=\"padding-left: 1em; padding-right: 1em; text-align: center; vertical-align: top\">1800.0</td>\n",
       "        <td style=\"padding-left: 1em; padding-right: 1em; text-align: center; vertical-align: top\">7503.0</td>\n",
       "    </tr>\n",
       "    <tr>\n",
       "        <td style=\"padding-left: 1em; padding-right: 1em; text-align: center; vertical-align: top\">-122.00528655</td>\n",
       "        <td style=\"padding-left: 1em; padding-right: 1em; text-align: center; vertical-align: top\">4760.0</td>\n",
       "        <td style=\"padding-left: 1em; padding-right: 1em; text-align: center; vertical-align: top\">101930.0</td>\n",
       "    </tr>\n",
       "    <tr>\n",
       "        <td style=\"padding-left: 1em; padding-right: 1em; text-align: center; vertical-align: top\">-122.32704857</td>\n",
       "        <td style=\"padding-left: 1em; padding-right: 1em; text-align: center; vertical-align: top\">2238.0</td>\n",
       "        <td style=\"padding-left: 1em; padding-right: 1em; text-align: center; vertical-align: top\">6819.0</td>\n",
       "    </tr>\n",
       "    <tr>\n",
       "        <td style=\"padding-left: 1em; padding-right: 1em; text-align: center; vertical-align: top\">-122.31457273</td>\n",
       "        <td style=\"padding-left: 1em; padding-right: 1em; text-align: center; vertical-align: top\">1650.0</td>\n",
       "        <td style=\"padding-left: 1em; padding-right: 1em; text-align: center; vertical-align: top\">9711.0</td>\n",
       "    </tr>\n",
       "    <tr>\n",
       "        <td style=\"padding-left: 1em; padding-right: 1em; text-align: center; vertical-align: top\">-122.33659507</td>\n",
       "        <td style=\"padding-left: 1em; padding-right: 1em; text-align: center; vertical-align: top\">1780.0</td>\n",
       "        <td style=\"padding-left: 1em; padding-right: 1em; text-align: center; vertical-align: top\">8113.0</td>\n",
       "    </tr>\n",
       "    <tr>\n",
       "        <td style=\"padding-left: 1em; padding-right: 1em; text-align: center; vertical-align: top\">-122.0308176</td>\n",
       "        <td style=\"padding-left: 1em; padding-right: 1em; text-align: center; vertical-align: top\">2390.0</td>\n",
       "        <td style=\"padding-left: 1em; padding-right: 1em; text-align: center; vertical-align: top\">7570.0</td>\n",
       "    </tr>\n",
       "</table>\n",
       "[21613 rows x 21 columns]<br/>Note: Only the head of the SFrame is printed.<br/>You can use print_rows(num_rows=m, num_columns=n) to print more rows and columns.\n",
       "</div>"
      ],
      "text/plain": [
       "Columns:\n",
       "\tid\tstr\n",
       "\tdate\tdatetime\n",
       "\tprice\tint\n",
       "\tbedrooms\tstr\n",
       "\tbathrooms\tstr\n",
       "\tsqft_living\tint\n",
       "\tsqft_lot\tint\n",
       "\tfloors\tstr\n",
       "\twaterfront\tint\n",
       "\tview\tint\n",
       "\tcondition\tint\n",
       "\tgrade\tint\n",
       "\tsqft_above\tint\n",
       "\tsqft_basement\tint\n",
       "\tyr_built\tint\n",
       "\tyr_renovated\tint\n",
       "\tzipcode\tstr\n",
       "\tlat\tfloat\n",
       "\tlong\tfloat\n",
       "\tsqft_living15\tfloat\n",
       "\tsqft_lot15\tfloat\n",
       "\n",
       "Rows: 21613\n",
       "\n",
       "Data:\n",
       "+------------+---------------------------+---------+----------+-----------+-------------+\n",
       "|     id     |            date           |  price  | bedrooms | bathrooms | sqft_living |\n",
       "+------------+---------------------------+---------+----------+-----------+-------------+\n",
       "| 7129300520 | 2014-10-13 00:00:00+00:00 |  221900 |    3     |     1     |     1180    |\n",
       "| 6414100192 | 2014-12-09 00:00:00+00:00 |  538000 |    3     |    2.25   |     2570    |\n",
       "| 5631500400 | 2015-02-25 00:00:00+00:00 |  180000 |    2     |     1     |     770     |\n",
       "| 2487200875 | 2014-12-09 00:00:00+00:00 |  604000 |    4     |     3     |     1960    |\n",
       "| 1954400510 | 2015-02-18 00:00:00+00:00 |  510000 |    3     |     2     |     1680    |\n",
       "| 7237550310 | 2014-05-12 00:00:00+00:00 | 1225000 |    4     |    4.5    |     5420    |\n",
       "| 1321400060 | 2014-06-27 00:00:00+00:00 |  257500 |    3     |    2.25   |     1715    |\n",
       "| 2008000270 | 2015-01-15 00:00:00+00:00 |  291850 |    3     |    1.5    |     1060    |\n",
       "| 2414600126 | 2015-04-15 00:00:00+00:00 |  229500 |    3     |     1     |     1780    |\n",
       "| 3793500160 | 2015-03-12 00:00:00+00:00 |  323000 |    3     |    2.5    |     1890    |\n",
       "+------------+---------------------------+---------+----------+-----------+-------------+\n",
       "+----------+--------+------------+------+-----------+-------+------------+---------------+\n",
       "| sqft_lot | floors | waterfront | view | condition | grade | sqft_above | sqft_basement |\n",
       "+----------+--------+------------+------+-----------+-------+------------+---------------+\n",
       "|   5650   |   1    |     0      |  0   |     3     |   7   |    1180    |       0       |\n",
       "|   7242   |   2    |     0      |  0   |     3     |   7   |    2170    |      400      |\n",
       "|  10000   |   1    |     0      |  0   |     3     |   6   |    770     |       0       |\n",
       "|   5000   |   1    |     0      |  0   |     5     |   7   |    1050    |      910      |\n",
       "|   8080   |   1    |     0      |  0   |     3     |   8   |    1680    |       0       |\n",
       "|  101930  |   1    |     0      |  0   |     3     |   11  |    3890    |      1530     |\n",
       "|   6819   |   2    |     0      |  0   |     3     |   7   |    1715    |       0       |\n",
       "|   9711   |   1    |     0      |  0   |     3     |   7   |    1060    |       0       |\n",
       "|   7470   |   1    |     0      |  0   |     3     |   7   |    1050    |      730      |\n",
       "|   6560   |   2    |     0      |  0   |     3     |   7   |    1890    |       0       |\n",
       "+----------+--------+------------+------+-----------+-------+------------+---------------+\n",
       "+----------+--------------+---------+-------------+---------------+---------------+-----+\n",
       "| yr_built | yr_renovated | zipcode |     lat     |      long     | sqft_living15 | ... |\n",
       "+----------+--------------+---------+-------------+---------------+---------------+-----+\n",
       "|   1955   |      0       |  98178  | 47.51123398 | -122.25677536 |     1340.0    | ... |\n",
       "|   1951   |     1991     |  98125  | 47.72102274 |  -122.3188624 |     1690.0    | ... |\n",
       "|   1933   |      0       |  98028  | 47.73792661 | -122.23319601 |     2720.0    | ... |\n",
       "|   1965   |      0       |  98136  |   47.52082  | -122.39318505 |     1360.0    | ... |\n",
       "|   1987   |      0       |  98074  | 47.61681228 | -122.04490059 |     1800.0    | ... |\n",
       "|   2001   |      0       |  98053  | 47.65611835 | -122.00528655 |     4760.0    | ... |\n",
       "|   1995   |      0       |  98003  | 47.30972002 | -122.32704857 |     2238.0    | ... |\n",
       "|   1963   |      0       |  98198  | 47.40949984 | -122.31457273 |     1650.0    | ... |\n",
       "|   1960   |      0       |  98146  | 47.51229381 | -122.33659507 |     1780.0    | ... |\n",
       "|   2003   |      0       |  98038  | 47.36840673 |  -122.0308176 |     2390.0    | ... |\n",
       "+----------+--------------+---------+-------------+---------------+---------------+-----+\n",
       "[21613 rows x 21 columns]\n",
       "Note: Only the head of the SFrame is printed.\n",
       "You can use print_rows(num_rows=m, num_columns=n) to print more rows and columns."
      ]
     },
     "execution_count": 5,
     "metadata": {},
     "output_type": "execute_result"
    }
   ],
   "source": [
    "sales"
   ]
  },
  {
   "cell_type": "markdown",
   "metadata": {},
   "source": [
    "### Exploring the data for housing sales "
   ]
  },
  {
   "cell_type": "markdown",
   "metadata": {},
   "source": [
    "The house price is correlated with the number of square feet of living space."
   ]
  },
  {
   "cell_type": "code",
   "execution_count": 6,
   "metadata": {
    "collapsed": false
   },
   "outputs": [
    {
     "data": {
      "application/javascript": [
       "$(\"head\").append($(\"<link/>\").attr({\n",
       "  rel:  \"stylesheet\",\n",
       "  type: \"text/css\",\n",
       "  href: \"//cdnjs.cloudflare.com/ajax/libs/font-awesome/4.1.0/css/font-awesome.min.css\"\n",
       "}));\n",
       "$(\"head\").append($(\"<link/>\").attr({\n",
       "  rel:  \"stylesheet\",\n",
       "  type: \"text/css\",\n",
       "  href: \"//dato.com/files/canvas/1.8/css/canvas.css\"\n",
       "}));\n",
       "\n",
       "            (function(){\n",
       "\n",
       "                var e = null;\n",
       "                if (typeof element == 'undefined') {\n",
       "                    var scripts = document.getElementsByTagName('script');\n",
       "                    var thisScriptTag = scripts[scripts.length-1];\n",
       "                    var parentDiv = thisScriptTag.parentNode;\n",
       "                    e = document.createElement('div');\n",
       "                    parentDiv.appendChild(e);\n",
       "                } else {\n",
       "                    e = element[0];\n",
       "                }\n",
       "\n",
       "                if (typeof requirejs !== 'undefined') {\n",
       "                    // disable load timeout; ipython_app.js is large and can take a while to load.\n",
       "                    requirejs.config({waitSeconds: 0});\n",
       "                }\n",
       "\n",
       "                require(['//dato.com/files/canvas/1.8/js/ipython_app.js'], function(IPythonApp){\n",
       "                    var app = new IPythonApp();\n",
       "                    app.attachView('sframe','Plots', {\"selected_variable\": {\"name\": [\"sales\"], \"descriptives\": {\"rows\": 21613, \"columns\": 21}, \"view_component\": \"Plots\", \"view_file\": \"sframe\", \"view_params\": {\"y\": \"price\", \"x\": \"sqft_living\", \"columns\": [\"id\", \"date\", \"price\", \"bedrooms\", \"bathrooms\", \"sqft_living\", \"sqft_lot\", \"floors\", \"waterfront\", \"view\", \"condition\", \"grade\", \"sqft_above\", \"sqft_basement\", \"yr_built\", \"yr_renovated\", \"zipcode\", \"lat\", \"long\", \"sqft_living15\", \"sqft_lot15\"], \"view\": \"Scatter Plot\"}, \"view_components\": [\"Summary\", \"Table\", \"Bar Chart\", \"BoxWhisker Plot\", \"Line Chart\", \"Scatter Plot\", \"Heat Map\", \"Plots\"], \"type\": \"SFrame\", \"columns\": [{\"dtype\": \"str\", \"name\": \"id\"}, {\"dtype\": \"datetime\", \"name\": \"date\"}, {\"dtype\": \"int\", \"name\": \"price\"}, {\"dtype\": \"str\", \"name\": \"bedrooms\"}, {\"dtype\": \"str\", \"name\": \"bathrooms\"}, {\"dtype\": \"int\", \"name\": \"sqft_living\"}, {\"dtype\": \"int\", \"name\": \"sqft_lot\"}, {\"dtype\": \"str\", \"name\": \"floors\"}, {\"dtype\": \"int\", \"name\": \"waterfront\"}, {\"dtype\": \"int\", \"name\": \"view\"}, {\"dtype\": \"int\", \"name\": \"condition\"}, {\"dtype\": \"int\", \"name\": \"grade\"}, {\"dtype\": \"int\", \"name\": \"sqft_above\"}, {\"dtype\": \"int\", \"name\": \"sqft_basement\"}, {\"dtype\": \"int\", \"name\": \"yr_built\"}, {\"dtype\": \"int\", \"name\": \"yr_renovated\"}, {\"dtype\": \"str\", \"name\": \"zipcode\"}, {\"dtype\": \"float\", \"name\": \"lat\"}, {\"dtype\": \"float\", \"name\": \"long\"}, {\"dtype\": \"float\", \"name\": \"sqft_living15\"}, {\"dtype\": \"float\", \"name\": \"sqft_lot15\"}], \"column_identifiers\": [\"bathrooms\", \"sqft_living15\", \"sqft_above\", \"grade\", \"yr_built\", \"price\", \"bedrooms\", \"zipcode\", \"long\", \"id\", \"sqft_lot15\", \"sqft_living\", \"floors\", \"sqft_lot\", \"date\", \"waterfront\", \"sqft_basement\", \"yr_renovated\", \"lat\", \"condition\", \"view\"]}, \"complete\": 1, \"ipython\": true, \"progress\": 1.0, \"data\": [[1970, 780000], [2800, 490000], [2100, 395000], [2120, 625000], [3400, 915000], [720, 419000], [2650, 850000], [1620, 467100], [2110, 320000], [1890, 323000], [1570, 227064], [4400, 1800000], [3530, 898000], [1940, 540000], [1810, 530000], [1964, 342000], [1750, 524950], [1600, 485000], [1600, 384500], [2280, 500000], [960, 322000], [1720, 547000], [1830, 375000], [1210, 343000], [4240, 442500], [800, 305000], [3150, 695000], [1990, 661000], [790, 268500], [1880, 475999], [1170, 525000], [2420, 549000], [3840, 840000], [1180, 630500], [1810, 362000], [2190, 503000], [1670, 425000], [3200, 422000], [1410, 541000], [2060, 360000], [1520, 517500], [3110, 730000], [2600, 665000], [2732, 343000], [2060, 323400], [2400, 635000], [2130, 819000], [1010, 302000], [700, 247500], [1310, 242000], [2860, 750500], [2630, 525000], [860, 370000], [2230, 280000], [2530, 459000], [1640, 349000], [1740, 380000], [890, 275400], [2170, 399000], [1750, 625000], [1300, 270000], [1440, 260000], [1740, 339000], [3310, 572800], [1240, 225000], [1360, 553650], [1470, 865000], [1200, 255000], [1060, 205000], [1060, 211000], [1510, 490000], [3190, 750000], [2180, 210000], [2280, 597000], [2068, 276000], [960, 545000], [1850, 280017], [2680, 699000], [2259, 262500], [1890, 265000], [2240, 452500], [1290, 970000], [1500, 395000], [1480, 469000], [3300, 849990], [2740, 495000], [1560, 511100], [1460, 265800], [2810, 1169000], [2460, 427500], [2820, 369900], [3110, 588000], [2300, 610000], [1470, 613000], [2390, 978000], [1910, 175000], [2480, 1050000], [1460, 337000], [1610, 435000], [3140, 570000], [2030, 775000], [2730, 440000], [1500, 529950], [2920, 1088000], [2280, 415000], [1840, 301000], [1540, 252000], [1390, 191950], [3250, 1050000], [2490, 700000], [3366, 1300000], [2930, 600000], [2960, 500000], [6055, 1760000], [1770, 279900], [2280, 750000], [1270, 415000], [1810, 495000], [2720, 690000], [1610, 535000], [1320, 575000], [2520, 364950], [1730, 187000], [790, 250275], [2267, 306000], [1270, 404500], [2390, 425000], [4130, 1900000], [3330, 850000], [1280, 425000], [2710, 278000], [2160, 798750], [1820, 683500], [1200, 400000], [3020, 490000], [3170, 455000], [1560, 400000], [1290, 331000], [2620, 975000], [1444, 420000], [1370, 280000], [1320, 499000], [2600, 402500], [1050, 430000], [790, 280000], [1830, 245000], [3220, 890000], [2050, 689500], [2400, 280000], [1480, 856000], [1300, 245000], [1460, 237950], [2750, 1050000], [5180, 2250000], [1260, 315000], [2200, 280000], [2950, 759000], [880, 204750], [1670, 204700], [4225, 1005000], [2200, 295000], [870, 334850], [4440, 1295000], [2330, 690000], [3060, 657000], [1020, 225000], [1750, 415500], [2780, 290000], [2680, 653000], [1370, 371500], [1180, 425000], [1820, 399888], [1840, 275000], [1790, 475000], [1950, 269000], [2650, 459000], [1440, 225500], [2860, 565000], [1110, 235000], [3280, 750000], [730, 217000], [1370, 219000], [1600, 995000], [1800, 338800], [3290, 856500], [2190, 419000], [4360, 1789950], [2480, 840000], [1190, 441000], [3390, 460000], [2190, 602500], [1150, 480000], [2790, 484259], [1720, 348000], [1450, 585000], [2280, 950000], [2250, 287500], [1300, 270000], [1550, 245000], [1100, 353000], [2540, 374950], [4280, 2050000], [1290, 450000], [1020, 160000], [1180, 390000], [1960, 325000], [2190, 524000], [2490, 1081000], [1680, 227000], [2810, 301000], [1490, 255000], [2620, 470000], [1690, 509900], [1410, 240000], [1720, 580000], [1310, 500000], [900, 201000], [2230, 297000], [1980, 317750], [1270, 340000], [2760, 686000], [1500, 403000], [2180, 612000], [1280, 281000], [1650, 251000], [1200, 370900], [1740, 269900], [1180, 257500], [3470, 772000], [2900, 1580000], [1340, 223000], [2010, 299500], [1230, 410000], [2130, 233000], [1380, 350000], [1990, 260000], [750, 425000], [2230, 385000], [1210, 305000], [1520, 260000], [1430, 225000], [1320, 292000], [1460, 330000], [2630, 445000], [2890, 655000], [2720, 456000], [1550, 526000], [2400, 338000], [2230, 355000], [1250, 370037], [5770, 1680000], [950, 430000], [2610, 610360], [1850, 400000], [2900, 520000], [1420, 592500], [3630, 698000], [1750, 322000], [2360, 532000], [2601, 625000], [2330, 565000], [1480, 450000], [1570, 414950], [3350, 1000000], [1560, 448000], [1460, 424500], [2240, 395000], [1430, 551100], [3620, 480000], [1560, 1100000], [5270, 782000], [1580, 190000], [2190, 297500], [3240, 600000], [2660, 772650], [1540, 375000], [1380, 345000], [1770, 420000], [700, 192000], [1470, 650000], [2960, 1050000], [1480, 450000], [2240, 418200], [2080, 549950], [1990, 625000], [830, 345000], [1458, 620000], [1550, 430000], [3140, 375000], [1690, 217000], [1500, 614950], [1460, 258500], [1000, 425000], [1450, 402000], [1440, 409000], [2720, 455000], [1320, 265000], [1820, 287000], [2030, 404000], [3470, 1320000], [1520, 296475], [1410, 400000], [1660, 305000], [1480, 598950], [3310, 644000], [3010, 542500], [2030, 550000], [3370, 561000], [2180, 650000], [1440, 430000], [800, 180000], [1820, 425000], [1510, 239000], [1140, 410000], [5370, 3000000], [2150, 346500], [1940, 500000], [2440, 310000], [4130, 998000], [2260, 600000], [1210, 465000], [1570, 318000], [4460, 1910000], [2600, 355500], [2570, 479950], [3170, 1600000], [1510, 465000], [2080, 420000], [1460, 240000], [1450, 282510], [1340, 345000], [2610, 373500], [3220, 485000], [2650, 580000], [1430, 198000], [1620, 525000], [1740, 315000], [1980, 711000], [1800, 665000], [2070, 577000], [2200, 450000], [1850, 538000], [1320, 200000], [2240, 630000], [1680, 425000], [2480, 489950], [2430, 410000], [1509, 401500], [1740, 400000], [2550, 512000], [2040, 600000], [1340, 340000], [1340, 592500], [3230, 850000], [800, 95000], [2200, 375000], [2320, 340000], [3430, 960000], [2100, 342500], [1700, 950000], [1320, 275000], [1830, 434000], [1820, 329500], [1070, 350000], [1890, 325000], [1180, 400000], [1620, 280500], [2550, 645000], [3350, 740000], [1320, 650000], [1260, 336000], [1870, 262000], [1960, 450000], [720, 184500], [1010, 350000], [1670, 620000], [2680, 676000], [2920, 707000], [2020, 595000], [1150, 260000], [3660, 475000], [1670, 375000], [5370, 884900], [2180, 625000], [2580, 865000], [1770, 415000], [2960, 605000], [1610, 495000], [1230, 147500], [1530, 337500], [1830, 325000], [2690, 460000], [800, 339950], [3020, 715000], [4140, 657500], [1660, 220000], [2100, 635000], [2600, 540000], [1850, 268000], [2900, 670000], [2600, 700000], [1170, 360000], [2420, 975000], [1720, 525000], [2400, 406550], [3500, 790000], [1070, 542000], [1590, 285000], [1790, 244950], [2000, 427000], [2600, 1697000], [2620, 405000], [3320, 1025000], [2670, 515000], [1850, 459950], [4370, 1500000], [2190, 925000], [1500, 782000], [2260, 610000], [1870, 456000], [2230, 700000], [2460, 693000], [1300, 295000], [2890, 898500], [3510, 1010000], [1940, 265000], [1750, 456150], [1970, 400000], [2120, 386000], [2620, 775000], [3530, 1095000], [4250, 1530000], [2870, 1325000], [1040, 225000], [3010, 800000], [4860, 2950000], [480, 170000], [1650, 273000], [3273, 485000], [2350, 740000], [2030, 515000], [1580, 495000], [3970, 775000], [1410, 415000], [3830, 1250000], [1380, 299500], [3410, 720000], [2810, 999000], [2010, 475000], [2590, 520000], [2050, 1025000], [2000, 320000], [2300, 298950], [2370, 420000], [3230, 1150000], [2160, 555000], [1430, 288000], [1870, 259000], [1810, 501000], [3440, 725000], [1840, 390000], [1370, 585000], [3078, 459950], [3930, 1093000], [1800, 618500], [920, 356000], [1930, 369950], [2660, 1100000], [2110, 327000], [1300, 375000], [2370, 543000], [1330, 515000], [2510, 1185000], [2010, 960000], [2910, 312200], [2620, 683000], [2040, 335000], [3210, 1289000], [3640, 1200688], [2290, 585000], [1220, 231000], [3040, 538900], [1520, 550000], [3020, 530000], [4860, 1385000], [1990, 285000], [1970, 425000], [1360, 515000], [3200, 675000], [1510, 515000], [3770, 998000], [1760, 471000], [1300, 232000], [4030, 985000], [2350, 615000], [2120, 500000], [1760, 322000], [1050, 165000], [2080, 545000], [1780, 406500], [3370, 515000], [1590, 251000], [1930, 342000], [1330, 225000], [1760, 440000], [2350, 655000], [1400, 415250], [2220, 500000], [680, 500000], [1470, 400000], [2060, 545000], [1320, 445800], [1690, 242000], [2190, 833000], [940, 283000], [1310, 307000], [1030, 455000], [1460, 430000], [3740, 475000], [2330, 535000], [1600, 393500], [2210, 330000], [3060, 775000], [710, 385195], [2140, 577500], [1320, 404500], [2910, 530000], [780, 315000], [5840, 2200000], [930, 420000], [1677, 295000], [3490, 692000], [1690, 449000], [1640, 465000], [1200, 160000], [3280, 928950], [1380, 650000], [1930, 665000], [4530, 950000], [1060, 303500], [910, 128000], [1850, 374000], [2980, 1313000], [620, 148000], [2430, 405000], [2860, 460000], [1060, 220000], [1750, 300000], [2470, 445000], [880, 360000], [2717, 338500], [1690, 240000], [1970, 352500], [1810, 264950], [1610, 260000], [1980, 449000], [1560, 491500], [2230, 600000], [1430, 465000], [1210, 375000], [1190, 470000], [2340, 404950], [1410, 490000], [1260, 210000], [1590, 263000], [4140, 1060000], [3030, 766950], [1650, 216300], [1785, 530000], [1870, 770000], [1450, 382000], [890, 305000], [1140, 550000], [2830, 865000], [1260, 445000], [3820, 1215000], [1090, 680000], [1584, 267000], [2840, 718500], [3700, 950000], [2720, 619000], [1320, 540000], [1850, 670000], [1730, 348000], [1420, 268500], [2690, 439000], [2070, 325000], [2160, 440000], [770, 176000], [1850, 405000], [1120, 380000], [2080, 700000], [1090, 300000], [2070, 289950], [3870, 900000], [2320, 423000], [3110, 725000], [2550, 315000], [1900, 340000], [3840, 612000], [1820, 349950], [2420, 399950], [3340, 485000], [1800, 493500], [1450, 435500], [1240, 699999], [1550, 280000], [2040, 730000], [1680, 213400], [1630, 740000], [1090, 440000], [2570, 1475000], [2398, 400000], [1800, 280000], [1140, 660000], [3080, 585000], [3860, 1051000], [2740, 515000], [1700, 347950], [1560, 490000], [1230, 295000], [1360, 197000], [1430, 398000], [1380, 285000], [1480, 509250], [2400, 672500], [3450, 840000], [1900, 1042500], [2340, 465950], [2090, 258000], [1210, 366000], [2600, 583000], [2710, 359000], [2700, 625000], [1980, 435000], [3480, 860000], [1470, 419000], [3350, 700000], [2680, 437500], [1220, 500000], [1250, 443725], [1200, 226000], [980, 340000], [2060, 200000], [1590, 665000], [1670, 425000], [1750, 394000], [2930, 294000], [2090, 566000], [1490, 350000], [1210, 335000], [1920, 510000], [390, 228000], [2080, 365000], [2230, 340000], [1680, 375000], [1310, 398000], [2420, 550000], [2770, 748000], [1060, 174950], [2150, 310000], [2240, 530000], [1640, 475000], [1520, 499950], [3330, 936000], [1370, 255500], [2900, 312000], [3350, 1430000], [1610, 393000], [2860, 666500], [1660, 284000], [6670, 2998000], [910, 330000], [3040, 330000], [1470, 254000], [1550, 445000], [3160, 1137500], [1120, 188000], [2670, 665000], [1970, 360000], [2330, 612000], [4170, 810000], [1860, 380000], [1870, 390000], [2280, 520000], [1680, 469000], [2210, 1100000], [2060, 306500], [990, 600000], [2640, 490000], [1650, 670000], [1640, 560000], [2320, 655000], [1100, 421000], [3940, 1197000], [1130, 210000], [780, 250000], [2490, 645000], [2590, 961000], [1690, 430000], [1380, 195000], [940, 180000], [1680, 700000], [2340, 949950], [1060, 480000], [2840, 640000], [920, 490000], [1540, 273000], [2180, 340000], [2430, 255000], [3270, 560000], [1360, 263400], [2320, 310000], [840, 208417], [1610, 305000], [2620, 499990], [2460, 305000], [2660, 452000], [1270, 355000], [1300, 267000], [870, 410000], [2110, 638000], [2240, 327500], [4560, 1200000], [2000, 360000], [1790, 336000], [2000, 536500], [2570, 1170000], [3240, 975000], [2580, 358000], [2990, 339950], [880, 255000], [1650, 472500], [1130, 439108], [1540, 450000], [2070, 365000], [1770, 675000], [1140, 269500], [3900, 650000], [1450, 365000], [1890, 355000], [1350, 428000], [2185, 374000], [1680, 545000], [1130, 349500], [900, 219000], [1760, 620047], [1660, 295000], [2210, 336000], [1900, 450000], [1360, 255000], [1910, 250000], [2010, 875000], [2030, 305000], [1880, 325000], [1730, 575000], [2030, 405000], [1850, 305500], [1320, 243000], [4700, 1242000], [1820, 650000], [1170, 475000], [720, 185000], [1990, 745000], [2030, 525000], [2060, 560000], [2640, 910000], [1440, 199000], [3100, 1600000], [2810, 739000], [780, 370000], [1900, 215000], [1470, 380000], [2110, 689000], [3190, 544800], [1240, 230000], [2570, 889000], [2390, 650000], [1440, 252000], [2760, 492500], [2180, 568500], [1740, 550000], [1550, 426000], [2240, 625000], [2320, 552500], [4030, 929000], [1540, 742000], [2460, 358000], [1390, 245000], [670, 304950], [1710, 590000], [2390, 516250], [1430, 429950], [2070, 280927], [2120, 507000], [2070, 405000], [1200, 165050], [2410, 625000], [1270, 415000], [2450, 682000], [1370, 560000], [2050, 260000], [1650, 490000], [3180, 510000], [1550, 385200], [1450, 375000], [2020, 740000], [1700, 550000], [2870, 485000], [1600, 340000], [2798, 499950], [2370, 530000], [1510, 366000], [2710, 925000], [2340, 235500], [4350, 900000], [3150, 999000], [1750, 315000], [2010, 774000], [3410, 743000], [3380, 749000], [2550, 480000], [2420, 332000], [1020, 485000], [1810, 431000], [1180, 507000], [1380, 294000], [2180, 464000], [1370, 563250], [1850, 440250], [2700, 390000], [800, 422500], [1830, 283200], [2600, 512000], [1930, 315000], [1860, 477500], [1200, 250000], [990, 335000], [1840, 583000], [1450, 393000], [550, 188000], [1560, 273000], [1350, 429000], [2450, 620000], [2710, 668500], [2840, 500000], [2360, 840000], [2470, 585000], [2750, 725000], [1100, 516500], [1600, 562000], [910, 221000], [1790, 390000], [3030, 471000], [1790, 263000], [1700, 349000], [2330, 344950], [1270, 259000], [1810, 355000], [2700, 1557600], [380, 245000], [2090, 710000], [1540, 640000], [3470, 599000], [790, 330000], [1490, 225000], [2660, 727500], [1150, 270000], [3010, 822600], [2000, 700000], [1160, 375000], [1610, 925000], [1490, 255000], [2550, 547500], [3060, 860000], [1790, 432100], [1530, 147500], [1180, 664950], [970, 170000], [1920, 549000], [1360, 237100], [1510, 254000], [1590, 325000], [2360, 504600], [1260, 207200], [1420, 485000], [2390, 695000], [1350, 300000], [2310, 336950], [1230, 550000], [2180, 334900], [2800, 1465000], [3030, 837219], [3170, 495000], [2920, 1650000], [1440, 445000], [1250, 455000], [750, 355000], [3238, 355425], [1200, 309950], [1570, 506000], [3370, 1245000], [3930, 1799000], [2170, 562000], [1480, 300000], [1850, 329000], [2040, 534000], [1600, 385000], [1690, 399990], [2580, 604000], [2670, 465750], [2050, 475000], [2830, 628000], [1010, 265000], [1460, 259950], [1470, 408000], [2500, 397900], [1300, 700000], [1310, 181000], [1740, 612000], [2130, 320000], [1840, 467000], [3050, 635000], [1610, 485000], [2170, 489000], [1936, 338900], [2420, 500000], [1650, 752000], [1720, 500000], [1270, 317000], [1320, 300000], [2520, 545000], [1630, 412500], [1520, 565000], [1500, 284000], [930, 200000], [1550, 328000], [1560, 459000], [2400, 595000], [1650, 485000], [2020, 565000], [1680, 340000], [910, 450000], [2970, 726000], [1240, 336000], [1450, 405000], [2550, 1020000], [1830, 270000], [2350, 270000], [2550, 465000], [2990, 594491], [2245, 362865], [2550, 375900], [2310, 494000], [1810, 299500], [2100, 759000], [3100, 759950], [1440, 327200], [2080, 368000], [2880, 820000], [3380, 328000], [2120, 534000], [1730, 569000], [1700, 681000], [720, 150000], [2620, 300000], [1030, 397000], [3223, 469950], [2540, 775000], [1730, 268000], [2400, 375000], [2490, 470000], [2060, 343888], [2370, 366000], [4060, 1600000], [1790, 390000], [2090, 693000], [2110, 743000], [1800, 515000], [2790, 445000], [1010, 270000], [1330, 209000], [2440, 562500], [1950, 802500], [1330, 234999], [1640, 226500], [2520, 650000], [4180, 869000], [2074, 515100], [3740, 710000], [1040, 258000], [2430, 459950], [2780, 645000], [1960, 560000], [2990, 564950], [1900, 450000], [3020, 670000], [1720, 255000], [1470, 376000], [1800, 665000]], \"columns\": [{\"dtype\": \"str\", \"name\": \"id\"}, {\"dtype\": \"datetime\", \"name\": \"date\"}, {\"dtype\": \"int\", \"name\": \"price\"}, {\"dtype\": \"str\", \"name\": \"bedrooms\"}, {\"dtype\": \"str\", \"name\": \"bathrooms\"}, {\"dtype\": \"int\", \"name\": \"sqft_living\"}, {\"dtype\": \"int\", \"name\": \"sqft_lot\"}, {\"dtype\": \"str\", \"name\": \"floors\"}, {\"dtype\": \"int\", \"name\": \"waterfront\"}, {\"dtype\": \"int\", \"name\": \"view\"}, {\"dtype\": \"int\", \"name\": \"condition\"}, {\"dtype\": \"int\", \"name\": \"grade\"}, {\"dtype\": \"int\", \"name\": \"sqft_above\"}, {\"dtype\": \"int\", \"name\": \"sqft_basement\"}, {\"dtype\": \"int\", \"name\": \"yr_built\"}, {\"dtype\": \"int\", \"name\": \"yr_renovated\"}, {\"dtype\": \"str\", \"name\": \"zipcode\"}, {\"dtype\": \"float\", \"name\": \"lat\"}, {\"dtype\": \"float\", \"name\": \"long\"}, {\"dtype\": \"float\", \"name\": \"sqft_living15\"}, {\"dtype\": \"float\", \"name\": \"sqft_lot15\"}]}, e);\n",
       "                });\n",
       "            })();\n",
       "        "
      ]
     },
     "metadata": {},
     "output_type": "display_data"
    }
   ],
   "source": [
    "graphlab.canvas.set_target('ipynb')\n",
    "sales.show(view=\"Scatter Plot\", x=\"sqft_living\", y=\"price\")"
   ]
  },
  {
   "cell_type": "markdown",
   "metadata": {},
   "source": [
    "# Create a simple regression model of sqft_living to price"
   ]
  },
  {
   "cell_type": "markdown",
   "metadata": {},
   "source": [
    "Split data into training and testing.  \n",
    "We use seed=0 so that everyone running this notebook gets the same results.  In practice, you may set a random seed (or let GraphLab Create pick a random seed for you).  "
   ]
  },
  {
   "cell_type": "code",
   "execution_count": 8,
   "metadata": {
    "collapsed": true
   },
   "outputs": [],
   "source": [
    "train_data,test_data = sales.random_split(.8,seed=0)"
   ]
  },
  {
   "cell_type": "markdown",
   "metadata": {},
   "source": [
    "## Build the regression model using only sqft_living as a feature"
   ]
  },
  {
   "cell_type": "code",
   "execution_count": 9,
   "metadata": {
    "collapsed": false
   },
   "outputs": [
    {
     "name": "stdout",
     "output_type": "stream",
     "text": [
      "PROGRESS: Linear regression:\n",
      "PROGRESS: --------------------------------------------------------\n",
      "PROGRESS: Number of examples          : 17384\n",
      "PROGRESS: Number of features          : 1\n",
      "PROGRESS: Number of unpacked features : 1\n",
      "PROGRESS: Number of coefficients    : 2\n",
      "PROGRESS: Starting Newton Method\n",
      "PROGRESS: --------------------------------------------------------\n",
      "PROGRESS: +-----------+----------+--------------+--------------------+---------------+\n",
      "PROGRESS: | Iteration | Passes   | Elapsed Time | Training-max_error | Training-rmse |\n",
      "PROGRESS: +-----------+----------+--------------+--------------------+---------------+\n",
      "PROGRESS: | 1         | 2        | 1.004487     | 4349521.926170     | 262943.613754 |\n",
      "PROGRESS: +-----------+----------+--------------+--------------------+---------------+\n",
      "PROGRESS: SUCCESS: Optimal solution found.\n",
      "PROGRESS:\n"
     ]
    }
   ],
   "source": [
    "sqft_model = graphlab.linear_regression.create(train_data, target='price', features=['sqft_living'],validation_set=None)"
   ]
  },
  {
   "cell_type": "markdown",
   "metadata": {},
   "source": [
    "# Evaluate the simple model"
   ]
  },
  {
   "cell_type": "code",
   "execution_count": 10,
   "metadata": {
    "collapsed": false
   },
   "outputs": [
    {
     "name": "stdout",
     "output_type": "stream",
     "text": [
      "543054.042563\n"
     ]
    }
   ],
   "source": [
    "print test_data['price'].mean()"
   ]
  },
  {
   "cell_type": "code",
   "execution_count": 11,
   "metadata": {
    "collapsed": false
   },
   "outputs": [
    {
     "name": "stdout",
     "output_type": "stream",
     "text": [
      "{'max_error': 4143550.8825285956, 'rmse': 255191.0287052738}\n"
     ]
    }
   ],
   "source": [
    "print sqft_model.evaluate(test_data)"
   ]
  },
  {
   "cell_type": "markdown",
   "metadata": {},
   "source": [
    "RMSE of about \\$255,170!"
   ]
  },
  {
   "cell_type": "markdown",
   "metadata": {},
   "source": [
    "# Let's show what our predictions look like"
   ]
  },
  {
   "cell_type": "markdown",
   "metadata": {},
   "source": [
    "Matplotlib is a Python plotting library that is also useful for plotting.  You can install it with:\n",
    "\n",
    "'pip install matplotlib'"
   ]
  },
  {
   "cell_type": "code",
   "execution_count": 12,
   "metadata": {
    "collapsed": false
   },
   "outputs": [],
   "source": [
    "import matplotlib.pyplot as plt\n",
    "%matplotlib inline"
   ]
  },
  {
   "cell_type": "code",
   "execution_count": 13,
   "metadata": {
    "collapsed": false
   },
   "outputs": [
    {
     "data": {
      "text/plain": [
       "[<matplotlib.lines.Line2D at 0x7fc64ec60b10>,\n",
       " <matplotlib.lines.Line2D at 0x7fc6572114d0>]"
      ]
     },
     "execution_count": 13,
     "metadata": {},
     "output_type": "execute_result"
    },
    {
     "data": {
      "image/png": "[encoded data removed]",
      "text/plain": [
       "<matplotlib.figure.Figure at 0x7fc64df0d5d0>"
      ]
     },
     "metadata": {},
     "output_type": "display_data"
    }
   ],
   "source": [
    "plt.plot(test_data['sqft_living'],test_data['price'],'.',\n",
    "        test_data['sqft_living'],sqft_model.predict(test_data),'-')"
   ]
  },
  {
   "cell_type": "markdown",
   "metadata": {},
   "source": [
    "Above:  blue dots are original data, green line is the prediction from the simple regression.\n",
    "\n",
    "Below: we can view the learned regression coefficients. "
   ]
  },
  {
   "cell_type": "code",
   "execution_count": 14,
   "metadata": {
    "collapsed": false
   },
   "outputs": [
    {
     "data": {
      "text/html": [
       "<div style=\"max-height:1000px;max-width:1500px;overflow:auto;\"><table frame=\"box\" rules=\"cols\">\n",
       "    <tr>\n",
       "        <th style=\"padding-left: 1em; padding-right: 1em; text-align: center\">name</th>\n",
       "        <th style=\"padding-left: 1em; padding-right: 1em; text-align: center\">index</th>\n",
       "        <th style=\"padding-left: 1em; padding-right: 1em; text-align: center\">value</th>\n",
       "        <th style=\"padding-left: 1em; padding-right: 1em; text-align: center\">stderr</th>\n",
       "    </tr>\n",
       "    <tr>\n",
       "        <td style=\"padding-left: 1em; padding-right: 1em; text-align: center; vertical-align: top\">(intercept)</td>\n",
       "        <td style=\"padding-left: 1em; padding-right: 1em; text-align: center; vertical-align: top\">None</td>\n",
       "        <td style=\"padding-left: 1em; padding-right: 1em; text-align: center; vertical-align: top\">-47114.0206702</td>\n",
       "        <td style=\"padding-left: 1em; padding-right: 1em; text-align: center; vertical-align: top\">4923.34437753</td>\n",
       "    </tr>\n",
       "    <tr>\n",
       "        <td style=\"padding-left: 1em; padding-right: 1em; text-align: center; vertical-align: top\">sqft_living</td>\n",
       "        <td style=\"padding-left: 1em; padding-right: 1em; text-align: center; vertical-align: top\">None</td>\n",
       "        <td style=\"padding-left: 1em; padding-right: 1em; text-align: center; vertical-align: top\">281.957850166</td>\n",
       "        <td style=\"padding-left: 1em; padding-right: 1em; text-align: center; vertical-align: top\">2.16405465323</td>\n",
       "    </tr>\n",
       "</table>\n",
       "[2 rows x 4 columns]<br/>\n",
       "</div>"
      ],
      "text/plain": [
       "Columns:\n",
       "\tname\tstr\n",
       "\tindex\tstr\n",
       "\tvalue\tfloat\n",
       "\tstderr\tfloat\n",
       "\n",
       "Rows: 2\n",
       "\n",
       "Data:\n",
       "+-------------+-------+----------------+---------------+\n",
       "|     name    | index |     value      |     stderr    |\n",
       "+-------------+-------+----------------+---------------+\n",
       "| (intercept) |  None | -47114.0206702 | 4923.34437753 |\n",
       "| sqft_living |  None | 281.957850166  | 2.16405465323 |\n",
       "+-------------+-------+----------------+---------------+\n",
       "[2 rows x 4 columns]"
      ]
     },
     "execution_count": 14,
     "metadata": {},
     "output_type": "execute_result"
    }
   ],
   "source": [
    "sqft_model.get('coefficients')"
   ]
  },
  {
   "cell_type": "markdown",
   "metadata": {},
   "source": [
    "# Explore other features in the data\n",
    "\n",
    "To build a more elaborate model, we will explore using more features."
   ]
  },
  {
   "cell_type": "code",
   "execution_count": 15,
   "metadata": {
    "collapsed": true
   },
   "outputs": [],
   "source": [
    "my_features = ['bedrooms', 'bathrooms', 'sqft_living', 'sqft_lot', 'floors', 'zipcode']"
   ]
  },
  {
   "cell_type": "code",
   "execution_count": 16,
   "metadata": {
    "collapsed": false
   },
   "outputs": [
    {
     "data": {
      "application/javascript": [
       "$(\"head\").append($(\"<link/>\").attr({\n",
       "  rel:  \"stylesheet\",\n",
       "  type: \"text/css\",\n",
       "  href: \"//cdnjs.cloudflare.com/ajax/libs/font-awesome/4.1.0/css/font-awesome.min.css\"\n",
       "}));\n",
       "$(\"head\").append($(\"<link/>\").attr({\n",
       "  rel:  \"stylesheet\",\n",
       "  type: \"text/css\",\n",
       "  href: \"//dato.com/files/canvas/1.8/css/canvas.css\"\n",
       "}));\n",
       "\n",
       "            (function(){\n",
       "\n",
       "                var e = null;\n",
       "                if (typeof element == 'undefined') {\n",
       "                    var scripts = document.getElementsByTagName('script');\n",
       "                    var thisScriptTag = scripts[scripts.length-1];\n",
       "                    var parentDiv = thisScriptTag.parentNode;\n",
       "                    e = document.createElement('div');\n",
       "                    parentDiv.appendChild(e);\n",
       "                } else {\n",
       "                    e = element[0];\n",
       "                }\n",
       "\n",
       "                if (typeof requirejs !== 'undefined') {\n",
       "                    // disable load timeout; ipython_app.js is large and can take a while to load.\n",
       "                    requirejs.config({waitSeconds: 0});\n",
       "                }\n",
       "\n",
       "                require(['//dato.com/files/canvas/1.8/js/ipython_app.js'], function(IPythonApp){\n",
       "                    var app = new IPythonApp();\n",
       "                    app.attachView('sframe','Summary', {\"ipython\": true, \"sketch\": {\"bathrooms\": {\"complete\": true, \"numeric\": false, \"num_unique\": 30, \"num_undefined\": 0, \"progress\": 1.0, \"frequent_items\": {\"1.5\": {\"frequency\": 1446, \"value\": \"1.5\"}, \"3.75\": {\"frequency\": 155, \"value\": \"3.75\"}, \"0.5\": {\"frequency\": 4, \"value\": \"0.5\"}, \"5.25\": {\"frequency\": 13, \"value\": \"5.25\"}, \"3.5\": {\"frequency\": 731, \"value\": \"3.5\"}, \"7.5\": {\"frequency\": 1, \"value\": \"7.5\"}, \"2.5\": {\"frequency\": 5380, \"value\": \"2.5\"}, \"4.5\": {\"frequency\": 100, \"value\": \"4.5\"}, \"5.5\": {\"frequency\": 10, \"value\": \"5.5\"}, \"1.75\": {\"frequency\": 3048, \"value\": \"1.75\"}, \"2.75\": {\"frequency\": 1185, \"value\": \"2.75\"}, \"5.75\": {\"frequency\": 4, \"value\": \"5.75\"}, \"1\": {\"frequency\": 3852, \"value\": \"1\"}, \"0\": {\"frequency\": 10, \"value\": \"0\"}, \"3\": {\"frequency\": 753, \"value\": \"3\"}, \"2\": {\"frequency\": 1930, \"value\": \"2\"}, \"3.25\": {\"frequency\": 589, \"value\": \"3.25\"}, \"4\": {\"frequency\": 136, \"value\": \"4\"}, \"6\": {\"frequency\": 6, \"value\": \"6\"}, \"5\": {\"frequency\": 21, \"value\": \"5\"}, \"6.25\": {\"frequency\": 2, \"value\": \"6.25\"}, \"6.75\": {\"frequency\": 2, \"value\": \"6.75\"}, \"0.75\": {\"frequency\": 72, \"value\": \"0.75\"}, \"8\": {\"frequency\": 2, \"value\": \"8\"}, \"4.25\": {\"frequency\": 79, \"value\": \"4.25\"}, \"4.75\": {\"frequency\": 23, \"value\": \"4.75\"}, \"6.5\": {\"frequency\": 2, \"value\": \"6.5\"}, \"7.75\": {\"frequency\": 1, \"value\": \"7.75\"}, \"1.25\": {\"frequency\": 9, \"value\": \"1.25\"}, \"2.25\": {\"frequency\": 2047, \"value\": \"2.25\"}}, \"size\": 21613}, \"bedrooms\": {\"complete\": true, \"numeric\": false, \"num_unique\": 13, \"num_undefined\": 0, \"progress\": 1.0, \"frequent_items\": {\"11\": {\"frequency\": 1, \"value\": \"11\"}, \"10\": {\"frequency\": 3, \"value\": \"10\"}, \"33\": {\"frequency\": 1, \"value\": \"33\"}, \"1\": {\"frequency\": 199, \"value\": \"1\"}, \"0\": {\"frequency\": 13, \"value\": \"0\"}, \"3\": {\"frequency\": 9824, \"value\": \"3\"}, \"2\": {\"frequency\": 2760, \"value\": \"2\"}, \"5\": {\"frequency\": 1601, \"value\": \"5\"}, \"4\": {\"frequency\": 6882, \"value\": \"4\"}, \"7\": {\"frequency\": 38, \"value\": \"7\"}, \"6\": {\"frequency\": 272, \"value\": \"6\"}, \"9\": {\"frequency\": 6, \"value\": \"9\"}, \"8\": {\"frequency\": 13, \"value\": \"8\"}}, \"size\": 21613}, \"zipcode\": {\"complete\": true, \"numeric\": false, \"num_unique\": 70, \"num_undefined\": 0, \"progress\": 1.0, \"frequent_items\": {\"98019\": {\"frequency\": 190, \"value\": \"98019\"}, \"98039\": {\"frequency\": 50, \"value\": \"98039\"}, \"98038\": {\"frequency\": 590, \"value\": \"98038\"}, \"98118\": {\"frequency\": 508, \"value\": \"98118\"}, \"98119\": {\"frequency\": 184, \"value\": \"98119\"}, \"98116\": {\"frequency\": 330, \"value\": \"98116\"}, \"98117\": {\"frequency\": 553, \"value\": \"98117\"}, \"98011\": {\"frequency\": 195, \"value\": \"98011\"}, \"98115\": {\"frequency\": 583, \"value\": \"98115\"}, \"98112\": {\"frequency\": 269, \"value\": \"98112\"}, \"98030\": {\"frequency\": 256, \"value\": \"98030\"}, \"98033\": {\"frequency\": 432, \"value\": \"98033\"}, \"98032\": {\"frequency\": 125, \"value\": \"98032\"}, \"98092\": {\"frequency\": 351, \"value\": \"98092\"}, \"98058\": {\"frequency\": 455, \"value\": \"98058\"}, \"98003\": {\"frequency\": 280, \"value\": \"98003\"}, \"98198\": {\"frequency\": 280, \"value\": \"98198\"}, \"98199\": {\"frequency\": 317, \"value\": \"98199\"}, \"98077\": {\"frequency\": 198, \"value\": \"98077\"}, \"98004\": {\"frequency\": 317, \"value\": \"98004\"}, \"98005\": {\"frequency\": 168, \"value\": \"98005\"}, \"98006\": {\"frequency\": 498, \"value\": \"98006\"}, \"98007\": {\"frequency\": 141, \"value\": \"98007\"}, \"98001\": {\"frequency\": 362, \"value\": \"98001\"}, \"98002\": {\"frequency\": 199, \"value\": \"98002\"}, \"98065\": {\"frequency\": 310, \"value\": \"98065\"}, \"98040\": {\"frequency\": 282, \"value\": \"98040\"}, \"98166\": {\"frequency\": 254, \"value\": \"98166\"}, \"98042\": {\"frequency\": 548, \"value\": \"98042\"}, \"98008\": {\"frequency\": 283, \"value\": \"98008\"}, \"98045\": {\"frequency\": 221, \"value\": \"98045\"}, \"98144\": {\"frequency\": 343, \"value\": \"98144\"}, \"98027\": {\"frequency\": 412, \"value\": \"98027\"}, \"98010\": {\"frequency\": 100, \"value\": \"98010\"}, \"98109\": {\"frequency\": 109, \"value\": \"98109\"}, \"98108\": {\"frequency\": 186, \"value\": \"98108\"}, \"98028\": {\"frequency\": 283, \"value\": \"98028\"}, \"98029\": {\"frequency\": 321, \"value\": \"98029\"}, \"98105\": {\"frequency\": 229, \"value\": \"98105\"}, \"98122\": {\"frequency\": 290, \"value\": \"98122\"}, \"98024\": {\"frequency\": 81, \"value\": \"98024\"}, \"98146\": {\"frequency\": 288, \"value\": \"98146\"}, \"98022\": {\"frequency\": 234, \"value\": \"98022\"}, \"98126\": {\"frequency\": 354, \"value\": \"98126\"}, \"98103\": {\"frequency\": 602, \"value\": \"98103\"}, \"98023\": {\"frequency\": 499, \"value\": \"98023\"}, \"98125\": {\"frequency\": 410, \"value\": \"98125\"}, \"98148\": {\"frequency\": 57, \"value\": \"98148\"}, \"98031\": {\"frequency\": 274, \"value\": \"98031\"}, \"98102\": {\"frequency\": 105, \"value\": \"98102\"}, \"98188\": {\"frequency\": 136, \"value\": \"98188\"}, \"98034\": {\"frequency\": 545, \"value\": \"98034\"}, \"98106\": {\"frequency\": 335, \"value\": \"98106\"}, \"98014\": {\"frequency\": 124, \"value\": \"98014\"}, \"98107\": {\"frequency\": 266, \"value\": \"98107\"}, \"98155\": {\"frequency\": 446, \"value\": \"98155\"}, \"98052\": {\"frequency\": 574, \"value\": \"98052\"}, \"98178\": {\"frequency\": 262, \"value\": \"98178\"}, \"98070\": {\"frequency\": 118, \"value\": \"98070\"}, \"98136\": {\"frequency\": 263, \"value\": \"98136\"}, \"98072\": {\"frequency\": 273, \"value\": \"98072\"}, \"98075\": {\"frequency\": 359, \"value\": \"98075\"}, \"98074\": {\"frequency\": 441, \"value\": \"98074\"}, \"98059\": {\"frequency\": 468, \"value\": \"98059\"}, \"98133\": {\"frequency\": 494, \"value\": \"98133\"}, \"98056\": {\"frequency\": 406, \"value\": \"98056\"}, \"98055\": {\"frequency\": 268, \"value\": \"98055\"}, \"98053\": {\"frequency\": 405, \"value\": \"98053\"}, \"98168\": {\"frequency\": 269, \"value\": \"98168\"}, \"98177\": {\"frequency\": 255, \"value\": \"98177\"}}, \"size\": 21613}, \"sqft_living\": {\"std\": 918.4196493828803, \"complete\": true, \"min\": 290.0, \"max\": 13540.0, \"quantile\": [290.0, 720.0, 790.0, 850.0, 890.0, 940.0, 970.0, 1010.0, 1030.0, 1060.0, 1090.0, 1120.0, 1150.0, 1170.0, 1200.0, 1220.0, 1240.0, 1260.0, 1280.0, 1300.0, 1320.0, 1340.0, 1370.0, 1390.0, 1410.0, 1420.0, 1440.0, 1460.0, 1480.0, 1500.0, 1520.0, 1540.0, 1560.0, 1580.0, 1600.0, 1611.0, 1640.0, 1651.0, 1670.0, 1690.0, 1710.0, 1730.0, 1750.0, 1770.0, 1790.0, 1810.0, 1830.0, 1850.0, 1870.0, 1890.0, 1910.0, 1940.0, 1960.0, 1980.0, 2000.0, 2020.0, 2050.0, 2070.0, 2090.0, 2110.0, 2130.0, 2160.0, 2180.0, 2210.0, 2230.0, 2260.0, 2290.0, 2310.0, 2340.0, 2370.0, 2400.0, 2430.0, 2450.0, 2490.0, 2510.0, 2550.0, 2580.0, 2620.0, 2660.0, 2690.0, 2730.0, 2770.0, 2820.0, 2860.0, 2910.0, 2970.0, 3010.0, 3070.0, 3136.0, 3190.0, 3250.0, 3330.0, 3420.0, 3520.0, 3630.0, 3770.0, 3930.0, 4140.0, 4410.0, 5000.0, 13540.0], \"median\": 1910.0, \"numeric\": true, \"num_unique\": 1036, \"num_undefined\": 0, \"var\": 843494.6523725728, \"progress\": 1.0, \"size\": 21613, \"frequent_items\": {\"2050\": {\"frequency\": 83, \"value\": 2050}, \"4100\": {\"frequency\": 5, \"value\": 4100}, \"2056\": {\"frequency\": 2, \"value\": 2056}, \"2732\": {\"frequency\": 2, \"value\": 2732}, \"2060\": {\"frequency\": 100, \"value\": 2060}, \"4110\": {\"frequency\": 10, \"value\": 4110}, \"2064\": {\"frequency\": 1, \"value\": 2064}, \"4115\": {\"frequency\": 1, \"value\": 4115}, \"2068\": {\"frequency\": 1, \"value\": 2068}, \"2070\": {\"frequency\": 92, \"value\": 2070}, \"4120\": {\"frequency\": 9, \"value\": 4120}, \"2052\": {\"frequency\": 1, \"value\": 2052}, \"2074\": {\"frequency\": 1, \"value\": 2074}, \"2075\": {\"frequency\": 2, \"value\": 2075}, \"2080\": {\"frequency\": 98, \"value\": 2080}, \"4130\": {\"frequency\": 8, \"value\": 4130}, \"2085\": {\"frequency\": 1, \"value\": 2085}, \"2090\": {\"frequency\": 95, \"value\": 2090}, \"4140\": {\"frequency\": 12, \"value\": 4140}, \"2093\": {\"frequency\": 1, \"value\": 2093}, \"2095\": {\"frequency\": 3, \"value\": 2095}, \"2099\": {\"frequency\": 1, \"value\": 2099}, \"2100\": {\"frequency\": 116, \"value\": 2100}, \"4150\": {\"frequency\": 10, \"value\": 4150}, \"6200\": {\"frequency\": 2, \"value\": 6200}, \"2105\": {\"frequency\": 1, \"value\": 2105}, \"2110\": {\"frequency\": 82, \"value\": 2110}, \"4160\": {\"frequency\": 7, \"value\": 4160}, \"6210\": {\"frequency\": 1, \"value\": 6210}, \"2115\": {\"frequency\": 1, \"value\": 2115}, \"2120\": {\"frequency\": 111, \"value\": 2120}, \"4170\": {\"frequency\": 6, \"value\": 4170}, \"2744\": {\"frequency\": 1, \"value\": 2744}, \"2130\": {\"frequency\": 94, \"value\": 2130}, \"4180\": {\"frequency\": 7, \"value\": 4180}, \"2134\": {\"frequency\": 1, \"value\": 2134}, \"2140\": {\"frequency\": 78, \"value\": 2140}, \"4190\": {\"frequency\": 6, \"value\": 4190}, \"6240\": {\"frequency\": 1, \"value\": 6240}, \"2145\": {\"frequency\": 1, \"value\": 2145}, \"2150\": {\"frequency\": 85, \"value\": 2150}, \"4200\": {\"frequency\": 6, \"value\": 4200}, \"2153\": {\"frequency\": 1, \"value\": 2153}, \"2154\": {\"frequency\": 2, \"value\": 2154}, \"2155\": {\"frequency\": 1, \"value\": 2155}, \"2156\": {\"frequency\": 1, \"value\": 2156}, \"2160\": {\"frequency\": 96, \"value\": 2160}, \"5480\": {\"frequency\": 4, \"value\": 5480}, \"4210\": {\"frequency\": 7, \"value\": 4210}, \"2163\": {\"frequency\": 2, \"value\": 2163}, \"6260\": {\"frequency\": 1, \"value\": 6260}, \"2166\": {\"frequency\": 1, \"value\": 2166}, \"2168\": {\"frequency\": 2, \"value\": 2168}, \"2170\": {\"frequency\": 80, \"value\": 2170}, \"4220\": {\"frequency\": 8, \"value\": 4220}, \"4225\": {\"frequency\": 1, \"value\": 4225}, \"2180\": {\"frequency\": 89, \"value\": 2180}, \"2181\": {\"frequency\": 1, \"value\": 2181}, \"4230\": {\"frequency\": 11, \"value\": 4230}, \"2185\": {\"frequency\": 1, \"value\": 2185}, \"2190\": {\"frequency\": 92, \"value\": 2190}, \"4240\": {\"frequency\": 7, \"value\": 4240}, \"3960\": {\"frequency\": 11, \"value\": 3960}, \"2195\": {\"frequency\": 1, \"value\": 2195}, \"2196\": {\"frequency\": 1, \"value\": 2196}, \"2414\": {\"frequency\": 1, \"value\": 2414}, \"2198\": {\"frequency\": 1, \"value\": 2198}, \"2200\": {\"frequency\": 93, \"value\": 2200}, \"2201\": {\"frequency\": 1, \"value\": 2201}, \"4250\": {\"frequency\": 10, \"value\": 4250}, \"6300\": {\"frequency\": 1, \"value\": 6300}, \"2206\": {\"frequency\": 1, \"value\": 2206}, \"2208\": {\"frequency\": 1, \"value\": 2208}, \"1392\": {\"frequency\": 1, \"value\": 1392}, \"2210\": {\"frequency\": 74, \"value\": 2210}, \"4260\": {\"frequency\": 6, \"value\": 4260}, \"2216\": {\"frequency\": 1, \"value\": 2216}, \"2217\": {\"frequency\": 1, \"value\": 2217}, \"2220\": {\"frequency\": 75, \"value\": 2220}, \"4270\": {\"frequency\": 11, \"value\": 4270}, \"2223\": {\"frequency\": 1, \"value\": 2223}, \"2229\": {\"frequency\": 1, \"value\": 2229}, \"2230\": {\"frequency\": 82, \"value\": 2230}, \"4280\": {\"frequency\": 9, \"value\": 4280}, \"2233\": {\"frequency\": 1, \"value\": 2233}, \"6330\": {\"frequency\": 1, \"value\": 6330}, \"2235\": {\"frequency\": 1, \"value\": 2235}, \"4285\": {\"frequency\": 2, \"value\": 4285}, \"2238\": {\"frequency\": 1, \"value\": 2238}, \"2240\": {\"frequency\": 101, \"value\": 2240}, \"4290\": {\"frequency\": 7, \"value\": 4290}, \"2244\": {\"frequency\": 1, \"value\": 2244}, \"2245\": {\"frequency\": 2, \"value\": 2245}, \"2250\": {\"frequency\": 68, \"value\": 2250}, \"2251\": {\"frequency\": 1, \"value\": 2251}, \"4300\": {\"frequency\": 8, \"value\": 4300}, \"2253\": {\"frequency\": 1, \"value\": 2253}, \"1741\": {\"frequency\": 2, \"value\": 1741}, \"2257\": {\"frequency\": 1, \"value\": 2257}, \"2259\": {\"frequency\": 1, \"value\": 2259}, \"2260\": {\"frequency\": 79, \"value\": 2260}, \"4310\": {\"frequency\": 5, \"value\": 4310}, \"2267\": {\"frequency\": 1, \"value\": 2267}, \"2270\": {\"frequency\": 62, \"value\": 2270}, \"4133\": {\"frequency\": 1, \"value\": 4133}, \"4320\": {\"frequency\": 9, \"value\": 4320}, \"6370\": {\"frequency\": 1, \"value\": 6370}, \"2280\": {\"frequency\": 81, \"value\": 2280}, \"4330\": {\"frequency\": 4, \"value\": 4330}, \"2283\": {\"frequency\": 1, \"value\": 2283}, \"6380\": {\"frequency\": 1, \"value\": 6380}, \"2286\": {\"frequency\": 1, \"value\": 2286}, \"2290\": {\"frequency\": 80, \"value\": 2290}, \"4340\": {\"frequency\": 8, \"value\": 4340}, \"6390\": {\"frequency\": 1, \"value\": 6390}, \"4168\": {\"frequency\": 1, \"value\": 4168}, \"2298\": {\"frequency\": 1, \"value\": 2298}, \"2300\": {\"frequency\": 84, \"value\": 2300}, \"2301\": {\"frequency\": 1, \"value\": 2301}, \"4350\": {\"frequency\": 7, \"value\": 4350}, \"2303\": {\"frequency\": 3, \"value\": 2303}, \"6400\": {\"frequency\": 1, \"value\": 6400}, \"2305\": {\"frequency\": 1, \"value\": 2305}, \"2310\": {\"frequency\": 59, \"value\": 2310}, \"2311\": {\"frequency\": 1, \"value\": 2311}, \"4360\": {\"frequency\": 9, \"value\": 4360}, \"2092\": {\"frequency\": 1, \"value\": 2092}, \"6410\": {\"frequency\": 1, \"value\": 6410}, \"6530\": {\"frequency\": 1, \"value\": 6530}, \"2320\": {\"frequency\": 90, \"value\": 2320}, \"1752\": {\"frequency\": 1, \"value\": 1752}, \"4370\": {\"frequency\": 8, \"value\": 4370}, \"3118\": {\"frequency\": 1, \"value\": 3118}, \"2329\": {\"frequency\": 2, \"value\": 2329}, \"2330\": {\"frequency\": 76, \"value\": 2330}, \"2331\": {\"frequency\": 1, \"value\": 2331}, \"4380\": {\"frequency\": 7, \"value\": 4380}, \"6430\": {\"frequency\": 1, \"value\": 6430}, \"1072\": {\"frequency\": 1, \"value\": 1072}, \"4386\": {\"frequency\": 1, \"value\": 4386}, \"2340\": {\"frequency\": 80, \"value\": 2340}, \"2341\": {\"frequency\": 1, \"value\": 2341}, \"4390\": {\"frequency\": 7, \"value\": 4390}, \"2344\": {\"frequency\": 2, \"value\": 2344}, \"2350\": {\"frequency\": 74, \"value\": 2350}, \"4400\": {\"frequency\": 5, \"value\": 4400}, \"3488\": {\"frequency\": 1, \"value\": 3488}, \"2738\": {\"frequency\": 1, \"value\": 2738}, \"2360\": {\"frequency\": 75, \"value\": 2360}, \"1076\": {\"frequency\": 1, \"value\": 1076}, \"4410\": {\"frequency\": 12, \"value\": 4410}, \"2370\": {\"frequency\": 75, \"value\": 2370}, \"4420\": {\"frequency\": 9, \"value\": 4420}, \"2375\": {\"frequency\": 1, \"value\": 2375}, \"2380\": {\"frequency\": 64, \"value\": 2380}, \"4430\": {\"frequency\": 6, \"value\": 4430}, \"3470\": {\"frequency\": 21, \"value\": 3470}, \"2390\": {\"frequency\": 85, \"value\": 2390}, \"4440\": {\"frequency\": 7, \"value\": 4440}, \"2393\": {\"frequency\": 1, \"value\": 2393}, \"6490\": {\"frequency\": 1, \"value\": 6490}, \"2395\": {\"frequency\": 1, \"value\": 2395}, \"2398\": {\"frequency\": 1, \"value\": 2398}, \"2400\": {\"frequency\": 84, \"value\": 2400}, \"4450\": {\"frequency\": 2, \"value\": 4450}, \"2403\": {\"frequency\": 1, \"value\": 2403}, \"6500\": {\"frequency\": 1, \"value\": 6500}, \"2406\": {\"frequency\": 1, \"value\": 2406}, \"1084\": {\"frequency\": 1, \"value\": 1084}, \"2410\": {\"frequency\": 57, \"value\": 2410}, \"4460\": {\"frequency\": 9, \"value\": 4460}, \"2413\": {\"frequency\": 1, \"value\": 2413}, \"6510\": {\"frequency\": 1, \"value\": 6510}, \"2415\": {\"frequency\": 1, \"value\": 2415}, \"370\": {\"frequency\": 1, \"value\": 370}, \"2420\": {\"frequency\": 88, \"value\": 2420}, \"4470\": {\"frequency\": 7, \"value\": 4470}, \"2423\": {\"frequency\": 1, \"value\": 2423}, \"2424\": {\"frequency\": 2, \"value\": 2424}, \"2425\": {\"frequency\": 1, \"value\": 2425}, \"4475\": {\"frequency\": 2, \"value\": 4475}, \"380\": {\"frequency\": 1, \"value\": 380}, \"2430\": {\"frequency\": 70, \"value\": 2430}, \"2432\": {\"frequency\": 1, \"value\": 2432}, \"3136\": {\"frequency\": 1, \"value\": 3136}, \"2434\": {\"frequency\": 1, \"value\": 2434}, \"2437\": {\"frequency\": 1, \"value\": 2437}, \"390\": {\"frequency\": 2, \"value\": 390}, \"2440\": {\"frequency\": 87, \"value\": 2440}, \"2441\": {\"frequency\": 1, \"value\": 2441}, \"4490\": {\"frequency\": 8, \"value\": 4490}, \"4495\": {\"frequency\": 1, \"value\": 4495}, \"2448\": {\"frequency\": 1, \"value\": 2448}, \"2450\": {\"frequency\": 52, \"value\": 2450}, \"4500\": {\"frequency\": 8, \"value\": 4500}, \"2798\": {\"frequency\": 2, \"value\": 2798}, \"6550\": {\"frequency\": 1, \"value\": 6550}, \"5810\": {\"frequency\": 1, \"value\": 5810}, \"2456\": {\"frequency\": 1, \"value\": 2456}, \"1092\": {\"frequency\": 1, \"value\": 1092}, \"410\": {\"frequency\": 1, \"value\": 410}, \"2460\": {\"frequency\": 66, \"value\": 2460}, \"4510\": {\"frequency\": 4, \"value\": 4510}, \"6563\": {\"frequency\": 1, \"value\": 6563}, \"420\": {\"frequency\": 2, \"value\": 420}, \"2470\": {\"frequency\": 52, \"value\": 2470}, \"4520\": {\"frequency\": 2, \"value\": 4520}, \"2473\": {\"frequency\": 1, \"value\": 2473}, \"2475\": {\"frequency\": 4, \"value\": 2475}, \"430\": {\"frequency\": 1, \"value\": 430}, \"2480\": {\"frequency\": 65, \"value\": 2480}, \"2481\": {\"frequency\": 1, \"value\": 2481}, \"4530\": {\"frequency\": 2, \"value\": 4530}, \"2483\": {\"frequency\": 2, \"value\": 2483}, \"440\": {\"frequency\": 1, \"value\": 440}, \"3828\": {\"frequency\": 1, \"value\": 3828}, \"2490\": {\"frequency\": 58, \"value\": 2490}, \"4540\": {\"frequency\": 1, \"value\": 4540}, \"2495\": {\"frequency\": 3, \"value\": 2495}, \"2496\": {\"frequency\": 1, \"value\": 2496}, \"2497\": {\"frequency\": 1, \"value\": 2497}, \"2500\": {\"frequency\": 90, \"value\": 2500}, \"1782\": {\"frequency\": 1, \"value\": 1782}, \"4550\": {\"frequency\": 2, \"value\": 4550}, \"3148\": {\"frequency\": 1, \"value\": 3148}, \"2506\": {\"frequency\": 2, \"value\": 2506}, \"2507\": {\"frequency\": 1, \"value\": 2507}, \"460\": {\"frequency\": 1, \"value\": 460}, \"2510\": {\"frequency\": 70, \"value\": 2510}, \"4560\": {\"frequency\": 8, \"value\": 4560}, \"2514\": {\"frequency\": 1, \"value\": 2514}, \"2517\": {\"frequency\": 1, \"value\": 2517}, \"2518\": {\"frequency\": 1, \"value\": 2518}, \"2519\": {\"frequency\": 1, \"value\": 2519}, \"2520\": {\"frequency\": 71, \"value\": 2520}, \"1444\": {\"frequency\": 1, \"value\": 1444}, \"4570\": {\"frequency\": 6, \"value\": 4570}, \"8670\": {\"frequency\": 1, \"value\": 8670}, \"4575\": {\"frequency\": 1, \"value\": 4575}, \"480\": {\"frequency\": 2, \"value\": 480}, \"2529\": {\"frequency\": 1, \"value\": 2529}, \"2530\": {\"frequency\": 48, \"value\": 2530}, \"2531\": {\"frequency\": 1, \"value\": 2531}, \"4580\": {\"frequency\": 2, \"value\": 4580}, \"6630\": {\"frequency\": 1, \"value\": 6630}, \"490\": {\"frequency\": 1, \"value\": 490}, \"2540\": {\"frequency\": 61, \"value\": 2540}, \"4590\": {\"frequency\": 7, \"value\": 4590}, \"6640\": {\"frequency\": 2, \"value\": 6640}, \"2547\": {\"frequency\": 1, \"value\": 2547}, \"500\": {\"frequency\": 1, \"value\": 500}, \"2550\": {\"frequency\": 74, \"value\": 2550}, \"4600\": {\"frequency\": 6, \"value\": 4600}, \"2555\": {\"frequency\": 1, \"value\": 2555}, \"2557\": {\"frequency\": 1, \"value\": 2557}, \"2560\": {\"frequency\": 58, \"value\": 2560}, \"4610\": {\"frequency\": 7, \"value\": 4610}, \"520\": {\"frequency\": 6, \"value\": 520}, \"2570\": {\"frequency\": 62, \"value\": 2570}, \"4620\": {\"frequency\": 3, \"value\": 4620}, \"6670\": {\"frequency\": 1, \"value\": 6670}, \"2575\": {\"frequency\": 1, \"value\": 2575}, \"2577\": {\"frequency\": 1, \"value\": 2577}, \"2578\": {\"frequency\": 1, \"value\": 2578}, \"2580\": {\"frequency\": 51, \"value\": 2580}, \"2478\": {\"frequency\": 1, \"value\": 2478}, \"4630\": {\"frequency\": 2, \"value\": 4630}, \"2584\": {\"frequency\": 1, \"value\": 2584}, \"540\": {\"frequency\": 2, \"value\": 540}, \"2590\": {\"frequency\": 55, \"value\": 2590}, \"4640\": {\"frequency\": 4, \"value\": 4640}, \"2594\": {\"frequency\": 1, \"value\": 2594}, \"4645\": {\"frequency\": 1, \"value\": 4645}, \"550\": {\"frequency\": 4, \"value\": 550}, \"2600\": {\"frequency\": 68, \"value\": 2600}, \"2601\": {\"frequency\": 1, \"value\": 2601}, \"4650\": {\"frequency\": 2, \"value\": 4650}, \"2605\": {\"frequency\": 3, \"value\": 2605}, \"560\": {\"frequency\": 4, \"value\": 560}, \"2610\": {\"frequency\": 51, \"value\": 2610}, \"4660\": {\"frequency\": 6, \"value\": 4660}, \"570\": {\"frequency\": 3, \"value\": 570}, \"2620\": {\"frequency\": 73, \"value\": 2620}, \"1802\": {\"frequency\": 1, \"value\": 1802}, \"4670\": {\"frequency\": 5, \"value\": 4670}, \"2623\": {\"frequency\": 1, \"value\": 2623}, \"580\": {\"frequency\": 5, \"value\": 580}, \"2630\": {\"frequency\": 53, \"value\": 2630}, \"2632\": {\"frequency\": 2, \"value\": 2632}, \"2828\": {\"frequency\": 1, \"value\": 2828}, \"1122\": {\"frequency\": 2, \"value\": 1122}, \"590\": {\"frequency\": 5, \"value\": 590}, \"2640\": {\"frequency\": 50, \"value\": 2640}, \"2641\": {\"frequency\": 2, \"value\": 2641}, \"4690\": {\"frequency\": 5, \"value\": 4690}, \"2643\": {\"frequency\": 1, \"value\": 2643}, \"600\": {\"frequency\": 7, \"value\": 600}, \"3172\": {\"frequency\": 1, \"value\": 3172}, \"2650\": {\"frequency\": 60, \"value\": 2650}, \"4700\": {\"frequency\": 8, \"value\": 4700}, \"2653\": {\"frequency\": 1, \"value\": 2653}, \"2655\": {\"frequency\": 1, \"value\": 2655}, \"2656\": {\"frequency\": 1, \"value\": 2656}, \"610\": {\"frequency\": 4, \"value\": 610}, \"2660\": {\"frequency\": 62, \"value\": 2660}, \"4710\": {\"frequency\": 1, \"value\": 4710}, \"2665\": {\"frequency\": 1, \"value\": 2665}, \"3362\": {\"frequency\": 1, \"value\": 3362}, \"620\": {\"frequency\": 12, \"value\": 620}, \"2669\": {\"frequency\": 1, \"value\": 2669}, \"2670\": {\"frequency\": 46, \"value\": 2670}, \"4720\": {\"frequency\": 4, \"value\": 4720}, \"2675\": {\"frequency\": 1, \"value\": 2675}, \"630\": {\"frequency\": 5, \"value\": 630}, \"2680\": {\"frequency\": 64, \"value\": 2680}, \"1812\": {\"frequency\": 1, \"value\": 1812}, \"4730\": {\"frequency\": 2, \"value\": 4730}, \"2683\": {\"frequency\": 1, \"value\": 2683}, \"640\": {\"frequency\": 5, \"value\": 640}, \"2689\": {\"frequency\": 2, \"value\": 2689}, \"2690\": {\"frequency\": 42, \"value\": 2690}, \"4740\": {\"frequency\": 5, \"value\": 4740}, \"1934\": {\"frequency\": 1, \"value\": 1934}, \"650\": {\"frequency\": 3, \"value\": 650}, \"2700\": {\"frequency\": 58, \"value\": 2700}, \"2701\": {\"frequency\": 2, \"value\": 2701}, \"4750\": {\"frequency\": 5, \"value\": 4750}, \"660\": {\"frequency\": 6, \"value\": 660}, \"2710\": {\"frequency\": 51, \"value\": 2710}, \"4760\": {\"frequency\": 1, \"value\": 4760}, \"2714\": {\"frequency\": 2, \"value\": 2714}, \"2716\": {\"frequency\": 1, \"value\": 2716}, \"2717\": {\"frequency\": 1, \"value\": 2717}, \"670\": {\"frequency\": 25, \"value\": 670}, \"2720\": {\"frequency\": 58, \"value\": 2720}, \"4770\": {\"frequency\": 2, \"value\": 4770}, \"2502\": {\"frequency\": 1, \"value\": 2502}, \"6160\": {\"frequency\": 1, \"value\": 6160}, \"680\": {\"frequency\": 13, \"value\": 680}, \"2730\": {\"frequency\": 48, \"value\": 2730}, \"4780\": {\"frequency\": 2, \"value\": 4780}, \"2734\": {\"frequency\": 1, \"value\": 2734}, \"690\": {\"frequency\": 8, \"value\": 690}, \"2740\": {\"frequency\": 53, \"value\": 2740}, \"4790\": {\"frequency\": 2, \"value\": 4790}, \"6840\": {\"frequency\": 1, \"value\": 6840}, \"700\": {\"frequency\": 36, \"value\": 700}, \"2750\": {\"frequency\": 40, \"value\": 2750}, \"4800\": {\"frequency\": 3, \"value\": 4800}, \"2753\": {\"frequency\": 1, \"value\": 2753}, \"2755\": {\"frequency\": 2, \"value\": 2755}, \"710\": {\"frequency\": 27, \"value\": 710}, \"2760\": {\"frequency\": 43, \"value\": 2760}, \"4810\": {\"frequency\": 2, \"value\": 4810}, \"720\": {\"frequency\": 49, \"value\": 720}, \"3192\": {\"frequency\": 1, \"value\": 3192}, \"2770\": {\"frequency\": 56, \"value\": 2770}, \"4820\": {\"frequency\": 1, \"value\": 4820}, \"730\": {\"frequency\": 14, \"value\": 730}, \"2780\": {\"frequency\": 47, \"value\": 2780}, \"4830\": {\"frequency\": 4, \"value\": 4830}, \"2783\": {\"frequency\": 1, \"value\": 2783}, \"6880\": {\"frequency\": 1, \"value\": 6880}, \"740\": {\"frequency\": 22, \"value\": 740}, \"2789\": {\"frequency\": 1, \"value\": 2789}, \"2790\": {\"frequency\": 52, \"value\": 2790}, \"2793\": {\"frequency\": 1, \"value\": 2793}, \"2795\": {\"frequency\": 1, \"value\": 2795}, \"2796\": {\"frequency\": 1, \"value\": 2796}, \"750\": {\"frequency\": 27, \"value\": 750}, \"2800\": {\"frequency\": 54, \"value\": 2800}, \"4850\": {\"frequency\": 4, \"value\": 4850}, \"2803\": {\"frequency\": 1, \"value\": 2803}, \"6900\": {\"frequency\": 1, \"value\": 6900}, \"2807\": {\"frequency\": 1, \"value\": 2807}, \"760\": {\"frequency\": 25, \"value\": 760}, \"2810\": {\"frequency\": 46, \"value\": 2810}, \"2811\": {\"frequency\": 1, \"value\": 2811}, \"4860\": {\"frequency\": 5, \"value\": 4860}, \"1834\": {\"frequency\": 1, \"value\": 1834}, \"2815\": {\"frequency\": 2, \"value\": 2815}, \"770\": {\"frequency\": 42, \"value\": 770}, \"2820\": {\"frequency\": 54, \"value\": 2820}, \"470\": {\"frequency\": 2, \"value\": 470}, \"4870\": {\"frequency\": 3, \"value\": 4870}, \"780\": {\"frequency\": 26, \"value\": 780}, \"3202\": {\"frequency\": 1, \"value\": 3202}, \"2830\": {\"frequency\": 46, \"value\": 2830}, \"6930\": {\"frequency\": 1, \"value\": 6930}, \"4883\": {\"frequency\": 1, \"value\": 4883}, \"790\": {\"frequency\": 38, \"value\": 790}, \"2840\": {\"frequency\": 49, \"value\": 2840}, \"4890\": {\"frequency\": 3, \"value\": 4890}, \"2844\": {\"frequency\": 1, \"value\": 2844}, \"2846\": {\"frequency\": 1, \"value\": 2846}, \"800\": {\"frequency\": 47, \"value\": 800}, \"2849\": {\"frequency\": 1, \"value\": 2849}, \"2850\": {\"frequency\": 38, \"value\": 2850}, \"809\": {\"frequency\": 1, \"value\": 809}, \"810\": {\"frequency\": 27, \"value\": 810}, \"2860\": {\"frequency\": 39, \"value\": 2860}, \"4910\": {\"frequency\": 4, \"value\": 4910}, \"2864\": {\"frequency\": 1, \"value\": 2864}, \"820\": {\"frequency\": 40, \"value\": 820}, \"1502\": {\"frequency\": 1, \"value\": 1502}, \"2870\": {\"frequency\": 38, \"value\": 2870}, \"4920\": {\"frequency\": 3, \"value\": 4920}, \"828\": {\"frequency\": 1, \"value\": 828}, \"830\": {\"frequency\": 36, \"value\": 830}, \"2880\": {\"frequency\": 46, \"value\": 2880}, \"833\": {\"frequency\": 1, \"value\": 833}, \"4930\": {\"frequency\": 4, \"value\": 4930}, \"6980\": {\"frequency\": 1, \"value\": 6980}, \"2885\": {\"frequency\": 1, \"value\": 2885}, \"840\": {\"frequency\": 56, \"value\": 840}, \"2890\": {\"frequency\": 34, \"value\": 2890}, \"2891\": {\"frequency\": 1, \"value\": 2891}, \"4940\": {\"frequency\": 1, \"value\": 4940}, \"850\": {\"frequency\": 26, \"value\": 850}, \"2900\": {\"frequency\": 35, \"value\": 2900}, \"7000\": {\"frequency\": 1, \"value\": 7000}, \"2905\": {\"frequency\": 1, \"value\": 2905}, \"2906\": {\"frequency\": 1, \"value\": 2906}, \"860\": {\"frequency\": 57, \"value\": 860}, \"2910\": {\"frequency\": 57, \"value\": 2910}, \"4960\": {\"frequency\": 2, \"value\": 4960}, \"2192\": {\"frequency\": 1, \"value\": 2192}, \"1510\": {\"frequency\": 114, \"value\": 1510}, \"870\": {\"frequency\": 36, \"value\": 870}, \"2920\": {\"frequency\": 43, \"value\": 2920}, \"2876\": {\"frequency\": 2, \"value\": 2876}, \"4970\": {\"frequency\": 1, \"value\": 4970}, \"2927\": {\"frequency\": 2, \"value\": 2927}, \"880\": {\"frequency\": 54, \"value\": 880}, \"2930\": {\"frequency\": 37, \"value\": 2930}, \"4980\": {\"frequency\": 2, \"value\": 4980}, \"3030\": {\"frequency\": 45, \"value\": 3030}, \"890\": {\"frequency\": 33, \"value\": 890}, \"2940\": {\"frequency\": 34, \"value\": 2940}, \"2538\": {\"frequency\": 1, \"value\": 2538}, \"894\": {\"frequency\": 1, \"value\": 894}, \"900\": {\"frequency\": 53, \"value\": 900}, \"901\": {\"frequency\": 1, \"value\": 901}, \"2950\": {\"frequency\": 32, \"value\": 2950}, \"5000\": {\"frequency\": 4, \"value\": 5000}, \"7050\": {\"frequency\": 1, \"value\": 7050}, \"3223\": {\"frequency\": 2, \"value\": 3223}, \"910\": {\"frequency\": 60, \"value\": 910}, \"2960\": {\"frequency\": 37, \"value\": 2960}, \"2961\": {\"frequency\": 1, \"value\": 2961}, \"5010\": {\"frequency\": 3, \"value\": 5010}, \"2963\": {\"frequency\": 1, \"value\": 2963}, \"2542\": {\"frequency\": 1, \"value\": 2542}, \"920\": {\"frequency\": 51, \"value\": 920}, \"2970\": {\"frequency\": 29, \"value\": 2970}, \"5020\": {\"frequency\": 3, \"value\": 5020}, \"2544\": {\"frequency\": 1, \"value\": 2544}, \"930\": {\"frequency\": 43, \"value\": 930}, \"2979\": {\"frequency\": 1, \"value\": 2979}, \"2980\": {\"frequency\": 57, \"value\": 2980}, \"5030\": {\"frequency\": 1, \"value\": 5030}, \"7080\": {\"frequency\": 1, \"value\": 7080}, \"940\": {\"frequency\": 62, \"value\": 940}, \"1522\": {\"frequency\": 1, \"value\": 1522}, \"2990\": {\"frequency\": 48, \"value\": 2990}, \"5040\": {\"frequency\": 3, \"value\": 5040}, \"2993\": {\"frequency\": 1, \"value\": 2993}, \"950\": {\"frequency\": 46, \"value\": 950}, \"3000\": {\"frequency\": 40, \"value\": 3000}, \"3001\": {\"frequency\": 1, \"value\": 3001}, \"5050\": {\"frequency\": 4, \"value\": 5050}, \"7100\": {\"frequency\": 1, \"value\": 7100}, \"960\": {\"frequency\": 82, \"value\": 960}, \"3010\": {\"frequency\": 48, \"value\": 3010}, \"1867\": {\"frequency\": 1, \"value\": 1867}, \"5060\": {\"frequency\": 1, \"value\": 5060}, \"844\": {\"frequency\": 1, \"value\": 844}, \"970\": {\"frequency\": 49, \"value\": 970}, \"5067\": {\"frequency\": 1, \"value\": 5067}, \"3020\": {\"frequency\": 41, \"value\": 3020}, \"5070\": {\"frequency\": 1, \"value\": 5070}, \"7120\": {\"frequency\": 1, \"value\": 7120}, \"980\": {\"frequency\": 53, \"value\": 980}, \"982\": {\"frequency\": 1, \"value\": 982}, \"5080\": {\"frequency\": 1, \"value\": 5080}, \"988\": {\"frequency\": 1, \"value\": 988}, \"990\": {\"frequency\": 53, \"value\": 990}, \"3040\": {\"frequency\": 45, \"value\": 3040}, \"5090\": {\"frequency\": 2, \"value\": 5090}, \"3238\": {\"frequency\": 1, \"value\": 3238}, \"998\": {\"frequency\": 2, \"value\": 998}, \"1000\": {\"frequency\": 73, \"value\": 1000}, \"3050\": {\"frequency\": 25, \"value\": 3050}, \"3052\": {\"frequency\": 1, \"value\": 3052}, \"1008\": {\"frequency\": 1, \"value\": 1008}, \"1010\": {\"frequency\": 129, \"value\": 1010}, \"3060\": {\"frequency\": 34, \"value\": 3060}, \"5110\": {\"frequency\": 2, \"value\": 5110}, \"3064\": {\"frequency\": 1, \"value\": 3064}, \"1876\": {\"frequency\": 1, \"value\": 1876}, \"1020\": {\"frequency\": 73, \"value\": 1020}, \"3070\": {\"frequency\": 36, \"value\": 3070}, \"5120\": {\"frequency\": 2, \"value\": 5120}, \"1030\": {\"frequency\": 57, \"value\": 1030}, \"3080\": {\"frequency\": 36, \"value\": 3080}, \"3444\": {\"frequency\": 1, \"value\": 3444}, \"5130\": {\"frequency\": 1, \"value\": 5130}, \"3085\": {\"frequency\": 1, \"value\": 3085}, \"12050\": {\"frequency\": 1, \"value\": 12050}, \"3087\": {\"frequency\": 1, \"value\": 3087}, \"1040\": {\"frequency\": 78, \"value\": 1040}, \"3090\": {\"frequency\": 38, \"value\": 3090}, \"1048\": {\"frequency\": 1, \"value\": 1048}, \"1050\": {\"frequency\": 68, \"value\": 1050}, \"3100\": {\"frequency\": 34, \"value\": 3100}, \"5150\": {\"frequency\": 3, \"value\": 5150}, \"1060\": {\"frequency\": 94, \"value\": 1060}, \"1061\": {\"frequency\": 1, \"value\": 1061}, \"3110\": {\"frequency\": 35, \"value\": 3110}, \"5160\": {\"frequency\": 1, \"value\": 5160}, \"1068\": {\"frequency\": 3, \"value\": 1068}, \"1070\": {\"frequency\": 76, \"value\": 1070}, \"3120\": {\"frequency\": 24, \"value\": 3120}, \"2568\": {\"frequency\": 1, \"value\": 2568}, \"5170\": {\"frequency\": 1, \"value\": 5170}, \"7220\": {\"frequency\": 1, \"value\": 7220}, \"1078\": {\"frequency\": 1, \"value\": 1078}, \"1080\": {\"frequency\": 50, \"value\": 1080}, \"3130\": {\"frequency\": 35, \"value\": 3130}, \"5180\": {\"frequency\": 5, \"value\": 5180}, \"3133\": {\"frequency\": 1, \"value\": 3133}, \"3135\": {\"frequency\": 1, \"value\": 3135}, \"1088\": {\"frequency\": 2, \"value\": 1088}, \"1090\": {\"frequency\": 69, \"value\": 1090}, \"3140\": {\"frequency\": 32, \"value\": 3140}, \"5190\": {\"frequency\": 3, \"value\": 5190}, \"1095\": {\"frequency\": 1, \"value\": 1095}, \"1100\": {\"frequency\": 79, \"value\": 1100}, \"3150\": {\"frequency\": 36, \"value\": 3150}, \"1108\": {\"frequency\": 1, \"value\": 1108}, \"1110\": {\"frequency\": 48, \"value\": 1110}, \"3160\": {\"frequency\": 49, \"value\": 3160}, \"5210\": {\"frequency\": 1, \"value\": 5210}, \"1120\": {\"frequency\": 86, \"value\": 1120}, \"1552\": {\"frequency\": 2, \"value\": 1552}, \"3170\": {\"frequency\": 22, \"value\": 3170}, \"5220\": {\"frequency\": 2, \"value\": 5220}, \"1894\": {\"frequency\": 1, \"value\": 1894}, \"7270\": {\"frequency\": 1, \"value\": 7270}, \"3176\": {\"frequency\": 1, \"value\": 3176}, \"1129\": {\"frequency\": 1, \"value\": 1129}, \"1130\": {\"frequency\": 56, \"value\": 1130}, \"1131\": {\"frequency\": 1, \"value\": 1131}, \"3180\": {\"frequency\": 41, \"value\": 3180}, \"3181\": {\"frequency\": 1, \"value\": 3181}, \"5230\": {\"frequency\": 3, \"value\": 5230}, \"1140\": {\"frequency\": 100, \"value\": 1140}, \"3190\": {\"frequency\": 47, \"value\": 3190}, \"5240\": {\"frequency\": 1, \"value\": 5240}, \"2708\": {\"frequency\": 1, \"value\": 2708}, \"1150\": {\"frequency\": 98, \"value\": 1150}, \"3200\": {\"frequency\": 36, \"value\": 3200}, \"5250\": {\"frequency\": 1, \"value\": 5250}, \"3206\": {\"frequency\": 1, \"value\": 3206}, \"1159\": {\"frequency\": 1, \"value\": 1159}, \"1160\": {\"frequency\": 91, \"value\": 1160}, \"3210\": {\"frequency\": 18, \"value\": 3210}, \"2242\": {\"frequency\": 5, \"value\": 2242}, \"3216\": {\"frequency\": 1, \"value\": 3216}, \"3217\": {\"frequency\": 1, \"value\": 3217}, \"1170\": {\"frequency\": 78, \"value\": 1170}, \"3220\": {\"frequency\": 40, \"value\": 3220}, \"5270\": {\"frequency\": 3, \"value\": 5270}, \"1175\": {\"frequency\": 2, \"value\": 1175}, \"7320\": {\"frequency\": 1, \"value\": 7320}, \"1180\": {\"frequency\": 89, \"value\": 1180}, \"3028\": {\"frequency\": 1, \"value\": 3028}, \"3230\": {\"frequency\": 36, \"value\": 3230}, \"5280\": {\"frequency\": 1, \"value\": 5280}, \"3236\": {\"frequency\": 1, \"value\": 3236}, \"1190\": {\"frequency\": 67, \"value\": 1190}, \"3240\": {\"frequency\": 31, \"value\": 3240}, \"2588\": {\"frequency\": 2, \"value\": 2588}, \"5290\": {\"frequency\": 2, \"value\": 5290}, \"1200\": {\"frequency\": 118, \"value\": 1200}, \"3250\": {\"frequency\": 28, \"value\": 3250}, \"5300\": {\"frequency\": 2, \"value\": 5300}, \"7350\": {\"frequency\": 1, \"value\": 7350}, \"5305\": {\"frequency\": 1, \"value\": 5305}, \"1210\": {\"frequency\": 88, \"value\": 1210}, \"3260\": {\"frequency\": 20, \"value\": 3260}, \"5310\": {\"frequency\": 4, \"value\": 5310}, \"3266\": {\"frequency\": 2, \"value\": 3266}, \"1220\": {\"frequency\": 92, \"value\": 1220}, \"3270\": {\"frequency\": 23, \"value\": 3270}, \"5320\": {\"frequency\": 1, \"value\": 5320}, \"3273\": {\"frequency\": 1, \"value\": 3273}, \"3274\": {\"frequency\": 1, \"value\": 3274}, \"3276\": {\"frequency\": 1, \"value\": 3276}, \"1230\": {\"frequency\": 82, \"value\": 1230}, \"3280\": {\"frequency\": 29, \"value\": 3280}, \"1233\": {\"frequency\": 1, \"value\": 1233}, \"5330\": {\"frequency\": 2, \"value\": 5330}, \"3284\": {\"frequency\": 1, \"value\": 3284}, \"1239\": {\"frequency\": 1, \"value\": 1239}, \"1240\": {\"frequency\": 112, \"value\": 1240}, \"1572\": {\"frequency\": 1, \"value\": 1572}, \"3290\": {\"frequency\": 29, \"value\": 3290}, \"5340\": {\"frequency\": 1, \"value\": 5340}, \"7390\": {\"frequency\": 1, \"value\": 7390}, \"1232\": {\"frequency\": 1, \"value\": 1232}, \"1250\": {\"frequency\": 120, \"value\": 1250}, \"13540\": {\"frequency\": 1, \"value\": 13540}, \"2598\": {\"frequency\": 1, \"value\": 2598}, \"5350\": {\"frequency\": 2, \"value\": 5350}, \"1255\": {\"frequency\": 2, \"value\": 1255}, \"1256\": {\"frequency\": 1, \"value\": 1256}, \"3305\": {\"frequency\": 1, \"value\": 3305}, \"1260\": {\"frequency\": 113, \"value\": 1260}, \"3310\": {\"frequency\": 23, \"value\": 3310}, \"893\": {\"frequency\": 1, \"value\": 893}, \"5360\": {\"frequency\": 1, \"value\": 5360}, \"3316\": {\"frequency\": 1, \"value\": 3316}, \"1270\": {\"frequency\": 102, \"value\": 1270}, \"3320\": {\"frequency\": 36, \"value\": 3320}, \"5370\": {\"frequency\": 5, \"value\": 5370}, \"1275\": {\"frequency\": 1, \"value\": 1275}, \"7420\": {\"frequency\": 1, \"value\": 7420}, \"1278\": {\"frequency\": 1, \"value\": 1278}, \"1280\": {\"frequency\": 100, \"value\": 1280}, \"3330\": {\"frequency\": 21, \"value\": 3330}, \"1290\": {\"frequency\": 74, \"value\": 1290}, \"3340\": {\"frequency\": 22, \"value\": 3340}, \"1295\": {\"frequency\": 1, \"value\": 1295}, \"7440\": {\"frequency\": 1, \"value\": 7440}, \"384\": {\"frequency\": 1, \"value\": 384}, \"1300\": {\"frequency\": 138, \"value\": 1300}, \"3350\": {\"frequency\": 22, \"value\": 3350}, \"5400\": {\"frequency\": 1, \"value\": 5400}, \"5403\": {\"frequency\": 1, \"value\": 5403}, \"1310\": {\"frequency\": 81, \"value\": 1310}, \"3360\": {\"frequency\": 22, \"value\": 3360}, \"3361\": {\"frequency\": 2, \"value\": 3361}, \"5410\": {\"frequency\": 1, \"value\": 5410}, \"1315\": {\"frequency\": 1, \"value\": 1315}, \"902\": {\"frequency\": 1, \"value\": 902}, \"3366\": {\"frequency\": 1, \"value\": 3366}, \"1320\": {\"frequency\": 122, \"value\": 1320}, \"3370\": {\"frequency\": 39, \"value\": 3370}, \"5420\": {\"frequency\": 1, \"value\": 5420}, \"7730\": {\"frequency\": 1, \"value\": 7730}, \"1330\": {\"frequency\": 89, \"value\": 1330}, \"3380\": {\"frequency\": 17, \"value\": 3380}, \"1333\": {\"frequency\": 1, \"value\": 1333}, \"5430\": {\"frequency\": 2, \"value\": 5430}, \"7480\": {\"frequency\": 1, \"value\": 7480}, \"2612\": {\"frequency\": 1, \"value\": 2612}, \"1340\": {\"frequency\": 113, \"value\": 1340}, \"3390\": {\"frequency\": 16, \"value\": 3390}, \"5440\": {\"frequency\": 2, \"value\": 5440}, \"1347\": {\"frequency\": 1, \"value\": 1347}, \"1350\": {\"frequency\": 95, \"value\": 1350}, \"3400\": {\"frequency\": 30, \"value\": 3400}, \"3402\": {\"frequency\": 1, \"value\": 3402}, \"1358\": {\"frequency\": 3, \"value\": 1358}, \"5860\": {\"frequency\": 3, \"value\": 5860}, \"1360\": {\"frequency\": 96, \"value\": 1360}, \"3410\": {\"frequency\": 24, \"value\": 3410}, \"5461\": {\"frequency\": 1, \"value\": 5461}, \"3300\": {\"frequency\": 24, \"value\": 3300}, \"1370\": {\"frequency\": 118, \"value\": 1370}, \"3420\": {\"frequency\": 32, \"value\": 3420}, \"5470\": {\"frequency\": 2, \"value\": 5470}, \"1380\": {\"frequency\": 85, \"value\": 1380}, \"1381\": {\"frequency\": 1, \"value\": 1381}, \"3430\": {\"frequency\": 20, \"value\": 3430}, \"1384\": {\"frequency\": 3, \"value\": 1384}, \"1390\": {\"frequency\": 89, \"value\": 1390}, \"3440\": {\"frequency\": 27, \"value\": 3440}, \"7400\": {\"frequency\": 1, \"value\": 7400}, \"5490\": {\"frequency\": 2, \"value\": 5490}, \"1396\": {\"frequency\": 1, \"value\": 1396}, \"1397\": {\"frequency\": 1, \"value\": 1397}, \"1400\": {\"frequency\": 135, \"value\": 1400}, \"3450\": {\"frequency\": 24, \"value\": 3450}, \"1405\": {\"frequency\": 1, \"value\": 1405}, \"1408\": {\"frequency\": 1, \"value\": 1408}, \"1410\": {\"frequency\": 109, \"value\": 1410}, \"3460\": {\"frequency\": 14, \"value\": 3460}, \"1413\": {\"frequency\": 2, \"value\": 1413}, \"3078\": {\"frequency\": 1, \"value\": 3078}, \"1420\": {\"frequency\": 92, \"value\": 1420}, \"1422\": {\"frequency\": 1, \"value\": 1422}, \"5520\": {\"frequency\": 1, \"value\": 5520}, \"1425\": {\"frequency\": 1, \"value\": 1425}, \"4480\": {\"frequency\": 3, \"value\": 4480}, \"1427\": {\"frequency\": 1, \"value\": 1427}, \"1430\": {\"frequency\": 116, \"value\": 1430}, \"3480\": {\"frequency\": 21, \"value\": 3480}, \"2628\": {\"frequency\": 1, \"value\": 2628}, \"5530\": {\"frequency\": 1, \"value\": 5530}, \"1435\": {\"frequency\": 1, \"value\": 1435}, \"1440\": {\"frequency\": 133, \"value\": 1440}, \"1264\": {\"frequency\": 1, \"value\": 1264}, \"3490\": {\"frequency\": 26, \"value\": 3490}, \"5540\": {\"frequency\": 2, \"value\": 5540}, \"1445\": {\"frequency\": 5, \"value\": 1445}, \"9640\": {\"frequency\": 1, \"value\": 9640}, \"5545\": {\"frequency\": 1, \"value\": 5545}, \"1450\": {\"frequency\": 91, \"value\": 1450}, \"1451\": {\"frequency\": 1, \"value\": 1451}, \"3500\": {\"frequency\": 29, \"value\": 3500}, \"1453\": {\"frequency\": 1, \"value\": 1453}, \"5550\": {\"frequency\": 4, \"value\": 5550}, \"3504\": {\"frequency\": 1, \"value\": 3504}, \"4680\": {\"frequency\": 2, \"value\": 4680}, \"1458\": {\"frequency\": 1, \"value\": 1458}, \"1460\": {\"frequency\": 116, \"value\": 1460}, \"3510\": {\"frequency\": 21, \"value\": 3510}, \"1463\": {\"frequency\": 1, \"value\": 1463}, \"1465\": {\"frequency\": 1, \"value\": 1465}, \"1470\": {\"frequency\": 112, \"value\": 1470}, \"3520\": {\"frequency\": 21, \"value\": 3520}, \"1952\": {\"frequency\": 1, \"value\": 1952}, \"5570\": {\"frequency\": 1, \"value\": 5570}, \"7620\": {\"frequency\": 1, \"value\": 7620}, \"3526\": {\"frequency\": 1, \"value\": 3526}, \"3527\": {\"frequency\": 1, \"value\": 3527}, \"1480\": {\"frequency\": 125, \"value\": 1480}, \"1481\": {\"frequency\": 2, \"value\": 1481}, \"3530\": {\"frequency\": 21, \"value\": 3530}, \"1484\": {\"frequency\": 1, \"value\": 1484}, \"1954\": {\"frequency\": 2, \"value\": 1954}, \"5584\": {\"frequency\": 1, \"value\": 5584}, \"1489\": {\"frequency\": 3, \"value\": 1489}, \"1490\": {\"frequency\": 99, \"value\": 1490}, \"3540\": {\"frequency\": 14, \"value\": 3540}, \"1494\": {\"frequency\": 2, \"value\": 1494}, \"1495\": {\"frequency\": 1, \"value\": 1495}, \"1496\": {\"frequency\": 1, \"value\": 1496}, \"3545\": {\"frequency\": 1, \"value\": 3545}, \"1500\": {\"frequency\": 112, \"value\": 1500}, \"3550\": {\"frequency\": 20, \"value\": 3550}, \"5600\": {\"frequency\": 1, \"value\": 5600}, \"3555\": {\"frequency\": 1, \"value\": 3555}, \"1509\": {\"frequency\": 3, \"value\": 1509}, \"1414\": {\"frequency\": 1, \"value\": 1414}, \"3560\": {\"frequency\": 28, \"value\": 3560}, \"5610\": {\"frequency\": 2, \"value\": 5610}, \"1516\": {\"frequency\": 1, \"value\": 1516}, \"1520\": {\"frequency\": 102, \"value\": 1520}, \"3569\": {\"frequency\": 1, \"value\": 3569}, \"3570\": {\"frequency\": 16, \"value\": 3570}, \"5620\": {\"frequency\": 2, \"value\": 5620}, \"1528\": {\"frequency\": 1, \"value\": 1528}, \"1530\": {\"frequency\": 109, \"value\": 1530}, \"3580\": {\"frequency\": 14, \"value\": 3580}, \"5635\": {\"frequency\": 1, \"value\": 5635}, \"1540\": {\"frequency\": 124, \"value\": 1540}, \"3590\": {\"frequency\": 7, \"value\": 3590}, \"5640\": {\"frequency\": 1, \"value\": 5640}, \"3595\": {\"frequency\": 1, \"value\": 3595}, \"3596\": {\"frequency\": 1, \"value\": 3596}, \"3597\": {\"frequency\": 1, \"value\": 3597}, \"1550\": {\"frequency\": 96, \"value\": 1550}, \"3600\": {\"frequency\": 25, \"value\": 3600}, \"1553\": {\"frequency\": 2, \"value\": 1553}, \"1556\": {\"frequency\": 1, \"value\": 1556}, \"1560\": {\"frequency\": 124, \"value\": 1560}, \"3610\": {\"frequency\": 19, \"value\": 3610}, \"5660\": {\"frequency\": 1, \"value\": 5660}, \"1626\": {\"frequency\": 1, \"value\": 1626}, \"7710\": {\"frequency\": 1, \"value\": 7710}, \"1570\": {\"frequency\": 100, \"value\": 1570}, \"1571\": {\"frequency\": 1, \"value\": 1571}, \"3620\": {\"frequency\": 17, \"value\": 3620}, \"5670\": {\"frequency\": 1, \"value\": 5670}, \"1578\": {\"frequency\": 1, \"value\": 1578}, \"1580\": {\"frequency\": 119, \"value\": 1580}, \"3630\": {\"frequency\": 13, \"value\": 3630}, \"1584\": {\"frequency\": 3, \"value\": 1584}, \"530\": {\"frequency\": 3, \"value\": 530}, \"1212\": {\"frequency\": 1, \"value\": 1212}, \"1590\": {\"frequency\": 104, \"value\": 1590}, \"2313\": {\"frequency\": 1, \"value\": 2313}, \"3640\": {\"frequency\": 13, \"value\": 3640}, \"1594\": {\"frequency\": 1, \"value\": 1594}, \"1600\": {\"frequency\": 109, \"value\": 1600}, \"1601\": {\"frequency\": 1, \"value\": 1601}, \"3650\": {\"frequency\": 19, \"value\": 3650}, \"5700\": {\"frequency\": 1, \"value\": 5700}, \"1606\": {\"frequency\": 1, \"value\": 1606}, \"3655\": {\"frequency\": 1, \"value\": 3655}, \"1608\": {\"frequency\": 3, \"value\": 1608}, \"1610\": {\"frequency\": 112, \"value\": 1610}, \"1611\": {\"frequency\": 1, \"value\": 1611}, \"3660\": {\"frequency\": 10, \"value\": 3660}, \"1613\": {\"frequency\": 1, \"value\": 1613}, \"5710\": {\"frequency\": 1, \"value\": 5710}, \"1615\": {\"frequency\": 1, \"value\": 1615}, \"1620\": {\"frequency\": 99, \"value\": 1620}, \"2452\": {\"frequency\": 1, \"value\": 2452}, \"3670\": {\"frequency\": 15, \"value\": 3670}, \"3672\": {\"frequency\": 1, \"value\": 3672}, \"3674\": {\"frequency\": 1, \"value\": 3674}, \"1628\": {\"frequency\": 1, \"value\": 1628}, \"3002\": {\"frequency\": 1, \"value\": 3002}, \"1630\": {\"frequency\": 94, \"value\": 1630}, \"3680\": {\"frequency\": 21, \"value\": 3680}, \"1296\": {\"frequency\": 1, \"value\": 1296}, \"5730\": {\"frequency\": 1, \"value\": 5730}, \"1852\": {\"frequency\": 2, \"value\": 1852}, \"5510\": {\"frequency\": 1, \"value\": 5510}, \"1639\": {\"frequency\": 1, \"value\": 1639}, \"1640\": {\"frequency\": 112, \"value\": 1640}, \"3004\": {\"frequency\": 1, \"value\": 3004}, \"3690\": {\"frequency\": 12, \"value\": 3690}, \"1643\": {\"frequency\": 1, \"value\": 1643}, \"5740\": {\"frequency\": 1, \"value\": 5740}, \"1646\": {\"frequency\": 3, \"value\": 1646}, \"3695\": {\"frequency\": 1, \"value\": 3695}, \"1650\": {\"frequency\": 117, \"value\": 1650}, \"1651\": {\"frequency\": 2, \"value\": 1651}, \"3700\": {\"frequency\": 18, \"value\": 3700}, \"1982\": {\"frequency\": 1, \"value\": 1982}, \"1654\": {\"frequency\": 2, \"value\": 1654}, \"1656\": {\"frequency\": 1, \"value\": 1656}, \"1657\": {\"frequency\": 1, \"value\": 1657}, \"1658\": {\"frequency\": 1, \"value\": 1658}, \"1252\": {\"frequency\": 1, \"value\": 1252}, \"1660\": {\"frequency\": 129, \"value\": 1660}, \"3710\": {\"frequency\": 10, \"value\": 3710}, \"5760\": {\"frequency\": 1, \"value\": 5760}, \"3691\": {\"frequency\": 1, \"value\": 3691}, \"3056\": {\"frequency\": 1, \"value\": 3056}, \"1670\": {\"frequency\": 109, \"value\": 1670}, \"3720\": {\"frequency\": 23, \"value\": 3720}, \"5770\": {\"frequency\": 3, \"value\": 5770}, \"1676\": {\"frequency\": 1, \"value\": 1676}, \"962\": {\"frequency\": 1, \"value\": 962}, \"5774\": {\"frequency\": 1, \"value\": 5774}, \"1679\": {\"frequency\": 1, \"value\": 1679}, \"1680\": {\"frequency\": 116, \"value\": 1680}, \"3730\": {\"frequency\": 16, \"value\": 3730}, \"5780\": {\"frequency\": 2, \"value\": 5780}, \"1689\": {\"frequency\": 1, \"value\": 1689}, \"1690\": {\"frequency\": 110, \"value\": 1690}, \"3740\": {\"frequency\": 17, \"value\": 3740}, \"5790\": {\"frequency\": 2, \"value\": 5790}, \"2672\": {\"frequency\": 1, \"value\": 2672}, \"9890\": {\"frequency\": 1, \"value\": 9890}, \"1700\": {\"frequency\": 108, \"value\": 1700}, \"3750\": {\"frequency\": 10, \"value\": 3750}, \"3753\": {\"frequency\": 1, \"value\": 3753}, \"7850\": {\"frequency\": 1, \"value\": 7850}, \"1710\": {\"frequency\": 93, \"value\": 1710}, \"3760\": {\"frequency\": 18, \"value\": 3760}, \"1992\": {\"frequency\": 1, \"value\": 1992}, \"1714\": {\"frequency\": 3, \"value\": 1714}, \"1715\": {\"frequency\": 1, \"value\": 1715}, \"1720\": {\"frequency\": 125, \"value\": 1720}, \"3770\": {\"frequency\": 13, \"value\": 3770}, \"5820\": {\"frequency\": 1, \"value\": 5820}, \"1726\": {\"frequency\": 1, \"value\": 1726}, \"1728\": {\"frequency\": 1, \"value\": 1728}, \"1730\": {\"frequency\": 100, \"value\": 1730}, \"3780\": {\"frequency\": 14, \"value\": 3780}, \"2678\": {\"frequency\": 1, \"value\": 2678}, \"5830\": {\"frequency\": 1, \"value\": 5830}, \"1313\": {\"frequency\": 1, \"value\": 1313}, \"7880\": {\"frequency\": 1, \"value\": 7880}, \"3786\": {\"frequency\": 1, \"value\": 3786}, \"1740\": {\"frequency\": 115, \"value\": 1740}, \"290\": {\"frequency\": 1, \"value\": 290}, \"3790\": {\"frequency\": 9, \"value\": 3790}, \"5840\": {\"frequency\": 2, \"value\": 5840}, \"1747\": {\"frequency\": 1, \"value\": 1747}, \"5844\": {\"frequency\": 1, \"value\": 5844}, \"1750\": {\"frequency\": 83, \"value\": 1750}, \"3800\": {\"frequency\": 10, \"value\": 3800}, \"5850\": {\"frequency\": 2, \"value\": 5850}, \"1757\": {\"frequency\": 1, \"value\": 1757}, \"1760\": {\"frequency\": 104, \"value\": 1760}, \"3810\": {\"frequency\": 13, \"value\": 3810}, \"1763\": {\"frequency\": 1, \"value\": 1763}, \"1764\": {\"frequency\": 1, \"value\": 1764}, \"1765\": {\"frequency\": 1, \"value\": 1765}, \"1767\": {\"frequency\": 1, \"value\": 1767}, \"1769\": {\"frequency\": 2, \"value\": 1769}, \"1770\": {\"frequency\": 98, \"value\": 1770}, \"3820\": {\"frequency\": 13, \"value\": 3820}, \"3281\": {\"frequency\": 1, \"value\": 3281}, \"1776\": {\"frequency\": 1, \"value\": 1776}, \"1778\": {\"frequency\": 1, \"value\": 1778}, \"1780\": {\"frequency\": 117, \"value\": 1780}, \"3830\": {\"frequency\": 20, \"value\": 3830}, \"3831\": {\"frequency\": 1, \"value\": 3831}, \"1785\": {\"frequency\": 2, \"value\": 1785}, \"2835\": {\"frequency\": 1, \"value\": 2835}, \"1788\": {\"frequency\": 1, \"value\": 1788}, \"1322\": {\"frequency\": 2, \"value\": 1322}, \"1790\": {\"frequency\": 110, \"value\": 1790}, \"3840\": {\"frequency\": 14, \"value\": 3840}, \"1794\": {\"frequency\": 1, \"value\": 1794}, \"3845\": {\"frequency\": 1, \"value\": 3845}, \"1798\": {\"frequency\": 1, \"value\": 1798}, \"3847\": {\"frequency\": 1, \"value\": 3847}, \"1800\": {\"frequency\": 129, \"value\": 1800}, \"3850\": {\"frequency\": 8, \"value\": 3850}, \"1805\": {\"frequency\": 1, \"value\": 1805}, \"1808\": {\"frequency\": 1, \"value\": 1808}, \"1810\": {\"frequency\": 98, \"value\": 1810}, \"1811\": {\"frequency\": 1, \"value\": 1811}, \"3860\": {\"frequency\": 15, \"value\": 3860}, \"1814\": {\"frequency\": 1, \"value\": 1814}, \"2692\": {\"frequency\": 2, \"value\": 2692}, \"1820\": {\"frequency\": 128, \"value\": 1820}, \"3870\": {\"frequency\": 12, \"value\": 3870}, \"1824\": {\"frequency\": 1, \"value\": 1824}, \"1830\": {\"frequency\": 114, \"value\": 1830}, \"3880\": {\"frequency\": 13, \"value\": 3880}, \"1833\": {\"frequency\": 1, \"value\": 1833}, \"5930\": {\"frequency\": 1, \"value\": 5930}, \"2658\": {\"frequency\": 1, \"value\": 2658}, \"1840\": {\"frequency\": 101, \"value\": 1840}, \"3890\": {\"frequency\": 14, \"value\": 3890}, \"5940\": {\"frequency\": 1, \"value\": 5940}, \"1845\": {\"frequency\": 1, \"value\": 1845}, \"1847\": {\"frequency\": 2, \"value\": 1847}, \"10040\": {\"frequency\": 1, \"value\": 10040}, \"1850\": {\"frequency\": 100, \"value\": 1850}, \"3900\": {\"frequency\": 10, \"value\": 3900}, \"3902\": {\"frequency\": 1, \"value\": 3902}, \"8000\": {\"frequency\": 1, \"value\": 8000}, \"3906\": {\"frequency\": 1, \"value\": 3906}, \"1860\": {\"frequency\": 91, \"value\": 1860}, \"1861\": {\"frequency\": 1, \"value\": 1861}, \"3910\": {\"frequency\": 13, \"value\": 3910}, \"1864\": {\"frequency\": 1, \"value\": 1864}, \"8010\": {\"frequency\": 1, \"value\": 8010}, \"3915\": {\"frequency\": 1, \"value\": 3915}, \"1870\": {\"frequency\": 96, \"value\": 1870}, \"1677\": {\"frequency\": 2, \"value\": 1677}, \"3920\": {\"frequency\": 17, \"value\": 3920}, \"6110\": {\"frequency\": 1, \"value\": 6110}, \"8020\": {\"frequency\": 1, \"value\": 8020}, \"1678\": {\"frequency\": 1, \"value\": 1678}, \"1880\": {\"frequency\": 90, \"value\": 1880}, \"3930\": {\"frequency\": 11, \"value\": 3930}, \"3931\": {\"frequency\": 1, \"value\": 3931}, \"5450\": {\"frequency\": 2, \"value\": 5450}, \"3045\": {\"frequency\": 1, \"value\": 3045}, \"1889\": {\"frequency\": 1, \"value\": 1889}, \"1890\": {\"frequency\": 98, \"value\": 1890}, \"3940\": {\"frequency\": 8, \"value\": 3940}, \"5990\": {\"frequency\": 2, \"value\": 5990}, \"1899\": {\"frequency\": 1, \"value\": 1899}, \"1900\": {\"frequency\": 117, \"value\": 1900}, \"3950\": {\"frequency\": 13, \"value\": 3950}, \"1904\": {\"frequency\": 1, \"value\": 1904}, \"2382\": {\"frequency\": 1, \"value\": 2382}, \"1909\": {\"frequency\": 1, \"value\": 1909}, \"1910\": {\"frequency\": 81, \"value\": 1910}, \"4073\": {\"frequency\": 1, \"value\": 4073}, \"1912\": {\"frequency\": 1, \"value\": 1912}, \"3732\": {\"frequency\": 1, \"value\": 3732}, \"1914\": {\"frequency\": 2, \"value\": 1914}, \"1920\": {\"frequency\": 94, \"value\": 1920}, \"1921\": {\"frequency\": 1, \"value\": 1921}, \"3970\": {\"frequency\": 8, \"value\": 3970}, \"5100\": {\"frequency\": 1, \"value\": 5100}, \"1930\": {\"frequency\": 88, \"value\": 1930}, \"3980\": {\"frequency\": 6, \"value\": 3980}, \"6030\": {\"frequency\": 1, \"value\": 6030}, \"1936\": {\"frequency\": 2, \"value\": 1936}, \"3065\": {\"frequency\": 1, \"value\": 3065}, \"1940\": {\"frequency\": 101, \"value\": 1940}, \"3990\": {\"frequency\": 16, \"value\": 3990}, \"6040\": {\"frequency\": 1, \"value\": 6040}, \"1946\": {\"frequency\": 1, \"value\": 1946}, \"6810\": {\"frequency\": 1, \"value\": 6810}, \"1950\": {\"frequency\": 92, \"value\": 1950}, \"4000\": {\"frequency\": 7, \"value\": 4000}, \"9200\": {\"frequency\": 1, \"value\": 9200}, \"6050\": {\"frequency\": 2, \"value\": 6050}, \"6055\": {\"frequency\": 1, \"value\": 6055}, \"1960\": {\"frequency\": 110, \"value\": 1960}, \"1961\": {\"frequency\": 1, \"value\": 1961}, \"4010\": {\"frequency\": 12, \"value\": 4010}, \"1964\": {\"frequency\": 1, \"value\": 1964}, \"1352\": {\"frequency\": 1, \"value\": 1352}, \"1970\": {\"frequency\": 84, \"value\": 1970}, \"4020\": {\"frequency\": 9, \"value\": 4020}, \"2718\": {\"frequency\": 1, \"value\": 2718}, \"6070\": {\"frequency\": 2, \"value\": 6070}, \"1975\": {\"frequency\": 1, \"value\": 1975}, \"1979\": {\"frequency\": 1, \"value\": 1979}, \"1980\": {\"frequency\": 105, \"value\": 1980}, \"1981\": {\"frequency\": 2, \"value\": 1981}, \"4030\": {\"frequency\": 11, \"value\": 4030}, \"1983\": {\"frequency\": 1, \"value\": 1983}, \"1984\": {\"frequency\": 3, \"value\": 1984}, \"1986\": {\"frequency\": 1, \"value\": 1986}, \"1987\": {\"frequency\": 1, \"value\": 1987}, \"6085\": {\"frequency\": 1, \"value\": 6085}, \"1990\": {\"frequency\": 85, \"value\": 1990}, \"4040\": {\"frequency\": 14, \"value\": 4040}, \"1995\": {\"frequency\": 4, \"value\": 1995}, \"1996\": {\"frequency\": 1, \"value\": 1996}, \"5960\": {\"frequency\": 2, \"value\": 5960}, \"2000\": {\"frequency\": 103, \"value\": 2000}, \"4050\": {\"frequency\": 8, \"value\": 4050}, \"2005\": {\"frequency\": 1, \"value\": 2005}, \"2007\": {\"frequency\": 1, \"value\": 2007}, \"2008\": {\"frequency\": 1, \"value\": 2008}, \"2009\": {\"frequency\": 2, \"value\": 2009}, \"2010\": {\"frequency\": 77, \"value\": 2010}, \"4060\": {\"frequency\": 13, \"value\": 4060}, \"2014\": {\"frequency\": 1, \"value\": 2014}, \"2015\": {\"frequency\": 1, \"value\": 2015}, \"4065\": {\"frequency\": 1, \"value\": 4065}, \"2019\": {\"frequency\": 1, \"value\": 2019}, \"2020\": {\"frequency\": 104, \"value\": 2020}, \"4070\": {\"frequency\": 10, \"value\": 4070}, \"5720\": {\"frequency\": 1, \"value\": 5720}, \"2025\": {\"frequency\": 1, \"value\": 2025}, \"2026\": {\"frequency\": 1, \"value\": 2026}, \"2029\": {\"frequency\": 1, \"value\": 2029}, \"2030\": {\"frequency\": 78, \"value\": 2030}, \"2031\": {\"frequency\": 1, \"value\": 2031}, \"4080\": {\"frequency\": 7, \"value\": 4080}, \"2034\": {\"frequency\": 1, \"value\": 2034}, \"4083\": {\"frequency\": 1, \"value\": 4083}, \"2038\": {\"frequency\": 1, \"value\": 2038}, \"2040\": {\"frequency\": 104, \"value\": 2040}, \"4090\": {\"frequency\": 8, \"value\": 4090}, \"2044\": {\"frequency\": 1, \"value\": 2044}, \"1365\": {\"frequency\": 1, \"value\": 1365}}, \"mean\": 2079.899736269819}, \"floors\": {\"complete\": true, \"numeric\": false, \"num_unique\": 6, \"num_undefined\": 0, \"progress\": 1.0, \"frequent_items\": {\"1.5\": {\"frequency\": 1910, \"value\": \"1.5\"}, \"1\": {\"frequency\": 10680, \"value\": \"1\"}, \"3\": {\"frequency\": 613, \"value\": \"3\"}, \"2\": {\"frequency\": 8241, \"value\": \"2\"}, \"3.5\": {\"frequency\": 8, \"value\": \"3.5\"}, \"2.5\": {\"frequency\": 161, \"value\": \"2.5\"}}, \"size\": 21613}, \"sqft_lot\": {\"std\": 41419.55327262772, \"complete\": true, \"min\": 520.0, \"max\": 1651359.0, \"quantile\": [520.0, 1017.0, 1189.0, 1298.0, 1500.0, 1804.0, 2167.0, 2530.0, 2867.0, 3060.0, 3330.0, 3562.0, 3720.0, 3862.0, 4000.0, 4018.0, 4120.0, 4270.0, 4410.0, 4502.0, 4640.0, 4800.0, 4869.0, 5000.0, 5000.0, 5043.0, 5120.0, 5225.0, 5375.0, 5500.0, 5612.0, 5750.0, 5863.0, 6000.0, 6000.0, 6122.0, 6250.0, 6360.0, 6497.0, 6602.0, 6750.0, 6879.0, 7000.0, 7129.0, 7200.0, 7210.0, 7287.0, 7350.0, 7471.0, 7526.0, 7620.0, 7700.0, 7790.0, 7880.0, 7992.0, 8072.0, 8148.0, 8250.0, 8366.0, 8424.0, 8526.0, 8636.0, 8775.0, 8925.0, 9023.0, 9180.0, 9331.0, 9500.0, 9600.0, 9689.0, 9800.0, 9957.0, 10090.0, 10247.0, 10452.0, 10700.0, 10920.0, 11220.0, 11523.0, 11900.0, 12193.0, 12593.0, 13068.0, 13503.0, 14212.0, 15003.0, 15744.0, 16650.0, 18000.0, 19680.0, 21374.0, 24192.0, 28298.0, 34982.0, 37800.0, 43560.0, 50965.0, 67369.0, 107362.0, 212137.0, 1651359.0], \"median\": 7620.0, \"numeric\": true, \"num_unique\": 9747, \"num_undefined\": 0, \"var\": 1715579393.304046, \"progress\": 1.0, \"size\": 21613, \"frequent_items\": {\"57346\": {\"frequency\": 1, \"value\": 57346}, \"8195\": {\"frequency\": 2, \"value\": 8195}, \"8196\": {\"frequency\": 2, \"value\": 8196}, \"8200\": {\"frequency\": 11, \"value\": 8200}, \"8201\": {\"frequency\": 2, \"value\": 8201}, \"6829\": {\"frequency\": 2, \"value\": 6829}, \"16400\": {\"frequency\": 2, \"value\": 16400}, \"8214\": {\"frequency\": 2, \"value\": 8214}, \"8215\": {\"frequency\": 4, \"value\": 8215}, \"8220\": {\"frequency\": 6, \"value\": 8220}, \"8223\": {\"frequency\": 4, \"value\": 8223}, \"8225\": {\"frequency\": 3, \"value\": 8225}, \"8227\": {\"frequency\": 3, \"value\": 8227}, \"8230\": {\"frequency\": 3, \"value\": 8230}, \"8232\": {\"frequency\": 2, \"value\": 8232}, \"8234\": {\"frequency\": 4, \"value\": 8234}, \"8235\": {\"frequency\": 2, \"value\": 8235}, \"8239\": {\"frequency\": 3, \"value\": 8239}, \"8240\": {\"frequency\": 8, \"value\": 8240}, \"4366\": {\"frequency\": 3, \"value\": 4366}, \"8244\": {\"frequency\": 2, \"value\": 8244}, \"9566\": {\"frequency\": 3, \"value\": 9566}, \"8249\": {\"frequency\": 1, \"value\": 8249}, \"8250\": {\"frequency\": 34, \"value\": 8250}, \"8251\": {\"frequency\": 2, \"value\": 8251}, \"8252\": {\"frequency\": 3, \"value\": 8252}, \"8254\": {\"frequency\": 3, \"value\": 8254}, \"8255\": {\"frequency\": 2, \"value\": 8255}, \"8256\": {\"frequency\": 2, \"value\": 8256}, \"8261\": {\"frequency\": 3, \"value\": 8261}, \"49222\": {\"frequency\": 4, \"value\": 49222}, \"1377\": {\"frequency\": 3, \"value\": 1377}, \"8266\": {\"frequency\": 2, \"value\": 8266}, \"8268\": {\"frequency\": 2, \"value\": 8268}, \"8270\": {\"frequency\": 2, \"value\": 8270}, \"8272\": {\"frequency\": 2, \"value\": 8272}, \"8276\": {\"frequency\": 4, \"value\": 8276}, \"8279\": {\"frequency\": 3, \"value\": 8279}, \"8280\": {\"frequency\": 7, \"value\": 8280}, \"8281\": {\"frequency\": 4, \"value\": 8281}, \"8282\": {\"frequency\": 4, \"value\": 8282}, \"8284\": {\"frequency\": 4, \"value\": 8284}, \"8287\": {\"frequency\": 2, \"value\": 8287}, \"8208\": {\"frequency\": 4, \"value\": 8208}, \"8290\": {\"frequency\": 4, \"value\": 8290}, \"221284\": {\"frequency\": 1, \"value\": 221284}, \"8296\": {\"frequency\": 3, \"value\": 8296}, \"8300\": {\"frequency\": 6, \"value\": 8300}, \"8301\": {\"frequency\": 5, \"value\": 8301}, \"8303\": {\"frequency\": 3, \"value\": 8303}, \"8304\": {\"frequency\": 2, \"value\": 8304}, \"1384\": {\"frequency\": 2, \"value\": 1384}, \"8306\": {\"frequency\": 2, \"value\": 8306}, \"8307\": {\"frequency\": 2, \"value\": 8307}, \"8308\": {\"frequency\": 5, \"value\": 8308}, \"6005\": {\"frequency\": 4, \"value\": 6005}, \"8312\": {\"frequency\": 2, \"value\": 8312}, \"8313\": {\"frequency\": 2, \"value\": 8313}, \"8314\": {\"frequency\": 2, \"value\": 8314}, \"8315\": {\"frequency\": 2, \"value\": 8315}, \"8316\": {\"frequency\": 9, \"value\": 8316}, \"8320\": {\"frequency\": 7, \"value\": 8320}, \"8321\": {\"frequency\": 2, \"value\": 8321}, \"1387\": {\"frequency\": 2, \"value\": 1387}, \"8325\": {\"frequency\": 5, \"value\": 8325}, \"8327\": {\"frequency\": 2, \"value\": 8327}, \"8329\": {\"frequency\": 2, \"value\": 8329}, \"8330\": {\"frequency\": 2, \"value\": 8330}, \"8331\": {\"frequency\": 2, \"value\": 8331}, \"98445\": {\"frequency\": 4, \"value\": 98445}, \"16526\": {\"frequency\": 2, \"value\": 16526}, \"8336\": {\"frequency\": 4, \"value\": 8336}, \"8338\": {\"frequency\": 2, \"value\": 8338}, \"8340\": {\"frequency\": 2, \"value\": 8340}, \"8342\": {\"frequency\": 3, \"value\": 8342}, \"8345\": {\"frequency\": 2, \"value\": 8345}, \"8346\": {\"frequency\": 2, \"value\": 8346}, \"57499\": {\"frequency\": 7, \"value\": 57499}, \"8354\": {\"frequency\": 2, \"value\": 8354}, \"8360\": {\"frequency\": 3, \"value\": 8360}, \"8362\": {\"frequency\": 2, \"value\": 8362}, \"8364\": {\"frequency\": 5, \"value\": 8364}, \"8366\": {\"frequency\": 4, \"value\": 8366}, \"8370\": {\"frequency\": 4, \"value\": 8370}, \"8372\": {\"frequency\": 4, \"value\": 8372}, \"8374\": {\"frequency\": 2, \"value\": 8374}, \"8375\": {\"frequency\": 4, \"value\": 8375}, \"8376\": {\"frequency\": 2, \"value\": 8376}, \"9588\": {\"frequency\": 3, \"value\": 9588}, \"8378\": {\"frequency\": 5, \"value\": 8378}, \"8379\": {\"frequency\": 2, \"value\": 8379}, \"8382\": {\"frequency\": 4, \"value\": 8382}, \"8384\": {\"frequency\": 6, \"value\": 8384}, \"8385\": {\"frequency\": 2, \"value\": 8385}, \"8390\": {\"frequency\": 2, \"value\": 8390}, \"8391\": {\"frequency\": 2, \"value\": 8391}, \"8392\": {\"frequency\": 2, \"value\": 8392}, \"8395\": {\"frequency\": 4, \"value\": 8395}, \"8398\": {\"frequency\": 2, \"value\": 8398}, \"8399\": {\"frequency\": 2, \"value\": 8399}, \"8400\": {\"frequency\": 111, \"value\": 8400}, \"8401\": {\"frequency\": 3, \"value\": 8401}, \"8402\": {\"frequency\": 2, \"value\": 8402}, \"8404\": {\"frequency\": 3, \"value\": 8404}, \"16600\": {\"frequency\": 2, \"value\": 16600}, \"8409\": {\"frequency\": 2, \"value\": 8409}, \"8410\": {\"frequency\": 6, \"value\": 8410}, \"16603\": {\"frequency\": 1, \"value\": 16603}, \"8412\": {\"frequency\": 4, \"value\": 8412}, \"8414\": {\"frequency\": 3, \"value\": 8414}, \"49375\": {\"frequency\": 1, \"value\": 49375}, \"106722\": {\"frequency\": 2, \"value\": 106722}, \"8423\": {\"frequency\": 2, \"value\": 8423}, \"8424\": {\"frequency\": 8, \"value\": 8424}, \"8426\": {\"frequency\": 3, \"value\": 8426}, \"16619\": {\"frequency\": 1, \"value\": 16619}, \"8429\": {\"frequency\": 2, \"value\": 8429}, \"9597\": {\"frequency\": 2, \"value\": 9597}, \"8432\": {\"frequency\": 4, \"value\": 8432}, \"8433\": {\"frequency\": 2, \"value\": 8433}, \"8436\": {\"frequency\": 3, \"value\": 8436}, \"8438\": {\"frequency\": 3, \"value\": 8438}, \"8440\": {\"frequency\": 2, \"value\": 8440}, \"8442\": {\"frequency\": 6, \"value\": 8442}, \"1407\": {\"frequency\": 5, \"value\": 1407}, \"24829\": {\"frequency\": 2, \"value\": 24829}, \"8447\": {\"frequency\": 2, \"value\": 8447}, \"8448\": {\"frequency\": 6, \"value\": 8448}, \"8449\": {\"frequency\": 3, \"value\": 8449}, \"8450\": {\"frequency\": 14, \"value\": 8450}, \"8451\": {\"frequency\": 3, \"value\": 8451}, \"8454\": {\"frequency\": 2, \"value\": 8454}, \"16650\": {\"frequency\": 2, \"value\": 16650}, \"8459\": {\"frequency\": 2, \"value\": 8459}, \"8460\": {\"frequency\": 2, \"value\": 8460}, \"8465\": {\"frequency\": 2, \"value\": 8465}, \"8467\": {\"frequency\": 2, \"value\": 8467}, \"8469\": {\"frequency\": 2, \"value\": 8469}, \"8470\": {\"frequency\": 13, \"value\": 8470}, \"13700\": {\"frequency\": 4, \"value\": 13700}, \"8474\": {\"frequency\": 3, \"value\": 8474}, \"8475\": {\"frequency\": 4, \"value\": 8475}, \"8476\": {\"frequency\": 2, \"value\": 8476}, \"8480\": {\"frequency\": 7, \"value\": 8480}, \"8481\": {\"frequency\": 2, \"value\": 8481}, \"41250\": {\"frequency\": 2, \"value\": 41250}, \"16679\": {\"frequency\": 2, \"value\": 16679}, \"8490\": {\"frequency\": 2, \"value\": 8490}, \"8491\": {\"frequency\": 2, \"value\": 8491}, \"8494\": {\"frequency\": 3, \"value\": 8494}, \"8498\": {\"frequency\": 3, \"value\": 8498}, \"8499\": {\"frequency\": 2, \"value\": 8499}, \"8500\": {\"frequency\": 19, \"value\": 8500}, \"8501\": {\"frequency\": 3, \"value\": 8501}, \"8504\": {\"frequency\": 8, \"value\": 8504}, \"8505\": {\"frequency\": 14, \"value\": 8505}, \"8509\": {\"frequency\": 3, \"value\": 8509}, \"8510\": {\"frequency\": 2, \"value\": 8510}, \"8511\": {\"frequency\": 2, \"value\": 8511}, \"8512\": {\"frequency\": 4, \"value\": 8512}, \"8514\": {\"frequency\": 2, \"value\": 8514}, \"12013\": {\"frequency\": 2, \"value\": 12013}, \"74052\": {\"frequency\": 4, \"value\": 74052}, \"8517\": {\"frequency\": 1, \"value\": 8517}, \"8518\": {\"frequency\": 3, \"value\": 8518}, \"8519\": {\"frequency\": 2, \"value\": 8519}, \"8520\": {\"frequency\": 6, \"value\": 8520}, \"8521\": {\"frequency\": 3, \"value\": 8521}, \"8526\": {\"frequency\": 2, \"value\": 8526}, \"8528\": {\"frequency\": 5, \"value\": 8528}, \"8529\": {\"frequency\": 2, \"value\": 8529}, \"8530\": {\"frequency\": 2, \"value\": 8530}, \"8532\": {\"frequency\": 2, \"value\": 8532}, \"90169\": {\"frequency\": 2, \"value\": 90169}, \"24920\": {\"frequency\": 1, \"value\": 24920}, \"8540\": {\"frequency\": 8, \"value\": 8540}, \"8541\": {\"frequency\": 2, \"value\": 8541}, \"8544\": {\"frequency\": 2, \"value\": 8544}, \"8545\": {\"frequency\": 3, \"value\": 8545}, \"8547\": {\"frequency\": 3, \"value\": 8547}, \"8548\": {\"frequency\": 3, \"value\": 8548}, \"8549\": {\"frequency\": 3, \"value\": 8549}, \"8550\": {\"frequency\": 6, \"value\": 8550}, \"8555\": {\"frequency\": 2, \"value\": 8555}, \"8556\": {\"frequency\": 3, \"value\": 8556}, \"8558\": {\"frequency\": 3, \"value\": 8558}, \"8560\": {\"frequency\": 11, \"value\": 8560}, \"8564\": {\"frequency\": 2, \"value\": 8564}, \"4158\": {\"frequency\": 2, \"value\": 4158}, \"8570\": {\"frequency\": 3, \"value\": 8570}, \"8571\": {\"frequency\": 4, \"value\": 8571}, \"8572\": {\"frequency\": 3, \"value\": 8572}, \"8573\": {\"frequency\": 2, \"value\": 8573}, \"8576\": {\"frequency\": 2, \"value\": 8576}, \"8579\": {\"frequency\": 2, \"value\": 8579}, \"8580\": {\"frequency\": 19, \"value\": 8580}, \"8581\": {\"frequency\": 3, \"value\": 8581}, \"8584\": {\"frequency\": 2, \"value\": 8584}, \"8587\": {\"frequency\": 2, \"value\": 8587}, \"8592\": {\"frequency\": 2, \"value\": 8592}, \"8600\": {\"frequency\": 7, \"value\": 8600}, \"8601\": {\"frequency\": 3, \"value\": 8601}, \"16800\": {\"frequency\": 4, \"value\": 16800}, \"8610\": {\"frequency\": 5, \"value\": 8610}, \"8611\": {\"frequency\": 2, \"value\": 8611}, \"8612\": {\"frequency\": 2, \"value\": 8612}, \"8613\": {\"frequency\": 2, \"value\": 8613}, \"25000\": {\"frequency\": 2, \"value\": 25000}, \"8621\": {\"frequency\": 2, \"value\": 8621}, \"8622\": {\"frequency\": 4, \"value\": 8622}, \"8624\": {\"frequency\": 2, \"value\": 8624}, \"8625\": {\"frequency\": 17, \"value\": 8625}, \"8628\": {\"frequency\": 2, \"value\": 8628}, \"1438\": {\"frequency\": 2, \"value\": 1438}, \"8630\": {\"frequency\": 2, \"value\": 8630}, \"8631\": {\"frequency\": 2, \"value\": 8631}, \"8632\": {\"frequency\": 2, \"value\": 8632}, \"8636\": {\"frequency\": 8, \"value\": 8636}, \"8640\": {\"frequency\": 16, \"value\": 8640}, \"8641\": {\"frequency\": 2, \"value\": 8641}, \"8642\": {\"frequency\": 3, \"value\": 8642}, \"213444\": {\"frequency\": 3, \"value\": 213444}, \"8645\": {\"frequency\": 8, \"value\": 8645}, \"8653\": {\"frequency\": 3, \"value\": 8653}, \"11000\": {\"frequency\": 12, \"value\": 11000}, \"8658\": {\"frequency\": 2, \"value\": 8658}, \"8659\": {\"frequency\": 2, \"value\": 8659}, \"8660\": {\"frequency\": 2, \"value\": 8660}, \"8661\": {\"frequency\": 2, \"value\": 8661}, \"9636\": {\"frequency\": 4, \"value\": 9636}, \"8666\": {\"frequency\": 2, \"value\": 8666}, \"8667\": {\"frequency\": 3, \"value\": 8667}, \"8670\": {\"frequency\": 2, \"value\": 8670}, \"8676\": {\"frequency\": 2, \"value\": 8676}, \"8680\": {\"frequency\": 6, \"value\": 8680}, \"8682\": {\"frequency\": 3, \"value\": 8682}, \"8684\": {\"frequency\": 2, \"value\": 8684}, \"8685\": {\"frequency\": 3, \"value\": 8685}, \"8686\": {\"frequency\": 2, \"value\": 8686}, \"8690\": {\"frequency\": 5, \"value\": 8690}, \"4179\": {\"frequency\": 2, \"value\": 4179}, \"8698\": {\"frequency\": 2, \"value\": 8698}, \"8700\": {\"frequency\": 15, \"value\": 8700}, \"8701\": {\"frequency\": 2, \"value\": 8701}, \"8706\": {\"frequency\": 3, \"value\": 8706}, \"8709\": {\"frequency\": 2, \"value\": 8709}, \"8710\": {\"frequency\": 7, \"value\": 8710}, \"8711\": {\"frequency\": 2, \"value\": 8711}, \"8712\": {\"frequency\": 7, \"value\": 8712}, \"1452\": {\"frequency\": 4, \"value\": 1452}, \"16909\": {\"frequency\": 2, \"value\": 16909}, \"8720\": {\"frequency\": 3, \"value\": 8720}, \"8721\": {\"frequency\": 2, \"value\": 8721}, \"8722\": {\"frequency\": 2, \"value\": 8722}, \"8725\": {\"frequency\": 2, \"value\": 8725}, \"8726\": {\"frequency\": 2, \"value\": 8726}, \"54014\": {\"frequency\": 5, \"value\": 54014}, \"8734\": {\"frequency\": 3, \"value\": 8734}, \"8737\": {\"frequency\": 3, \"value\": 8737}, \"8738\": {\"frequency\": 3, \"value\": 8738}, \"8740\": {\"frequency\": 2, \"value\": 8740}, \"8744\": {\"frequency\": 1, \"value\": 8744}, \"5353\": {\"frequency\": 3, \"value\": 5353}, \"16940\": {\"frequency\": 2, \"value\": 16940}, \"9650\": {\"frequency\": 3, \"value\": 9650}, \"8750\": {\"frequency\": 19, \"value\": 8750}, \"8755\": {\"frequency\": 5, \"value\": 8755}, \"8760\": {\"frequency\": 5, \"value\": 8760}, \"8763\": {\"frequency\": 2, \"value\": 8763}, \"8764\": {\"frequency\": 3, \"value\": 8764}, \"8765\": {\"frequency\": 2, \"value\": 8765}, \"8767\": {\"frequency\": 3, \"value\": 8767}, \"98881\": {\"frequency\": 2, \"value\": 98881}, \"8770\": {\"frequency\": 2, \"value\": 8770}, \"8775\": {\"frequency\": 14, \"value\": 8775}, \"8778\": {\"frequency\": 3, \"value\": 8778}, \"8786\": {\"frequency\": 3, \"value\": 8786}, \"16980\": {\"frequency\": 1, \"value\": 16980}, \"8792\": {\"frequency\": 2, \"value\": 8792}, \"8797\": {\"frequency\": 3, \"value\": 8797}, \"8800\": {\"frequency\": 42, \"value\": 8800}, \"17000\": {\"frequency\": 2, \"value\": 17000}, \"1468\": {\"frequency\": 2, \"value\": 1468}, \"8811\": {\"frequency\": 1, \"value\": 8811}, \"8813\": {\"frequency\": 2, \"value\": 8813}, \"8814\": {\"frequency\": 2, \"value\": 8814}, \"8816\": {\"frequency\": 2, \"value\": 8816}, \"8817\": {\"frequency\": 3, \"value\": 8817}, \"8820\": {\"frequency\": 12, \"value\": 8820}, \"9663\": {\"frequency\": 2, \"value\": 9663}, \"8837\": {\"frequency\": 2, \"value\": 8837}, \"8840\": {\"frequency\": 5, \"value\": 8840}, \"649\": {\"frequency\": 2, \"value\": 649}, \"8848\": {\"frequency\": 2, \"value\": 8848}, \"8850\": {\"frequency\": 3, \"value\": 8850}, \"1475\": {\"frequency\": 2, \"value\": 1475}, \"8853\": {\"frequency\": 3, \"value\": 8853}, \"8856\": {\"frequency\": 5, \"value\": 8856}, \"25245\": {\"frequency\": 1, \"value\": 25245}, \"8862\": {\"frequency\": 2, \"value\": 8862}, \"8863\": {\"frequency\": 2, \"value\": 8863}, \"8865\": {\"frequency\": 2, \"value\": 8865}, \"66211\": {\"frequency\": 2, \"value\": 66211}, \"8868\": {\"frequency\": 2, \"value\": 8868}, \"8874\": {\"frequency\": 3, \"value\": 8874}, \"8875\": {\"frequency\": 3, \"value\": 8875}, \"8876\": {\"frequency\": 2, \"value\": 8876}, \"8879\": {\"frequency\": 3, \"value\": 8879}, \"8880\": {\"frequency\": 2, \"value\": 8880}, \"9672\": {\"frequency\": 4, \"value\": 9672}, \"690\": {\"frequency\": 2, \"value\": 690}, \"8885\": {\"frequency\": 2, \"value\": 8885}, \"8886\": {\"frequency\": 2, \"value\": 8886}, \"16500\": {\"frequency\": 3, \"value\": 16500}, \"8890\": {\"frequency\": 3, \"value\": 8890}, \"8892\": {\"frequency\": 2, \"value\": 8892}, \"8893\": {\"frequency\": 2, \"value\": 8893}, \"871200\": {\"frequency\": 2, \"value\": 871200}, \"33474\": {\"frequency\": 1, \"value\": 33474}, \"1483\": {\"frequency\": 2, \"value\": 1483}, \"8900\": {\"frequency\": 4, \"value\": 8900}, \"11041\": {\"frequency\": 2, \"value\": 11041}, \"8906\": {\"frequency\": 7, \"value\": 8906}, \"17100\": {\"frequency\": 2, \"value\": 17100}, \"8909\": {\"frequency\": 2, \"value\": 8909}, \"8910\": {\"frequency\": 9, \"value\": 8910}, \"6025\": {\"frequency\": 2, \"value\": 6025}, \"8913\": {\"frequency\": 2, \"value\": 8913}, \"8920\": {\"frequency\": 2, \"value\": 8920}, \"8921\": {\"frequency\": 2, \"value\": 8921}, \"8924\": {\"frequency\": 2, \"value\": 8924}, \"8925\": {\"frequency\": 13, \"value\": 8925}, \"9680\": {\"frequency\": 10, \"value\": 9680}, \"8936\": {\"frequency\": 2, \"value\": 8936}, \"745\": {\"frequency\": 2, \"value\": 745}, \"115434\": {\"frequency\": 3, \"value\": 115434}, \"747\": {\"frequency\": 2, \"value\": 747}, \"8941\": {\"frequency\": 2, \"value\": 8941}, \"750\": {\"frequency\": 2, \"value\": 750}, \"8944\": {\"frequency\": 2, \"value\": 8944}, \"8947\": {\"frequency\": 2, \"value\": 8947}, \"8950\": {\"frequency\": 2, \"value\": 8950}, \"230868\": {\"frequency\": 2, \"value\": 230868}, \"8955\": {\"frequency\": 2, \"value\": 8955}, \"8959\": {\"frequency\": 1, \"value\": 8959}, \"8960\": {\"frequency\": 12, \"value\": 8960}, \"139392\": {\"frequency\": 2, \"value\": 139392}, \"8968\": {\"frequency\": 4, \"value\": 8968}, \"8970\": {\"frequency\": 6, \"value\": 8970}, \"779\": {\"frequency\": 2, \"value\": 779}, \"8975\": {\"frequency\": 2, \"value\": 8975}, \"8976\": {\"frequency\": 4, \"value\": 8976}, \"218252\": {\"frequency\": 1, \"value\": 218252}, \"17172\": {\"frequency\": 2, \"value\": 17172}, \"12420\": {\"frequency\": 4, \"value\": 12420}, \"8990\": {\"frequency\": 3, \"value\": 8990}, \"8991\": {\"frequency\": 2, \"value\": 8991}, \"800\": {\"frequency\": 3, \"value\": 800}, \"8994\": {\"frequency\": 2, \"value\": 8994}, \"8995\": {\"frequency\": 2, \"value\": 8995}, \"8996\": {\"frequency\": 2, \"value\": 8996}, \"9000\": {\"frequency\": 93, \"value\": 9000}, \"9001\": {\"frequency\": 2, \"value\": 9001}, \"9002\": {\"frequency\": 2, \"value\": 9002}, \"9003\": {\"frequency\": 3, \"value\": 9003}, \"9009\": {\"frequency\": 2, \"value\": 9009}, \"9010\": {\"frequency\": 3, \"value\": 9010}, \"9015\": {\"frequency\": 3, \"value\": 9015}, \"17208\": {\"frequency\": 2, \"value\": 17208}, \"19252\": {\"frequency\": 1, \"value\": 19252}, \"1664\": {\"frequency\": 2, \"value\": 1664}, \"12426\": {\"frequency\": 2, \"value\": 12426}, \"123710\": {\"frequency\": 2, \"value\": 123710}, \"9023\": {\"frequency\": 2, \"value\": 9023}, \"9025\": {\"frequency\": 1, \"value\": 9025}, \"835\": {\"frequency\": 2, \"value\": 835}, \"9030\": {\"frequency\": 5, \"value\": 9030}, \"41800\": {\"frequency\": 1, \"value\": 41800}, \"9035\": {\"frequency\": 2, \"value\": 9035}, \"82764\": {\"frequency\": 2, \"value\": 82764}, \"9040\": {\"frequency\": 3, \"value\": 9040}, \"9041\": {\"frequency\": 3, \"value\": 9041}, \"9044\": {\"frequency\": 2, \"value\": 9044}, \"9045\": {\"frequency\": 2, \"value\": 9045}, \"9048\": {\"frequency\": 2, \"value\": 9048}, \"9050\": {\"frequency\": 1, \"value\": 9050}, \"9053\": {\"frequency\": 2, \"value\": 9053}, \"9055\": {\"frequency\": 2, \"value\": 9055}, \"865\": {\"frequency\": 3, \"value\": 865}, \"9065\": {\"frequency\": 2, \"value\": 9065}, \"9066\": {\"frequency\": 2, \"value\": 9066}, \"7617\": {\"frequency\": 3, \"value\": 7617}, \"877\": {\"frequency\": 2, \"value\": 877}, \"6973\": {\"frequency\": 2, \"value\": 6973}, \"9072\": {\"frequency\": 5, \"value\": 9072}, \"5608\": {\"frequency\": 3, \"value\": 5608}, \"9075\": {\"frequency\": 4, \"value\": 9075}, \"9077\": {\"frequency\": 2, \"value\": 9077}, \"886\": {\"frequency\": 2, \"value\": 886}, \"9079\": {\"frequency\": 1, \"value\": 9079}, \"889\": {\"frequency\": 3, \"value\": 889}, \"9083\": {\"frequency\": 3, \"value\": 9083}, \"892\": {\"frequency\": 2, \"value\": 892}, \"9085\": {\"frequency\": 3, \"value\": 9085}, \"9086\": {\"frequency\": 2, \"value\": 9086}, \"9087\": {\"frequency\": 3, \"value\": 9087}, \"9088\": {\"frequency\": 2, \"value\": 9088}, \"9090\": {\"frequency\": 2, \"value\": 9090}, \"9091\": {\"frequency\": 1, \"value\": 9091}, \"900\": {\"frequency\": 2, \"value\": 900}, \"9096\": {\"frequency\": 2, \"value\": 9096}, \"9097\": {\"frequency\": 2, \"value\": 9097}, \"9099\": {\"frequency\": 2, \"value\": 9099}, \"9100\": {\"frequency\": 16, \"value\": 9100}, \"9102\": {\"frequency\": 3, \"value\": 9102}, \"912\": {\"frequency\": 2, \"value\": 912}, \"915\": {\"frequency\": 3, \"value\": 915}, \"17300\": {\"frequency\": 2, \"value\": 17300}, \"920\": {\"frequency\": 2, \"value\": 920}, \"923\": {\"frequency\": 2, \"value\": 923}, \"25500\": {\"frequency\": 2, \"value\": 25500}, \"926\": {\"frequency\": 2, \"value\": 926}, \"9119\": {\"frequency\": 1, \"value\": 9119}, \"9120\": {\"frequency\": 7, \"value\": 9120}, \"929\": {\"frequency\": 2, \"value\": 929}, \"8347\": {\"frequency\": 2, \"value\": 8347}, \"932\": {\"frequency\": 2, \"value\": 932}, \"9125\": {\"frequency\": 2, \"value\": 9125}, \"934\": {\"frequency\": 3, \"value\": 934}, \"936\": {\"frequency\": 3, \"value\": 936}, \"9130\": {\"frequency\": 3, \"value\": 9130}, \"9132\": {\"frequency\": 2, \"value\": 9132}, \"941\": {\"frequency\": 3, \"value\": 941}, \"50094\": {\"frequency\": 4, \"value\": 50094}, \"9135\": {\"frequency\": 6, \"value\": 9135}, \"944\": {\"frequency\": 2, \"value\": 944}, \"9139\": {\"frequency\": 2, \"value\": 9139}, \"9140\": {\"frequency\": 3, \"value\": 9140}, \"17334\": {\"frequency\": 3, \"value\": 17334}, \"951\": {\"frequency\": 2, \"value\": 951}, \"9144\": {\"frequency\": 2, \"value\": 9144}, \"9145\": {\"frequency\": 2, \"value\": 9145}, \"954\": {\"frequency\": 2, \"value\": 954}, \"9147\": {\"frequency\": 5, \"value\": 9147}, \"9148\": {\"frequency\": 2, \"value\": 9148}, \"9150\": {\"frequency\": 7, \"value\": 9150}, \"960\": {\"frequency\": 2, \"value\": 960}, \"9153\": {\"frequency\": 2, \"value\": 9153}, \"17349\": {\"frequency\": 2, \"value\": 17349}, \"9158\": {\"frequency\": 2, \"value\": 9158}, \"7535\": {\"frequency\": 2, \"value\": 7535}, \"9160\": {\"frequency\": 2, \"value\": 9160}, \"9162\": {\"frequency\": 2, \"value\": 9162}, \"9163\": {\"frequency\": 7, \"value\": 9163}, \"222156\": {\"frequency\": 2, \"value\": 222156}, \"974\": {\"frequency\": 2, \"value\": 974}, \"977\": {\"frequency\": 2, \"value\": 977}, \"9170\": {\"frequency\": 3, \"value\": 9170}, \"979\": {\"frequency\": 2, \"value\": 979}, \"33750\": {\"frequency\": 2, \"value\": 33750}, \"983\": {\"frequency\": 4, \"value\": 983}, \"9176\": {\"frequency\": 2, \"value\": 9176}, \"9177\": {\"frequency\": 1, \"value\": 9177}, \"987\": {\"frequency\": 2, \"value\": 987}, \"9180\": {\"frequency\": 3, \"value\": 9180}, \"989\": {\"frequency\": 3, \"value\": 989}, \"9182\": {\"frequency\": 2, \"value\": 9182}, \"991\": {\"frequency\": 2, \"value\": 991}, \"9187\": {\"frequency\": 2, \"value\": 9187}, \"997\": {\"frequency\": 2, \"value\": 997}, \"998\": {\"frequency\": 2, \"value\": 998}, \"9191\": {\"frequency\": 1, \"value\": 9191}, \"9195\": {\"frequency\": 3, \"value\": 9195}, \"1005\": {\"frequency\": 3, \"value\": 1005}, \"17390\": {\"frequency\": 1, \"value\": 17390}, \"9199\": {\"frequency\": 2, \"value\": 9199}, \"9200\": {\"frequency\": 13, \"value\": 9200}, \"16552\": {\"frequency\": 2, \"value\": 16552}, \"9202\": {\"frequency\": 2, \"value\": 9202}, \"1012\": {\"frequency\": 2, \"value\": 1012}, \"9205\": {\"frequency\": 2, \"value\": 9205}, \"17400\": {\"frequency\": 5, \"value\": 17400}, \"9209\": {\"frequency\": 2, \"value\": 9209}, \"9210\": {\"frequency\": 3, \"value\": 9210}, \"9211\": {\"frequency\": 2, \"value\": 9211}, \"1020\": {\"frequency\": 4, \"value\": 1020}, \"1021\": {\"frequency\": 3, \"value\": 1021}, \"1022\": {\"frequency\": 2, \"value\": 1022}, \"25600\": {\"frequency\": 2, \"value\": 25600}, \"9220\": {\"frequency\": 3, \"value\": 9220}, \"1032\": {\"frequency\": 3, \"value\": 1032}, \"9225\": {\"frequency\": 7, \"value\": 9225}, \"9226\": {\"frequency\": 2, \"value\": 9226}, \"1036\": {\"frequency\": 2, \"value\": 1036}, \"9230\": {\"frequency\": 2, \"value\": 9230}, \"9231\": {\"frequency\": 2, \"value\": 9231}, \"17424\": {\"frequency\": 4, \"value\": 17424}, \"9234\": {\"frequency\": 2, \"value\": 9234}, \"9235\": {\"frequency\": 2, \"value\": 9235}, \"1044\": {\"frequency\": 1, \"value\": 1044}, \"24750\": {\"frequency\": 3, \"value\": 24750}, \"9238\": {\"frequency\": 3, \"value\": 9238}, \"9239\": {\"frequency\": 3, \"value\": 9239}, \"9240\": {\"frequency\": 12, \"value\": 9240}, \"1540\": {\"frequency\": 2, \"value\": 1540}, \"1050\": {\"frequency\": 2, \"value\": 1050}, \"1051\": {\"frequency\": 2, \"value\": 1051}, \"9244\": {\"frequency\": 2, \"value\": 9244}, \"9247\": {\"frequency\": 2, \"value\": 9247}, \"9248\": {\"frequency\": 4, \"value\": 9248}, \"1058\": {\"frequency\": 4, \"value\": 1058}, \"1060\": {\"frequency\": 4, \"value\": 1060}, \"9253\": {\"frequency\": 2, \"value\": 9253}, \"1062\": {\"frequency\": 2, \"value\": 1062}, \"9255\": {\"frequency\": 2, \"value\": 9255}, \"1066\": {\"frequency\": 1, \"value\": 1066}, \"9260\": {\"frequency\": 2, \"value\": 9260}, \"9261\": {\"frequency\": 2, \"value\": 9261}, \"189486\": {\"frequency\": 3, \"value\": 189486}, \"9263\": {\"frequency\": 2, \"value\": 9263}, \"1073\": {\"frequency\": 4, \"value\": 1073}, \"9266\": {\"frequency\": 2, \"value\": 9266}, \"9583\": {\"frequency\": 9, \"value\": 9583}, \"1077\": {\"frequency\": 2, \"value\": 1077}, \"9270\": {\"frequency\": 3, \"value\": 9270}, \"9272\": {\"frequency\": 2, \"value\": 9272}, \"9273\": {\"frequency\": 4, \"value\": 9273}, \"1085\": {\"frequency\": 2, \"value\": 1085}, \"1086\": {\"frequency\": 2, \"value\": 1086}, \"9282\": {\"frequency\": 5, \"value\": 9282}, \"1091\": {\"frequency\": 3, \"value\": 1091}, \"1092\": {\"frequency\": 3, \"value\": 1092}, \"181319\": {\"frequency\": 1, \"value\": 181319}, \"9288\": {\"frequency\": 2, \"value\": 9288}, \"107593\": {\"frequency\": 1, \"value\": 107593}, \"9292\": {\"frequency\": 2, \"value\": 9292}, \"1101\": {\"frequency\": 2, \"value\": 1101}, \"1102\": {\"frequency\": 3, \"value\": 1102}, \"17487\": {\"frequency\": 1, \"value\": 17487}, \"1107\": {\"frequency\": 3, \"value\": 1107}, \"9300\": {\"frequency\": 11, \"value\": 9300}, \"9301\": {\"frequency\": 2, \"value\": 9301}, \"1110\": {\"frequency\": 2, \"value\": 1110}, \"1113\": {\"frequency\": 2, \"value\": 1113}, \"1114\": {\"frequency\": 3, \"value\": 1114}, \"9310\": {\"frequency\": 3, \"value\": 9310}, \"1119\": {\"frequency\": 2, \"value\": 1119}, \"9312\": {\"frequency\": 2, \"value\": 9312}, \"9314\": {\"frequency\": 2, \"value\": 9314}, \"9315\": {\"frequency\": 4, \"value\": 9315}, \"1125\": {\"frequency\": 4, \"value\": 1125}, \"5649\": {\"frequency\": 2, \"value\": 5649}, \"9320\": {\"frequency\": 2, \"value\": 9320}, \"12476\": {\"frequency\": 2, \"value\": 12476}, \"9322\": {\"frequency\": 2, \"value\": 9322}, \"9323\": {\"frequency\": 2, \"value\": 9323}, \"1133\": {\"frequency\": 2, \"value\": 1133}, \"9328\": {\"frequency\": 3, \"value\": 9328}, \"1137\": {\"frequency\": 3, \"value\": 1137}, \"9747\": {\"frequency\": 2, \"value\": 9747}, \"1140\": {\"frequency\": 3, \"value\": 1140}, \"9334\": {\"frequency\": 2, \"value\": 9334}, \"1146\": {\"frequency\": 2, \"value\": 1146}, \"9339\": {\"frequency\": 2, \"value\": 9339}, \"1149\": {\"frequency\": 2, \"value\": 1149}, \"1150\": {\"frequency\": 2, \"value\": 1150}, \"33919\": {\"frequency\": 2, \"value\": 33919}, \"12480\": {\"frequency\": 2, \"value\": 12480}, \"9346\": {\"frequency\": 2, \"value\": 9346}, \"1155\": {\"frequency\": 2, \"value\": 1155}, \"1156\": {\"frequency\": 2, \"value\": 1156}, \"1157\": {\"frequency\": 5, \"value\": 1157}, \"9350\": {\"frequency\": 11, \"value\": 9350}, \"9351\": {\"frequency\": 1, \"value\": 9351}, \"1161\": {\"frequency\": 3, \"value\": 1161}, \"9354\": {\"frequency\": 2, \"value\": 9354}, \"1165\": {\"frequency\": 3, \"value\": 1165}, \"1168\": {\"frequency\": 2, \"value\": 1168}, \"9362\": {\"frequency\": 3, \"value\": 9362}, \"1171\": {\"frequency\": 2, \"value\": 1171}, \"9364\": {\"frequency\": 2, \"value\": 9364}, \"1173\": {\"frequency\": 4, \"value\": 1173}, \"1174\": {\"frequency\": 4, \"value\": 1174}, \"1175\": {\"frequency\": 1, \"value\": 1175}, \"9370\": {\"frequency\": 3, \"value\": 9370}, \"1179\": {\"frequency\": 2, \"value\": 1179}, \"1180\": {\"frequency\": 6, \"value\": 1180}, \"9373\": {\"frequency\": 2, \"value\": 9373}, \"1182\": {\"frequency\": 2, \"value\": 1182}, \"9375\": {\"frequency\": 11, \"value\": 9375}, \"1184\": {\"frequency\": 2, \"value\": 1184}, \"9377\": {\"frequency\": 2, \"value\": 9377}, \"1186\": {\"frequency\": 2, \"value\": 1186}, \"1187\": {\"frequency\": 2, \"value\": 1187}, \"9380\": {\"frequency\": 5, \"value\": 9380}, \"1189\": {\"frequency\": 5, \"value\": 1189}, \"1192\": {\"frequency\": 2, \"value\": 1192}, \"1193\": {\"frequency\": 3, \"value\": 1193}, \"1194\": {\"frequency\": 4, \"value\": 1194}, \"1196\": {\"frequency\": 2, \"value\": 1196}, \"9389\": {\"frequency\": 2, \"value\": 9389}, \"9391\": {\"frequency\": 2, \"value\": 9391}, \"1200\": {\"frequency\": 9, \"value\": 1200}, \"1201\": {\"frequency\": 4, \"value\": 1201}, \"1204\": {\"frequency\": 4, \"value\": 1204}, \"1566\": {\"frequency\": 2, \"value\": 1566}, \"9400\": {\"frequency\": 8, \"value\": 9400}, \"1209\": {\"frequency\": 2, \"value\": 1209}, \"1210\": {\"frequency\": 2, \"value\": 1210}, \"9403\": {\"frequency\": 2, \"value\": 9403}, \"1213\": {\"frequency\": 4, \"value\": 1213}, \"4132\": {\"frequency\": 2, \"value\": 4132}, \"17600\": {\"frequency\": 3, \"value\": 17600}, \"1219\": {\"frequency\": 2, \"value\": 1219}, \"42180\": {\"frequency\": 2, \"value\": 42180}, \"1221\": {\"frequency\": 4, \"value\": 1221}, \"9414\": {\"frequency\": 2, \"value\": 9414}, \"9415\": {\"frequency\": 2, \"value\": 9415}, \"9416\": {\"frequency\": 2, \"value\": 9416}, \"9417\": {\"frequency\": 3, \"value\": 9417}, \"9420\": {\"frequency\": 2, \"value\": 9420}, \"1229\": {\"frequency\": 2, \"value\": 1229}, \"1230\": {\"frequency\": 3, \"value\": 1230}, \"9425\": {\"frequency\": 3, \"value\": 9425}, \"9426\": {\"frequency\": 2, \"value\": 9426}, \"9427\": {\"frequency\": 2, \"value\": 9427}, \"1236\": {\"frequency\": 4, \"value\": 1236}, \"1237\": {\"frequency\": 3, \"value\": 1237}, \"9430\": {\"frequency\": 2, \"value\": 9430}, \"76665\": {\"frequency\": 2, \"value\": 76665}, \"1240\": {\"frequency\": 4, \"value\": 1240}, \"1241\": {\"frequency\": 2, \"value\": 1241}, \"9435\": {\"frequency\": 2, \"value\": 9435}, \"1245\": {\"frequency\": 4, \"value\": 1245}, \"1246\": {\"frequency\": 3, \"value\": 1246}, \"9440\": {\"frequency\": 2, \"value\": 9440}, \"1249\": {\"frequency\": 5, \"value\": 1249}, \"1250\": {\"frequency\": 8, \"value\": 1250}, \"1251\": {\"frequency\": 4, \"value\": 1251}, \"1253\": {\"frequency\": 2, \"value\": 1253}, \"1254\": {\"frequency\": 2, \"value\": 1254}, \"9448\": {\"frequency\": 2, \"value\": 9448}, \"9450\": {\"frequency\": 19, \"value\": 9450}, \"9451\": {\"frequency\": 2, \"value\": 9451}, \"9452\": {\"frequency\": 2, \"value\": 9452}, \"9453\": {\"frequency\": 2, \"value\": 9453}, \"1262\": {\"frequency\": 3, \"value\": 1262}, \"1263\": {\"frequency\": 3, \"value\": 1263}, \"1264\": {\"frequency\": 3, \"value\": 1264}, \"1265\": {\"frequency\": 2, \"value\": 1265}, \"9460\": {\"frequency\": 6, \"value\": 9460}, \"1269\": {\"frequency\": 4, \"value\": 1269}, \"1270\": {\"frequency\": 3, \"value\": 1270}, \"2770\": {\"frequency\": 1, \"value\": 2770}, \"4308\": {\"frequency\": 2, \"value\": 4308}, \"9466\": {\"frequency\": 2, \"value\": 9466}, \"1275\": {\"frequency\": 3, \"value\": 1275}, \"230652\": {\"frequency\": 1, \"value\": 230652}, \"1278\": {\"frequency\": 2, \"value\": 1278}, \"83199\": {\"frequency\": 2, \"value\": 83199}, \"1280\": {\"frequency\": 3, \"value\": 1280}, \"9473\": {\"frequency\": 3, \"value\": 9473}, \"1282\": {\"frequency\": 2, \"value\": 1282}, \"9477\": {\"frequency\": 2, \"value\": 9477}, \"1286\": {\"frequency\": 4, \"value\": 1286}, \"42247\": {\"frequency\": 2, \"value\": 42247}, \"9480\": {\"frequency\": 6, \"value\": 9480}, \"1289\": {\"frequency\": 2, \"value\": 1289}, \"1290\": {\"frequency\": 5, \"value\": 1290}, \"9484\": {\"frequency\": 2, \"value\": 9484}, \"9486\": {\"frequency\": 3, \"value\": 9486}, \"1581\": {\"frequency\": 1, \"value\": 1581}, \"9488\": {\"frequency\": 3, \"value\": 9488}, \"1298\": {\"frequency\": 2, \"value\": 1298}, \"9492\": {\"frequency\": 2, \"value\": 9492}, \"1302\": {\"frequency\": 2, \"value\": 1302}, \"1303\": {\"frequency\": 2, \"value\": 1303}, \"1304\": {\"frequency\": 2, \"value\": 1304}, \"9497\": {\"frequency\": 3, \"value\": 9497}, \"1306\": {\"frequency\": 3, \"value\": 1306}, \"9500\": {\"frequency\": 14, \"value\": 9500}, \"1309\": {\"frequency\": 2, \"value\": 1309}, \"1310\": {\"frequency\": 2, \"value\": 1310}, \"1311\": {\"frequency\": 2, \"value\": 1311}, \"1312\": {\"frequency\": 4, \"value\": 1312}, \"17700\": {\"frequency\": 2, \"value\": 17700}, \"1320\": {\"frequency\": 3, \"value\": 1320}, \"1321\": {\"frequency\": 3, \"value\": 1321}, \"9514\": {\"frequency\": 3, \"value\": 9514}, \"214315\": {\"frequency\": 3, \"value\": 214315}, \"9516\": {\"frequency\": 3, \"value\": 9516}, \"1325\": {\"frequency\": 4, \"value\": 1325}, \"9519\": {\"frequency\": 3, \"value\": 9519}, \"9520\": {\"frequency\": 8, \"value\": 9520}, \"1329\": {\"frequency\": 3, \"value\": 1329}, \"1330\": {\"frequency\": 3, \"value\": 1330}, \"17715\": {\"frequency\": 1, \"value\": 17715}, \"1332\": {\"frequency\": 4, \"value\": 1332}, \"9525\": {\"frequency\": 11, \"value\": 9525}, \"1334\": {\"frequency\": 2, \"value\": 1334}, \"9527\": {\"frequency\": 2, \"value\": 9527}, \"9528\": {\"frequency\": 2, \"value\": 9528}, \"9529\": {\"frequency\": 2, \"value\": 9529}, \"8415\": {\"frequency\": 2, \"value\": 8415}, \"1340\": {\"frequency\": 3, \"value\": 1340}, \"1343\": {\"frequency\": 2, \"value\": 1343}, \"9540\": {\"frequency\": 3, \"value\": 9540}, \"1349\": {\"frequency\": 3, \"value\": 1349}, \"9542\": {\"frequency\": 2, \"value\": 9542}, \"9545\": {\"frequency\": 2, \"value\": 9545}, \"9546\": {\"frequency\": 2, \"value\": 9546}, \"9547\": {\"frequency\": 2, \"value\": 9547}, \"9548\": {\"frequency\": 2, \"value\": 9548}, \"9549\": {\"frequency\": 2, \"value\": 9549}, \"9550\": {\"frequency\": 3, \"value\": 9550}, \"1361\": {\"frequency\": 3, \"value\": 1361}, \"1362\": {\"frequency\": 3, \"value\": 1362}, \"91476\": {\"frequency\": 2, \"value\": 91476}, \"7054\": {\"frequency\": 2, \"value\": 7054}, \"1368\": {\"frequency\": 2, \"value\": 1368}, \"1369\": {\"frequency\": 3, \"value\": 1369}, \"9563\": {\"frequency\": 2, \"value\": 9563}, \"1372\": {\"frequency\": 1, \"value\": 1372}, \"1374\": {\"frequency\": 1, \"value\": 1374}, \"9568\": {\"frequency\": 2, \"value\": 9568}, \"50529\": {\"frequency\": 2, \"value\": 50529}, \"9570\": {\"frequency\": 4, \"value\": 9570}, \"1380\": {\"frequency\": 3, \"value\": 1380}, \"25958\": {\"frequency\": 1, \"value\": 25958}, \"9576\": {\"frequency\": 5, \"value\": 9576}, \"1386\": {\"frequency\": 2, \"value\": 1386}, \"9579\": {\"frequency\": 3, \"value\": 9579}, \"9580\": {\"frequency\": 2, \"value\": 9580}, \"1391\": {\"frequency\": 1, \"value\": 1391}, \"1396\": {\"frequency\": 2, \"value\": 1396}, \"7647\": {\"frequency\": 2, \"value\": 7647}, \"1400\": {\"frequency\": 4, \"value\": 1400}, \"9594\": {\"frequency\": 2, \"value\": 9594}, \"17789\": {\"frequency\": 1, \"value\": 17789}, \"9599\": {\"frequency\": 3, \"value\": 9599}, \"9600\": {\"frequency\": 109, \"value\": 9600}, \"9601\": {\"frequency\": 6, \"value\": 9601}, \"9602\": {\"frequency\": 2, \"value\": 9602}, \"9603\": {\"frequency\": 6, \"value\": 9603}, \"9604\": {\"frequency\": 2, \"value\": 9604}, \"9605\": {\"frequency\": 4, \"value\": 9605}, \"9606\": {\"frequency\": 4, \"value\": 9606}, \"22081\": {\"frequency\": 2, \"value\": 22081}, \"9608\": {\"frequency\": 2, \"value\": 9608}, \"9610\": {\"frequency\": 4, \"value\": 9610}, \"9611\": {\"frequency\": 2, \"value\": 9611}, \"9612\": {\"frequency\": 7, \"value\": 9612}, \"9614\": {\"frequency\": 3, \"value\": 9614}, \"26000\": {\"frequency\": 2, \"value\": 26000}, \"1425\": {\"frequency\": 2, \"value\": 1425}, \"9620\": {\"frequency\": 7, \"value\": 9620}, \"9622\": {\"frequency\": 2, \"value\": 9622}, \"9623\": {\"frequency\": 2, \"value\": 9623}, \"9624\": {\"frequency\": 5, \"value\": 9624}, \"9625\": {\"frequency\": 3, \"value\": 9625}, \"9627\": {\"frequency\": 2, \"value\": 9627}, \"9628\": {\"frequency\": 2, \"value\": 9628}, \"9629\": {\"frequency\": 4, \"value\": 9629}, \"9630\": {\"frequency\": 5, \"value\": 9630}, \"9633\": {\"frequency\": 1, \"value\": 9633}, \"1442\": {\"frequency\": 4, \"value\": 1442}, \"9635\": {\"frequency\": 2, \"value\": 9635}, \"1444\": {\"frequency\": 2, \"value\": 1444}, \"1445\": {\"frequency\": 3, \"value\": 1445}, \"9638\": {\"frequency\": 4, \"value\": 9638}, \"9639\": {\"frequency\": 2, \"value\": 9639}, \"99752\": {\"frequency\": 2, \"value\": 99752}, \"17833\": {\"frequency\": 2, \"value\": 17833}, \"9643\": {\"frequency\": 3, \"value\": 9643}, \"9644\": {\"frequency\": 1, \"value\": 9644}, \"9645\": {\"frequency\": 3, \"value\": 9645}, \"9647\": {\"frequency\": 2, \"value\": 9647}, \"9648\": {\"frequency\": 3, \"value\": 9648}, \"1458\": {\"frequency\": 3, \"value\": 1458}, \"9652\": {\"frequency\": 6, \"value\": 9652}, \"9653\": {\"frequency\": 4, \"value\": 9653}, \"9654\": {\"frequency\": 2, \"value\": 9654}, \"9655\": {\"frequency\": 2, \"value\": 9655}, \"9656\": {\"frequency\": 6, \"value\": 9656}, \"9660\": {\"frequency\": 4, \"value\": 9660}, \"17853\": {\"frequency\": 2, \"value\": 17853}, \"1471\": {\"frequency\": 2, \"value\": 1471}, \"1473\": {\"frequency\": 2, \"value\": 1473}, \"17859\": {\"frequency\": 4, \"value\": 17859}, \"9668\": {\"frequency\": 2, \"value\": 9668}, \"45302\": {\"frequency\": 4, \"value\": 45302}, \"9670\": {\"frequency\": 2, \"value\": 9670}, \"26055\": {\"frequency\": 1, \"value\": 26055}, \"1480\": {\"frequency\": 2, \"value\": 1480}, \"1612\": {\"frequency\": 3, \"value\": 1612}, \"9674\": {\"frequency\": 2, \"value\": 9674}, \"9675\": {\"frequency\": 3, \"value\": 9675}, \"1485\": {\"frequency\": 3, \"value\": 1485}, \"1486\": {\"frequency\": 2, \"value\": 1486}, \"1487\": {\"frequency\": 4, \"value\": 1487}, \"1488\": {\"frequency\": 3, \"value\": 1488}, \"9682\": {\"frequency\": 3, \"value\": 9682}, \"9684\": {\"frequency\": 2, \"value\": 9684}, \"1493\": {\"frequency\": 3, \"value\": 1493}, \"9686\": {\"frequency\": 2, \"value\": 9686}, \"9687\": {\"frequency\": 3, \"value\": 9687}, \"9689\": {\"frequency\": 2, \"value\": 9689}, \"9690\": {\"frequency\": 5, \"value\": 9690}, \"1499\": {\"frequency\": 2, \"value\": 1499}, \"1500\": {\"frequency\": 6, \"value\": 1500}, \"1501\": {\"frequency\": 3, \"value\": 1501}, \"9696\": {\"frequency\": 2, \"value\": 9696}, \"9697\": {\"frequency\": 3, \"value\": 9697}, \"9700\": {\"frequency\": 2, \"value\": 9700}, \"9701\": {\"frequency\": 3, \"value\": 9701}, \"9702\": {\"frequency\": 2, \"value\": 9702}, \"9703\": {\"frequency\": 2, \"value\": 9703}, \"1512\": {\"frequency\": 2, \"value\": 1512}, \"9705\": {\"frequency\": 2, \"value\": 9705}, \"9706\": {\"frequency\": 2, \"value\": 9706}, \"1516\": {\"frequency\": 2, \"value\": 1516}, \"9711\": {\"frequency\": 3, \"value\": 9711}, \"39848\": {\"frequency\": 2, \"value\": 39848}, \"9714\": {\"frequency\": 3, \"value\": 9714}, \"9715\": {\"frequency\": 3, \"value\": 9715}, \"34293\": {\"frequency\": 1, \"value\": 34293}, \"9719\": {\"frequency\": 3, \"value\": 9719}, \"9720\": {\"frequency\": 12, \"value\": 9720}, \"1620\": {\"frequency\": 2, \"value\": 1620}, \"1531\": {\"frequency\": 2, \"value\": 1531}, \"9725\": {\"frequency\": 3, \"value\": 9725}, \"9727\": {\"frequency\": 2, \"value\": 9727}, \"1536\": {\"frequency\": 2, \"value\": 1536}, \"9730\": {\"frequency\": 3, \"value\": 9730}, \"9732\": {\"frequency\": 3, \"value\": 9732}, \"9736\": {\"frequency\": 3, \"value\": 9736}, \"1545\": {\"frequency\": 2, \"value\": 1545}, \"1546\": {\"frequency\": 2, \"value\": 1546}, \"9743\": {\"frequency\": 2, \"value\": 9743}, \"17936\": {\"frequency\": 1, \"value\": 17936}, \"13912\": {\"frequency\": 2, \"value\": 13912}, \"16643\": {\"frequency\": 2, \"value\": 16643}, \"9748\": {\"frequency\": 3, \"value\": 9748}, \"9750\": {\"frequency\": 43, \"value\": 9750}, \"9751\": {\"frequency\": 2, \"value\": 9751}, \"9752\": {\"frequency\": 5, \"value\": 9752}, \"9753\": {\"frequency\": 4, \"value\": 9753}, \"17950\": {\"frequency\": 1, \"value\": 17950}, \"9760\": {\"frequency\": 6, \"value\": 9760}, \"1569\": {\"frequency\": 2, \"value\": 1569}, \"1570\": {\"frequency\": 2, \"value\": 1570}, \"9764\": {\"frequency\": 2, \"value\": 9764}, \"9766\": {\"frequency\": 2, \"value\": 9766}, \"1577\": {\"frequency\": 2, \"value\": 1577}, \"9773\": {\"frequency\": 2, \"value\": 9773}, \"9774\": {\"frequency\": 2, \"value\": 9774}, \"9775\": {\"frequency\": 10, \"value\": 9775}, \"1585\": {\"frequency\": 2, \"value\": 1585}, \"9778\": {\"frequency\": 2, \"value\": 9778}, \"1587\": {\"frequency\": 3, \"value\": 1587}, \"9780\": {\"frequency\": 4, \"value\": 9780}, \"1590\": {\"frequency\": 3, \"value\": 1590}, \"9784\": {\"frequency\": 2, \"value\": 9784}, \"9786\": {\"frequency\": 3, \"value\": 9786}, \"1596\": {\"frequency\": 2, \"value\": 1596}, \"8458\": {\"frequency\": 3, \"value\": 8458}, \"1598\": {\"frequency\": 2, \"value\": 1598}, \"7093\": {\"frequency\": 2, \"value\": 7093}, \"9792\": {\"frequency\": 2, \"value\": 9792}, \"9793\": {\"frequency\": 2, \"value\": 9793}, \"9796\": {\"frequency\": 2, \"value\": 9796}, \"9798\": {\"frequency\": 3, \"value\": 9798}, \"9800\": {\"frequency\": 20, \"value\": 9800}, \"1609\": {\"frequency\": 2, \"value\": 1609}, \"9804\": {\"frequency\": 4, \"value\": 9804}, \"1613\": {\"frequency\": 4, \"value\": 1613}, \"1614\": {\"frequency\": 2, \"value\": 1614}, \"18000\": {\"frequency\": 13, \"value\": 18000}, \"1618\": {\"frequency\": 2, \"value\": 1618}, \"9812\": {\"frequency\": 4, \"value\": 9812}, \"9813\": {\"frequency\": 1, \"value\": 9813}, \"9816\": {\"frequency\": 1, \"value\": 9816}, \"9822\": {\"frequency\": 3, \"value\": 9822}, \"9824\": {\"frequency\": 2, \"value\": 9824}, \"9825\": {\"frequency\": 9, \"value\": 9825}, \"9826\": {\"frequency\": 2, \"value\": 9826}, \"9827\": {\"frequency\": 5, \"value\": 9827}, \"9828\": {\"frequency\": 2, \"value\": 9828}, \"9830\": {\"frequency\": 3, \"value\": 9830}, \"1638\": {\"frequency\": 2, \"value\": 1638}, \"13927\": {\"frequency\": 3, \"value\": 13927}, \"34412\": {\"frequency\": 2, \"value\": 34412}, \"9840\": {\"frequency\": 5, \"value\": 9840}, \"7378\": {\"frequency\": 2, \"value\": 7378}, \"1650\": {\"frequency\": 3, \"value\": 1650}, \"9847\": {\"frequency\": 2, \"value\": 9847}, \"1656\": {\"frequency\": 2, \"value\": 1656}, \"18042\": {\"frequency\": 2, \"value\": 18042}, \"9855\": {\"frequency\": 2, \"value\": 9855}, \"9856\": {\"frequency\": 3, \"value\": 9856}, \"3008\": {\"frequency\": 3, \"value\": 3008}, \"18050\": {\"frequency\": 2, \"value\": 18050}, \"9861\": {\"frequency\": 2, \"value\": 9861}, \"18055\": {\"frequency\": 2, \"value\": 18055}, \"9864\": {\"frequency\": 2, \"value\": 9864}, \"206474\": {\"frequency\": 2, \"value\": 206474}, \"9869\": {\"frequency\": 2, \"value\": 9869}, \"9870\": {\"frequency\": 3, \"value\": 9870}, \"9874\": {\"frequency\": 3, \"value\": 9874}, \"9875\": {\"frequency\": 3, \"value\": 9875}, \"9877\": {\"frequency\": 2, \"value\": 9877}, \"9879\": {\"frequency\": 2, \"value\": 9879}, \"9880\": {\"frequency\": 4, \"value\": 9880}, \"3012\": {\"frequency\": 2, \"value\": 3012}, \"9882\": {\"frequency\": 2, \"value\": 9882}, \"9886\": {\"frequency\": 3, \"value\": 9886}, \"9887\": {\"frequency\": 2, \"value\": 9887}, \"9889\": {\"frequency\": 2, \"value\": 9889}, \"9897\": {\"frequency\": 2, \"value\": 9897}, \"9898\": {\"frequency\": 3, \"value\": 9898}, \"9899\": {\"frequency\": 2, \"value\": 9899}, \"9900\": {\"frequency\": 29, \"value\": 9900}, \"1709\": {\"frequency\": 2, \"value\": 1709}, \"9907\": {\"frequency\": 2, \"value\": 9907}, \"9912\": {\"frequency\": 2, \"value\": 9912}, \"1722\": {\"frequency\": 2, \"value\": 1722}, \"9916\": {\"frequency\": 4, \"value\": 9916}, \"9917\": {\"frequency\": 1, \"value\": 9917}, \"9920\": {\"frequency\": 6, \"value\": 9920}, \"16672\": {\"frequency\": 2, \"value\": 16672}, \"1730\": {\"frequency\": 2, \"value\": 1730}, \"9926\": {\"frequency\": 2, \"value\": 9926}, \"9928\": {\"frequency\": 2, \"value\": 9928}, \"9935\": {\"frequency\": 2, \"value\": 9935}, \"9936\": {\"frequency\": 2, \"value\": 9936}, \"9848\": {\"frequency\": 3, \"value\": 9848}, \"9938\": {\"frequency\": 2, \"value\": 9938}, \"11214\": {\"frequency\": 3, \"value\": 11214}, \"26326\": {\"frequency\": 1, \"value\": 26326}, \"1755\": {\"frequency\": 3, \"value\": 1755}, \"1756\": {\"frequency\": 2, \"value\": 1756}, \"9850\": {\"frequency\": 1, \"value\": 9850}, \"9950\": {\"frequency\": 2, \"value\": 9950}, \"1760\": {\"frequency\": 3, \"value\": 1760}, \"9957\": {\"frequency\": 3, \"value\": 9957}, \"9960\": {\"frequency\": 2, \"value\": 9960}, \"8487\": {\"frequency\": 3, \"value\": 8487}, \"42733\": {\"frequency\": 2, \"value\": 42733}, \"9966\": {\"frequency\": 2, \"value\": 9966}, \"1778\": {\"frequency\": 2, \"value\": 1778}, \"1779\": {\"frequency\": 2, \"value\": 1779}, \"9972\": {\"frequency\": 4, \"value\": 9972}, \"13950\": {\"frequency\": 2, \"value\": 13950}, \"9975\": {\"frequency\": 4, \"value\": 9975}, \"9976\": {\"frequency\": 1, \"value\": 9976}, \"7104\": {\"frequency\": 3, \"value\": 7104}, \"1793\": {\"frequency\": 2, \"value\": 1793}, \"9990\": {\"frequency\": 5, \"value\": 9990}, \"91911\": {\"frequency\": 2, \"value\": 91911}, \"1800\": {\"frequency\": 9, \"value\": 1800}, \"9994\": {\"frequency\": 3, \"value\": 9994}, \"9996\": {\"frequency\": 2, \"value\": 9996}, \"9997\": {\"frequency\": 2, \"value\": 9997}, \"10000\": {\"frequency\": 46, \"value\": 10000}, \"10002\": {\"frequency\": 1, \"value\": 10002}, \"10003\": {\"frequency\": 2, \"value\": 10003}, \"10005\": {\"frequency\": 7, \"value\": 10005}, \"18200\": {\"frequency\": 6, \"value\": 18200}, \"10010\": {\"frequency\": 2, \"value\": 10010}, \"1824\": {\"frequency\": 3, \"value\": 1824}, \"10018\": {\"frequency\": 7, \"value\": 10018}, \"1827\": {\"frequency\": 3, \"value\": 1827}, \"10023\": {\"frequency\": 2, \"value\": 10023}, \"10026\": {\"frequency\": 2, \"value\": 10026}, \"10030\": {\"frequency\": 2, \"value\": 10030}, \"10031\": {\"frequency\": 2, \"value\": 10031}, \"10032\": {\"frequency\": 3, \"value\": 10032}, \"223027\": {\"frequency\": 2, \"value\": 223027}, \"1845\": {\"frequency\": 2, \"value\": 1845}, \"1848\": {\"frequency\": 2, \"value\": 1848}, \"1850\": {\"frequency\": 4, \"value\": 1850}, \"10043\": {\"frequency\": 2, \"value\": 10043}, \"10046\": {\"frequency\": 2, \"value\": 10046}, \"10050\": {\"frequency\": 11, \"value\": 10050}, \"10051\": {\"frequency\": 4, \"value\": 10051}, \"1860\": {\"frequency\": 2, \"value\": 1860}, \"15330\": {\"frequency\": 2, \"value\": 15330}, \"10062\": {\"frequency\": 2, \"value\": 10062}, \"10064\": {\"frequency\": 3, \"value\": 10064}, \"1873\": {\"frequency\": 2, \"value\": 1873}, \"10070\": {\"frequency\": 2, \"value\": 10070}, \"10072\": {\"frequency\": 2, \"value\": 10072}, \"1882\": {\"frequency\": 2, \"value\": 1882}, \"10075\": {\"frequency\": 2, \"value\": 10075}, \"100188\": {\"frequency\": 3, \"value\": 100188}, \"10078\": {\"frequency\": 3, \"value\": 10078}, \"10079\": {\"frequency\": 4, \"value\": 10079}, \"10080\": {\"frequency\": 9, \"value\": 10080}, \"10086\": {\"frequency\": 2, \"value\": 10086}, \"1898\": {\"frequency\": 1, \"value\": 1898}, \"10092\": {\"frequency\": 2, \"value\": 10092}, \"10094\": {\"frequency\": 2, \"value\": 10094}, \"10098\": {\"frequency\": 2, \"value\": 10098}, \"1683\": {\"frequency\": 3, \"value\": 1683}, \"10100\": {\"frequency\": 4, \"value\": 10100}, \"1431\": {\"frequency\": 2, \"value\": 1431}, \"18295\": {\"frequency\": 4, \"value\": 18295}, \"1916\": {\"frequency\": 2, \"value\": 1916}, \"1919\": {\"frequency\": 2, \"value\": 1919}, \"18304\": {\"frequency\": 2, \"value\": 18304}, \"10115\": {\"frequency\": 2, \"value\": 10115}, \"26500\": {\"frequency\": 2, \"value\": 26500}, \"10117\": {\"frequency\": 3, \"value\": 10117}, \"10120\": {\"frequency\": 2, \"value\": 10120}, \"10125\": {\"frequency\": 25, \"value\": 10125}, \"10126\": {\"frequency\": 2, \"value\": 10126}, \"10132\": {\"frequency\": 2, \"value\": 10132}, \"1942\": {\"frequency\": 2, \"value\": 1942}, \"10136\": {\"frequency\": 2, \"value\": 10136}, \"10137\": {\"frequency\": 3, \"value\": 10137}, \"10139\": {\"frequency\": 2, \"value\": 10139}, \"10140\": {\"frequency\": 5, \"value\": 10140}, \"1950\": {\"frequency\": 4, \"value\": 1950}, \"10150\": {\"frequency\": 4, \"value\": 10150}, \"10152\": {\"frequency\": 2, \"value\": 10152}, \"10155\": {\"frequency\": 4, \"value\": 10155}, \"1968\": {\"frequency\": 5, \"value\": 1968}, \"7155\": {\"frequency\": 3, \"value\": 7155}, \"18360\": {\"frequency\": 3, \"value\": 18360}, \"18361\": {\"frequency\": 1, \"value\": 18361}, \"18362\": {\"frequency\": 2, \"value\": 18362}, \"67518\": {\"frequency\": 3, \"value\": 67518}, \"1984\": {\"frequency\": 3, \"value\": 1984}, \"1985\": {\"frequency\": 2, \"value\": 1985}, \"10179\": {\"frequency\": 2, \"value\": 10179}, \"1988\": {\"frequency\": 3, \"value\": 1988}, \"10182\": {\"frequency\": 2, \"value\": 10182}, \"1991\": {\"frequency\": 2, \"value\": 1991}, \"10186\": {\"frequency\": 2, \"value\": 10186}, \"10189\": {\"frequency\": 3, \"value\": 10189}, \"10190\": {\"frequency\": 3, \"value\": 10190}, \"2000\": {\"frequency\": 5, \"value\": 2000}, \"2002\": {\"frequency\": 2, \"value\": 2002}, \"2003\": {\"frequency\": 3, \"value\": 2003}, \"10196\": {\"frequency\": 2, \"value\": 10196}, \"10200\": {\"frequency\": 30, \"value\": 10200}, \"10202\": {\"frequency\": 5, \"value\": 10202}, \"10204\": {\"frequency\": 1, \"value\": 10204}, \"18400\": {\"frequency\": 4, \"value\": 18400}, \"10212\": {\"frequency\": 2, \"value\": 10212}, \"10215\": {\"frequency\": 3, \"value\": 10215}, \"10221\": {\"frequency\": 2, \"value\": 10221}, \"10223\": {\"frequency\": 2, \"value\": 10223}, \"10227\": {\"frequency\": 3, \"value\": 10227}, \"10228\": {\"frequency\": 1, \"value\": 10228}, \"10229\": {\"frequency\": 2, \"value\": 10229}, \"10230\": {\"frequency\": 5, \"value\": 10230}, \"2040\": {\"frequency\": 3, \"value\": 2040}, \"10240\": {\"frequency\": 6, \"value\": 10240}, \"2050\": {\"frequency\": 2, \"value\": 2050}, \"2052\": {\"frequency\": 3, \"value\": 2052}, \"10245\": {\"frequency\": 2, \"value\": 10245}, \"10248\": {\"frequency\": 2, \"value\": 10248}, \"10250\": {\"frequency\": 4, \"value\": 10250}, \"10255\": {\"frequency\": 1, \"value\": 10255}, \"2064\": {\"frequency\": 2, \"value\": 2064}, \"8536\": {\"frequency\": 5, \"value\": 8536}, \"75794\": {\"frequency\": 3, \"value\": 75794}, \"10259\": {\"frequency\": 1, \"value\": 10259}, \"10260\": {\"frequency\": 8, \"value\": 10260}, \"10270\": {\"frequency\": 3, \"value\": 10270}, \"10271\": {\"frequency\": 1, \"value\": 10271}, \"34848\": {\"frequency\": 3, \"value\": 34848}, \"5808\": {\"frequency\": 2, \"value\": 5808}, \"10275\": {\"frequency\": 4, \"value\": 10275}, \"10277\": {\"frequency\": 2, \"value\": 10277}, \"10280\": {\"frequency\": 2, \"value\": 10280}, \"2091\": {\"frequency\": 2, \"value\": 2091}, \"2096\": {\"frequency\": 3, \"value\": 2096}, \"10289\": {\"frequency\": 2, \"value\": 10289}, \"10290\": {\"frequency\": 3, \"value\": 10290}, \"10291\": {\"frequency\": 2, \"value\": 10291}, \"2100\": {\"frequency\": 2, \"value\": 2100}, \"10296\": {\"frequency\": 3, \"value\": 10296}, \"10297\": {\"frequency\": 2, \"value\": 10297}, \"10300\": {\"frequency\": 11, \"value\": 10300}, \"206910\": {\"frequency\": 2, \"value\": 206910}, \"22000\": {\"frequency\": 6, \"value\": 22000}, \"2114\": {\"frequency\": 2, \"value\": 2114}, \"18500\": {\"frequency\": 2, \"value\": 18500}, \"10319\": {\"frequency\": 3, \"value\": 10319}, \"10320\": {\"frequency\": 5, \"value\": 10320}, \"10327\": {\"frequency\": 2, \"value\": 10327}, \"16740\": {\"frequency\": 2, \"value\": 16740}, \"2138\": {\"frequency\": 1, \"value\": 2138}, \"18525\": {\"frequency\": 2, \"value\": 18525}, \"10335\": {\"frequency\": 3, \"value\": 10335}, \"10336\": {\"frequency\": 2, \"value\": 10336}, \"2147\": {\"frequency\": 3, \"value\": 2147}, \"2150\": {\"frequency\": 3, \"value\": 2150}, \"10344\": {\"frequency\": 2, \"value\": 10344}, \"26300\": {\"frequency\": 1, \"value\": 26300}, \"18540\": {\"frequency\": 2, \"value\": 18540}, \"10350\": {\"frequency\": 13, \"value\": 10350}, \"2159\": {\"frequency\": 3, \"value\": 2159}, \"2162\": {\"frequency\": 2, \"value\": 2162}, \"43124\": {\"frequency\": 2, \"value\": 43124}, \"10358\": {\"frequency\": 3, \"value\": 10358}, \"10360\": {\"frequency\": 4, \"value\": 10360}, \"10361\": {\"frequency\": 2, \"value\": 10361}, \"2171\": {\"frequency\": 3, \"value\": 2171}, \"10368\": {\"frequency\": 2, \"value\": 10368}, \"10369\": {\"frequency\": 2, \"value\": 10369}, \"10370\": {\"frequency\": 2, \"value\": 10370}, \"10375\": {\"frequency\": 4, \"value\": 10375}, \"2191\": {\"frequency\": 2, \"value\": 2191}, \"10384\": {\"frequency\": 2, \"value\": 10384}, \"215186\": {\"frequency\": 3, \"value\": 215186}, \"2199\": {\"frequency\": 2, \"value\": 2199}, \"2200\": {\"frequency\": 4, \"value\": 2200}, \"10400\": {\"frequency\": 11, \"value\": 10400}, \"10403\": {\"frequency\": 3, \"value\": 10403}, \"10404\": {\"frequency\": 2, \"value\": 10404}, \"2216\": {\"frequency\": 2, \"value\": 2216}, \"10409\": {\"frequency\": 2, \"value\": 10409}, \"2218\": {\"frequency\": 2, \"value\": 2218}, \"10416\": {\"frequency\": 3, \"value\": 10416}, \"2229\": {\"frequency\": 2, \"value\": 2229}, \"10423\": {\"frequency\": 3, \"value\": 10423}, \"35000\": {\"frequency\": 7, \"value\": 35000}, \"10426\": {\"frequency\": 2, \"value\": 10426}, \"35003\": {\"frequency\": 1, \"value\": 35003}, \"2240\": {\"frequency\": 2, \"value\": 2240}, \"10440\": {\"frequency\": 4, \"value\": 10440}, \"2250\": {\"frequency\": 8, \"value\": 2250}, \"35021\": {\"frequency\": 2, \"value\": 35021}, \"18641\": {\"frequency\": 1, \"value\": 18641}, \"10450\": {\"frequency\": 9, \"value\": 10450}, \"2261\": {\"frequency\": 2, \"value\": 2261}, \"10454\": {\"frequency\": 8, \"value\": 10454}, \"10455\": {\"frequency\": 3, \"value\": 10455}, \"10459\": {\"frequency\": 2, \"value\": 10459}, \"10460\": {\"frequency\": 2, \"value\": 10460}, \"35040\": {\"frequency\": 2, \"value\": 35040}, \"2278\": {\"frequency\": 1, \"value\": 2278}, \"2280\": {\"frequency\": 2, \"value\": 2280}, \"2287\": {\"frequency\": 1, \"value\": 2287}, \"10480\": {\"frequency\": 3, \"value\": 10480}, \"10481\": {\"frequency\": 2, \"value\": 10481}, \"7209\": {\"frequency\": 4, \"value\": 7209}, \"2296\": {\"frequency\": 2, \"value\": 2296}, \"10489\": {\"frequency\": 2, \"value\": 10489}, \"10490\": {\"frequency\": 2, \"value\": 10490}, \"10492\": {\"frequency\": 2, \"value\": 10492}, \"35070\": {\"frequency\": 2, \"value\": 35070}, \"12672\": {\"frequency\": 2, \"value\": 12672}, \"10500\": {\"frequency\": 31, \"value\": 10500}, \"1750\": {\"frequency\": 3, \"value\": 1750}, \"10505\": {\"frequency\": 2, \"value\": 10505}, \"18700\": {\"frequency\": 2, \"value\": 18700}, \"100623\": {\"frequency\": 2, \"value\": 100623}, \"10513\": {\"frequency\": 2, \"value\": 10513}, \"10519\": {\"frequency\": 2, \"value\": 10519}, \"10521\": {\"frequency\": 2, \"value\": 10521}, \"10523\": {\"frequency\": 2, \"value\": 10523}, \"35100\": {\"frequency\": 4, \"value\": 35100}, \"59677\": {\"frequency\": 4, \"value\": 59677}, \"35102\": {\"frequency\": 1, \"value\": 35102}, \"52272\": {\"frequency\": 3, \"value\": 52272}, \"10530\": {\"frequency\": 6, \"value\": 10530}, \"2340\": {\"frequency\": 2, \"value\": 2340}, \"9948\": {\"frequency\": 2, \"value\": 9948}, \"18730\": {\"frequency\": 3, \"value\": 18730}, \"2350\": {\"frequency\": 4, \"value\": 2350}, \"10548\": {\"frequency\": 2, \"value\": 10548}, \"10550\": {\"frequency\": 2, \"value\": 10550}, \"10560\": {\"frequency\": 2, \"value\": 10560}, \"2370\": {\"frequency\": 3, \"value\": 2370}, \"2375\": {\"frequency\": 2, \"value\": 2375}, \"10572\": {\"frequency\": 2, \"value\": 10572}, \"10573\": {\"frequency\": 2, \"value\": 10573}, \"10574\": {\"frequency\": 2, \"value\": 10574}, \"10575\": {\"frequency\": 2, \"value\": 10575}, \"10576\": {\"frequency\": 3, \"value\": 10576}, \"10578\": {\"frequency\": 2, \"value\": 10578}, \"10580\": {\"frequency\": 2, \"value\": 10580}, \"10583\": {\"frequency\": 2, \"value\": 10583}, \"10584\": {\"frequency\": 4, \"value\": 10584}, \"10585\": {\"frequency\": 2, \"value\": 10585}, \"10588\": {\"frequency\": 4, \"value\": 10588}, \"2400\": {\"frequency\": 19, \"value\": 2400}, \"26977\": {\"frequency\": 1, \"value\": 26977}, \"108900\": {\"frequency\": 8, \"value\": 108900}, \"10600\": {\"frequency\": 2, \"value\": 10600}, \"7228\": {\"frequency\": 2, \"value\": 7228}, \"10603\": {\"frequency\": 2, \"value\": 10603}, \"2415\": {\"frequency\": 2, \"value\": 2415}, \"10608\": {\"frequency\": 2, \"value\": 10608}, \"67953\": {\"frequency\": 3, \"value\": 67953}, \"27007\": {\"frequency\": 3, \"value\": 27007}, \"35200\": {\"frequency\": 2, \"value\": 35200}, \"10625\": {\"frequency\": 4, \"value\": 10625}, \"10631\": {\"frequency\": 2, \"value\": 10631}, \"10637\": {\"frequency\": 2, \"value\": 10637}, \"2446\": {\"frequency\": 2, \"value\": 2446}, \"10640\": {\"frequency\": 2, \"value\": 10640}, \"10650\": {\"frequency\": 5, \"value\": 10650}, \"10655\": {\"frequency\": 2, \"value\": 10655}, \"10660\": {\"frequency\": 3, \"value\": 10660}, \"5265\": {\"frequency\": 4, \"value\": 5265}, \"2480\": {\"frequency\": 2, \"value\": 2480}, \"117176\": {\"frequency\": 4, \"value\": 117176}, \"2490\": {\"frequency\": 2, \"value\": 2490}, \"2493\": {\"frequency\": 2, \"value\": 2493}, \"2500\": {\"frequency\": 36, \"value\": 2500}, \"76230\": {\"frequency\": 2, \"value\": 76230}, \"35273\": {\"frequency\": 2, \"value\": 35273}, \"10701\": {\"frequency\": 1, \"value\": 10701}, \"30456\": {\"frequency\": 2, \"value\": 30456}, \"18900\": {\"frequency\": 3, \"value\": 18900}, \"10710\": {\"frequency\": 2, \"value\": 10710}, \"10716\": {\"frequency\": 2, \"value\": 10716}, \"2527\": {\"frequency\": 2, \"value\": 2527}, \"10720\": {\"frequency\": 7, \"value\": 10720}, \"10723\": {\"frequency\": 5, \"value\": 10723}, \"8091\": {\"frequency\": 2, \"value\": 8091}, \"10725\": {\"frequency\": 3, \"value\": 10725}, \"10726\": {\"frequency\": 4, \"value\": 10726}, \"10730\": {\"frequency\": 2, \"value\": 10730}, \"10733\": {\"frequency\": 2, \"value\": 10733}, \"10739\": {\"frequency\": 2, \"value\": 10739}, \"2550\": {\"frequency\": 16, \"value\": 2550}, \"10744\": {\"frequency\": 2, \"value\": 10744}, \"10750\": {\"frequency\": 2, \"value\": 10750}, \"2560\": {\"frequency\": 3, \"value\": 2560}, \"10754\": {\"frequency\": 2, \"value\": 10754}, \"10757\": {\"frequency\": 3, \"value\": 10757}, \"10760\": {\"frequency\": 2, \"value\": 10760}, \"10762\": {\"frequency\": 2, \"value\": 10762}, \"10763\": {\"frequency\": 2, \"value\": 10763}, \"125452\": {\"frequency\": 2, \"value\": 125452}, \"10766\": {\"frequency\": 3, \"value\": 10766}, \"2575\": {\"frequency\": 2, \"value\": 2575}, \"2580\": {\"frequency\": 3, \"value\": 2580}, \"10780\": {\"frequency\": 2, \"value\": 10780}, \"2589\": {\"frequency\": 2, \"value\": 2589}, \"35362\": {\"frequency\": 2, \"value\": 35362}, \"2600\": {\"frequency\": 7, \"value\": 2600}, \"10794\": {\"frequency\": 3, \"value\": 10794}, \"10796\": {\"frequency\": 2, \"value\": 10796}, \"10798\": {\"frequency\": 2, \"value\": 10798}, \"10800\": {\"frequency\": 44, \"value\": 10800}, \"2610\": {\"frequency\": 2, \"value\": 2610}, \"11358\": {\"frequency\": 2, \"value\": 11358}, \"2614\": {\"frequency\": 2, \"value\": 2614}, \"19000\": {\"frequency\": 6, \"value\": 19000}, \"10816\": {\"frequency\": 2, \"value\": 10816}, \"2625\": {\"frequency\": 3, \"value\": 2625}, \"10819\": {\"frequency\": 2, \"value\": 10819}, \"2631\": {\"frequency\": 2, \"value\": 2631}, \"10827\": {\"frequency\": 2, \"value\": 10827}, \"2640\": {\"frequency\": 8, \"value\": 2640}, \"199253\": {\"frequency\": 2, \"value\": 199253}, \"2650\": {\"frequency\": 2, \"value\": 2650}, \"6837\": {\"frequency\": 2, \"value\": 6837}, \"16728\": {\"frequency\": 2, \"value\": 16728}, \"10850\": {\"frequency\": 3, \"value\": 10850}, \"4539\": {\"frequency\": 3, \"value\": 4539}, \"7270\": {\"frequency\": 2, \"value\": 7270}, \"10856\": {\"frequency\": 2, \"value\": 10856}, \"10860\": {\"frequency\": 3, \"value\": 10860}, \"2674\": {\"frequency\": 2, \"value\": 2674}, \"10875\": {\"frequency\": 8, \"value\": 10875}, \"51836\": {\"frequency\": 6, \"value\": 51836}, \"50965\": {\"frequency\": 3, \"value\": 50965}, \"10880\": {\"frequency\": 6, \"value\": 10880}, \"2691\": {\"frequency\": 1, \"value\": 2691}, \"2693\": {\"frequency\": 2, \"value\": 2693}, \"19080\": {\"frequency\": 2, \"value\": 19080}, \"10890\": {\"frequency\": 9, \"value\": 10890}, \"2699\": {\"frequency\": 2, \"value\": 2699}, \"2700\": {\"frequency\": 13, \"value\": 2700}, \"10900\": {\"frequency\": 4, \"value\": 10900}, \"2710\": {\"frequency\": 2, \"value\": 2710}, \"2720\": {\"frequency\": 2, \"value\": 2720}, \"2723\": {\"frequency\": 2, \"value\": 2723}, \"10920\": {\"frequency\": 9, \"value\": 10920}, \"2731\": {\"frequency\": 2, \"value\": 2731}, \"10925\": {\"frequency\": 3, \"value\": 10925}, \"10929\": {\"frequency\": 2, \"value\": 10929}, \"2738\": {\"frequency\": 2, \"value\": 2738}, \"2748\": {\"frequency\": 2, \"value\": 2748}, \"2750\": {\"frequency\": 7, \"value\": 2750}, \"2752\": {\"frequency\": 6, \"value\": 2752}, \"10016\": {\"frequency\": 2, \"value\": 10016}, \"10950\": {\"frequency\": 4, \"value\": 10950}, \"2760\": {\"frequency\": 2, \"value\": 2760}, \"10954\": {\"frequency\": 2, \"value\": 10954}, \"10956\": {\"frequency\": 2, \"value\": 10956}, \"10960\": {\"frequency\": 3, \"value\": 10960}, \"7288\": {\"frequency\": 2, \"value\": 7288}, \"10962\": {\"frequency\": 3, \"value\": 10962}, \"2772\": {\"frequency\": 2, \"value\": 2772}, \"4558\": {\"frequency\": 5, \"value\": 4558}, \"10968\": {\"frequency\": 3, \"value\": 10968}, \"2778\": {\"frequency\": 2, \"value\": 2778}, \"2788\": {\"frequency\": 2, \"value\": 2788}, \"2790\": {\"frequency\": 2, \"value\": 2790}, \"7293\": {\"frequency\": 2, \"value\": 7293}, \"2800\": {\"frequency\": 16, \"value\": 2800}, \"2805\": {\"frequency\": 2, \"value\": 2805}, \"2807\": {\"frequency\": 2, \"value\": 2807}, \"2808\": {\"frequency\": 2, \"value\": 2808}, \"19200\": {\"frequency\": 6, \"value\": 19200}, \"7296\": {\"frequency\": 2, \"value\": 7296}, \"11010\": {\"frequency\": 1, \"value\": 11010}, \"2820\": {\"frequency\": 4, \"value\": 2820}, \"9914\": {\"frequency\": 2, \"value\": 9914}, \"2839\": {\"frequency\": 2, \"value\": 2839}, \"11034\": {\"frequency\": 3, \"value\": 11034}, \"11040\": {\"frequency\": 3, \"value\": 11040}, \"2849\": {\"frequency\": 1, \"value\": 2849}, \"2850\": {\"frequency\": 6, \"value\": 2850}, \"2856\": {\"frequency\": 3, \"value\": 2856}, \"11049\": {\"frequency\": 2, \"value\": 11049}, \"11050\": {\"frequency\": 5, \"value\": 11050}, \"11054\": {\"frequency\": 2, \"value\": 11054}, \"11056\": {\"frequency\": 2, \"value\": 11056}, \"27441\": {\"frequency\": 2, \"value\": 27441}, \"2867\": {\"frequency\": 2, \"value\": 2867}, \"11060\": {\"frequency\": 4, \"value\": 11060}, \"2874\": {\"frequency\": 1, \"value\": 2874}, \"2875\": {\"frequency\": 7, \"value\": 2875}, \"11070\": {\"frequency\": 4, \"value\": 11070}, \"2880\": {\"frequency\": 2, \"value\": 2880}, \"2885\": {\"frequency\": 2, \"value\": 2885}, \"15500\": {\"frequency\": 3, \"value\": 15500}, \"2890\": {\"frequency\": 5, \"value\": 2890}, \"11088\": {\"frequency\": 2, \"value\": 11088}, \"11090\": {\"frequency\": 2, \"value\": 11090}, \"2900\": {\"frequency\": 1, \"value\": 2900}, \"11096\": {\"frequency\": 2, \"value\": 11096}, \"11100\": {\"frequency\": 7, \"value\": 11100}, \"158558\": {\"frequency\": 2, \"value\": 158558}, \"35679\": {\"frequency\": 2, \"value\": 35679}, \"11108\": {\"frequency\": 2, \"value\": 11108}, \"11111\": {\"frequency\": 2, \"value\": 11111}, \"11410\": {\"frequency\": 2, \"value\": 11410}, \"11120\": {\"frequency\": 4, \"value\": 11120}, \"2937\": {\"frequency\": 1, \"value\": 2937}, \"11130\": {\"frequency\": 2, \"value\": 11130}, \"2940\": {\"frequency\": 2, \"value\": 2940}, \"29163\": {\"frequency\": 2, \"value\": 29163}, \"2958\": {\"frequency\": 2, \"value\": 2958}, \"10052\": {\"frequency\": 2, \"value\": 10052}, \"2970\": {\"frequency\": 7, \"value\": 2970}, \"2971\": {\"frequency\": 2, \"value\": 2971}, \"11165\": {\"frequency\": 3, \"value\": 11165}, \"2975\": {\"frequency\": 3, \"value\": 2975}, \"11171\": {\"frequency\": 2, \"value\": 11171}, \"2980\": {\"frequency\": 2, \"value\": 2980}, \"11173\": {\"frequency\": 2, \"value\": 11173}, \"2982\": {\"frequency\": 1, \"value\": 2982}, \"2983\": {\"frequency\": 2, \"value\": 2983}, \"11180\": {\"frequency\": 5, \"value\": 11180}, \"29170\": {\"frequency\": 1, \"value\": 29170}, \"2992\": {\"frequency\": 3, \"value\": 2992}, \"73616\": {\"frequency\": 2, \"value\": 73616}, \"11422\": {\"frequency\": 2, \"value\": 11422}, \"3000\": {\"frequency\": 84, \"value\": 3000}, \"11193\": {\"frequency\": 3, \"value\": 11193}, \"3003\": {\"frequency\": 3, \"value\": 3003}, \"3006\": {\"frequency\": 1, \"value\": 3006}, \"11200\": {\"frequency\": 21, \"value\": 11200}, \"11201\": {\"frequency\": 2, \"value\": 11201}, \"3011\": {\"frequency\": 2, \"value\": 3011}, \"11204\": {\"frequency\": 1, \"value\": 11204}, \"11205\": {\"frequency\": 2, \"value\": 11205}, \"11210\": {\"frequency\": 2, \"value\": 11210}, \"84942\": {\"frequency\": 1, \"value\": 84942}, \"3031\": {\"frequency\": 3, \"value\": 3031}, \"11225\": {\"frequency\": 3, \"value\": 11225}, \"9921\": {\"frequency\": 2, \"value\": 9921}, \"43995\": {\"frequency\": 6, \"value\": 43995}, \"49658\": {\"frequency\": 8, \"value\": 49658}, \"11230\": {\"frequency\": 1, \"value\": 11230}, \"7333\": {\"frequency\": 2, \"value\": 7333}, \"3040\": {\"frequency\": 3, \"value\": 3040}, \"11234\": {\"frequency\": 3, \"value\": 11234}, \"11240\": {\"frequency\": 2, \"value\": 11240}, \"19436\": {\"frequency\": 1, \"value\": 19436}, \"3056\": {\"frequency\": 2, \"value\": 3056}, \"11250\": {\"frequency\": 24, \"value\": 11250}, \"3060\": {\"frequency\": 24, \"value\": 3060}, \"3068\": {\"frequency\": 2, \"value\": 3068}, \"5973\": {\"frequency\": 2, \"value\": 5973}, \"3075\": {\"frequency\": 5, \"value\": 3075}, \"11270\": {\"frequency\": 2, \"value\": 11270}, \"3080\": {\"frequency\": 4, \"value\": 3080}, \"3088\": {\"frequency\": 2, \"value\": 3088}, \"3090\": {\"frequency\": 13, \"value\": 3090}, \"16197\": {\"frequency\": 2, \"value\": 16197}, \"3100\": {\"frequency\": 3, \"value\": 3100}, \"93218\": {\"frequency\": 2, \"value\": 93218}, \"11305\": {\"frequency\": 2, \"value\": 11305}, \"3118\": {\"frequency\": 2, \"value\": 3118}, \"3120\": {\"frequency\": 6, \"value\": 3120}, \"3121\": {\"frequency\": 2, \"value\": 3121}, \"11443\": {\"frequency\": 2, \"value\": 11443}, \"3125\": {\"frequency\": 2, \"value\": 3125}, \"3128\": {\"frequency\": 4, \"value\": 3128}, \"3132\": {\"frequency\": 2, \"value\": 3132}, \"11325\": {\"frequency\": 7, \"value\": 11325}, \"3135\": {\"frequency\": 3, \"value\": 3135}, \"3140\": {\"frequency\": 2, \"value\": 3140}, \"3141\": {\"frequency\": 2, \"value\": 3141}, \"3143\": {\"frequency\": 2, \"value\": 3143}, \"11340\": {\"frequency\": 11, \"value\": 11340}, \"3150\": {\"frequency\": 7, \"value\": 3150}, \"64904\": {\"frequency\": 1, \"value\": 64904}, \"11350\": {\"frequency\": 3, \"value\": 11350}, \"19550\": {\"frequency\": 2, \"value\": 19550}, \"3172\": {\"frequency\": 3, \"value\": 3172}, \"11375\": {\"frequency\": 4, \"value\": 11375}, \"11380\": {\"frequency\": 2, \"value\": 11380}, \"3192\": {\"frequency\": 3, \"value\": 3192}, \"11385\": {\"frequency\": 2, \"value\": 11385}, \"11390\": {\"frequency\": 1, \"value\": 11390}, \"3200\": {\"frequency\": 31, \"value\": 3200}, \"11393\": {\"frequency\": 3, \"value\": 11393}, \"60548\": {\"frequency\": 3, \"value\": 60548}, \"3207\": {\"frequency\": 2, \"value\": 3207}, \"11400\": {\"frequency\": 10, \"value\": 11400}, \"3210\": {\"frequency\": 4, \"value\": 3210}, \"3211\": {\"frequency\": 3, \"value\": 3211}, \"11407\": {\"frequency\": 2, \"value\": 11407}, \"19600\": {\"frequency\": 2, \"value\": 19600}, \"19602\": {\"frequency\": 2, \"value\": 19602}, \"273556\": {\"frequency\": 2, \"value\": 273556}, \"3225\": {\"frequency\": 5, \"value\": 3225}, \"3230\": {\"frequency\": 3, \"value\": 3230}, \"11430\": {\"frequency\": 2, \"value\": 11430}, \"3240\": {\"frequency\": 9, \"value\": 3240}, \"3245\": {\"frequency\": 2, \"value\": 3245}, \"11440\": {\"frequency\": 3, \"value\": 11440}, \"3250\": {\"frequency\": 5, \"value\": 3250}, \"19635\": {\"frequency\": 1, \"value\": 19635}, \"3255\": {\"frequency\": 2, \"value\": 3255}, \"11448\": {\"frequency\": 2, \"value\": 11448}, \"224442\": {\"frequency\": 2, \"value\": 224442}, \"5564\": {\"frequency\": 2, \"value\": 5564}, \"11454\": {\"frequency\": 3, \"value\": 11454}, \"11455\": {\"frequency\": 2, \"value\": 11455}, \"3264\": {\"frequency\": 3, \"value\": 3264}, \"7371\": {\"frequency\": 2, \"value\": 7371}, \"3272\": {\"frequency\": 2, \"value\": 3272}, \"11466\": {\"frequency\": 2, \"value\": 11466}, \"3277\": {\"frequency\": 1, \"value\": 3277}, \"1331\": {\"frequency\": 2, \"value\": 1331}, \"11472\": {\"frequency\": 2, \"value\": 11472}, \"11475\": {\"frequency\": 4, \"value\": 11475}, \"11480\": {\"frequency\": 2, \"value\": 11480}, \"11481\": {\"frequency\": 2, \"value\": 11481}, \"9384\": {\"frequency\": 2, \"value\": 9384}, \"3292\": {\"frequency\": 2, \"value\": 3292}, \"19680\": {\"frequency\": 2, \"value\": 19680}, \"3300\": {\"frequency\": 15, \"value\": 3300}, \"11500\": {\"frequency\": 10, \"value\": 11500}, \"15570\": {\"frequency\": 2, \"value\": 15570}, \"11505\": {\"frequency\": 2, \"value\": 11505}, \"3315\": {\"frequency\": 2, \"value\": 3315}, \"19700\": {\"frequency\": 2, \"value\": 19700}, \"3325\": {\"frequency\": 2, \"value\": 3325}, \"3328\": {\"frequency\": 2, \"value\": 3328}, \"1920\": {\"frequency\": 3, \"value\": 1920}, \"3330\": {\"frequency\": 5, \"value\": 3330}, \"3332\": {\"frequency\": 2, \"value\": 3332}, \"3333\": {\"frequency\": 3, \"value\": 3333}, \"11530\": {\"frequency\": 2, \"value\": 11530}, \"3340\": {\"frequency\": 2, \"value\": 3340}, \"11536\": {\"frequency\": 3, \"value\": 11536}, \"3348\": {\"frequency\": 3, \"value\": 3348}, \"11542\": {\"frequency\": 2, \"value\": 11542}, \"14212\": {\"frequency\": 2, \"value\": 14212}, \"11547\": {\"frequency\": 2, \"value\": 11547}, \"11550\": {\"frequency\": 2, \"value\": 11550}, \"118047\": {\"frequency\": 3, \"value\": 118047}, \"3360\": {\"frequency\": 9, \"value\": 3360}, \"11562\": {\"frequency\": 2, \"value\": 11562}, \"3376\": {\"frequency\": 2, \"value\": 3376}, \"11575\": {\"frequency\": 1, \"value\": 11575}, \"11576\": {\"frequency\": 2, \"value\": 11576}, \"3388\": {\"frequency\": 1, \"value\": 3388}, \"11583\": {\"frequency\": 2, \"value\": 11583}, \"11585\": {\"frequency\": 3, \"value\": 11585}, \"3399\": {\"frequency\": 2, \"value\": 3399}, \"3400\": {\"frequency\": 22, \"value\": 3400}, \"3402\": {\"frequency\": 3, \"value\": 3402}, \"3404\": {\"frequency\": 2, \"value\": 3404}, \"11600\": {\"frequency\": 5, \"value\": 11600}, \"11603\": {\"frequency\": 2, \"value\": 11603}, \"3413\": {\"frequency\": 1, \"value\": 3413}, \"19800\": {\"frequency\": 3, \"value\": 19800}, \"11610\": {\"frequency\": 2, \"value\": 11610}, \"3419\": {\"frequency\": 1, \"value\": 3419}, \"3420\": {\"frequency\": 9, \"value\": 3420}, \"28000\": {\"frequency\": 3, \"value\": 28000}, \"3425\": {\"frequency\": 2, \"value\": 3425}, \"3427\": {\"frequency\": 3, \"value\": 3427}, \"28008\": {\"frequency\": 2, \"value\": 28008}, \"11625\": {\"frequency\": 3, \"value\": 11625}, \"3436\": {\"frequency\": 2, \"value\": 3436}, \"3438\": {\"frequency\": 2, \"value\": 3438}, \"11632\": {\"frequency\": 2, \"value\": 11632}, \"7401\": {\"frequency\": 2, \"value\": 7401}, \"28025\": {\"frequency\": 1, \"value\": 28025}, \"3451\": {\"frequency\": 3, \"value\": 3451}, \"6116\": {\"frequency\": 2, \"value\": 6116}, \"3455\": {\"frequency\": 1, \"value\": 3455}, \"36224\": {\"frequency\": 1, \"value\": 36224}, \"85377\": {\"frequency\": 2, \"value\": 85377}, \"11651\": {\"frequency\": 2, \"value\": 11651}, \"11652\": {\"frequency\": 3, \"value\": 11652}, \"28037\": {\"frequency\": 1, \"value\": 28037}, \"5298\": {\"frequency\": 3, \"value\": 5298}, \"28040\": {\"frequency\": 1, \"value\": 28040}, \"19850\": {\"frequency\": 3, \"value\": 19850}, \"11662\": {\"frequency\": 2, \"value\": 11662}, \"44431\": {\"frequency\": 7, \"value\": 44431}, \"3475\": {\"frequency\": 3, \"value\": 3475}, \"3478\": {\"frequency\": 4, \"value\": 3478}, \"3480\": {\"frequency\": 4, \"value\": 3480}, \"19865\": {\"frequency\": 2, \"value\": 19865}, \"11675\": {\"frequency\": 2, \"value\": 11675}, \"11680\": {\"frequency\": 2, \"value\": 11680}, \"3497\": {\"frequency\": 2, \"value\": 3497}, \"11690\": {\"frequency\": 2, \"value\": 11690}, \"3500\": {\"frequency\": 18, \"value\": 3500}, \"216493\": {\"frequency\": 2, \"value\": 216493}, \"3503\": {\"frequency\": 2, \"value\": 3503}, \"3504\": {\"frequency\": 2, \"value\": 3504}, \"4680\": {\"frequency\": 5, \"value\": 4680}, \"3507\": {\"frequency\": 2, \"value\": 3507}, \"11700\": {\"frequency\": 9, \"value\": 11700}, \"3515\": {\"frequency\": 2, \"value\": 3515}, \"19901\": {\"frequency\": 1, \"value\": 19901}, \"3520\": {\"frequency\": 6, \"value\": 3520}, \"4683\": {\"frequency\": 2, \"value\": 4683}, \"11725\": {\"frequency\": 1, \"value\": 11725}, \"11727\": {\"frequency\": 2, \"value\": 11727}, \"3538\": {\"frequency\": 1, \"value\": 3538}, \"3540\": {\"frequency\": 2, \"value\": 3540}, \"11740\": {\"frequency\": 2, \"value\": 11740}, \"11745\": {\"frequency\": 3, \"value\": 11745}, \"52707\": {\"frequency\": 2, \"value\": 52707}, \"11750\": {\"frequency\": 3, \"value\": 11750}, \"3560\": {\"frequency\": 3, \"value\": 3560}, \"3561\": {\"frequency\": 2, \"value\": 3561}, \"3562\": {\"frequency\": 1, \"value\": 3562}, \"3565\": {\"frequency\": 2, \"value\": 3565}, \"1960\": {\"frequency\": 2, \"value\": 1960}, \"3570\": {\"frequency\": 5, \"value\": 3570}, \"11765\": {\"frequency\": 2, \"value\": 11765}, \"19965\": {\"frequency\": 2, \"value\": 19965}, \"3582\": {\"frequency\": 4, \"value\": 3582}, \"11775\": {\"frequency\": 2, \"value\": 11775}, \"3584\": {\"frequency\": 2, \"value\": 3584}, \"224769\": {\"frequency\": 2, \"value\": 224769}, \"3588\": {\"frequency\": 3, \"value\": 3588}, \"11788\": {\"frequency\": 1, \"value\": 11788}, \"3600\": {\"frequency\": 103, \"value\": 3600}, \"11793\": {\"frequency\": 2, \"value\": 11793}, \"11795\": {\"frequency\": 2, \"value\": 11795}, \"3604\": {\"frequency\": 2, \"value\": 3604}, \"19991\": {\"frequency\": 2, \"value\": 19991}, \"3608\": {\"frequency\": 3, \"value\": 3608}, \"28185\": {\"frequency\": 2, \"value\": 28185}, \"3610\": {\"frequency\": 3, \"value\": 3610}, \"3615\": {\"frequency\": 2, \"value\": 3615}, \"20000\": {\"frequency\": 12, \"value\": 20000}, \"10160\": {\"frequency\": 7, \"value\": 10160}, \"3622\": {\"frequency\": 2, \"value\": 3622}, \"3624\": {\"frequency\": 2, \"value\": 3624}, \"101930\": {\"frequency\": 3, \"value\": 101930}, \"3630\": {\"frequency\": 2, \"value\": 3630}, \"36400\": {\"frequency\": 1, \"value\": 36400}, \"3640\": {\"frequency\": 4, \"value\": 3640}, \"11835\": {\"frequency\": 2, \"value\": 11835}, \"11843\": {\"frequency\": 2, \"value\": 11843}, \"20040\": {\"frequency\": 2, \"value\": 20040}, \"11856\": {\"frequency\": 2, \"value\": 11856}, \"3667\": {\"frequency\": 2, \"value\": 3667}, \"1977\": {\"frequency\": 2, \"value\": 1977}, \"3672\": {\"frequency\": 4, \"value\": 3672}, \"10170\": {\"frequency\": 2, \"value\": 10170}, \"3680\": {\"frequency\": 9, \"value\": 3680}, \"11875\": {\"frequency\": 4, \"value\": 11875}, \"11877\": {\"frequency\": 2, \"value\": 11877}, \"11880\": {\"frequency\": 6, \"value\": 11880}, \"7215\": {\"frequency\": 5, \"value\": 7215}, \"3690\": {\"frequency\": 3, \"value\": 3690}, \"11884\": {\"frequency\": 3, \"value\": 11884}, \"3700\": {\"frequency\": 6, \"value\": 3700}, \"11894\": {\"frequency\": 2, \"value\": 11894}, \"11900\": {\"frequency\": 13, \"value\": 11900}, \"3710\": {\"frequency\": 2, \"value\": 3710}, \"10176\": {\"frequency\": 2, \"value\": 10176}, \"17003\": {\"frequency\": 2, \"value\": 17003}, \"20100\": {\"frequency\": 3, \"value\": 20100}, \"3350\": {\"frequency\": 3, \"value\": 3350}, \"942\": {\"frequency\": 3, \"value\": 942}, \"3720\": {\"frequency\": 6, \"value\": 3720}, \"3721\": {\"frequency\": 3, \"value\": 3721}, \"11914\": {\"frequency\": 3, \"value\": 11914}, \"28300\": {\"frequency\": 2, \"value\": 28300}, \"7489\": {\"frequency\": 2, \"value\": 7489}, \"11920\": {\"frequency\": 2, \"value\": 11920}, \"3729\": {\"frequency\": 2, \"value\": 3729}, \"3730\": {\"frequency\": 3, \"value\": 3730}, \"11925\": {\"frequency\": 2, \"value\": 11925}, \"15400\": {\"frequency\": 3, \"value\": 15400}, \"3737\": {\"frequency\": 2, \"value\": 3737}, \"3738\": {\"frequency\": 2, \"value\": 3738}, \"3740\": {\"frequency\": 3, \"value\": 3740}, \"11935\": {\"frequency\": 2, \"value\": 11935}, \"3748\": {\"frequency\": 2, \"value\": 3748}, \"3750\": {\"frequency\": 24, \"value\": 3750}, \"10183\": {\"frequency\": 5, \"value\": 10183}, \"3757\": {\"frequency\": 4, \"value\": 3757}, \"3760\": {\"frequency\": 7, \"value\": 3760}, \"3764\": {\"frequency\": 2, \"value\": 3764}, \"20150\": {\"frequency\": 2, \"value\": 20150}, \"11960\": {\"frequency\": 2, \"value\": 11960}, \"20158\": {\"frequency\": 1, \"value\": 20158}, \"3777\": {\"frequency\": 2, \"value\": 3777}, \"11970\": {\"frequency\": 3, \"value\": 11970}, \"3780\": {\"frequency\": 4, \"value\": 3780}, \"11975\": {\"frequency\": 2, \"value\": 11975}, \"3784\": {\"frequency\": 4, \"value\": 3784}, \"11985\": {\"frequency\": 3, \"value\": 11985}, \"3795\": {\"frequency\": 2, \"value\": 3795}, \"3797\": {\"frequency\": 2, \"value\": 3797}, \"3800\": {\"frequency\": 28, \"value\": 3800}, \"11995\": {\"frequency\": 2, \"value\": 11995}, \"11997\": {\"frequency\": 2, \"value\": 11997}, \"12000\": {\"frequency\": 42, \"value\": 12000}, \"3809\": {\"frequency\": 1, \"value\": 3809}, \"3810\": {\"frequency\": 2, \"value\": 3810}, \"12005\": {\"frequency\": 2, \"value\": 12005}, \"36585\": {\"frequency\": 2, \"value\": 36585}, \"3819\": {\"frequency\": 2, \"value\": 3819}, \"3821\": {\"frequency\": 2, \"value\": 3821}, \"3825\": {\"frequency\": 18, \"value\": 3825}, \"3826\": {\"frequency\": 2, \"value\": 3826}, \"3827\": {\"frequency\": 2, \"value\": 3827}, \"12028\": {\"frequency\": 2, \"value\": 12028}, \"3838\": {\"frequency\": 2, \"value\": 3838}, \"3839\": {\"frequency\": 2, \"value\": 3839}, \"3840\": {\"frequency\": 18, \"value\": 3840}, \"3844\": {\"frequency\": 11, \"value\": 3844}, \"12039\": {\"frequency\": 2, \"value\": 12039}, \"12040\": {\"frequency\": 2, \"value\": 12040}, \"3850\": {\"frequency\": 7, \"value\": 3850}, \"3852\": {\"frequency\": 2, \"value\": 3852}, \"3855\": {\"frequency\": 2, \"value\": 3855}, \"3864\": {\"frequency\": 3, \"value\": 3864}, \"3865\": {\"frequency\": 2, \"value\": 3865}, \"20251\": {\"frequency\": 2, \"value\": 20251}, \"3868\": {\"frequency\": 3, \"value\": 3868}, \"3870\": {\"frequency\": 4, \"value\": 3870}, \"12063\": {\"frequency\": 2, \"value\": 12063}, \"3873\": {\"frequency\": 3, \"value\": 3873}, \"3876\": {\"frequency\": 6, \"value\": 3876}, \"12070\": {\"frequency\": 3, \"value\": 12070}, \"69415\": {\"frequency\": 1, \"value\": 69415}, \"3880\": {\"frequency\": 21, \"value\": 3880}, \"12075\": {\"frequency\": 2, \"value\": 12075}, \"3885\": {\"frequency\": 2, \"value\": 3885}, \"12080\": {\"frequency\": 3, \"value\": 12080}, \"56628\": {\"frequency\": 3, \"value\": 56628}, \"12090\": {\"frequency\": 2, \"value\": 12090}, \"3899\": {\"frequency\": 3, \"value\": 3899}, \"3900\": {\"frequency\": 14, \"value\": 3900}, \"12094\": {\"frequency\": 2, \"value\": 12094}, \"3905\": {\"frequency\": 2, \"value\": 3905}, \"44866\": {\"frequency\": 4, \"value\": 44866}, \"44867\": {\"frequency\": 1, \"value\": 44867}, \"12100\": {\"frequency\": 6, \"value\": 12100}, \"12103\": {\"frequency\": 2, \"value\": 12103}, \"3916\": {\"frequency\": 3, \"value\": 3916}, \"3917\": {\"frequency\": 2, \"value\": 3917}, \"3920\": {\"frequency\": 4, \"value\": 3920}, \"257875\": {\"frequency\": 2, \"value\": 257875}, \"12120\": {\"frequency\": 1, \"value\": 12120}, \"2020\": {\"frequency\": 2, \"value\": 2020}, \"3930\": {\"frequency\": 2, \"value\": 3930}, \"3933\": {\"frequency\": 2, \"value\": 3933}, \"3938\": {\"frequency\": 2, \"value\": 3938}, \"3943\": {\"frequency\": 2, \"value\": 3943}, \"12142\": {\"frequency\": 2, \"value\": 12142}, \"3952\": {\"frequency\": 2, \"value\": 3952}, \"12145\": {\"frequency\": 2, \"value\": 12145}, \"12150\": {\"frequency\": 4, \"value\": 12150}, \"3959\": {\"frequency\": 2, \"value\": 3959}, \"3960\": {\"frequency\": 13, \"value\": 3960}, \"3962\": {\"frequency\": 2, \"value\": 3962}, \"12155\": {\"frequency\": 3, \"value\": 12155}, \"107157\": {\"frequency\": 4, \"value\": 107157}, \"12160\": {\"frequency\": 3, \"value\": 12160}, \"12164\": {\"frequency\": 2, \"value\": 12164}, \"3974\": {\"frequency\": 2, \"value\": 3974}, \"3975\": {\"frequency\": 2, \"value\": 3975}, \"3976\": {\"frequency\": 2, \"value\": 3976}, \"94089\": {\"frequency\": 2, \"value\": 94089}, \"3978\": {\"frequency\": 2, \"value\": 3978}, \"3980\": {\"frequency\": 6, \"value\": 3980}, \"3984\": {\"frequency\": 2, \"value\": 3984}, \"3986\": {\"frequency\": 2, \"value\": 3986}, \"3990\": {\"frequency\": 5, \"value\": 3990}, \"53143\": {\"frequency\": 3, \"value\": 53143}, \"3995\": {\"frequency\": 2, \"value\": 3995}, \"3996\": {\"frequency\": 2, \"value\": 3996}, \"4000\": {\"frequency\": 251, \"value\": 4000}, \"4002\": {\"frequency\": 2, \"value\": 4002}, \"4003\": {\"frequency\": 2, \"value\": 4003}, \"12196\": {\"frequency\": 8, \"value\": 12196}, \"12197\": {\"frequency\": 2, \"value\": 12197}, \"4006\": {\"frequency\": 3, \"value\": 4006}, \"4007\": {\"frequency\": 2, \"value\": 4007}, \"4010\": {\"frequency\": 2, \"value\": 4010}, \"4011\": {\"frequency\": 2, \"value\": 4011}, \"4013\": {\"frequency\": 3, \"value\": 4013}, \"8861\": {\"frequency\": 2, \"value\": 8861}, \"20400\": {\"frequency\": 2, \"value\": 20400}, \"24684\": {\"frequency\": 2, \"value\": 24684}, \"4020\": {\"frequency\": 3, \"value\": 4020}, \"217014\": {\"frequency\": 1, \"value\": 217014}, \"28600\": {\"frequency\": 2, \"value\": 28600}, \"4025\": {\"frequency\": 6, \"value\": 4025}, \"20412\": {\"frequency\": 2, \"value\": 20412}, \"4030\": {\"frequency\": 2, \"value\": 4030}, \"4031\": {\"frequency\": 2, \"value\": 4031}, \"4038\": {\"frequency\": 2, \"value\": 4038}, \"12231\": {\"frequency\": 4, \"value\": 12231}, \"4040\": {\"frequency\": 5, \"value\": 4040}, \"12236\": {\"frequency\": 2, \"value\": 12236}, \"4045\": {\"frequency\": 2, \"value\": 4045}, \"4046\": {\"frequency\": 6, \"value\": 4046}, \"12240\": {\"frequency\": 3, \"value\": 12240}, \"4050\": {\"frequency\": 11, \"value\": 4050}, \"8867\": {\"frequency\": 3, \"value\": 8867}, \"4052\": {\"frequency\": 2, \"value\": 4052}, \"4054\": {\"frequency\": 3, \"value\": 4054}, \"12247\": {\"frequency\": 2, \"value\": 12247}, \"12250\": {\"frequency\": 3, \"value\": 12250}, \"12252\": {\"frequency\": 2, \"value\": 12252}, \"20445\": {\"frequency\": 2, \"value\": 20445}, \"102366\": {\"frequency\": 3, \"value\": 102366}, \"4065\": {\"frequency\": 2, \"value\": 4065}, \"61419\": {\"frequency\": 5, \"value\": 61419}, \"4076\": {\"frequency\": 2, \"value\": 4076}, \"4077\": {\"frequency\": 2, \"value\": 4077}, \"315374\": {\"frequency\": 1, \"value\": 315374}, \"36847\": {\"frequency\": 1, \"value\": 36847}, \"4080\": {\"frequency\": 67, \"value\": 4080}, \"4082\": {\"frequency\": 2, \"value\": 4082}, \"4084\": {\"frequency\": 2, \"value\": 4084}, \"4086\": {\"frequency\": 2, \"value\": 4086}, \"4088\": {\"frequency\": 2, \"value\": 4088}, \"4089\": {\"frequency\": 2, \"value\": 4089}, \"12282\": {\"frequency\": 3, \"value\": 12282}, \"12285\": {\"frequency\": 2, \"value\": 12285}, \"4094\": {\"frequency\": 2, \"value\": 4094}, \"4095\": {\"frequency\": 3, \"value\": 4095}, \"4096\": {\"frequency\": 2, \"value\": 4096}, \"4097\": {\"frequency\": 2, \"value\": 4097}, \"4100\": {\"frequency\": 4, \"value\": 4100}, \"4102\": {\"frequency\": 3, \"value\": 4102}, \"4104\": {\"frequency\": 4, \"value\": 4104}, \"4106\": {\"frequency\": 2, \"value\": 4106}, \"4108\": {\"frequency\": 3, \"value\": 4108}, \"7294\": {\"frequency\": 3, \"value\": 7294}, \"12305\": {\"frequency\": 2, \"value\": 12305}, \"4120\": {\"frequency\": 21, \"value\": 4120}, \"4125\": {\"frequency\": 7, \"value\": 4125}, \"28703\": {\"frequency\": 2, \"value\": 28703}, \"12320\": {\"frequency\": 2, \"value\": 12320}, \"36900\": {\"frequency\": 2, \"value\": 36900}, \"6150\": {\"frequency\": 13, \"value\": 6150}, \"12327\": {\"frequency\": 2, \"value\": 12327}, \"4136\": {\"frequency\": 2, \"value\": 4136}, \"11612\": {\"frequency\": 2, \"value\": 11612}, \"4140\": {\"frequency\": 4, \"value\": 4140}, \"4141\": {\"frequency\": 2, \"value\": 4141}, \"12342\": {\"frequency\": 1, \"value\": 12342}, \"4153\": {\"frequency\": 2, \"value\": 4153}, \"40510\": {\"frequency\": 2, \"value\": 40510}, \"12349\": {\"frequency\": 2, \"value\": 12349}, \"12350\": {\"frequency\": 7, \"value\": 12350}, \"4160\": {\"frequency\": 10, \"value\": 4160}, \"4163\": {\"frequency\": 2, \"value\": 4163}, \"4165\": {\"frequency\": 2, \"value\": 4165}, \"4166\": {\"frequency\": 2, \"value\": 4166}, \"4171\": {\"frequency\": 2, \"value\": 4171}, \"28750\": {\"frequency\": 2, \"value\": 28750}, \"12368\": {\"frequency\": 2, \"value\": 12368}, \"4178\": {\"frequency\": 4, \"value\": 4178}, \"36947\": {\"frequency\": 1, \"value\": 36947}, \"4180\": {\"frequency\": 2, \"value\": 4180}, \"4182\": {\"frequency\": 4, \"value\": 4182}, \"12375\": {\"frequency\": 2, \"value\": 12375}, \"4185\": {\"frequency\": 2, \"value\": 4185}, \"4187\": {\"frequency\": 2, \"value\": 4187}, \"94300\": {\"frequency\": 1, \"value\": 94300}, \"12381\": {\"frequency\": 2, \"value\": 12381}, \"4190\": {\"frequency\": 2, \"value\": 4190}, \"4191\": {\"frequency\": 2, \"value\": 4191}, \"12384\": {\"frequency\": 3, \"value\": 12384}, \"4200\": {\"frequency\": 49, \"value\": 4200}, \"4203\": {\"frequency\": 4, \"value\": 4203}, \"18450\": {\"frequency\": 2, \"value\": 18450}, \"4206\": {\"frequency\": 3, \"value\": 4206}, \"12688\": {\"frequency\": 2, \"value\": 12688}, \"3433\": {\"frequency\": 2, \"value\": 3433}, \"12408\": {\"frequency\": 3, \"value\": 12408}, \"159865\": {\"frequency\": 3, \"value\": 159865}, \"12410\": {\"frequency\": 2, \"value\": 12410}, \"4220\": {\"frequency\": 4, \"value\": 4220}, \"12415\": {\"frequency\": 2, \"value\": 12415}, \"4225\": {\"frequency\": 3, \"value\": 4225}, \"4226\": {\"frequency\": 2, \"value\": 4226}, \"4228\": {\"frequency\": 3, \"value\": 4228}, \"8897\": {\"frequency\": 2, \"value\": 8897}, \"4234\": {\"frequency\": 2, \"value\": 4234}, \"12429\": {\"frequency\": 2, \"value\": 12429}, \"12430\": {\"frequency\": 2, \"value\": 12430}, \"7533\": {\"frequency\": 2, \"value\": 7533}, \"4240\": {\"frequency\": 13, \"value\": 4240}, \"77972\": {\"frequency\": 3, \"value\": 77972}, \"4247\": {\"frequency\": 2, \"value\": 4247}, \"4250\": {\"frequency\": 7, \"value\": 4250}, \"12443\": {\"frequency\": 2, \"value\": 12443}, \"4252\": {\"frequency\": 2, \"value\": 4252}, \"7175\": {\"frequency\": 2, \"value\": 7175}, \"3440\": {\"frequency\": 2, \"value\": 3440}, \"4264\": {\"frequency\": 2, \"value\": 4264}, \"37034\": {\"frequency\": 2, \"value\": 37034}, \"711\": {\"frequency\": 2, \"value\": 711}, \"4268\": {\"frequency\": 5, \"value\": 4268}, \"4270\": {\"frequency\": 3, \"value\": 4270}, \"4271\": {\"frequency\": 2, \"value\": 4271}, \"13000\": {\"frequency\": 15, \"value\": 13000}, \"4275\": {\"frequency\": 4, \"value\": 4275}, \"4280\": {\"frequency\": 4, \"value\": 4280}, \"4284\": {\"frequency\": 5, \"value\": 4284}, \"4286\": {\"frequency\": 2, \"value\": 4286}, \"209088\": {\"frequency\": 2, \"value\": 209088}, \"4290\": {\"frequency\": 6, \"value\": 4290}, \"1234\": {\"frequency\": 2, \"value\": 1234}, \"4297\": {\"frequency\": 2, \"value\": 4297}, \"4300\": {\"frequency\": 8, \"value\": 4300}, \"4301\": {\"frequency\": 2, \"value\": 4301}, \"4305\": {\"frequency\": 2, \"value\": 4305}, \"4307\": {\"frequency\": 2, \"value\": 4307}, \"12500\": {\"frequency\": 22, \"value\": 12500}, \"4310\": {\"frequency\": 3, \"value\": 4310}, \"20700\": {\"frequency\": 3, \"value\": 20700}, \"4320\": {\"frequency\": 11, \"value\": 4320}, \"4322\": {\"frequency\": 4, \"value\": 4322}, \"12519\": {\"frequency\": 2, \"value\": 12519}, \"12522\": {\"frequency\": 2, \"value\": 12522}, \"12523\": {\"frequency\": 2, \"value\": 12523}, \"4332\": {\"frequency\": 4, \"value\": 4332}, \"4333\": {\"frequency\": 2, \"value\": 4333}, \"4334\": {\"frequency\": 2, \"value\": 4334}, \"12527\": {\"frequency\": 2, \"value\": 12527}, \"12528\": {\"frequency\": 3, \"value\": 12528}, \"4337\": {\"frequency\": 3, \"value\": 4337}, \"4338\": {\"frequency\": 3, \"value\": 4338}, \"4342\": {\"frequency\": 1, \"value\": 4342}, \"12540\": {\"frequency\": 3, \"value\": 12540}, \"4350\": {\"frequency\": 7, \"value\": 4350}, \"15744\": {\"frequency\": 1, \"value\": 15744}, \"4356\": {\"frequency\": 2, \"value\": 4356}, \"4360\": {\"frequency\": 3, \"value\": 4360}, \"12558\": {\"frequency\": 3, \"value\": 12558}, \"4368\": {\"frequency\": 3, \"value\": 4368}, \"4370\": {\"frequency\": 2, \"value\": 4370}, \"12566\": {\"frequency\": 2, \"value\": 12566}, \"4375\": {\"frequency\": 2, \"value\": 4375}, \"18480\": {\"frequency\": 2, \"value\": 18480}, \"4399\": {\"frequency\": 3, \"value\": 4399}, \"4400\": {\"frequency\": 56, \"value\": 4400}, \"11656\": {\"frequency\": 2, \"value\": 11656}, \"12600\": {\"frequency\": 8, \"value\": 12600}, \"10292\": {\"frequency\": 3, \"value\": 10292}, \"4410\": {\"frequency\": 2, \"value\": 4410}, \"94525\": {\"frequency\": 4, \"value\": 94525}, \"4418\": {\"frequency\": 2, \"value\": 4418}, \"4420\": {\"frequency\": 2, \"value\": 4420}, \"12616\": {\"frequency\": 2, \"value\": 12616}, \"4425\": {\"frequency\": 2, \"value\": 4425}, \"53578\": {\"frequency\": 5, \"value\": 53578}, \"4429\": {\"frequency\": 2, \"value\": 4429}, \"12625\": {\"frequency\": 2, \"value\": 12625}, \"12626\": {\"frequency\": 2, \"value\": 12626}, \"4438\": {\"frequency\": 2, \"value\": 4438}, \"4440\": {\"frequency\": 8, \"value\": 4440}, \"4441\": {\"frequency\": 2, \"value\": 4441}, \"4443\": {\"frequency\": 2, \"value\": 4443}, \"4445\": {\"frequency\": 2, \"value\": 4445}, \"4447\": {\"frequency\": 2, \"value\": 4447}, \"4450\": {\"frequency\": 2, \"value\": 4450}, \"4452\": {\"frequency\": 2, \"value\": 4452}, \"4455\": {\"frequency\": 2, \"value\": 4455}, \"12632\": {\"frequency\": 2, \"value\": 12632}, \"4468\": {\"frequency\": 2, \"value\": 4468}, \"8937\": {\"frequency\": 2, \"value\": 8937}, \"4473\": {\"frequency\": 4, \"value\": 4473}, \"12669\": {\"frequency\": 2, \"value\": 12669}, \"4480\": {\"frequency\": 9, \"value\": 4480}, \"4482\": {\"frequency\": 2, \"value\": 4482}, \"12675\": {\"frequency\": 2, \"value\": 12675}, \"4488\": {\"frequency\": 3, \"value\": 4488}, \"12682\": {\"frequency\": 2, \"value\": 12682}, \"20875\": {\"frequency\": 2, \"value\": 20875}, \"22594\": {\"frequency\": 1, \"value\": 22594}, \"4495\": {\"frequency\": 4, \"value\": 4495}, \"4496\": {\"frequency\": 2, \"value\": 4496}, \"4497\": {\"frequency\": 2, \"value\": 4497}, \"12690\": {\"frequency\": 3, \"value\": 12690}, \"4499\": {\"frequency\": 4, \"value\": 4499}, \"4500\": {\"frequency\": 114, \"value\": 4500}, \"4501\": {\"frequency\": 2, \"value\": 4501}, \"4502\": {\"frequency\": 4, \"value\": 4502}, \"12696\": {\"frequency\": 2, \"value\": 12696}, \"4505\": {\"frequency\": 3, \"value\": 4505}, \"4506\": {\"frequency\": 2, \"value\": 4506}, \"12700\": {\"frequency\": 2, \"value\": 12700}, \"4510\": {\"frequency\": 2, \"value\": 4510}, \"4512\": {\"frequency\": 2, \"value\": 4512}, \"12705\": {\"frequency\": 2, \"value\": 12705}, \"4515\": {\"frequency\": 2, \"value\": 4515}, \"4517\": {\"frequency\": 2, \"value\": 4517}, \"4520\": {\"frequency\": 3, \"value\": 4520}, \"12714\": {\"frequency\": 2, \"value\": 12714}, \"4524\": {\"frequency\": 4, \"value\": 4524}, \"4533\": {\"frequency\": 3, \"value\": 4533}, \"4534\": {\"frequency\": 6, \"value\": 4534}, \"12731\": {\"frequency\": 2, \"value\": 12731}, \"4541\": {\"frequency\": 2, \"value\": 4541}, \"4548\": {\"frequency\": 2, \"value\": 4548}, \"4549\": {\"frequency\": 2, \"value\": 4549}, \"4550\": {\"frequency\": 3, \"value\": 4550}, \"4551\": {\"frequency\": 2, \"value\": 4551}, \"4553\": {\"frequency\": 2, \"value\": 4553}, \"4555\": {\"frequency\": 2, \"value\": 4555}, \"4557\": {\"frequency\": 2, \"value\": 4557}, \"12750\": {\"frequency\": 10, \"value\": 12750}, \"4560\": {\"frequency\": 15, \"value\": 4560}, \"12753\": {\"frequency\": 3, \"value\": 12753}, \"4564\": {\"frequency\": 2, \"value\": 4564}, \"2128\": {\"frequency\": 2, \"value\": 2128}, \"4244\": {\"frequency\": 3, \"value\": 4244}, \"111078\": {\"frequency\": 2, \"value\": 111078}, \"4584\": {\"frequency\": 2, \"value\": 4584}, \"4587\": {\"frequency\": 2, \"value\": 4587}, \"4590\": {\"frequency\": 17, \"value\": 4590}, \"4592\": {\"frequency\": 4, \"value\": 4592}, \"20978\": {\"frequency\": 1, \"value\": 20978}, \"70131\": {\"frequency\": 2, \"value\": 70131}, \"4596\": {\"frequency\": 2, \"value\": 4596}, \"4862\": {\"frequency\": 3, \"value\": 4862}, \"4600\": {\"frequency\": 34, \"value\": 4600}, \"12793\": {\"frequency\": 3, \"value\": 12793}, \"4602\": {\"frequency\": 3, \"value\": 4602}, \"4606\": {\"frequency\": 2, \"value\": 4606}, \"4611\": {\"frequency\": 2, \"value\": 4611}, \"21000\": {\"frequency\": 6, \"value\": 21000}, \"4620\": {\"frequency\": 2, \"value\": 4620}, \"4625\": {\"frequency\": 2, \"value\": 4625}, \"4627\": {\"frequency\": 2, \"value\": 4627}, \"12821\": {\"frequency\": 3, \"value\": 12821}, \"12823\": {\"frequency\": 2, \"value\": 12823}, \"12825\": {\"frequency\": 5, \"value\": 12825}, \"5337\": {\"frequency\": 1, \"value\": 5337}, \"4635\": {\"frequency\": 10, \"value\": 4635}, \"4636\": {\"frequency\": 3, \"value\": 4636}, \"4637\": {\"frequency\": 2, \"value\": 4637}, \"4640\": {\"frequency\": 5, \"value\": 4640}, \"4644\": {\"frequency\": 2, \"value\": 4644}, \"4648\": {\"frequency\": 2, \"value\": 4648}, \"4650\": {\"frequency\": 10, \"value\": 4650}, \"4652\": {\"frequency\": 2, \"value\": 4652}, \"12850\": {\"frequency\": 1, \"value\": 12850}, \"21043\": {\"frequency\": 2, \"value\": 21043}, \"13288\": {\"frequency\": 2, \"value\": 13288}, \"3218\": {\"frequency\": 2, \"value\": 3218}, \"29242\": {\"frequency\": 1, \"value\": 29242}, \"4667\": {\"frequency\": 4, \"value\": 4667}, \"4668\": {\"frequency\": 2, \"value\": 4668}, \"4670\": {\"frequency\": 2, \"value\": 4670}, \"12866\": {\"frequency\": 2, \"value\": 12866}, \"4675\": {\"frequency\": 4, \"value\": 4675}, \"7606\": {\"frequency\": 2, \"value\": 7606}, \"12870\": {\"frequency\": 2, \"value\": 12870}, \"78408\": {\"frequency\": 5, \"value\": 78408}, \"13068\": {\"frequency\": 7, \"value\": 13068}, \"143947\": {\"frequency\": 1, \"value\": 143947}, \"4684\": {\"frequency\": 2, \"value\": 4684}, \"4688\": {\"frequency\": 2, \"value\": 4688}, \"4690\": {\"frequency\": 2, \"value\": 4690}, \"4692\": {\"frequency\": 2, \"value\": 4692}, \"37461\": {\"frequency\": 1, \"value\": 37461}, \"4694\": {\"frequency\": 3, \"value\": 4694}, \"4697\": {\"frequency\": 2, \"value\": 4697}, \"4698\": {\"frequency\": 3, \"value\": 4698}, \"4700\": {\"frequency\": 13, \"value\": 4700}, \"4704\": {\"frequency\": 2, \"value\": 4704}, \"12899\": {\"frequency\": 2, \"value\": 12899}, \"4708\": {\"frequency\": 2, \"value\": 4708}, \"1248\": {\"frequency\": 3, \"value\": 1248}, \"3517\": {\"frequency\": 2, \"value\": 3517}, \"4720\": {\"frequency\": 6, \"value\": 4720}, \"209523\": {\"frequency\": 4, \"value\": 209523}, \"4725\": {\"frequency\": 10, \"value\": 4725}, \"4729\": {\"frequency\": 2, \"value\": 4729}, \"4730\": {\"frequency\": 3, \"value\": 4730}, \"4736\": {\"frequency\": 3, \"value\": 4736}, \"4740\": {\"frequency\": 2, \"value\": 4740}, \"4743\": {\"frequency\": 2, \"value\": 4743}, \"4745\": {\"frequency\": 2, \"value\": 4745}, \"4750\": {\"frequency\": 27, \"value\": 4750}, \"4751\": {\"frequency\": 3, \"value\": 4751}, \"4755\": {\"frequency\": 3, \"value\": 4755}, \"12950\": {\"frequency\": 2, \"value\": 12950}, \"4760\": {\"frequency\": 10, \"value\": 4760}, \"12960\": {\"frequency\": 2, \"value\": 12960}, \"4770\": {\"frequency\": 4, \"value\": 4770}, \"4774\": {\"frequency\": 3, \"value\": 4774}, \"4775\": {\"frequency\": 2, \"value\": 4775}, \"12968\": {\"frequency\": 2, \"value\": 12968}, \"4777\": {\"frequency\": 4, \"value\": 4777}, \"45738\": {\"frequency\": 10, \"value\": 45738}, \"4780\": {\"frequency\": 4, \"value\": 4780}, \"4781\": {\"frequency\": 2, \"value\": 4781}, \"4788\": {\"frequency\": 3, \"value\": 4788}, \"4789\": {\"frequency\": 1, \"value\": 4789}, \"705\": {\"frequency\": 2, \"value\": 705}, \"12987\": {\"frequency\": 3, \"value\": 12987}, \"4797\": {\"frequency\": 2, \"value\": 4797}, \"21183\": {\"frequency\": 2, \"value\": 21183}, \"4800\": {\"frequency\": 120, \"value\": 4800}, \"4802\": {\"frequency\": 2, \"value\": 4802}, \"4805\": {\"frequency\": 2, \"value\": 4805}, \"217800\": {\"frequency\": 15, \"value\": 217800}, \"13002\": {\"frequency\": 2, \"value\": 13002}, \"4814\": {\"frequency\": 2, \"value\": 4814}, \"4815\": {\"frequency\": 5, \"value\": 4815}, \"4818\": {\"frequency\": 2, \"value\": 4818}, \"205603\": {\"frequency\": 2, \"value\": 205603}, \"4828\": {\"frequency\": 2, \"value\": 4828}, \"4831\": {\"frequency\": 2, \"value\": 4831}, \"4836\": {\"frequency\": 2, \"value\": 4836}, \"4838\": {\"frequency\": 6, \"value\": 4838}, \"4218\": {\"frequency\": 3, \"value\": 4218}, \"4840\": {\"frequency\": 10, \"value\": 4840}, \"4841\": {\"frequency\": 2, \"value\": 4841}, \"13095\": {\"frequency\": 2, \"value\": 13095}, \"11730\": {\"frequency\": 2, \"value\": 11730}, \"94960\": {\"frequency\": 2, \"value\": 94960}, \"905\": {\"frequency\": 3, \"value\": 905}, \"4850\": {\"frequency\": 7, \"value\": 4850}, \"21235\": {\"frequency\": 1, \"value\": 21235}, \"4857\": {\"frequency\": 2, \"value\": 4857}, \"4859\": {\"frequency\": 2, \"value\": 4859}, \"4860\": {\"frequency\": 2, \"value\": 4860}, \"4861\": {\"frequency\": 2, \"value\": 4861}, \"13054\": {\"frequency\": 2, \"value\": 13054}, \"4866\": {\"frequency\": 2, \"value\": 4866}, \"13059\": {\"frequency\": 2, \"value\": 13059}, \"4871\": {\"frequency\": 2, \"value\": 4871}, \"4874\": {\"frequency\": 2, \"value\": 4874}, \"4875\": {\"frequency\": 10, \"value\": 4875}, \"4876\": {\"frequency\": 2, \"value\": 4876}, \"4880\": {\"frequency\": 5, \"value\": 4880}, \"4887\": {\"frequency\": 2, \"value\": 4887}, \"4888\": {\"frequency\": 2, \"value\": 4888}, \"13085\": {\"frequency\": 2, \"value\": 13085}, \"4895\": {\"frequency\": 2, \"value\": 4895}, \"13104\": {\"frequency\": 2, \"value\": 13104}, \"4898\": {\"frequency\": 2, \"value\": 4898}, \"4900\": {\"frequency\": 8, \"value\": 4900}, \"4903\": {\"frequency\": 2, \"value\": 4903}, \"4904\": {\"frequency\": 2, \"value\": 4904}, \"4905\": {\"frequency\": 3, \"value\": 4905}, \"185130\": {\"frequency\": 2, \"value\": 185130}, \"13100\": {\"frequency\": 5, \"value\": 13100}, \"4912\": {\"frequency\": 2, \"value\": 4912}, \"4913\": {\"frequency\": 2, \"value\": 4913}, \"21303\": {\"frequency\": 3, \"value\": 21303}, \"4920\": {\"frequency\": 12, \"value\": 4920}, \"4923\": {\"frequency\": 2, \"value\": 4923}, \"4924\": {\"frequency\": 3, \"value\": 4924}, \"13122\": {\"frequency\": 2, \"value\": 13122}, \"13125\": {\"frequency\": 3, \"value\": 13125}, \"13129\": {\"frequency\": 2, \"value\": 13129}, \"7650\": {\"frequency\": 23, \"value\": 7650}, \"4944\": {\"frequency\": 3, \"value\": 4944}, \"4945\": {\"frequency\": 5, \"value\": 4945}, \"62290\": {\"frequency\": 3, \"value\": 62290}, \"4947\": {\"frequency\": 3, \"value\": 4947}, \"4948\": {\"frequency\": 2, \"value\": 4948}, \"4949\": {\"frequency\": 2, \"value\": 4949}, \"4950\": {\"frequency\": 15, \"value\": 4950}, \"825\": {\"frequency\": 2, \"value\": 825}, \"4959\": {\"frequency\": 2, \"value\": 4959}, \"4960\": {\"frequency\": 8, \"value\": 4960}, \"4961\": {\"frequency\": 3, \"value\": 4961}, \"4964\": {\"frequency\": 2, \"value\": 4964}, \"4972\": {\"frequency\": 2, \"value\": 4972}, \"4975\": {\"frequency\": 2, \"value\": 4975}, \"13168\": {\"frequency\": 2, \"value\": 13168}, \"4978\": {\"frequency\": 3, \"value\": 4978}, \"4980\": {\"frequency\": 6, \"value\": 4980}, \"4984\": {\"frequency\": 2, \"value\": 4984}, \"4990\": {\"frequency\": 2, \"value\": 4990}, \"4992\": {\"frequency\": 2, \"value\": 4992}, \"4995\": {\"frequency\": 2, \"value\": 4995}, \"4997\": {\"frequency\": 3, \"value\": 4997}, \"5000\": {\"frequency\": 358, \"value\": 5000}, \"37769\": {\"frequency\": 1, \"value\": 37769}, \"5002\": {\"frequency\": 6, \"value\": 5002}, \"5003\": {\"frequency\": 2, \"value\": 5003}, \"5004\": {\"frequency\": 2, \"value\": 5004}, \"4930\": {\"frequency\": 3, \"value\": 4930}, \"5006\": {\"frequency\": 2, \"value\": 5006}, \"13200\": {\"frequency\": 5, \"value\": 13200}, \"5009\": {\"frequency\": 2, \"value\": 5009}, \"5010\": {\"frequency\": 2, \"value\": 5010}, \"5012\": {\"frequency\": 3, \"value\": 5012}, \"5013\": {\"frequency\": 3, \"value\": 5013}, \"5015\": {\"frequency\": 4, \"value\": 5015}, \"103237\": {\"frequency\": 2, \"value\": 103237}, \"5024\": {\"frequency\": 3, \"value\": 5024}, \"5025\": {\"frequency\": 5, \"value\": 5025}, \"5026\": {\"frequency\": 4, \"value\": 5026}, \"5027\": {\"frequency\": 4, \"value\": 5027}, \"5028\": {\"frequency\": 1, \"value\": 5028}, \"5029\": {\"frequency\": 4, \"value\": 5029}, \"5030\": {\"frequency\": 3, \"value\": 5030}, \"11761\": {\"frequency\": 2, \"value\": 11761}, \"37800\": {\"frequency\": 2, \"value\": 37800}, \"5034\": {\"frequency\": 2, \"value\": 5034}, \"5036\": {\"frequency\": 1, \"value\": 5036}, \"5038\": {\"frequency\": 3, \"value\": 5038}, \"5040\": {\"frequency\": 29, \"value\": 5040}, \"5043\": {\"frequency\": 5, \"value\": 5043}, \"5048\": {\"frequency\": 2, \"value\": 5048}, \"13241\": {\"frequency\": 2, \"value\": 13241}, \"5050\": {\"frequency\": 9, \"value\": 5050}, \"5054\": {\"frequency\": 3, \"value\": 5054}, \"174240\": {\"frequency\": 2, \"value\": 174240}, \"5060\": {\"frequency\": 9, \"value\": 5060}, \"7670\": {\"frequency\": 3, \"value\": 7670}, \"844\": {\"frequency\": 2, \"value\": 844}, \"13260\": {\"frequency\": 4, \"value\": 13260}, \"5070\": {\"frequency\": 5, \"value\": 5070}, \"5071\": {\"frequency\": 3, \"value\": 5071}, \"5077\": {\"frequency\": 3, \"value\": 5077}, \"5079\": {\"frequency\": 2, \"value\": 5079}, \"5080\": {\"frequency\": 17, \"value\": 5080}, \"2212\": {\"frequency\": 2, \"value\": 2212}, \"5082\": {\"frequency\": 2, \"value\": 5082}, \"5085\": {\"frequency\": 3, \"value\": 5085}, \"5086\": {\"frequency\": 2, \"value\": 5086}, \"5088\": {\"frequency\": 2, \"value\": 5088}, \"5089\": {\"frequency\": 2, \"value\": 5089}, \"5090\": {\"frequency\": 2, \"value\": 5090}, \"108464\": {\"frequency\": 3, \"value\": 108464}, \"5096\": {\"frequency\": 3, \"value\": 5096}, \"5097\": {\"frequency\": 2, \"value\": 5097}, \"5100\": {\"frequency\": 78, \"value\": 5100}, \"5101\": {\"frequency\": 4, \"value\": 5101}, \"5102\": {\"frequency\": 5, \"value\": 5102}, \"13296\": {\"frequency\": 2, \"value\": 13296}, \"18600\": {\"frequency\": 3, \"value\": 18600}, \"5106\": {\"frequency\": 2, \"value\": 5106}, \"5107\": {\"frequency\": 2, \"value\": 5107}, \"13300\": {\"frequency\": 8, \"value\": 13300}, \"11774\": {\"frequency\": 2, \"value\": 11774}, \"5110\": {\"frequency\": 4, \"value\": 5110}, \"13303\": {\"frequency\": 1, \"value\": 13303}, \"5112\": {\"frequency\": 2, \"value\": 5112}, \"7808\": {\"frequency\": 2, \"value\": 7808}, \"78843\": {\"frequency\": 2, \"value\": 78843}, \"5118\": {\"frequency\": 2, \"value\": 5118}, \"5120\": {\"frequency\": 27, \"value\": 5120}, \"5125\": {\"frequency\": 4, \"value\": 5125}, \"5128\": {\"frequency\": 2, \"value\": 5128}, \"5130\": {\"frequency\": 3, \"value\": 5130}, \"5131\": {\"frequency\": 2, \"value\": 5131}, \"5136\": {\"frequency\": 2, \"value\": 5136}, \"5137\": {\"frequency\": 2, \"value\": 5137}, \"5140\": {\"frequency\": 2, \"value\": 5140}, \"5375\": {\"frequency\": 7, \"value\": 5375}, \"11780\": {\"frequency\": 3, \"value\": 11780}, \"5146\": {\"frequency\": 4, \"value\": 5146}, \"5150\": {\"frequency\": 18, \"value\": 5150}, \"7685\": {\"frequency\": 1, \"value\": 7685}, \"5156\": {\"frequency\": 3, \"value\": 5156}, \"13350\": {\"frequency\": 2, \"value\": 13350}, \"209959\": {\"frequency\": 1, \"value\": 209959}, \"5160\": {\"frequency\": 9, \"value\": 5160}, \"5163\": {\"frequency\": 1, \"value\": 5163}, \"5164\": {\"frequency\": 2, \"value\": 5164}, \"5170\": {\"frequency\": 2, \"value\": 5170}, \"5171\": {\"frequency\": 2, \"value\": 5171}, \"5175\": {\"frequency\": 8, \"value\": 5175}, \"13370\": {\"frequency\": 2, \"value\": 13370}, \"21344\": {\"frequency\": 2, \"value\": 21344}, \"5188\": {\"frequency\": 2, \"value\": 5188}, \"5192\": {\"frequency\": 2, \"value\": 5192}, \"5195\": {\"frequency\": 2, \"value\": 5195}, \"5196\": {\"frequency\": 2, \"value\": 5196}, \"13392\": {\"frequency\": 2, \"value\": 13392}, \"10424\": {\"frequency\": 2, \"value\": 10424}, \"5202\": {\"frequency\": 4, \"value\": 5202}, \"5203\": {\"frequency\": 2, \"value\": 5203}, \"5210\": {\"frequency\": 2, \"value\": 5210}, \"46173\": {\"frequency\": 6, \"value\": 46173}, \"21600\": {\"frequency\": 2, \"value\": 21600}, \"5217\": {\"frequency\": 3, \"value\": 5217}, \"92347\": {\"frequency\": 2, \"value\": 92347}, \"5220\": {\"frequency\": 4, \"value\": 5220}, \"5222\": {\"frequency\": 2, \"value\": 5222}, \"13416\": {\"frequency\": 1, \"value\": 13416}, \"5225\": {\"frequency\": 6, \"value\": 5225}, \"5236\": {\"frequency\": 3, \"value\": 5236}, \"5238\": {\"frequency\": 3, \"value\": 5238}, \"873\": {\"frequency\": 2, \"value\": 873}, \"5240\": {\"frequency\": 8, \"value\": 5240}, \"218235\": {\"frequency\": 2, \"value\": 218235}, \"5244\": {\"frequency\": 2, \"value\": 5244}, \"874\": {\"frequency\": 2, \"value\": 874}, \"13440\": {\"frequency\": 2, \"value\": 13440}, \"5249\": {\"frequency\": 3, \"value\": 5249}, \"5250\": {\"frequency\": 32, \"value\": 5250}, \"13444\": {\"frequency\": 2, \"value\": 13444}, \"5257\": {\"frequency\": 3, \"value\": 5257}, \"5258\": {\"frequency\": 2, \"value\": 5258}, \"5260\": {\"frequency\": 4, \"value\": 5260}, \"5264\": {\"frequency\": 2, \"value\": 5264}, \"11800\": {\"frequency\": 4, \"value\": 11800}, \"5267\": {\"frequency\": 4, \"value\": 5267}, \"13464\": {\"frequency\": 1, \"value\": 13464}, \"13468\": {\"frequency\": 2, \"value\": 13468}, \"5280\": {\"frequency\": 15, \"value\": 5280}, \"4976\": {\"frequency\": 2, \"value\": 4976}, \"13474\": {\"frequency\": 2, \"value\": 13474}, \"13475\": {\"frequency\": 2, \"value\": 13475}, \"95396\": {\"frequency\": 2, \"value\": 95396}, \"5289\": {\"frequency\": 2, \"value\": 5289}, \"13170\": {\"frequency\": 2, \"value\": 13170}, \"54450\": {\"frequency\": 8, \"value\": 54450}, \"5300\": {\"frequency\": 11, \"value\": 5300}, \"5304\": {\"frequency\": 3, \"value\": 5304}, \"5306\": {\"frequency\": 2, \"value\": 5306}, \"13500\": {\"frequency\": 20, \"value\": 13500}, \"5310\": {\"frequency\": 3, \"value\": 5310}, \"13503\": {\"frequency\": 3, \"value\": 13503}, \"1268\": {\"frequency\": 2, \"value\": 1268}, \"20001\": {\"frequency\": 2, \"value\": 20001}, \"5320\": {\"frequency\": 2, \"value\": 5320}, \"5321\": {\"frequency\": 2, \"value\": 5321}, \"213879\": {\"frequency\": 2, \"value\": 213879}, \"5332\": {\"frequency\": 1, \"value\": 5332}, \"5333\": {\"frequency\": 2, \"value\": 5333}, \"5335\": {\"frequency\": 2, \"value\": 5335}, \"13529\": {\"frequency\": 2, \"value\": 13529}, \"13530\": {\"frequency\": 2, \"value\": 13530}, \"5339\": {\"frequency\": 2, \"value\": 5339}, \"5340\": {\"frequency\": 3, \"value\": 5340}, \"5344\": {\"frequency\": 2, \"value\": 5344}, \"5348\": {\"frequency\": 2, \"value\": 5348}, \"5349\": {\"frequency\": 2, \"value\": 5349}, \"5350\": {\"frequency\": 10, \"value\": 5350}, \"9084\": {\"frequency\": 2, \"value\": 9084}, \"5354\": {\"frequency\": 2, \"value\": 5354}, \"5355\": {\"frequency\": 3, \"value\": 5355}, \"13551\": {\"frequency\": 2, \"value\": 13551}, \"5360\": {\"frequency\": 2, \"value\": 5360}, \"13554\": {\"frequency\": 2, \"value\": 13554}, \"103672\": {\"frequency\": 3, \"value\": 103672}, \"895\": {\"frequency\": 2, \"value\": 895}, \"18645\": {\"frequency\": 2, \"value\": 18645}, \"5376\": {\"frequency\": 3, \"value\": 5376}, \"5379\": {\"frequency\": 3, \"value\": 5379}, \"13572\": {\"frequency\": 2, \"value\": 13572}, \"62726\": {\"frequency\": 2, \"value\": 62726}, \"13579\": {\"frequency\": 3, \"value\": 13579}, \"5390\": {\"frequency\": 3, \"value\": 5390}, \"5393\": {\"frequency\": 3, \"value\": 5393}, \"29970\": {\"frequency\": 1, \"value\": 29970}, \"5395\": {\"frequency\": 4, \"value\": 5395}, \"21780\": {\"frequency\": 9, \"value\": 21780}, \"21781\": {\"frequency\": 3, \"value\": 21781}, \"13590\": {\"frequency\": 2, \"value\": 13590}, \"5400\": {\"frequency\": 54, \"value\": 5400}, \"5401\": {\"frequency\": 3, \"value\": 5401}, \"5402\": {\"frequency\": 3, \"value\": 5402}, \"5404\": {\"frequency\": 3, \"value\": 5404}, \"5405\": {\"frequency\": 2, \"value\": 5405}, \"5408\": {\"frequency\": 2, \"value\": 5408}, \"11824\": {\"frequency\": 2, \"value\": 11824}, \"13603\": {\"frequency\": 1, \"value\": 13603}, \"5412\": {\"frequency\": 2, \"value\": 5412}, \"5413\": {\"frequency\": 9, \"value\": 5413}, \"5414\": {\"frequency\": 2, \"value\": 5414}, \"5416\": {\"frequency\": 2, \"value\": 5416}, \"13609\": {\"frequency\": 2, \"value\": 13609}, \"5420\": {\"frequency\": 2, \"value\": 5420}, \"5421\": {\"frequency\": 2, \"value\": 5421}, \"5423\": {\"frequency\": 2, \"value\": 5423}, \"904\": {\"frequency\": 2, \"value\": 904}, \"5428\": {\"frequency\": 2, \"value\": 5428}, \"5001\": {\"frequency\": 15, \"value\": 5001}, \"5432\": {\"frequency\": 2, \"value\": 5432}, \"5434\": {\"frequency\": 2, \"value\": 5434}, \"5438\": {\"frequency\": 1, \"value\": 5438}, \"5440\": {\"frequency\": 5, \"value\": 5440}, \"10464\": {\"frequency\": 3, \"value\": 10464}, \"5444\": {\"frequency\": 2, \"value\": 5444}, \"5445\": {\"frequency\": 3, \"value\": 5445}, \"5449\": {\"frequency\": 2, \"value\": 5449}, \"5450\": {\"frequency\": 5, \"value\": 5450}, \"5453\": {\"frequency\": 3, \"value\": 5453}, \"5005\": {\"frequency\": 3, \"value\": 5005}, \"60984\": {\"frequency\": 4, \"value\": 60984}, \"13650\": {\"frequency\": 2, \"value\": 13650}, \"5460\": {\"frequency\": 6, \"value\": 5460}, \"13457\": {\"frequency\": 2, \"value\": 13457}, \"5470\": {\"frequency\": 2, \"value\": 5470}, \"5472\": {\"frequency\": 3, \"value\": 5472}, \"5008\": {\"frequency\": 3, \"value\": 5008}, \"2910\": {\"frequency\": 3, \"value\": 2910}, \"223462\": {\"frequency\": 3, \"value\": 223462}, \"5478\": {\"frequency\": 2, \"value\": 5478}, \"4128\": {\"frequency\": 3, \"value\": 4128}, \"5488\": {\"frequency\": 3, \"value\": 5488}, \"5490\": {\"frequency\": 4, \"value\": 5490}, \"5493\": {\"frequency\": 1, \"value\": 5493}, \"5497\": {\"frequency\": 2, \"value\": 5497}, \"21883\": {\"frequency\": 2, \"value\": 21883}, \"5500\": {\"frequency\": 73, \"value\": 5500}, \"5502\": {\"frequency\": 2, \"value\": 5502}, \"13695\": {\"frequency\": 2, \"value\": 13695}, \"5505\": {\"frequency\": 2, \"value\": 5505}, \"5508\": {\"frequency\": 4, \"value\": 5508}, \"5510\": {\"frequency\": 4, \"value\": 5510}, \"5511\": {\"frequency\": 4, \"value\": 5511}, \"5512\": {\"frequency\": 3, \"value\": 5512}, \"5515\": {\"frequency\": 2, \"value\": 5515}, \"5520\": {\"frequency\": 7, \"value\": 5520}, \"9112\": {\"frequency\": 6, \"value\": 9112}, \"5525\": {\"frequency\": 7, \"value\": 5525}, \"5527\": {\"frequency\": 3, \"value\": 5527}, \"5534\": {\"frequency\": 2, \"value\": 5534}, \"5539\": {\"frequency\": 4, \"value\": 5539}, \"7750\": {\"frequency\": 5, \"value\": 7750}, \"5544\": {\"frequency\": 3, \"value\": 5544}, \"5546\": {\"frequency\": 3, \"value\": 5546}, \"5550\": {\"frequency\": 2, \"value\": 5550}, \"79279\": {\"frequency\": 2, \"value\": 79279}, \"5555\": {\"frequency\": 2, \"value\": 5555}, \"13750\": {\"frequency\": 2, \"value\": 13750}, \"5559\": {\"frequency\": 3, \"value\": 5559}, \"5562\": {\"frequency\": 3, \"value\": 5562}, \"4004\": {\"frequency\": 2, \"value\": 4004}, \"38332\": {\"frequency\": 1, \"value\": 38332}, \"5568\": {\"frequency\": 2, \"value\": 5568}, \"5569\": {\"frequency\": 1, \"value\": 5569}, \"5570\": {\"frequency\": 2, \"value\": 5570}, \"5572\": {\"frequency\": 2, \"value\": 5572}, \"5577\": {\"frequency\": 2, \"value\": 5577}, \"5580\": {\"frequency\": 4, \"value\": 5580}, \"5581\": {\"frequency\": 2, \"value\": 5581}, \"13775\": {\"frequency\": 4, \"value\": 13775}, \"10488\": {\"frequency\": 3, \"value\": 10488}, \"13780\": {\"frequency\": 1, \"value\": 13780}, \"5589\": {\"frequency\": 2, \"value\": 5589}, \"5595\": {\"frequency\": 2, \"value\": 5595}, \"5600\": {\"frequency\": 27, \"value\": 5600}, \"5602\": {\"frequency\": 2, \"value\": 5602}, \"9126\": {\"frequency\": 4, \"value\": 9126}, \"5607\": {\"frequency\": 2, \"value\": 5607}, \"13800\": {\"frequency\": 2, \"value\": 13800}, \"2300\": {\"frequency\": 3, \"value\": 2300}, \"5610\": {\"frequency\": 3, \"value\": 5610}, \"70567\": {\"frequency\": 3, \"value\": 70567}, \"5612\": {\"frequency\": 6, \"value\": 5612}, \"5616\": {\"frequency\": 2, \"value\": 5616}, \"5618\": {\"frequency\": 2, \"value\": 5618}, \"128502\": {\"frequency\": 2, \"value\": 128502}, \"13816\": {\"frequency\": 2, \"value\": 13816}, \"5625\": {\"frequency\": 4, \"value\": 5625}, \"5635\": {\"frequency\": 2, \"value\": 5635}, \"5639\": {\"frequency\": 3, \"value\": 5639}, \"940\": {\"frequency\": 2, \"value\": 940}, \"5643\": {\"frequency\": 2, \"value\": 5643}, \"5647\": {\"frequency\": 2, \"value\": 5647}, \"46609\": {\"frequency\": 7, \"value\": 46609}, \"5650\": {\"frequency\": 23, \"value\": 5650}, \"9134\": {\"frequency\": 2, \"value\": 9134}, \"22040\": {\"frequency\": 2, \"value\": 22040}, \"5663\": {\"frequency\": 2, \"value\": 5663}, \"5664\": {\"frequency\": 4, \"value\": 5664}, \"9136\": {\"frequency\": 3, \"value\": 9136}, \"13860\": {\"frequency\": 3, \"value\": 13860}, \"5669\": {\"frequency\": 3, \"value\": 5669}, \"5670\": {\"frequency\": 5, \"value\": 5670}, \"5674\": {\"frequency\": 2, \"value\": 5674}, \"5677\": {\"frequency\": 2, \"value\": 5677}, \"3677\": {\"frequency\": 3, \"value\": 3677}, \"5680\": {\"frequency\": 5, \"value\": 5680}, \"5684\": {\"frequency\": 2, \"value\": 5684}, \"5688\": {\"frequency\": 2, \"value\": 5688}, \"5689\": {\"frequency\": 2, \"value\": 5689}, \"5692\": {\"frequency\": 2, \"value\": 5692}, \"11872\": {\"frequency\": 1, \"value\": 11872}, \"5700\": {\"frequency\": 30, \"value\": 5700}, \"5701\": {\"frequency\": 6, \"value\": 5701}, \"5702\": {\"frequency\": 2, \"value\": 5702}, \"5703\": {\"frequency\": 2, \"value\": 5703}, \"5706\": {\"frequency\": 3, \"value\": 5706}, \"9143\": {\"frequency\": 2, \"value\": 9143}, \"13900\": {\"frequency\": 2, \"value\": 13900}, \"5710\": {\"frequency\": 2, \"value\": 5710}, \"7828\": {\"frequency\": 3, \"value\": 7828}, \"5715\": {\"frequency\": 3, \"value\": 5715}, \"22100\": {\"frequency\": 3, \"value\": 22100}, \"5717\": {\"frequency\": 2, \"value\": 5717}, \"5720\": {\"frequency\": 9, \"value\": 5720}, \"5722\": {\"frequency\": 3, \"value\": 5722}, \"9465\": {\"frequency\": 2, \"value\": 9465}, \"5724\": {\"frequency\": 2, \"value\": 5724}, \"9146\": {\"frequency\": 2, \"value\": 9146}, \"22111\": {\"frequency\": 1, \"value\": 22111}, \"955\": {\"frequency\": 2, \"value\": 955}, \"5733\": {\"frequency\": 2, \"value\": 5733}, \"5735\": {\"frequency\": 2, \"value\": 5735}, \"5737\": {\"frequency\": 3, \"value\": 5737}, \"5742\": {\"frequency\": 2, \"value\": 5742}, \"13938\": {\"frequency\": 1, \"value\": 13938}, \"13939\": {\"frequency\": 4, \"value\": 13939}, \"958\": {\"frequency\": 2, \"value\": 958}, \"5750\": {\"frequency\": 61, \"value\": 5750}, \"5751\": {\"frequency\": 2, \"value\": 5751}, \"5752\": {\"frequency\": 3, \"value\": 5752}, \"5753\": {\"frequency\": 3, \"value\": 5753}, \"5754\": {\"frequency\": 3, \"value\": 5754}, \"5756\": {\"frequency\": 4, \"value\": 5756}, \"5757\": {\"frequency\": 3, \"value\": 5757}, \"5758\": {\"frequency\": 3, \"value\": 5758}, \"5759\": {\"frequency\": 2, \"value\": 5759}, \"5760\": {\"frequency\": 13, \"value\": 5760}, \"5763\": {\"frequency\": 2, \"value\": 5763}, \"5764\": {\"frequency\": 2, \"value\": 5764}, \"5765\": {\"frequency\": 2, \"value\": 5765}, \"13959\": {\"frequency\": 2, \"value\": 13959}, \"5772\": {\"frequency\": 2, \"value\": 5772}, \"5773\": {\"frequency\": 2, \"value\": 5773}, \"5775\": {\"frequency\": 2, \"value\": 5775}, \"5782\": {\"frequency\": 2, \"value\": 5782}, \"13252\": {\"frequency\": 3, \"value\": 13252}, \"5787\": {\"frequency\": 2, \"value\": 5787}, \"5790\": {\"frequency\": 2, \"value\": 5790}, \"965\": {\"frequency\": 2, \"value\": 965}, \"5795\": {\"frequency\": 2, \"value\": 5795}, \"5797\": {\"frequency\": 3, \"value\": 5797}, \"5799\": {\"frequency\": 2, \"value\": 5799}, \"5800\": {\"frequency\": 19, \"value\": 5800}, \"5801\": {\"frequency\": 2, \"value\": 5801}, \"5802\": {\"frequency\": 2, \"value\": 5802}, \"5803\": {\"frequency\": 2, \"value\": 5803}, \"104108\": {\"frequency\": 2, \"value\": 104108}, \"5805\": {\"frequency\": 3, \"value\": 5805}, \"14000\": {\"frequency\": 11, \"value\": 14000}, \"5809\": {\"frequency\": 2, \"value\": 5809}, \"5065\": {\"frequency\": 2, \"value\": 5065}, \"5817\": {\"frequency\": 2, \"value\": 5817}, \"5820\": {\"frequency\": 4, \"value\": 5820}, \"5821\": {\"frequency\": 2, \"value\": 5821}, \"5823\": {\"frequency\": 2, \"value\": 5823}, \"5824\": {\"frequency\": 3, \"value\": 5824}, \"5827\": {\"frequency\": 2, \"value\": 5827}, \"14021\": {\"frequency\": 2, \"value\": 14021}, \"5831\": {\"frequency\": 3, \"value\": 5831}, \"972\": {\"frequency\": 2, \"value\": 972}, \"5835\": {\"frequency\": 2, \"value\": 5835}, \"5840\": {\"frequency\": 3, \"value\": 5840}, \"14034\": {\"frequency\": 1, \"value\": 14034}, \"5845\": {\"frequency\": 2, \"value\": 5845}, \"14040\": {\"frequency\": 4, \"value\": 14040}, \"5850\": {\"frequency\": 12, \"value\": 5850}, \"5854\": {\"frequency\": 2, \"value\": 5854}, \"5857\": {\"frequency\": 3, \"value\": 5857}, \"5858\": {\"frequency\": 2, \"value\": 5858}, \"5105\": {\"frequency\": 3, \"value\": 5105}, \"14052\": {\"frequency\": 1, \"value\": 14052}, \"194278\": {\"frequency\": 1, \"value\": 194278}, \"5864\": {\"frequency\": 2, \"value\": 5864}, \"3708\": {\"frequency\": 3, \"value\": 3708}, \"5866\": {\"frequency\": 3, \"value\": 5866}, \"5868\": {\"frequency\": 3, \"value\": 5868}, \"14062\": {\"frequency\": 1, \"value\": 14062}, \"5875\": {\"frequency\": 2, \"value\": 5875}, \"5876\": {\"frequency\": 2, \"value\": 5876}, \"14071\": {\"frequency\": 2, \"value\": 14071}, \"5880\": {\"frequency\": 9, \"value\": 5880}, \"22267\": {\"frequency\": 1, \"value\": 22267}, \"5889\": {\"frequency\": 2, \"value\": 5889}, \"5893\": {\"frequency\": 2, \"value\": 5893}, \"3713\": {\"frequency\": 2, \"value\": 3713}, \"9198\": {\"frequency\": 3, \"value\": 9198}, \"5898\": {\"frequency\": 1, \"value\": 5898}, \"5899\": {\"frequency\": 3, \"value\": 5899}, \"5900\": {\"frequency\": 8, \"value\": 5900}, \"9471\": {\"frequency\": 2, \"value\": 9471}, \"14100\": {\"frequency\": 2, \"value\": 14100}, \"5909\": {\"frequency\": 3, \"value\": 5909}, \"5911\": {\"frequency\": 2, \"value\": 5911}, \"5913\": {\"frequency\": 2, \"value\": 5913}, \"14110\": {\"frequency\": 2, \"value\": 14110}, \"5920\": {\"frequency\": 2, \"value\": 5920}, \"5922\": {\"frequency\": 3, \"value\": 5922}, \"15450\": {\"frequency\": 3, \"value\": 15450}, \"1561\": {\"frequency\": 2, \"value\": 1561}, \"5929\": {\"frequency\": 4, \"value\": 5929}, \"5930\": {\"frequency\": 2, \"value\": 5930}, \"5934\": {\"frequency\": 3, \"value\": 5934}, \"5936\": {\"frequency\": 2, \"value\": 5936}, \"5940\": {\"frequency\": 7, \"value\": 5940}, \"22326\": {\"frequency\": 2, \"value\": 22326}, \"2356\": {\"frequency\": 3, \"value\": 2356}, \"14138\": {\"frequency\": 2, \"value\": 14138}, \"14141\": {\"frequency\": 2, \"value\": 14141}, \"5950\": {\"frequency\": 4, \"value\": 5950}, \"5954\": {\"frequency\": 3, \"value\": 5954}, \"14149\": {\"frequency\": 2, \"value\": 14149}, \"5959\": {\"frequency\": 2, \"value\": 5959}, \"5960\": {\"frequency\": 3, \"value\": 5960}, \"5963\": {\"frequency\": 1, \"value\": 5963}, \"5965\": {\"frequency\": 2, \"value\": 5965}, \"5969\": {\"frequency\": 4, \"value\": 5969}, \"5091\": {\"frequency\": 2, \"value\": 5091}, \"22357\": {\"frequency\": 1, \"value\": 22357}, \"5974\": {\"frequency\": 4, \"value\": 5974}, \"5978\": {\"frequency\": 4, \"value\": 5978}, \"5979\": {\"frequency\": 2, \"value\": 5979}, \"5980\": {\"frequency\": 3, \"value\": 5980}, \"22370\": {\"frequency\": 1, \"value\": 22370}, \"5988\": {\"frequency\": 2, \"value\": 5988}, \"5992\": {\"frequency\": 3, \"value\": 5992}, \"5995\": {\"frequency\": 3, \"value\": 5995}, \"5999\": {\"frequency\": 3, \"value\": 5999}, \"6000\": {\"frequency\": 290, \"value\": 6000}, \"6001\": {\"frequency\": 1, \"value\": 6001}, \"6002\": {\"frequency\": 4, \"value\": 6002}, \"6003\": {\"frequency\": 2, \"value\": 6003}, \"14196\": {\"frequency\": 2, \"value\": 14196}, \"14197\": {\"frequency\": 2, \"value\": 14197}, \"14200\": {\"frequency\": 2, \"value\": 14200}, \"6009\": {\"frequency\": 2, \"value\": 6009}, \"6010\": {\"frequency\": 4, \"value\": 6010}, \"6014\": {\"frequency\": 3, \"value\": 6014}, \"6015\": {\"frequency\": 2, \"value\": 6015}, \"6017\": {\"frequency\": 3, \"value\": 6017}, \"6018\": {\"frequency\": 2, \"value\": 6018}, \"6020\": {\"frequency\": 1, \"value\": 6020}, \"6021\": {\"frequency\": 2, \"value\": 6021}, \"6023\": {\"frequency\": 2, \"value\": 6023}, \"13292\": {\"frequency\": 2, \"value\": 13292}, \"6030\": {\"frequency\": 4, \"value\": 6030}, \"6031\": {\"frequency\": 5, \"value\": 6031}, \"6032\": {\"frequency\": 2, \"value\": 6032}, \"6034\": {\"frequency\": 4, \"value\": 6034}, \"6037\": {\"frequency\": 4, \"value\": 6037}, \"52889\": {\"frequency\": 2, \"value\": 52889}, \"6041\": {\"frequency\": 2, \"value\": 6041}, \"6042\": {\"frequency\": 2, \"value\": 6042}, \"6045\": {\"frequency\": 2, \"value\": 6045}, \"11658\": {\"frequency\": 2, \"value\": 11658}, \"6049\": {\"frequency\": 2, \"value\": 6049}, \"6050\": {\"frequency\": 14, \"value\": 6050}, \"6052\": {\"frequency\": 2, \"value\": 6052}, \"6054\": {\"frequency\": 2, \"value\": 6054}, \"6055\": {\"frequency\": 2, \"value\": 6055}, \"14250\": {\"frequency\": 6, \"value\": 14250}, \"6060\": {\"frequency\": 6, \"value\": 6060}, \"1010\": {\"frequency\": 2, \"value\": 1010}, \"87991\": {\"frequency\": 2, \"value\": 87991}, \"5108\": {\"frequency\": 2, \"value\": 5108}, \"6075\": {\"frequency\": 3, \"value\": 6075}, \"54160\": {\"frequency\": 2, \"value\": 54160}, \"6082\": {\"frequency\": 2, \"value\": 6082}, \"6083\": {\"frequency\": 2, \"value\": 6083}, \"47044\": {\"frequency\": 8, \"value\": 47044}, \"6090\": {\"frequency\": 4, \"value\": 6090}, \"5111\": {\"frequency\": 5, \"value\": 5111}, \"6092\": {\"frequency\": 3, \"value\": 6092}, \"6093\": {\"frequency\": 2, \"value\": 6093}, \"6095\": {\"frequency\": 3, \"value\": 6095}, \"6098\": {\"frequency\": 3, \"value\": 6098}, \"6099\": {\"frequency\": 5, \"value\": 6099}, \"6100\": {\"frequency\": 5, \"value\": 6100}, \"35150\": {\"frequency\": 2, \"value\": 35150}, \"6105\": {\"frequency\": 2, \"value\": 6105}, \"14300\": {\"frequency\": 2, \"value\": 14300}, \"6110\": {\"frequency\": 4, \"value\": 6110}, \"219106\": {\"frequency\": 2, \"value\": 219106}, \"5115\": {\"frequency\": 2, \"value\": 5115}, \"22500\": {\"frequency\": 2, \"value\": 22500}, \"6117\": {\"frequency\": 3, \"value\": 6117}, \"6120\": {\"frequency\": 39, \"value\": 6120}, \"6122\": {\"frequency\": 2, \"value\": 6122}, \"6124\": {\"frequency\": 2, \"value\": 6124}, \"6125\": {\"frequency\": 3, \"value\": 6125}, \"24700\": {\"frequency\": 2, \"value\": 24700}, \"6127\": {\"frequency\": 2, \"value\": 6127}, \"6130\": {\"frequency\": 2, \"value\": 6130}, \"6132\": {\"frequency\": 3, \"value\": 6132}, \"6134\": {\"frequency\": 4, \"value\": 6134}, \"6137\": {\"frequency\": 3, \"value\": 6137}, \"6138\": {\"frequency\": 2, \"value\": 6138}, \"6139\": {\"frequency\": 2, \"value\": 6139}, \"6141\": {\"frequency\": 2, \"value\": 6141}, \"6143\": {\"frequency\": 2, \"value\": 6143}, \"6145\": {\"frequency\": 3, \"value\": 6145}, \"14338\": {\"frequency\": 1, \"value\": 14338}, \"11947\": {\"frequency\": 1, \"value\": 11947}, \"14342\": {\"frequency\": 1, \"value\": 14342}, \"14350\": {\"frequency\": 2, \"value\": 14350}, \"6160\": {\"frequency\": 4, \"value\": 6160}, \"6161\": {\"frequency\": 1, \"value\": 6161}, \"6164\": {\"frequency\": 2, \"value\": 6164}, \"55321\": {\"frequency\": 3, \"value\": 55321}, \"6174\": {\"frequency\": 3, \"value\": 6174}, \"6175\": {\"frequency\": 4, \"value\": 6175}, \"6178\": {\"frequency\": 2, \"value\": 6178}, \"6180\": {\"frequency\": 19, \"value\": 6180}, \"6181\": {\"frequency\": 2, \"value\": 6181}, \"14374\": {\"frequency\": 2, \"value\": 14374}, \"6183\": {\"frequency\": 2, \"value\": 6183}, \"6186\": {\"frequency\": 2, \"value\": 6186}, \"6187\": {\"frequency\": 3, \"value\": 6187}, \"13320\": {\"frequency\": 3, \"value\": 13320}, \"6194\": {\"frequency\": 2, \"value\": 6194}, \"6195\": {\"frequency\": 2, \"value\": 6195}, \"6197\": {\"frequency\": 2, \"value\": 6197}, \"1033\": {\"frequency\": 2, \"value\": 1033}, \"6200\": {\"frequency\": 22, \"value\": 6200}, \"6202\": {\"frequency\": 3, \"value\": 6202}, \"6203\": {\"frequency\": 2, \"value\": 6203}, \"6205\": {\"frequency\": 2, \"value\": 6205}, \"14400\": {\"frequency\": 11, \"value\": 14400}, \"14402\": {\"frequency\": 1, \"value\": 14402}, \"6214\": {\"frequency\": 2, \"value\": 6214}, \"35169\": {\"frequency\": 2, \"value\": 35169}, \"6218\": {\"frequency\": 2, \"value\": 6218}, \"6220\": {\"frequency\": 3, \"value\": 6220}, \"15210\": {\"frequency\": 3, \"value\": 15210}, \"6222\": {\"frequency\": 3, \"value\": 6222}, \"6223\": {\"frequency\": 2, \"value\": 6223}, \"6224\": {\"frequency\": 3, \"value\": 6224}, \"6232\": {\"frequency\": 4, \"value\": 6232}, \"6233\": {\"frequency\": 2, \"value\": 6233}, \"6236\": {\"frequency\": 2, \"value\": 6236}, \"6240\": {\"frequency\": 16, \"value\": 6240}, \"35124\": {\"frequency\": 2, \"value\": 35124}, \"14440\": {\"frequency\": 1, \"value\": 14440}, \"6250\": {\"frequency\": 50, \"value\": 6250}, \"63597\": {\"frequency\": 2, \"value\": 63597}, \"6256\": {\"frequency\": 2, \"value\": 6256}, \"6258\": {\"frequency\": 2, \"value\": 6258}, \"6260\": {\"frequency\": 3, \"value\": 6260}, \"3774\": {\"frequency\": 3, \"value\": 3774}, \"6263\": {\"frequency\": 3, \"value\": 6263}, \"6265\": {\"frequency\": 2, \"value\": 6265}, \"22651\": {\"frequency\": 2, \"value\": 22651}, \"6270\": {\"frequency\": 2, \"value\": 6270}, \"6272\": {\"frequency\": 2, \"value\": 6272}, \"14467\": {\"frequency\": 2, \"value\": 14467}, \"6278\": {\"frequency\": 3, \"value\": 6278}, \"6280\": {\"frequency\": 2, \"value\": 6280}, \"8938\": {\"frequency\": 2, \"value\": 8938}, \"6282\": {\"frequency\": 2, \"value\": 6282}, \"6288\": {\"frequency\": 2, \"value\": 6288}, \"5665\": {\"frequency\": 3, \"value\": 5665}, \"6294\": {\"frequency\": 2, \"value\": 6294}, \"6295\": {\"frequency\": 2, \"value\": 6295}, \"6298\": {\"frequency\": 2, \"value\": 6298}, \"6300\": {\"frequency\": 32, \"value\": 6300}, \"6302\": {\"frequency\": 2, \"value\": 6302}, \"6305\": {\"frequency\": 2, \"value\": 6305}, \"14500\": {\"frequency\": 2, \"value\": 14500}, \"6315\": {\"frequency\": 5, \"value\": 6315}, \"6318\": {\"frequency\": 2, \"value\": 6318}, \"22703\": {\"frequency\": 2, \"value\": 22703}, \"6320\": {\"frequency\": 5, \"value\": 6320}, \"6322\": {\"frequency\": 2, \"value\": 6322}, \"6324\": {\"frequency\": 3, \"value\": 6324}, \"6325\": {\"frequency\": 3, \"value\": 6325}, \"6326\": {\"frequency\": 2, \"value\": 6326}, \"6327\": {\"frequency\": 3, \"value\": 6327}, \"6332\": {\"frequency\": 2, \"value\": 6332}, \"4848\": {\"frequency\": 2, \"value\": 4848}, \"6334\": {\"frequency\": 2, \"value\": 6334}, \"6337\": {\"frequency\": 2, \"value\": 6337}, \"6345\": {\"frequency\": 3, \"value\": 6345}, \"9250\": {\"frequency\": 4, \"value\": 9250}, \"6350\": {\"frequency\": 17, \"value\": 6350}, \"40250\": {\"frequency\": 2, \"value\": 40250}, \"6353\": {\"frequency\": 1, \"value\": 6353}, \"6355\": {\"frequency\": 2, \"value\": 6355}, \"6360\": {\"frequency\": 20, \"value\": 6360}, \"6366\": {\"frequency\": 2, \"value\": 6366}, \"6369\": {\"frequency\": 2, \"value\": 6369}, \"6370\": {\"frequency\": 2, \"value\": 6370}, \"6371\": {\"frequency\": 4, \"value\": 6371}, \"14565\": {\"frequency\": 2, \"value\": 14565}, \"6375\": {\"frequency\": 7, \"value\": 6375}, \"6380\": {\"frequency\": 31, \"value\": 6380}, \"39150\": {\"frequency\": 1, \"value\": 39150}, \"6383\": {\"frequency\": 2, \"value\": 6383}, \"6384\": {\"frequency\": 2, \"value\": 6384}, \"6386\": {\"frequency\": 2, \"value\": 6386}, \"6389\": {\"frequency\": 2, \"value\": 6389}, \"6390\": {\"frequency\": 2, \"value\": 6390}, \"6394\": {\"frequency\": 2, \"value\": 6394}, \"10623\": {\"frequency\": 2, \"value\": 10623}, \"6396\": {\"frequency\": 3, \"value\": 6396}, \"6398\": {\"frequency\": 2, \"value\": 6398}, \"6400\": {\"frequency\": 23, \"value\": 6400}, \"6405\": {\"frequency\": 4, \"value\": 6405}, \"14600\": {\"frequency\": 3, \"value\": 14600}, \"6413\": {\"frequency\": 4, \"value\": 6413}, \"6417\": {\"frequency\": 2, \"value\": 6417}, \"6420\": {\"frequency\": 7, \"value\": 6420}, \"6426\": {\"frequency\": 3, \"value\": 6426}, \"6435\": {\"frequency\": 3, \"value\": 6435}, \"14630\": {\"frequency\": 2, \"value\": 14630}, \"6439\": {\"frequency\": 2, \"value\": 6439}, \"6440\": {\"frequency\": 5, \"value\": 6440}, \"14633\": {\"frequency\": 2, \"value\": 14633}, \"13362\": {\"frequency\": 2, \"value\": 13362}, \"6448\": {\"frequency\": 2, \"value\": 6448}, \"12840\": {\"frequency\": 3, \"value\": 12840}, \"6450\": {\"frequency\": 10, \"value\": 6450}, \"1075\": {\"frequency\": 2, \"value\": 1075}, \"6452\": {\"frequency\": 2, \"value\": 6452}, \"8008\": {\"frequency\": 2, \"value\": 8008}, \"10035\": {\"frequency\": 2, \"value\": 10035}, \"6460\": {\"frequency\": 4, \"value\": 6460}, \"10308\": {\"frequency\": 2, \"value\": 10308}, \"77536\": {\"frequency\": 2, \"value\": 77536}, \"1078\": {\"frequency\": 2, \"value\": 1078}, \"6474\": {\"frequency\": 3, \"value\": 6474}, \"13367\": {\"frequency\": 2, \"value\": 13367}, \"6479\": {\"frequency\": 2, \"value\": 6479}, \"6480\": {\"frequency\": 15, \"value\": 6480}, \"6481\": {\"frequency\": 2, \"value\": 6481}, \"1034\": {\"frequency\": 3, \"value\": 1034}, \"6490\": {\"frequency\": 2, \"value\": 6490}, \"21562\": {\"frequency\": 2, \"value\": 21562}, \"6495\": {\"frequency\": 2, \"value\": 6495}, \"383328\": {\"frequency\": 2, \"value\": 383328}, \"6497\": {\"frequency\": 2, \"value\": 6497}, \"6499\": {\"frequency\": 2, \"value\": 6499}, \"6500\": {\"frequency\": 40, \"value\": 6500}, \"6504\": {\"frequency\": 3, \"value\": 6504}, \"88426\": {\"frequency\": 3, \"value\": 88426}, \"6507\": {\"frequency\": 2, \"value\": 6507}, \"6508\": {\"frequency\": 2, \"value\": 6508}, \"6509\": {\"frequency\": 2, \"value\": 6509}, \"6510\": {\"frequency\": 2, \"value\": 6510}, \"6515\": {\"frequency\": 2, \"value\": 6515}, \"6516\": {\"frequency\": 3, \"value\": 6516}, \"3817\": {\"frequency\": 2, \"value\": 3817}, \"47480\": {\"frequency\": 9, \"value\": 47480}, \"6527\": {\"frequency\": 3, \"value\": 6527}, \"6530\": {\"frequency\": 3, \"value\": 6530}, \"6533\": {\"frequency\": 2, \"value\": 6533}, \"6534\": {\"frequency\": 3, \"value\": 6534}, \"5185\": {\"frequency\": 4, \"value\": 5185}, \"6536\": {\"frequency\": 3, \"value\": 6536}, \"6537\": {\"frequency\": 2, \"value\": 6537}, \"6540\": {\"frequency\": 4, \"value\": 6540}, \"6543\": {\"frequency\": 2, \"value\": 6543}, \"6549\": {\"frequency\": 2, \"value\": 6549}, \"6550\": {\"frequency\": 9, \"value\": 6550}, \"6551\": {\"frequency\": 4, \"value\": 6551}, \"6552\": {\"frequency\": 5, \"value\": 6552}, \"6553\": {\"frequency\": 2, \"value\": 6553}, \"6554\": {\"frequency\": 3, \"value\": 6554}, \"6555\": {\"frequency\": 3, \"value\": 6555}, \"6556\": {\"frequency\": 2, \"value\": 6556}, \"6557\": {\"frequency\": 2, \"value\": 6557}, \"6558\": {\"frequency\": 2, \"value\": 6558}, \"4408\": {\"frequency\": 4, \"value\": 4408}, \"6561\": {\"frequency\": 2, \"value\": 6561}, \"6565\": {\"frequency\": 3, \"value\": 6565}, \"6566\": {\"frequency\": 2, \"value\": 6566}, \"6567\": {\"frequency\": 2, \"value\": 6567}, \"6572\": {\"frequency\": 2, \"value\": 6572}, \"6583\": {\"frequency\": 2, \"value\": 6583}, \"6587\": {\"frequency\": 2, \"value\": 6587}, \"6590\": {\"frequency\": 2, \"value\": 6590}, \"6560\": {\"frequency\": 1, \"value\": 6560}, \"3220\": {\"frequency\": 2, \"value\": 3220}, \"6600\": {\"frequency\": 52, \"value\": 6600}, \"1100\": {\"frequency\": 2, \"value\": 1100}, \"6603\": {\"frequency\": 2, \"value\": 6603}, \"6604\": {\"frequency\": 4, \"value\": 6604}, \"6605\": {\"frequency\": 2, \"value\": 6605}, \"6607\": {\"frequency\": 2, \"value\": 6607}, \"14800\": {\"frequency\": 3, \"value\": 14800}, \"144619\": {\"frequency\": 2, \"value\": 144619}, \"6612\": {\"frequency\": 3, \"value\": 6612}, \"6615\": {\"frequency\": 2, \"value\": 6615}, \"23000\": {\"frequency\": 2, \"value\": 23000}, \"6617\": {\"frequency\": 2, \"value\": 6617}, \"14810\": {\"frequency\": 5, \"value\": 14810}, \"1103\": {\"frequency\": 2, \"value\": 1103}, \"6620\": {\"frequency\": 3, \"value\": 6620}, \"6621\": {\"frequency\": 2, \"value\": 6621}, \"6625\": {\"frequency\": 6, \"value\": 6625}, \"6628\": {\"frequency\": 3, \"value\": 6628}, \"6630\": {\"frequency\": 3, \"value\": 6630}, \"14823\": {\"frequency\": 2, \"value\": 14823}, \"6634\": {\"frequency\": 4, \"value\": 6634}, \"6635\": {\"frequency\": 2, \"value\": 6635}, \"6642\": {\"frequency\": 2, \"value\": 6642}, \"6650\": {\"frequency\": 10, \"value\": 6650}, \"11520\": {\"frequency\": 4, \"value\": 11520}, \"6653\": {\"frequency\": 3, \"value\": 6653}, \"6654\": {\"frequency\": 4, \"value\": 6654}, \"6655\": {\"frequency\": 3, \"value\": 6655}, \"6656\": {\"frequency\": 2, \"value\": 6656}, \"12032\": {\"frequency\": 2, \"value\": 12032}, \"14850\": {\"frequency\": 5, \"value\": 14850}, \"6659\": {\"frequency\": 1, \"value\": 6659}, \"6660\": {\"frequency\": 5, \"value\": 6660}, \"6663\": {\"frequency\": 2, \"value\": 6663}, \"6664\": {\"frequency\": 3, \"value\": 6664}, \"6666\": {\"frequency\": 3, \"value\": 6666}, \"6667\": {\"frequency\": 2, \"value\": 6667}, \"14864\": {\"frequency\": 1, \"value\": 14864}, \"6675\": {\"frequency\": 4, \"value\": 6675}, \"6677\": {\"frequency\": 2, \"value\": 6677}, \"6678\": {\"frequency\": 3, \"value\": 6678}, \"9305\": {\"frequency\": 2, \"value\": 9305}, \"13402\": {\"frequency\": 2, \"value\": 13402}, \"6687\": {\"frequency\": 3, \"value\": 6687}, \"6688\": {\"frequency\": 2, \"value\": 6688}, \"64033\": {\"frequency\": 2, \"value\": 64033}, \"6695\": {\"frequency\": 3, \"value\": 6695}, \"6698\": {\"frequency\": 2, \"value\": 6698}, \"6699\": {\"frequency\": 2, \"value\": 6699}, \"6700\": {\"frequency\": 8, \"value\": 6700}, \"6705\": {\"frequency\": 2, \"value\": 6705}, \"1118\": {\"frequency\": 2, \"value\": 1118}, \"39478\": {\"frequency\": 1, \"value\": 39478}, \"55867\": {\"frequency\": 1, \"value\": 55867}, \"23100\": {\"frequency\": 2, \"value\": 23100}, \"12042\": {\"frequency\": 3, \"value\": 12042}, \"6720\": {\"frequency\": 16, \"value\": 6720}, \"1120\": {\"frequency\": 3, \"value\": 1120}, \"7316\": {\"frequency\": 3, \"value\": 7316}, \"6725\": {\"frequency\": 2, \"value\": 6725}, \"6731\": {\"frequency\": 6, \"value\": 6731}, \"6732\": {\"frequency\": 2, \"value\": 6732}, \"6733\": {\"frequency\": 2, \"value\": 6733}, \"6738\": {\"frequency\": 4, \"value\": 6738}, \"6740\": {\"frequency\": 2, \"value\": 6740}, \"6743\": {\"frequency\": 2, \"value\": 6743}, \"6744\": {\"frequency\": 2, \"value\": 6744}, \"13412\": {\"frequency\": 1, \"value\": 13412}, \"12047\": {\"frequency\": 2, \"value\": 12047}, \"6750\": {\"frequency\": 26, \"value\": 6750}, \"6752\": {\"frequency\": 3, \"value\": 6752}, \"6753\": {\"frequency\": 1, \"value\": 6753}, \"6755\": {\"frequency\": 3, \"value\": 6755}, \"219542\": {\"frequency\": 3, \"value\": 219542}, \"14952\": {\"frequency\": 1, \"value\": 14952}, \"6765\": {\"frequency\": 4, \"value\": 6765}, \"6766\": {\"frequency\": 3, \"value\": 6766}, \"6768\": {\"frequency\": 2, \"value\": 6768}, \"6770\": {\"frequency\": 3, \"value\": 6770}, \"6771\": {\"frequency\": 5, \"value\": 6771}, \"14782\": {\"frequency\": 1, \"value\": 14782}, \"6774\": {\"frequency\": 2, \"value\": 6774}, \"6775\": {\"frequency\": 5, \"value\": 6775}, \"6776\": {\"frequency\": 3, \"value\": 6776}, \"6780\": {\"frequency\": 3, \"value\": 6780}, \"6783\": {\"frequency\": 3, \"value\": 6783}, \"1131\": {\"frequency\": 4, \"value\": 1131}, \"6788\": {\"frequency\": 3, \"value\": 6788}, \"14984\": {\"frequency\": 1, \"value\": 14984}, \"14985\": {\"frequency\": 2, \"value\": 14985}, \"14986\": {\"frequency\": 2, \"value\": 14986}, \"6773\": {\"frequency\": 3, \"value\": 6773}, \"6800\": {\"frequency\": 16, \"value\": 6800}, \"12056\": {\"frequency\": 2, \"value\": 12056}, \"6804\": {\"frequency\": 2, \"value\": 6804}, \"6807\": {\"frequency\": 3, \"value\": 6807}, \"15000\": {\"frequency\": 28, \"value\": 15000}, \"15002\": {\"frequency\": 2, \"value\": 15002}, \"15003\": {\"frequency\": 2, \"value\": 15003}, \"203425\": {\"frequency\": 2, \"value\": 203425}, \"6818\": {\"frequency\": 2, \"value\": 6818}, \"3867\": {\"frequency\": 2, \"value\": 3867}, \"6820\": {\"frequency\": 6, \"value\": 6820}, \"2502\": {\"frequency\": 2, \"value\": 2502}, \"6824\": {\"frequency\": 1, \"value\": 6824}, \"6825\": {\"frequency\": 7, \"value\": 6825}, \"6826\": {\"frequency\": 2, \"value\": 6826}, \"6828\": {\"frequency\": 2, \"value\": 6828}, \"15021\": {\"frequency\": 1, \"value\": 15021}, \"15022\": {\"frequency\": 4, \"value\": 15022}, \"6833\": {\"frequency\": 2, \"value\": 6833}, \"15029\": {\"frequency\": 2, \"value\": 15029}, \"6838\": {\"frequency\": 2, \"value\": 6838}, \"6840\": {\"frequency\": 11, \"value\": 6840}, \"6845\": {\"frequency\": 2, \"value\": 6845}, \"6847\": {\"frequency\": 2, \"value\": 6847}, \"6848\": {\"frequency\": 2, \"value\": 6848}, \"6850\": {\"frequency\": 2, \"value\": 6850}, \"13430\": {\"frequency\": 3, \"value\": 13430}, \"6854\": {\"frequency\": 2, \"value\": 6854}, \"6856\": {\"frequency\": 2, \"value\": 6856}, \"55756\": {\"frequency\": 2, \"value\": 55756}, \"15050\": {\"frequency\": 2, \"value\": 15050}, \"6860\": {\"frequency\": 2, \"value\": 6860}, \"6862\": {\"frequency\": 2, \"value\": 6862}, \"6865\": {\"frequency\": 2, \"value\": 6865}, \"6867\": {\"frequency\": 3, \"value\": 6867}, \"6871\": {\"frequency\": 2, \"value\": 6871}, \"6872\": {\"frequency\": 2, \"value\": 6872}, \"6874\": {\"frequency\": 4, \"value\": 6874}, \"6875\": {\"frequency\": 6, \"value\": 6875}, \"5283\": {\"frequency\": 2, \"value\": 5283}, \"15232\": {\"frequency\": 2, \"value\": 15232}, \"6887\": {\"frequency\": 2, \"value\": 6887}, \"31465\": {\"frequency\": 1, \"value\": 31465}, \"6890\": {\"frequency\": 2, \"value\": 6890}, \"15084\": {\"frequency\": 2, \"value\": 15084}, \"6893\": {\"frequency\": 2, \"value\": 6893}, \"6895\": {\"frequency\": 2, \"value\": 6895}, \"6896\": {\"frequency\": 2, \"value\": 6896}, \"6900\": {\"frequency\": 18, \"value\": 6900}, \"6902\": {\"frequency\": 2, \"value\": 6902}, \"6903\": {\"frequency\": 2, \"value\": 6903}, \"6906\": {\"frequency\": 4, \"value\": 6906}, \"6908\": {\"frequency\": 3, \"value\": 6908}, \"6909\": {\"frequency\": 2, \"value\": 6909}, \"6911\": {\"frequency\": 2, \"value\": 6911}, \"6923\": {\"frequency\": 2, \"value\": 6923}, \"6924\": {\"frequency\": 2, \"value\": 6924}, \"15120\": {\"frequency\": 4, \"value\": 15120}, \"6930\": {\"frequency\": 9, \"value\": 6930}, \"5252\": {\"frequency\": 1, \"value\": 5252}, \"6947\": {\"frequency\": 4, \"value\": 6947}, \"15143\": {\"frequency\": 2, \"value\": 15143}, \"6954\": {\"frequency\": 2, \"value\": 6954}, \"9157\": {\"frequency\": 2, \"value\": 9157}, \"47916\": {\"frequency\": 4, \"value\": 47916}, \"6957\": {\"frequency\": 1, \"value\": 6957}, \"6958\": {\"frequency\": 2, \"value\": 6958}, \"15151\": {\"frequency\": 2, \"value\": 15151}, \"6960\": {\"frequency\": 5, \"value\": 6960}, \"9779\": {\"frequency\": 3, \"value\": 9779}, \"6967\": {\"frequency\": 3, \"value\": 6967}, \"6969\": {\"frequency\": 5, \"value\": 6969}, \"6970\": {\"frequency\": 2, \"value\": 6970}, \"13450\": {\"frequency\": 2, \"value\": 13450}, \"6975\": {\"frequency\": 4, \"value\": 6975}, \"6978\": {\"frequency\": 4, \"value\": 6978}, \"6980\": {\"frequency\": 2, \"value\": 6980}, \"6983\": {\"frequency\": 2, \"value\": 6983}, \"6984\": {\"frequency\": 2, \"value\": 6984}, \"6985\": {\"frequency\": 3, \"value\": 6985}, \"219978\": {\"frequency\": 4, \"value\": 219978}, \"6988\": {\"frequency\": 3, \"value\": 6988}, \"6992\": {\"frequency\": 2, \"value\": 6992}, \"6994\": {\"frequency\": 2, \"value\": 6994}, \"15188\": {\"frequency\": 2, \"value\": 15188}, \"7000\": {\"frequency\": 76, \"value\": 7000}, \"7004\": {\"frequency\": 3, \"value\": 7004}, \"7005\": {\"frequency\": 2, \"value\": 7005}, \"7007\": {\"frequency\": 3, \"value\": 7007}, \"15200\": {\"frequency\": 3, \"value\": 15200}, \"9360\": {\"frequency\": 10, \"value\": 9360}, \"12091\": {\"frequency\": 2, \"value\": 12091}, \"7014\": {\"frequency\": 3, \"value\": 7014}, \"7015\": {\"frequency\": 4, \"value\": 7015}, \"23400\": {\"frequency\": 3, \"value\": 23400}, \"12092\": {\"frequency\": 4, \"value\": 12092}, \"10194\": {\"frequency\": 2, \"value\": 10194}, \"7020\": {\"frequency\": 12, \"value\": 7020}, \"13600\": {\"frequency\": 3, \"value\": 13600}, \"7024\": {\"frequency\": 2, \"value\": 7024}, \"97138\": {\"frequency\": 2, \"value\": 97138}, \"7029\": {\"frequency\": 2, \"value\": 7029}, \"7030\": {\"frequency\": 5, \"value\": 7030}, \"7633\": {\"frequency\": 2, \"value\": 7633}, \"7034\": {\"frequency\": 2, \"value\": 7034}, \"7035\": {\"frequency\": 4, \"value\": 7035}, \"7040\": {\"frequency\": 4, \"value\": 7040}, \"15235\": {\"frequency\": 1, \"value\": 15235}, \"7047\": {\"frequency\": 2, \"value\": 7047}, \"7048\": {\"frequency\": 2, \"value\": 7048}, \"7050\": {\"frequency\": 3, \"value\": 7050}, \"7051\": {\"frequency\": 2, \"value\": 7051}, \"15246\": {\"frequency\": 5, \"value\": 15246}, \"7055\": {\"frequency\": 2, \"value\": 7055}, \"7056\": {\"frequency\": 4, \"value\": 7056}, \"15250\": {\"frequency\": 2, \"value\": 15250}, \"7062\": {\"frequency\": 3, \"value\": 7062}, \"7064\": {\"frequency\": 2, \"value\": 7064}, \"15258\": {\"frequency\": 2, \"value\": 15258}, \"7068\": {\"frequency\": 2, \"value\": 7068}, \"7069\": {\"frequency\": 2, \"value\": 7069}, \"7070\": {\"frequency\": 2, \"value\": 7070}, \"7071\": {\"frequency\": 2, \"value\": 7071}, \"15264\": {\"frequency\": 2, \"value\": 15264}, \"7076\": {\"frequency\": 3, \"value\": 7076}, \"7080\": {\"frequency\": 7, \"value\": 7080}, \"7081\": {\"frequency\": 4, \"value\": 7081}, \"7084\": {\"frequency\": 2, \"value\": 7084}, \"7085\": {\"frequency\": 3, \"value\": 7085}, \"2868\": {\"frequency\": 2, \"value\": 2868}, \"7089\": {\"frequency\": 2, \"value\": 7089}, \"7090\": {\"frequency\": 2, \"value\": 7090}, \"7091\": {\"frequency\": 2, \"value\": 7091}, \"9374\": {\"frequency\": 4, \"value\": 9374}, \"7095\": {\"frequency\": 3, \"value\": 7095}, \"1600\": {\"frequency\": 2, \"value\": 1600}, \"7098\": {\"frequency\": 2, \"value\": 7098}, \"7100\": {\"frequency\": 6, \"value\": 7100}, \"7102\": {\"frequency\": 6, \"value\": 7102}, \"23488\": {\"frequency\": 1, \"value\": 23488}, \"7107\": {\"frequency\": 2, \"value\": 7107}, \"7108\": {\"frequency\": 2, \"value\": 7108}, \"7110\": {\"frequency\": 7, \"value\": 7110}, \"7111\": {\"frequency\": 3, \"value\": 7111}, \"7112\": {\"frequency\": 3, \"value\": 7112}, \"7119\": {\"frequency\": 2, \"value\": 7119}, \"7120\": {\"frequency\": 5, \"value\": 7120}, \"2552\": {\"frequency\": 3, \"value\": 2552}, \"7123\": {\"frequency\": 2, \"value\": 7123}, \"10330\": {\"frequency\": 3, \"value\": 10330}, \"7125\": {\"frequency\": 9, \"value\": 7125}, \"7128\": {\"frequency\": 6, \"value\": 7128}, \"7129\": {\"frequency\": 2, \"value\": 7129}, \"7130\": {\"frequency\": 2, \"value\": 7130}, \"7131\": {\"frequency\": 2, \"value\": 7131}, \"7134\": {\"frequency\": 3, \"value\": 7134}, \"7136\": {\"frequency\": 2, \"value\": 7136}, \"7137\": {\"frequency\": 2, \"value\": 7137}, \"23522\": {\"frequency\": 4, \"value\": 23522}, \"6651\": {\"frequency\": 2, \"value\": 6651}, \"7140\": {\"frequency\": 19, \"value\": 7140}, \"10866\": {\"frequency\": 2, \"value\": 10866}, \"213008\": {\"frequency\": 6, \"value\": 213008}, \"7145\": {\"frequency\": 2, \"value\": 7145}, \"7149\": {\"frequency\": 2, \"value\": 7149}, \"7150\": {\"frequency\": 9, \"value\": 7150}, \"7153\": {\"frequency\": 3, \"value\": 7153}, \"15347\": {\"frequency\": 1, \"value\": 15347}, \"7156\": {\"frequency\": 2, \"value\": 7156}, \"7157\": {\"frequency\": 2, \"value\": 7157}, \"9385\": {\"frequency\": 2, \"value\": 9385}, \"7161\": {\"frequency\": 2, \"value\": 7161}, \"7163\": {\"frequency\": 3, \"value\": 7163}, \"15360\": {\"frequency\": 2, \"value\": 15360}, \"10752\": {\"frequency\": 2, \"value\": 10752}, \"7171\": {\"frequency\": 3, \"value\": 7171}, \"7172\": {\"frequency\": 2, \"value\": 7172}, \"7173\": {\"frequency\": 3, \"value\": 7173}, \"15367\": {\"frequency\": 1, \"value\": 15367}, \"7178\": {\"frequency\": 2, \"value\": 7178}, \"32700\": {\"frequency\": 3, \"value\": 32700}, \"6658\": {\"frequency\": 2, \"value\": 6658}, \"15375\": {\"frequency\": 4, \"value\": 15375}, \"7184\": {\"frequency\": 4, \"value\": 7184}, \"435600\": {\"frequency\": 6, \"value\": 435600}, \"7187\": {\"frequency\": 7, \"value\": 7187}, \"7191\": {\"frequency\": 3, \"value\": 7191}, \"7192\": {\"frequency\": 2, \"value\": 7192}, \"7194\": {\"frequency\": 7, \"value\": 7194}, \"7197\": {\"frequency\": 2, \"value\": 7197}, \"7198\": {\"frequency\": 4, \"value\": 7198}, \"7199\": {\"frequency\": 7, \"value\": 7199}, \"7200\": {\"frequency\": 220, \"value\": 7200}, \"7201\": {\"frequency\": 8, \"value\": 7201}, \"7202\": {\"frequency\": 6, \"value\": 7202}, \"7203\": {\"frequency\": 7, \"value\": 7203}, \"7204\": {\"frequency\": 4, \"value\": 7204}, \"7205\": {\"frequency\": 6, \"value\": 7205}, \"7207\": {\"frequency\": 5, \"value\": 7207}, \"7208\": {\"frequency\": 8, \"value\": 7208}, \"72745\": {\"frequency\": 1, \"value\": 72745}, \"7210\": {\"frequency\": 38, \"value\": 7210}, \"7213\": {\"frequency\": 2, \"value\": 7213}, \"7214\": {\"frequency\": 3, \"value\": 7214}, \"12125\": {\"frequency\": 1, \"value\": 12125}, \"7216\": {\"frequency\": 5, \"value\": 7216}, \"7218\": {\"frequency\": 2, \"value\": 7218}, \"15411\": {\"frequency\": 2, \"value\": 15411}, \"7220\": {\"frequency\": 5, \"value\": 7220}, \"7221\": {\"frequency\": 4, \"value\": 7221}, \"7222\": {\"frequency\": 2, \"value\": 7222}, \"7223\": {\"frequency\": 2, \"value\": 7223}, \"7224\": {\"frequency\": 2, \"value\": 7224}, \"7225\": {\"frequency\": 7, \"value\": 7225}, \"7226\": {\"frequency\": 3, \"value\": 7226}, \"7227\": {\"frequency\": 3, \"value\": 7227}, \"15420\": {\"frequency\": 1, \"value\": 15420}, \"7229\": {\"frequency\": 3, \"value\": 7229}, \"7230\": {\"frequency\": 5, \"value\": 7230}, \"7231\": {\"frequency\": 3, \"value\": 7231}, \"7232\": {\"frequency\": 7, \"value\": 7232}, \"7236\": {\"frequency\": 5, \"value\": 7236}, \"7238\": {\"frequency\": 2, \"value\": 7238}, \"7242\": {\"frequency\": 7, \"value\": 7242}, \"7245\": {\"frequency\": 17, \"value\": 7245}, \"7246\": {\"frequency\": 2, \"value\": 7246}, \"7247\": {\"frequency\": 2, \"value\": 7247}, \"1208\": {\"frequency\": 2, \"value\": 1208}, \"7250\": {\"frequency\": 14, \"value\": 7250}, \"7251\": {\"frequency\": 4, \"value\": 7251}, \"7252\": {\"frequency\": 3, \"value\": 7252}, \"7254\": {\"frequency\": 3, \"value\": 7254}, \"7258\": {\"frequency\": 3, \"value\": 7258}, \"7260\": {\"frequency\": 17, \"value\": 7260}, \"7261\": {\"frequency\": 2, \"value\": 7261}, \"7264\": {\"frequency\": 4, \"value\": 7264}, \"7265\": {\"frequency\": 2, \"value\": 7265}, \"7266\": {\"frequency\": 3, \"value\": 7266}, \"7267\": {\"frequency\": 2, \"value\": 7267}, \"7268\": {\"frequency\": 3, \"value\": 7268}, \"210830\": {\"frequency\": 2, \"value\": 210830}, \"7272\": {\"frequency\": 2, \"value\": 7272}, \"7274\": {\"frequency\": 2, \"value\": 7274}, \"7275\": {\"frequency\": 6, \"value\": 7275}, \"7276\": {\"frequency\": 5, \"value\": 7276}, \"7277\": {\"frequency\": 3, \"value\": 7277}, \"7279\": {\"frequency\": 2, \"value\": 7279}, \"7280\": {\"frequency\": 17, \"value\": 7280}, \"7282\": {\"frequency\": 3, \"value\": 7282}, \"7286\": {\"frequency\": 1, \"value\": 7286}, \"7287\": {\"frequency\": 2, \"value\": 7287}, \"15480\": {\"frequency\": 2, \"value\": 15480}, \"7290\": {\"frequency\": 5, \"value\": 7290}, \"7291\": {\"frequency\": 2, \"value\": 7291}, \"7292\": {\"frequency\": 5, \"value\": 7292}, \"81021\": {\"frequency\": 4, \"value\": 81021}, \"87120\": {\"frequency\": 3, \"value\": 87120}, \"23680\": {\"frequency\": 1, \"value\": 23680}, \"7297\": {\"frequency\": 2, \"value\": 7297}, \"7300\": {\"frequency\": 17, \"value\": 7300}, \"7302\": {\"frequency\": 1, \"value\": 7302}, \"7303\": {\"frequency\": 3, \"value\": 7303}, \"7304\": {\"frequency\": 2, \"value\": 7304}, \"7306\": {\"frequency\": 2, \"value\": 7306}, \"7307\": {\"frequency\": 2, \"value\": 7307}, \"7308\": {\"frequency\": 2, \"value\": 7308}, \"7309\": {\"frequency\": 2, \"value\": 7309}, \"7311\": {\"frequency\": 2, \"value\": 7311}, \"7312\": {\"frequency\": 4, \"value\": 7312}, \"7313\": {\"frequency\": 5, \"value\": 7313}, \"7314\": {\"frequency\": 9, \"value\": 7314}, \"7315\": {\"frequency\": 2, \"value\": 7315}, \"15508\": {\"frequency\": 2, \"value\": 15508}, \"7318\": {\"frequency\": 2, \"value\": 7318}, \"7320\": {\"frequency\": 11, \"value\": 7320}, \"7324\": {\"frequency\": 3, \"value\": 7324}, \"7326\": {\"frequency\": 2, \"value\": 7326}, \"15520\": {\"frequency\": 2, \"value\": 15520}, \"7330\": {\"frequency\": 2, \"value\": 7330}, \"7331\": {\"frequency\": 1, \"value\": 7331}, \"7332\": {\"frequency\": 2, \"value\": 7332}, \"1222\": {\"frequency\": 3, \"value\": 1222}, \"7334\": {\"frequency\": 4, \"value\": 7334}, \"8049\": {\"frequency\": 4, \"value\": 8049}, \"7336\": {\"frequency\": 3, \"value\": 7336}, \"212137\": {\"frequency\": 3, \"value\": 212137}, \"7338\": {\"frequency\": 2, \"value\": 7338}, \"7340\": {\"frequency\": 2, \"value\": 7340}, \"7341\": {\"frequency\": 2, \"value\": 7341}, \"6685\": {\"frequency\": 6, \"value\": 6685}, \"7344\": {\"frequency\": 7, \"value\": 7344}, \"7345\": {\"frequency\": 5, \"value\": 7345}, \"7347\": {\"frequency\": 2, \"value\": 7347}, \"15540\": {\"frequency\": 3, \"value\": 15540}, \"7349\": {\"frequency\": 2, \"value\": 7349}, \"7350\": {\"frequency\": 64, \"value\": 7350}, \"7352\": {\"frequency\": 2, \"value\": 7352}, \"7355\": {\"frequency\": 2, \"value\": 7355}, \"7357\": {\"frequency\": 2, \"value\": 7357}, \"7360\": {\"frequency\": 2, \"value\": 7360}, \"7361\": {\"frequency\": 2, \"value\": 7361}, \"13515\": {\"frequency\": 3, \"value\": 13515}, \"7364\": {\"frequency\": 2, \"value\": 7364}, \"1228\": {\"frequency\": 2, \"value\": 1228}, \"7370\": {\"frequency\": 5, \"value\": 7370}, \"40139\": {\"frequency\": 1, \"value\": 40139}, \"7372\": {\"frequency\": 3, \"value\": 7372}, \"7373\": {\"frequency\": 2, \"value\": 7373}, \"7375\": {\"frequency\": 3, \"value\": 7375}, \"89298\": {\"frequency\": 4, \"value\": 89298}, \"7379\": {\"frequency\": 2, \"value\": 7379}, \"7380\": {\"frequency\": 5, \"value\": 7380}, \"8057\": {\"frequency\": 2, \"value\": 8057}, \"7384\": {\"frequency\": 5, \"value\": 7384}, \"7386\": {\"frequency\": 2, \"value\": 7386}, \"7388\": {\"frequency\": 2, \"value\": 7388}, \"7389\": {\"frequency\": 3, \"value\": 7389}, \"48351\": {\"frequency\": 5, \"value\": 48351}, \"7392\": {\"frequency\": 4, \"value\": 7392}, \"7399\": {\"frequency\": 3, \"value\": 7399}, \"7400\": {\"frequency\": 16, \"value\": 7400}, \"15593\": {\"frequency\": 2, \"value\": 15593}, \"7403\": {\"frequency\": 3, \"value\": 7403}, \"7405\": {\"frequency\": 3, \"value\": 7405}, \"7066\": {\"frequency\": 3, \"value\": 7066}, \"15600\": {\"frequency\": 10, \"value\": 15600}, \"43560\": {\"frequency\": 21, \"value\": 43560}, \"7410\": {\"frequency\": 8, \"value\": 7410}, \"1235\": {\"frequency\": 2, \"value\": 1235}, \"7412\": {\"frequency\": 6, \"value\": 7412}, \"7414\": {\"frequency\": 3, \"value\": 7414}, \"7415\": {\"frequency\": 4, \"value\": 7415}, \"7416\": {\"frequency\": 7, \"value\": 7416}, \"7417\": {\"frequency\": 4, \"value\": 7417}, \"7419\": {\"frequency\": 4, \"value\": 7419}, \"7420\": {\"frequency\": 9, \"value\": 7420}, \"7423\": {\"frequency\": 2, \"value\": 7423}, \"7424\": {\"frequency\": 2, \"value\": 7424}, \"7425\": {\"frequency\": 3, \"value\": 7425}, \"1238\": {\"frequency\": 2, \"value\": 1238}, \"7434\": {\"frequency\": 5, \"value\": 7434}, \"7435\": {\"frequency\": 2, \"value\": 7435}, \"7439\": {\"frequency\": 4, \"value\": 7439}, \"7440\": {\"frequency\": 14, \"value\": 7440}, \"7442\": {\"frequency\": 1, \"value\": 7442}, \"7447\": {\"frequency\": 3, \"value\": 7447}, \"15641\": {\"frequency\": 2, \"value\": 15641}, \"7450\": {\"frequency\": 3, \"value\": 7450}, \"7452\": {\"frequency\": 2, \"value\": 7452}, \"5338\": {\"frequency\": 3, \"value\": 5338}, \"7455\": {\"frequency\": 5, \"value\": 7455}, \"7460\": {\"frequency\": 2, \"value\": 7460}, \"15653\": {\"frequency\": 2, \"value\": 15653}, \"7465\": {\"frequency\": 3, \"value\": 7465}, \"7467\": {\"frequency\": 3, \"value\": 7467}, \"7470\": {\"frequency\": 3, \"value\": 7470}, \"7473\": {\"frequency\": 3, \"value\": 7473}, \"7475\": {\"frequency\": 10, \"value\": 7475}, \"7476\": {\"frequency\": 2, \"value\": 7476}, \"7479\": {\"frequency\": 2, \"value\": 7479}, \"7480\": {\"frequency\": 11, \"value\": 7480}, \"17707\": {\"frequency\": 2, \"value\": 17707}, \"7482\": {\"frequency\": 5, \"value\": 7482}, \"7484\": {\"frequency\": 2, \"value\": 7484}, \"7485\": {\"frequency\": 2, \"value\": 7485}, \"7486\": {\"frequency\": 2, \"value\": 7486}, \"7488\": {\"frequency\": 4, \"value\": 7488}, \"15681\": {\"frequency\": 2, \"value\": 15681}, \"7490\": {\"frequency\": 7, \"value\": 7490}, \"7491\": {\"frequency\": 3, \"value\": 7491}, \"7492\": {\"frequency\": 2, \"value\": 7492}, \"6710\": {\"frequency\": 6, \"value\": 6710}, \"7494\": {\"frequency\": 2, \"value\": 7494}, \"7495\": {\"frequency\": 2, \"value\": 7495}, \"7500\": {\"frequency\": 119, \"value\": 7500}, \"7503\": {\"frequency\": 2, \"value\": 7503}, \"7505\": {\"frequency\": 2, \"value\": 7505}, \"7506\": {\"frequency\": 2, \"value\": 7506}, \"7508\": {\"frequency\": 4, \"value\": 7508}, \"7510\": {\"frequency\": 3, \"value\": 7510}, \"7517\": {\"frequency\": 2, \"value\": 7517}, \"7519\": {\"frequency\": 3, \"value\": 7519}, \"7520\": {\"frequency\": 5, \"value\": 7520}, \"7521\": {\"frequency\": 2, \"value\": 7521}, \"7524\": {\"frequency\": 2, \"value\": 7524}, \"7525\": {\"frequency\": 2, \"value\": 7525}, \"7526\": {\"frequency\": 4, \"value\": 7526}, \"7532\": {\"frequency\": 2, \"value\": 7532}, \"32109\": {\"frequency\": 2, \"value\": 32109}, \"6717\": {\"frequency\": 2, \"value\": 6717}, \"1256\": {\"frequency\": 3, \"value\": 1256}, \"7538\": {\"frequency\": 3, \"value\": 7538}, \"7540\": {\"frequency\": 6, \"value\": 7540}, \"7543\": {\"frequency\": 2, \"value\": 7543}, \"105850\": {\"frequency\": 2, \"value\": 105850}, \"7549\": {\"frequency\": 2, \"value\": 7549}, \"7550\": {\"frequency\": 2, \"value\": 7550}, \"7552\": {\"frequency\": 5, \"value\": 7552}, \"7553\": {\"frequency\": 2, \"value\": 7553}, \"5707\": {\"frequency\": 2, \"value\": 5707}, \"7555\": {\"frequency\": 3, \"value\": 7555}, \"15750\": {\"frequency\": 2, \"value\": 15750}, \"7559\": {\"frequency\": 1, \"value\": 7559}, \"7560\": {\"frequency\": 48, \"value\": 7560}, \"7561\": {\"frequency\": 2, \"value\": 7561}, \"7562\": {\"frequency\": 1, \"value\": 7562}, \"7565\": {\"frequency\": 2, \"value\": 7565}, \"7566\": {\"frequency\": 4, \"value\": 7566}, \"7567\": {\"frequency\": 2, \"value\": 7567}, \"7569\": {\"frequency\": 2, \"value\": 7569}, \"7570\": {\"frequency\": 2, \"value\": 7570}, \"7573\": {\"frequency\": 3, \"value\": 7573}, \"7575\": {\"frequency\": 9, \"value\": 7575}, \"7577\": {\"frequency\": 2, \"value\": 7577}, \"15770\": {\"frequency\": 1, \"value\": 15770}, \"7579\": {\"frequency\": 1, \"value\": 7579}, \"7582\": {\"frequency\": 2, \"value\": 7582}, \"7584\": {\"frequency\": 2, \"value\": 7584}, \"7585\": {\"frequency\": 2, \"value\": 7585}, \"7587\": {\"frequency\": 2, \"value\": 7587}, \"7589\": {\"frequency\": 3, \"value\": 7589}, \"7590\": {\"frequency\": 8, \"value\": 7590}, \"15783\": {\"frequency\": 2, \"value\": 15783}, \"15788\": {\"frequency\": 2, \"value\": 15788}, \"7598\": {\"frequency\": 3, \"value\": 7598}, \"7599\": {\"frequency\": 4, \"value\": 7599}, \"7600\": {\"frequency\": 12, \"value\": 7600}, \"7601\": {\"frequency\": 3, \"value\": 7601}, \"7605\": {\"frequency\": 3, \"value\": 7605}, \"15798\": {\"frequency\": 1, \"value\": 15798}, \"7607\": {\"frequency\": 2, \"value\": 7607}, \"7609\": {\"frequency\": 3, \"value\": 7609}, \"7610\": {\"frequency\": 2, \"value\": 7610}, \"8164\": {\"frequency\": 4, \"value\": 8164}, \"7614\": {\"frequency\": 2, \"value\": 7614}, \"7615\": {\"frequency\": 4, \"value\": 7615}, \"7616\": {\"frequency\": 2, \"value\": 7616}, \"155073\": {\"frequency\": 1, \"value\": 155073}, \"7620\": {\"frequency\": 30, \"value\": 7620}, \"7623\": {\"frequency\": 2, \"value\": 7623}, \"9216\": {\"frequency\": 3, \"value\": 9216}, \"7625\": {\"frequency\": 3, \"value\": 7625}, \"7626\": {\"frequency\": 2, \"value\": 7626}, \"7630\": {\"frequency\": 4, \"value\": 7630}, \"14925\": {\"frequency\": 2, \"value\": 14925}, \"7632\": {\"frequency\": 5, \"value\": 7632}, \"5368\": {\"frequency\": 2, \"value\": 5368}, \"7634\": {\"frequency\": 3, \"value\": 7634}, \"7636\": {\"frequency\": 3, \"value\": 7636}, \"7639\": {\"frequency\": 2, \"value\": 7639}, \"7641\": {\"frequency\": 3, \"value\": 7641}, \"7642\": {\"frequency\": 4, \"value\": 7642}, \"7644\": {\"frequency\": 3, \"value\": 7644}, \"7645\": {\"frequency\": 2, \"value\": 7645}, \"4005\": {\"frequency\": 3, \"value\": 4005}, \"7649\": {\"frequency\": 2, \"value\": 7649}, \"15842\": {\"frequency\": 1, \"value\": 15842}, \"7651\": {\"frequency\": 2, \"value\": 7651}, \"1276\": {\"frequency\": 3, \"value\": 1276}, \"7658\": {\"frequency\": 2, \"value\": 7658}, \"7660\": {\"frequency\": 3, \"value\": 7660}, \"65005\": {\"frequency\": 1, \"value\": 65005}, \"32239\": {\"frequency\": 1, \"value\": 32239}, \"7665\": {\"frequency\": 6, \"value\": 7665}, \"7667\": {\"frequency\": 4, \"value\": 7667}, \"7668\": {\"frequency\": 2, \"value\": 7668}, \"7669\": {\"frequency\": 1, \"value\": 7669}, \"40438\": {\"frequency\": 1, \"value\": 40438}, \"7673\": {\"frequency\": 2, \"value\": 7673}, \"1279\": {\"frequency\": 4, \"value\": 1279}, \"7679\": {\"frequency\": 3, \"value\": 7679}, \"7680\": {\"frequency\": 27, \"value\": 7680}, \"9472\": {\"frequency\": 2, \"value\": 9472}, \"7683\": {\"frequency\": 3, \"value\": 7683}, \"7684\": {\"frequency\": 2, \"value\": 7684}, \"24069\": {\"frequency\": 1, \"value\": 24069}, \"7686\": {\"frequency\": 5, \"value\": 7686}, \"1281\": {\"frequency\": 4, \"value\": 1281}, \"7688\": {\"frequency\": 2, \"value\": 7688}, \"8108\": {\"frequency\": 2, \"value\": 8108}, \"7690\": {\"frequency\": 3, \"value\": 7690}, \"7693\": {\"frequency\": 3, \"value\": 7693}, \"7694\": {\"frequency\": 4, \"value\": 7694}, \"7695\": {\"frequency\": 2, \"value\": 7695}, \"7697\": {\"frequency\": 4, \"value\": 7697}, \"7698\": {\"frequency\": 2, \"value\": 7698}, \"7700\": {\"frequency\": 66, \"value\": 7700}, \"7701\": {\"frequency\": 3, \"value\": 7701}, \"7702\": {\"frequency\": 2, \"value\": 7702}, \"8167\": {\"frequency\": 2, \"value\": 8167}, \"7708\": {\"frequency\": 3, \"value\": 7708}, \"7710\": {\"frequency\": 3, \"value\": 7710}, \"169448\": {\"frequency\": 2, \"value\": 169448}, \"7712\": {\"frequency\": 2, \"value\": 7712}, \"7713\": {\"frequency\": 2, \"value\": 7713}, \"7715\": {\"frequency\": 2, \"value\": 7715}, \"7716\": {\"frequency\": 2, \"value\": 7716}, \"7719\": {\"frequency\": 2, \"value\": 7719}, \"7720\": {\"frequency\": 2, \"value\": 7720}, \"7722\": {\"frequency\": 2, \"value\": 7722}, \"1287\": {\"frequency\": 2, \"value\": 1287}, \"7724\": {\"frequency\": 2, \"value\": 7724}, \"7725\": {\"frequency\": 9, \"value\": 7725}, \"7727\": {\"frequency\": 2, \"value\": 7727}, \"7728\": {\"frequency\": 2, \"value\": 7728}, \"7730\": {\"frequency\": 3, \"value\": 7730}, \"7733\": {\"frequency\": 3, \"value\": 7733}, \"7735\": {\"frequency\": 6, \"value\": 7735}, \"7737\": {\"frequency\": 2, \"value\": 7737}, \"7738\": {\"frequency\": 3, \"value\": 7738}, \"7739\": {\"frequency\": 2, \"value\": 7739}, \"7740\": {\"frequency\": 16, \"value\": 7740}, \"7741\": {\"frequency\": 2, \"value\": 7741}, \"7742\": {\"frequency\": 5, \"value\": 7742}, \"7745\": {\"frequency\": 1, \"value\": 7745}, \"7746\": {\"frequency\": 2, \"value\": 7746}, \"7749\": {\"frequency\": 3, \"value\": 7749}, \"40518\": {\"frequency\": 1, \"value\": 40518}, \"7752\": {\"frequency\": 2, \"value\": 7752}, \"7753\": {\"frequency\": 2, \"value\": 7753}, \"7754\": {\"frequency\": 3, \"value\": 7754}, \"7755\": {\"frequency\": 2, \"value\": 7755}, \"7757\": {\"frequency\": 4, \"value\": 7757}, \"7759\": {\"frequency\": 2, \"value\": 7759}, \"7760\": {\"frequency\": 2, \"value\": 7760}, \"15954\": {\"frequency\": 1, \"value\": 15954}, \"1294\": {\"frequency\": 2, \"value\": 1294}, \"7770\": {\"frequency\": 9, \"value\": 7770}, \"7772\": {\"frequency\": 2, \"value\": 7772}, \"7775\": {\"frequency\": 3, \"value\": 7775}, \"1296\": {\"frequency\": 3, \"value\": 1296}, \"7778\": {\"frequency\": 3, \"value\": 7778}, \"7781\": {\"frequency\": 2, \"value\": 7781}, \"12220\": {\"frequency\": 3, \"value\": 12220}, \"171626\": {\"frequency\": 1, \"value\": 171626}, \"7787\": {\"frequency\": 1, \"value\": 7787}, \"7790\": {\"frequency\": 2, \"value\": 7790}, \"6760\": {\"frequency\": 4, \"value\": 6760}, \"7794\": {\"frequency\": 2, \"value\": 7794}, \"7797\": {\"frequency\": 2, \"value\": 7797}, \"7798\": {\"frequency\": 2, \"value\": 7798}, \"7800\": {\"frequency\": 69, \"value\": 7800}, \"24186\": {\"frequency\": 1, \"value\": 24186}, \"7803\": {\"frequency\": 3, \"value\": 7803}, \"7806\": {\"frequency\": 2, \"value\": 7806}, \"7807\": {\"frequency\": 5, \"value\": 7807}, \"16000\": {\"frequency\": 14, \"value\": 16000}, \"7809\": {\"frequency\": 2, \"value\": 7809}, \"7810\": {\"frequency\": 5, \"value\": 7810}, \"7811\": {\"frequency\": 2, \"value\": 7811}, \"5200\": {\"frequency\": 64, \"value\": 5200}, \"5398\": {\"frequency\": 3, \"value\": 5398}, \"7819\": {\"frequency\": 3, \"value\": 7819}, \"7820\": {\"frequency\": 3, \"value\": 7820}, \"7821\": {\"frequency\": 3, \"value\": 7821}, \"16015\": {\"frequency\": 3, \"value\": 16015}, \"7826\": {\"frequency\": 3, \"value\": 7826}, \"48787\": {\"frequency\": 5, \"value\": 48787}, \"16020\": {\"frequency\": 2, \"value\": 16020}, \"7830\": {\"frequency\": 5, \"value\": 7830}, \"7832\": {\"frequency\": 2, \"value\": 7832}, \"11172\": {\"frequency\": 2, \"value\": 11172}, \"7838\": {\"frequency\": 4, \"value\": 7838}, \"7840\": {\"frequency\": 7, \"value\": 7840}, \"7845\": {\"frequency\": 2, \"value\": 7845}, \"7848\": {\"frequency\": 2, \"value\": 7848}, \"7850\": {\"frequency\": 5, \"value\": 7850}, \"7851\": {\"frequency\": 2, \"value\": 7851}, \"7853\": {\"frequency\": 2, \"value\": 7853}, \"7854\": {\"frequency\": 5, \"value\": 7854}, \"7857\": {\"frequency\": 4, \"value\": 7857}, \"16050\": {\"frequency\": 3, \"value\": 16050}, \"7859\": {\"frequency\": 2, \"value\": 7859}, \"7860\": {\"frequency\": 3, \"value\": 7860}, \"7861\": {\"frequency\": 3, \"value\": 7861}, \"7862\": {\"frequency\": 2, \"value\": 7862}, \"7863\": {\"frequency\": 2, \"value\": 7863}, \"7865\": {\"frequency\": 2, \"value\": 7865}, \"7866\": {\"frequency\": 2, \"value\": 7866}, \"7870\": {\"frequency\": 2, \"value\": 7870}, \"72309\": {\"frequency\": 3, \"value\": 72309}, \"16065\": {\"frequency\": 2, \"value\": 16065}, \"7875\": {\"frequency\": 19, \"value\": 7875}, \"7876\": {\"frequency\": 2, \"value\": 7876}, \"7877\": {\"frequency\": 3, \"value\": 7877}, \"7880\": {\"frequency\": 2, \"value\": 7880}, \"7881\": {\"frequency\": 2, \"value\": 7881}, \"7884\": {\"frequency\": 3, \"value\": 7884}, \"7885\": {\"frequency\": 2, \"value\": 7885}, \"7896\": {\"frequency\": 2, \"value\": 7896}, \"7897\": {\"frequency\": 3, \"value\": 7897}, \"7900\": {\"frequency\": 8, \"value\": 7900}, \"7902\": {\"frequency\": 3, \"value\": 7902}, \"7903\": {\"frequency\": 2, \"value\": 7903}, \"7904\": {\"frequency\": 7, \"value\": 7904}, \"7906\": {\"frequency\": 2, \"value\": 7906}, \"7910\": {\"frequency\": 6, \"value\": 7910}, \"57063\": {\"frequency\": 6, \"value\": 57063}, \"7912\": {\"frequency\": 4, \"value\": 7912}, \"27260\": {\"frequency\": 1, \"value\": 27260}, \"7916\": {\"frequency\": 3, \"value\": 7916}, \"7920\": {\"frequency\": 25, \"value\": 7920}, \"9512\": {\"frequency\": 2, \"value\": 9512}, \"7923\": {\"frequency\": 2, \"value\": 7923}, \"7924\": {\"frequency\": 2, \"value\": 7924}, \"16117\": {\"frequency\": 4, \"value\": 16117}, \"7928\": {\"frequency\": 2, \"value\": 7928}, \"7930\": {\"frequency\": 9, \"value\": 7930}, \"7931\": {\"frequency\": 2, \"value\": 7931}, \"7936\": {\"frequency\": 6, \"value\": 7936}, \"2688\": {\"frequency\": 2, \"value\": 2688}, \"7939\": {\"frequency\": 1, \"value\": 7939}, \"7941\": {\"frequency\": 2, \"value\": 7941}, \"7942\": {\"frequency\": 2, \"value\": 7942}, \"7944\": {\"frequency\": 2, \"value\": 7944}, \"7945\": {\"frequency\": 3, \"value\": 7945}, \"7947\": {\"frequency\": 3, \"value\": 7947}, \"7950\": {\"frequency\": 8, \"value\": 7950}, \"9517\": {\"frequency\": 2, \"value\": 9517}, \"7952\": {\"frequency\": 2, \"value\": 7952}, \"7953\": {\"frequency\": 3, \"value\": 7953}, \"7955\": {\"frequency\": 2, \"value\": 7955}, \"7956\": {\"frequency\": 2, \"value\": 7956}, \"7957\": {\"frequency\": 4, \"value\": 7957}, \"7958\": {\"frequency\": 3, \"value\": 7958}, \"39000\": {\"frequency\": 2, \"value\": 39000}, \"7961\": {\"frequency\": 2, \"value\": 7961}, \"7964\": {\"frequency\": 2, \"value\": 7964}, \"7965\": {\"frequency\": 4, \"value\": 7965}, \"7969\": {\"frequency\": 3, \"value\": 7969}, \"7972\": {\"frequency\": 2, \"value\": 7972}, \"7973\": {\"frequency\": 2, \"value\": 7973}, \"7975\": {\"frequency\": 3, \"value\": 7975}, \"4060\": {\"frequency\": 4, \"value\": 4060}, \"16171\": {\"frequency\": 1, \"value\": 16171}, \"7980\": {\"frequency\": 18, \"value\": 7980}, \"7982\": {\"frequency\": 2, \"value\": 7982}, \"7984\": {\"frequency\": 2, \"value\": 7984}, \"7986\": {\"frequency\": 2, \"value\": 7986}, \"9523\": {\"frequency\": 2, \"value\": 9523}, \"7989\": {\"frequency\": 2, \"value\": 7989}, \"7991\": {\"frequency\": 2, \"value\": 7991}, \"7992\": {\"frequency\": 5, \"value\": 7992}, \"7995\": {\"frequency\": 3, \"value\": 7995}, \"65340\": {\"frequency\": 6, \"value\": 65340}, \"7998\": {\"frequency\": 2, \"value\": 7998}, \"1333\": {\"frequency\": 2, \"value\": 1333}, \"8000\": {\"frequency\": 76, \"value\": 8000}, \"8001\": {\"frequency\": 3, \"value\": 8001}, \"8004\": {\"frequency\": 3, \"value\": 8004}, \"8005\": {\"frequency\": 3, \"value\": 8005}, \"16200\": {\"frequency\": 17, \"value\": 16200}, \"8009\": {\"frequency\": 2, \"value\": 8009}, \"8010\": {\"frequency\": 2, \"value\": 8010}, \"8162\": {\"frequency\": 3, \"value\": 8162}, \"8015\": {\"frequency\": 2, \"value\": 8015}, \"1178\": {\"frequency\": 2, \"value\": 1178}, \"8018\": {\"frequency\": 2, \"value\": 8018}, \"8019\": {\"frequency\": 2, \"value\": 8019}, \"8022\": {\"frequency\": 3, \"value\": 8022}, \"8025\": {\"frequency\": 3, \"value\": 8025}, \"237402\": {\"frequency\": 2, \"value\": 237402}, \"8027\": {\"frequency\": 2, \"value\": 8027}, \"8028\": {\"frequency\": 2, \"value\": 8028}, \"8029\": {\"frequency\": 2, \"value\": 8029}, \"8030\": {\"frequency\": 5, \"value\": 8030}, \"81893\": {\"frequency\": 2, \"value\": 81893}, \"8034\": {\"frequency\": 3, \"value\": 8034}, \"1339\": {\"frequency\": 2, \"value\": 1339}, \"8036\": {\"frequency\": 4, \"value\": 8036}, \"8040\": {\"frequency\": 15, \"value\": 8040}, \"8043\": {\"frequency\": 2, \"value\": 8043}, \"45004\": {\"frequency\": 1, \"value\": 45004}, \"8048\": {\"frequency\": 2, \"value\": 8048}, \"39639\": {\"frequency\": 3, \"value\": 39639}, \"8050\": {\"frequency\": 16, \"value\": 8050}, \"13630\": {\"frequency\": 2, \"value\": 13630}, \"8055\": {\"frequency\": 2, \"value\": 8055}, \"8056\": {\"frequency\": 3, \"value\": 8056}, \"32633\": {\"frequency\": 1, \"value\": 32633}, \"8058\": {\"frequency\": 4, \"value\": 8058}, \"9535\": {\"frequency\": 2, \"value\": 9535}, \"8060\": {\"frequency\": 4, \"value\": 8060}, \"8170\": {\"frequency\": 3, \"value\": 8170}, \"8062\": {\"frequency\": 2, \"value\": 8062}, \"8063\": {\"frequency\": 3, \"value\": 8063}, \"8064\": {\"frequency\": 5, \"value\": 8064}, \"8065\": {\"frequency\": 4, \"value\": 8065}, \"16258\": {\"frequency\": 2, \"value\": 16258}, \"8067\": {\"frequency\": 2, \"value\": 8067}, \"8069\": {\"frequency\": 2, \"value\": 8069}, \"8072\": {\"frequency\": 2, \"value\": 8072}, \"8073\": {\"frequency\": 3, \"value\": 8073}, \"8075\": {\"frequency\": 6, \"value\": 8075}, \"8076\": {\"frequency\": 4, \"value\": 8076}, \"8078\": {\"frequency\": 2, \"value\": 8078}, \"8080\": {\"frequency\": 1, \"value\": 8080}, \"8085\": {\"frequency\": 3, \"value\": 8085}, \"8086\": {\"frequency\": 4, \"value\": 8086}, \"8088\": {\"frequency\": 2, \"value\": 8088}, \"1348\": {\"frequency\": 3, \"value\": 1348}, \"32666\": {\"frequency\": 1, \"value\": 32666}, \"4079\": {\"frequency\": 2, \"value\": 4079}, \"8092\": {\"frequency\": 2, \"value\": 8092}, \"8093\": {\"frequency\": 3, \"value\": 8093}, \"32670\": {\"frequency\": 2, \"value\": 32670}, \"8095\": {\"frequency\": 3, \"value\": 8095}, \"8097\": {\"frequency\": 2, \"value\": 8097}, \"8098\": {\"frequency\": 2, \"value\": 8098}, \"6811\": {\"frequency\": 2, \"value\": 6811}, \"8100\": {\"frequency\": 72, \"value\": 8100}, \"1350\": {\"frequency\": 6, \"value\": 1350}, \"8102\": {\"frequency\": 5, \"value\": 8102}, \"8107\": {\"frequency\": 2, \"value\": 8107}, \"16300\": {\"frequency\": 3, \"value\": 16300}, \"40946\": {\"frequency\": 4, \"value\": 40946}, \"8111\": {\"frequency\": 3, \"value\": 8111}, \"8112\": {\"frequency\": 2, \"value\": 8112}, \"8113\": {\"frequency\": 3, \"value\": 8113}, \"8114\": {\"frequency\": 5, \"value\": 8114}, \"8116\": {\"frequency\": 4, \"value\": 8116}, \"8117\": {\"frequency\": 2, \"value\": 8117}, \"8118\": {\"frequency\": 3, \"value\": 8118}, \"8119\": {\"frequency\": 4, \"value\": 8119}, \"8120\": {\"frequency\": 6, \"value\": 8120}, \"8122\": {\"frequency\": 2, \"value\": 8122}, \"8124\": {\"frequency\": 2, \"value\": 8124}, \"8125\": {\"frequency\": 9, \"value\": 8125}, \"8126\": {\"frequency\": 3, \"value\": 8126}, \"8127\": {\"frequency\": 2, \"value\": 8127}, \"8130\": {\"frequency\": 3, \"value\": 8130}, \"8131\": {\"frequency\": 2, \"value\": 8131}, \"8134\": {\"frequency\": 2, \"value\": 8134}, \"8136\": {\"frequency\": 4, \"value\": 8136}, \"8137\": {\"frequency\": 2, \"value\": 8137}, \"8138\": {\"frequency\": 2, \"value\": 8138}, \"8140\": {\"frequency\": 6, \"value\": 8140}, \"8142\": {\"frequency\": 3, \"value\": 8142}, \"1357\": {\"frequency\": 2, \"value\": 1357}, \"8144\": {\"frequency\": 2, \"value\": 8144}, \"8145\": {\"frequency\": 3, \"value\": 8145}, \"8147\": {\"frequency\": 4, \"value\": 8147}, \"8148\": {\"frequency\": 3, \"value\": 8148}, \"8149\": {\"frequency\": 6, \"value\": 8149}, \"8150\": {\"frequency\": 2, \"value\": 8150}, \"8151\": {\"frequency\": 2, \"value\": 8151}, \"8153\": {\"frequency\": 2, \"value\": 8153}, \"8154\": {\"frequency\": 2, \"value\": 8154}, \"8155\": {\"frequency\": 3, \"value\": 8155}, \"8158\": {\"frequency\": 3, \"value\": 8158}, \"8159\": {\"frequency\": 2, \"value\": 8159}, \"8160\": {\"frequency\": 19, \"value\": 8160}, \"56192\": {\"frequency\": 4, \"value\": 56192}, \"8163\": {\"frequency\": 4, \"value\": 8163}, \"81892\": {\"frequency\": 4, \"value\": 81892}, \"8165\": {\"frequency\": 5, \"value\": 8165}, \"5457\": {\"frequency\": 2, \"value\": 5457}, \"8169\": {\"frequency\": 2, \"value\": 8169}, \"1080\": {\"frequency\": 3, \"value\": 1080}, \"8171\": {\"frequency\": 2, \"value\": 8171}, \"8173\": {\"frequency\": 3, \"value\": 8173}, \"8174\": {\"frequency\": 3, \"value\": 8174}, \"8175\": {\"frequency\": 4, \"value\": 8175}, \"31400\": {\"frequency\": 1, \"value\": 31400}, \"5455\": {\"frequency\": 2, \"value\": 5455}, \"8179\": {\"frequency\": 2, \"value\": 8179}, \"8180\": {\"frequency\": 2, \"value\": 8180}, \"6819\": {\"frequency\": 1, \"value\": 6819}, \"8182\": {\"frequency\": 3, \"value\": 8182}, \"12875\": {\"frequency\": 2, \"value\": 12875}, \"8184\": {\"frequency\": 7, \"value\": 8184}, \"17652\": {\"frequency\": 2, \"value\": 17652}, \"8187\": {\"frequency\": 3, \"value\": 8187}, \"8188\": {\"frequency\": 2, \"value\": 8188}, \"8190\": {\"frequency\": 9, \"value\": 8190}}, \"mean\": 15106.96756581695}}, \"selected_variable\": {\"name\": [\"<SFrame>\"], \"descriptives\": {\"rows\": 21613, \"columns\": 6}, \"view_component\": \"Summary\", \"view_file\": \"sframe\", \"view_params\": {\"y\": null, \"x\": null, \"columns\": [\"bedrooms\", \"bathrooms\", \"sqft_living\", \"sqft_lot\", \"floors\", \"zipcode\"], \"view\": null}, \"view_components\": [\"Summary\", \"Table\", \"Bar Chart\", \"BoxWhisker Plot\", \"Line Chart\", \"Scatter Plot\", \"Heat Map\", \"Plots\"], \"type\": \"SFrame\", \"columns\": [{\"dtype\": \"str\", \"name\": \"bedrooms\"}, {\"dtype\": \"str\", \"name\": \"bathrooms\"}, {\"dtype\": \"int\", \"name\": \"sqft_living\"}, {\"dtype\": \"int\", \"name\": \"sqft_lot\"}, {\"dtype\": \"str\", \"name\": \"floors\"}, {\"dtype\": \"str\", \"name\": \"zipcode\"}], \"column_identifiers\": [\"bathrooms\", \"bedrooms\", \"zipcode\", \"sqft_living\", \"floors\", \"sqft_lot\"]}, \"columns\": [{\"dtype\": \"str\", \"name\": \"bedrooms\"}, {\"dtype\": \"str\", \"name\": \"bathrooms\"}, {\"dtype\": \"int\", \"name\": \"sqft_living\"}, {\"dtype\": \"int\", \"name\": \"sqft_lot\"}, {\"dtype\": \"str\", \"name\": \"floors\"}, {\"dtype\": \"str\", \"name\": \"zipcode\"}]}, e);\n",
       "                });\n",
       "            })();\n",
       "        "
      ]
     },
     "metadata": {},
     "output_type": "display_data"
    }
   ],
   "source": [
    "sales[my_features].show()"
   ]
  },
  {
   "cell_type": "code",
   "execution_count": 17,
   "metadata": {
    "collapsed": false
   },
   "outputs": [
    {
     "data": {
      "application/javascript": [
       "$(\"head\").append($(\"<link/>\").attr({\n",
       "  rel:  \"stylesheet\",\n",
       "  type: \"text/css\",\n",
       "  href: \"//cdnjs.cloudflare.com/ajax/libs/font-awesome/4.1.0/css/font-awesome.min.css\"\n",
       "}));\n",
       "$(\"head\").append($(\"<link/>\").attr({\n",
       "  rel:  \"stylesheet\",\n",
       "  type: \"text/css\",\n",
       "  href: \"//dato.com/files/canvas/1.8/css/canvas.css\"\n",
       "}));\n",
       "\n",
       "            (function(){\n",
       "\n",
       "                var e = null;\n",
       "                if (typeof element == 'undefined') {\n",
       "                    var scripts = document.getElementsByTagName('script');\n",
       "                    var thisScriptTag = scripts[scripts.length-1];\n",
       "                    var parentDiv = thisScriptTag.parentNode;\n",
       "                    e = document.createElement('div');\n",
       "                    parentDiv.appendChild(e);\n",
       "                } else {\n",
       "                    e = element[0];\n",
       "                }\n",
       "\n",
       "                if (typeof requirejs !== 'undefined') {\n",
       "                    // disable load timeout; ipython_app.js is large and can take a while to load.\n",
       "                    requirejs.config({waitSeconds: 0});\n",
       "                }\n",
       "\n",
       "                require(['//dato.com/files/canvas/1.8/js/ipython_app.js'], function(IPythonApp){\n",
       "                    var app = new IPythonApp();\n",
       "                    app.attachView('sframe','Plots', {\"selected_variable\": {\"name\": [\"sales\"], \"descriptives\": {\"rows\": 21613, \"columns\": 21}, \"view_component\": \"Plots\", \"view_file\": \"sframe\", \"view_params\": {\"y\": \"price\", \"x\": \"zipcode\", \"columns\": [\"id\", \"date\", \"price\", \"bedrooms\", \"bathrooms\", \"sqft_living\", \"sqft_lot\", \"floors\", \"waterfront\", \"view\", \"condition\", \"grade\", \"sqft_above\", \"sqft_basement\", \"yr_built\", \"yr_renovated\", \"zipcode\", \"lat\", \"long\", \"sqft_living15\", \"sqft_lot15\"], \"view\": \"BoxWhisker Plot\"}, \"view_components\": [\"Summary\", \"Table\", \"Bar Chart\", \"BoxWhisker Plot\", \"Line Chart\", \"Scatter Plot\", \"Heat Map\", \"Plots\"], \"type\": \"SFrame\", \"columns\": [{\"dtype\": \"str\", \"name\": \"id\"}, {\"dtype\": \"datetime\", \"name\": \"date\"}, {\"dtype\": \"int\", \"name\": \"price\"}, {\"dtype\": \"str\", \"name\": \"bedrooms\"}, {\"dtype\": \"str\", \"name\": \"bathrooms\"}, {\"dtype\": \"int\", \"name\": \"sqft_living\"}, {\"dtype\": \"int\", \"name\": \"sqft_lot\"}, {\"dtype\": \"str\", \"name\": \"floors\"}, {\"dtype\": \"int\", \"name\": \"waterfront\"}, {\"dtype\": \"int\", \"name\": \"view\"}, {\"dtype\": \"int\", \"name\": \"condition\"}, {\"dtype\": \"int\", \"name\": \"grade\"}, {\"dtype\": \"int\", \"name\": \"sqft_above\"}, {\"dtype\": \"int\", \"name\": \"sqft_basement\"}, {\"dtype\": \"int\", \"name\": \"yr_built\"}, {\"dtype\": \"int\", \"name\": \"yr_renovated\"}, {\"dtype\": \"str\", \"name\": \"zipcode\"}, {\"dtype\": \"float\", \"name\": \"lat\"}, {\"dtype\": \"float\", \"name\": \"long\"}, {\"dtype\": \"float\", \"name\": \"sqft_living15\"}, {\"dtype\": \"float\", \"name\": \"sqft_lot15\"}], \"column_identifiers\": [\"bathrooms\", \"sqft_living15\", \"sqft_above\", \"grade\", \"yr_built\", \"price\", \"bedrooms\", \"zipcode\", \"long\", \"id\", \"sqft_lot15\", \"sqft_living\", \"floors\", \"sqft_lot\", \"date\", \"waterfront\", \"sqft_basement\", \"yr_renovated\", \"lat\", \"condition\", \"view\"]}, \"complete\": 1, \"ipython\": true, \"progress\": 1.0, \"data\": {\"grouped\": [[\"98001\", [100000.0, 115000.0, 180000.0, 184000.0, 215000.0, 260000.0, 320000.0, 420000.0, 427000.0, 625000.0, 850000.0]], [\"98002\", [95000.0, 111300.0, 160000.0, 163500.0, 199950.0, 235000.0, 269000.0, 298900.0, 300000.0, 370000.0, 389000.0]], [\"98003\", [128000.0, 152500.0, 199000.0, 200000.0, 229000.0, 267950.0, 333000.0, 420000.0, 429900.0, 740000.0, 950000.0]], [\"98004\", [425000.0, 595000.0, 695000.0, 720000.0, 845000.0, 1150000.0, 1691000.0, 2150000.0, 2200000.0, 3800000.0, 7062500.0]], [\"98005\", [400000.0, 411100.0, 542500.0, 549000.0, 638700.0, 768500.0, 915000.0, 1110000.0, 1125000.0, 1900000.0, 1960000.0]], [\"98006\", [247500.0, 295000.0, 450000.0, 455000.0, 575000.0, 760369.0, 978000.0, 1380000.0, 1400000.0, 2525000.0, 4208000.0]], [\"98007\", [295000.0, 330000.0, 415500.0, 419000.0, 465000.0, 555000.0, 730000.0, 900000.0, 907500.0, 1229000.0, 1315000.0]], [\"98008\", [250000.0, 277700.0, 405000.0, 415000.0, 465000.0, 545000.0, 660000.0, 850000.0, 899000.0, 3300000.0, 3567000.0]], [\"98010\", [135000.0, 162000.0, 208500.0, 212644.0, 257000.0, 360000.0, 600000.0, 712000.0, 720000.0, 935000.0, 935000.0]], [\"98011\", [245500.0, 260000.0, 347000.0, 361000.0, 411800.0, 470000.0, 550000.0, 632000.0, 650000.0, 870000.0, 1075000.0]], [\"98014\", [80000.0, 134000.0, 167000.0, 180000.0, 309000.0, 415000.0, 539000.0, 739000.0, 755000.0, 1610000.0, 1680000.0]], [\"98019\", [119500.0, 170000.0, 289275.0, 299950.0, 330000.0, 402500.0, 500000.0, 570000.0, 570000.0, 979500.0, 1015000.0]], [\"98022\", [75000.0, 152900.0, 199990.0, 200000.0, 235000.0, 280000.0, 350000.0, 475000.0, 487000.0, 750000.0, 858000.0]], [\"98023\", [86500.0, 115000.0, 188000.0, 193000.0, 224097.0, 268450.0, 316500.0, 402500.0, 415000.0, 629000.0, 1275000.0]], [\"98024\", [142000.0, 142000.0, 258000.0, 260000.0, 340000.0, 460000.0, 700000.0, 997950.0, 1065000.0, 1862000.0, 1862000.0]], [\"98027\", [130000.0, 240000.0, 352499.0, 361000.0, 450000.0, 571000.0, 716500.0, 865000.0, 890000.0, 1800000.0, 2700000.0]], [\"98028\", [160000.0, 196000.0, 300000.0, 310000.0, 379950.0, 445000.0, 526750.0, 610000.0, 619990.0, 1120000.0, 1600000.0]], [\"98029\", [285000.0, 310000.0, 413565.0, 420000.0, 485000.0, 575000.0, 690000.0, 795000.0, 812000.0, 1450000.0, 2200000.0]], [\"98030\", [120000.0, 140000.0, 213400.0, 220000.0, 249950.0, 282510.0, 339950.0, 380000.0, 386000.0, 491000.0, 565000.0]], [\"98031\", [147500.0, 152000.0, 223000.0, 230000.0, 252000.0, 288400.0, 327500.0, 377000.0, 382500.0, 680000.0, 800000.0]], [\"98032\", [85000.0, 85000.0, 165000.0, 169000.0, 221700.0, 249000.0, 285000.0, 321000.0, 324900.0, 400000.0, 545000.0]], [\"98033\", [130000.0, 305000.0, 425000.0, 437500.0, 535000.0, 678700.0, 902000.0, 1339000.0, 1378000.0, 2650000.0, 5110800.0]], [\"98034\", [90000.0, 257000.0, 330000.0, 335000.0, 387000.0, 445950.0, 525000.0, 749950.0, 799950.0, 2125000.0, 3120000.0]], [\"98038\", [110000.0, 176000.0, 240000.0, 245000.0, 285000.0, 342000.0, 410000.0, 533000.0, 540000.0, 849000.0, 1350000.0]], [\"98039\", [787500.0, 787500.0, 940000.0, 1000000.0, 1398000.0, 1905000.0, 2575000.0, 3640900.0, 3640900.0, 6885000.0, 6885000.0]], [\"98040\", [500000.0, 550000.0, 685000.0, 698000.0, 821000.0, 994000.0, 1387000.0, 1815000.0, 1900000.0, 3850000.0, 5300000.0]], [\"98042\", [105000.0, 132825.0, 200000.0, 204000.0, 240000.0, 292500.0, 359950.0, 444900.0, 450000.0, 734000.0, 859000.0]], [\"98045\", [175000.0, 189000.0, 259000.0, 271000.0, 305000.0, 399500.0, 495000.0, 665000.0, 688000.0, 1075000.0, 1950000.0]], [\"98052\", [225000.0, 315000.0, 425000.0, 432100.0, 509250.0, 615000.0, 751000.0, 852500.0, 872750.0, 1299888.0, 2200000.0]], [\"98053\", [170000.0, 300000.0, 400000.0, 405000.0, 485000.0, 635000.0, 790500.0, 955990.0, 975000.0, 1769000.0, 2280000.0]], [\"98055\", [100000.0, 126000.0, 192000.0, 197500.0, 240000.0, 295000.0, 350000.0, 430000.0, 440000.0, 580000.0, 631000.0]], [\"98056\", [139000.0, 155000.0, 230000.0, 231500.0, 289000.0, 380000.0, 510000.0, 635000.0, 640000.0, 980000.0, 3000000.0]], [\"98058\", [95000.0, 144000.0, 225000.0, 230000.0, 285000.0, 335000.0, 392000.0, 475000.0, 485000.0, 790000.0, 1500000.0]], [\"98059\", [172500.0, 217000.0, 291375.0, 294500.0, 340000.0, 435000.0, 552500.0, 751000.0, 785000.0, 1300000.0, 1780000.0]], [\"98065\", [170000.0, 208000.0, 323000.0, 335000.0, 424950.0, 500000.0, 619000.0, 710000.0, 723000.0, 1145000.0, 1998000.0]], [\"98070\", [160000.0, 181000.0, 280000.0, 285000.0, 340000.0, 465000.0, 575000.0, 729000.0, 730000.0, 1350000.0, 1379900.0]], [\"98072\", [200000.0, 275000.0, 357823.0, 365000.0, 422800.0, 515000.0, 642860.0, 879000.0, 905000.0, 1350000.0, 1565000.0]], [\"98074\", [280000.0, 325000.0, 420000.0, 434900.0, 532000.0, 642000.0, 798000.0, 922755.0, 929000.0, 1675000.0, 3075000.0]], [\"98075\", [406430.0, 432000.0, 545000.0, 550000.0, 641000.0, 739999.0, 870000.0, 1060000.0, 1062500.0, 2000000.0, 3200000.0]], [\"98077\", [250000.0, 274975.0, 335000.0, 353000.0, 510000.0, 654950.0, 835000.0, 950000.0, 985000.0, 1820000.0, 1920000.0]], [\"98092\", [90000.0, 148226.0, 210000.0, 216000.0, 263950.0, 309780.0, 379500.0, 471275.0, 480000.0, 835000.0, 930000.0]], [\"98102\", [330000.0, 350000.0, 440000.0, 475000.0, 575000.0, 720000.0, 979700.0, 1440000.0, 1443917.0, 2479000.0, 7700000.0]], [\"98103\", [238000.0, 259250.0, 352950.0, 355000.0, 432000.0, 550000.0, 695000.0, 830000.0, 850000.0, 1350000.0, 1695000.0]], [\"98105\", [380000.0, 395000.0, 483000.0, 485000.0, 550000.0, 675000.0, 1005000.0, 1415000.0, 1482500.0, 2555000.0, 3650000.0]], [\"98106\", [90000.0, 107000.0, 208400.0, 210000.0, 260000.0, 315000.0, 366000.0, 426000.0, 435000.0, 625000.0, 795000.0]], [\"98107\", [290000.0, 356000.0, 425000.0, 430000.0, 470000.0, 529950.0, 630000.0, 752500.0, 769950.0, 1205000.0, 2945000.0]], [\"98108\", [90000.0, 130000.0, 230000.0, 230000.0, 284000.0, 345000.0, 425000.0, 491000.0, 500000.0, 635000.0, 640000.0]], [\"98109\", [216650.0, 216650.0, 478000.0, 479000.0, 620000.0, 736000.0, 1000000.0, 1450000.0, 1450000.0, 2900000.0, 3200000.0]], [\"98112\", [169317.0, 350000.0, 515000.0, 524000.0, 680000.0, 915000.0, 1328000.0, 1975000.0, 2048000.0, 3000000.0, 3400000.0]], [\"98115\", [200000.0, 289500.0, 395000.0, 399000.0, 455000.0, 567000.0, 719000.0, 897000.0, 925000.0, 1500000.0, 2300000.0]], [\"98116\", [130000.0, 252000.0, 386950.0, 390000.0, 460000.0, 565500.0, 703000.0, 930000.0, 950000.0, 1598888.0, 2050000.0]], [\"98117\", [125000.0, 280000.0, 375000.0, 390000.0, 450000.0, 544000.0, 657500.0, 825000.0, 850000.0, 1275000.0, 1370000.0]], [\"98118\", [109000.0, 155000.0, 221000.0, 226000.0, 289000.0, 367500.0, 476500.0, 665000.0, 680000.0, 1309500.0, 2903000.0]], [\"98119\", [300523.0, 365000.0, 485000.0, 490000.0, 600000.0, 749950.0, 940000.0, 1320000.0, 1330000.0, 2630000.0, 3065000.0]], [\"98122\", [202000.0, 260000.0, 375000.0, 385000.0, 450000.0, 574000.0, 720000.0, 920000.0, 925000.0, 1850000.0, 2050000.0]], [\"98125\", [175000.0, 228000.0, 303697.0, 310000.0, 357250.0, 425000.0, 518000.0, 675000.0, 689000.0, 1335000.0, 2050000.0]], [\"98126\", [110000.0, 183000.0, 250000.0, 255000.0, 320000.0, 396500.0, 485000.0, 643500.0, 661000.0, 901000.0, 1085000.0]], [\"98133\", [130000.0, 210000.0, 275000.0, 277500.0, 318000.0, 375000.0, 435000.0, 507000.0, 518000.0, 729953.0, 808100.0]], [\"98136\", [200000.0, 229050.0, 340000.0, 345000.0, 398000.0, 489950.0, 660000.0, 838000.0, 850000.0, 1662000.0, 2230000.0]], [\"98144\", [181000.0, 230000.0, 325000.0, 327000.0, 374950.0, 450000.0, 666000.0, 970000.0, 1039000.0, 2450000.0, 3600000.0]], [\"98146\", [82000.0, 104950.0, 158800.0, 175000.0, 229500.0, 307000.0, 409000.0, 605000.0, 665900.0, 1250000.0, 1410000.0]], [\"98148\", [105500.0, 105500.0, 193000.0, 193000.0, 240000.0, 278000.0, 319990.0, 375000.0, 375000.0, 600600.0, 600600.0]], [\"98155\", [153000.0, 195000.0, 267800.0, 270000.0, 315000.0, 375000.0, 460000.0, 590000.0, 600000.0, 1680000.0, 4500000.0]], [\"98166\", [100000.0, 129888.0, 220000.0, 229000.0, 292000.0, 390000.0, 540500.0, 755000.0, 770000.0, 1899000.0, 2510000.0]], [\"98168\", [78000.0, 82500.0, 150550.0, 158000.0, 199950.0, 235000.0, 285000.0, 325000.0, 327200.0, 424305.0, 600000.0]], [\"98177\", [245560.0, 276000.0, 355950.0, 367500.0, 427000.0, 554000.0, 749950.0, 1075000.0, 1200000.0, 2880500.0, 3800000.0]], [\"98178\", [90000.0, 119900.0, 180000.0, 188000.0, 223000.0, 279000.0, 350000.0, 450000.0, 460000.0, 869000.0, 1700000.0]], [\"98188\", [110000.0, 110700.0, 179000.0, 179950.0, 230000.0, 265000.0, 335000.0, 400200.0, 408000.0, 706000.0, 707000.0]], [\"98198\", [95000.0, 120000.0, 174500.0, 175000.0, 216500.0, 265000.0, 340000.0, 455000.0, 475000.0, 950000.0, 1350000.0]], [\"98199\", [323000.0, 334000.0, 419000.0, 425000.0, 535000.0, 689800.0, 950000.0, 1289000.0, 1300000.0, 2160000.0, 3200000.0]]], \"omitted\": 0}, \"columns\": [{\"dtype\": \"str\", \"name\": \"id\"}, {\"dtype\": \"datetime\", \"name\": \"date\"}, {\"dtype\": \"int\", \"name\": \"price\"}, {\"dtype\": \"str\", \"name\": \"bedrooms\"}, {\"dtype\": \"str\", \"name\": \"bathrooms\"}, {\"dtype\": \"int\", \"name\": \"sqft_living\"}, {\"dtype\": \"int\", \"name\": \"sqft_lot\"}, {\"dtype\": \"str\", \"name\": \"floors\"}, {\"dtype\": \"int\", \"name\": \"waterfront\"}, {\"dtype\": \"int\", \"name\": \"view\"}, {\"dtype\": \"int\", \"name\": \"condition\"}, {\"dtype\": \"int\", \"name\": \"grade\"}, {\"dtype\": \"int\", \"name\": \"sqft_above\"}, {\"dtype\": \"int\", \"name\": \"sqft_basement\"}, {\"dtype\": \"int\", \"name\": \"yr_built\"}, {\"dtype\": \"int\", \"name\": \"yr_renovated\"}, {\"dtype\": \"str\", \"name\": \"zipcode\"}, {\"dtype\": \"float\", \"name\": \"lat\"}, {\"dtype\": \"float\", \"name\": \"long\"}, {\"dtype\": \"float\", \"name\": \"sqft_living15\"}, {\"dtype\": \"float\", \"name\": \"sqft_lot15\"}]}, e);\n",
       "                });\n",
       "            })();\n",
       "        "
      ]
     },
     "metadata": {},
     "output_type": "display_data"
    }
   ],
   "source": [
    "sales.show(view='BoxWhisker Plot', x='zipcode', y='price')"
   ]
  },
  {
   "cell_type": "markdown",
   "metadata": {},
   "source": [
    "Pull the bar at the bottom to view more of the data.  \n",
    "\n",
    "98039 is the most expensive zip code."
   ]
  },
  {
   "cell_type": "markdown",
   "metadata": {},
   "source": [
    "#Build a regression model with more features"
   ]
  },
  {
   "cell_type": "code",
   "execution_count": 18,
   "metadata": {
    "collapsed": false
   },
   "outputs": [
    {
     "name": "stdout",
     "output_type": "stream",
     "text": [
      "PROGRESS: Linear regression:\n",
      "PROGRESS: --------------------------------------------------------\n",
      "PROGRESS: Number of examples          : 17384\n",
      "PROGRESS: Number of features          : 6\n",
      "PROGRESS: Number of unpacked features : 6\n",
      "PROGRESS: Number of coefficients    : 115\n",
      "PROGRESS: Starting Newton Method\n",
      "PROGRESS: --------------------------------------------------------\n",
      "PROGRESS: +-----------+----------+--------------+--------------------+---------------+\n",
      "PROGRESS: | Iteration | Passes   | Elapsed Time | Training-max_error | Training-rmse |\n",
      "PROGRESS: +-----------+----------+--------------+--------------------+---------------+\n",
      "PROGRESS: | 1         | 2        | 0.035872     | 3763208.270524     | 181908.848367 |\n",
      "PROGRESS: +-----------+----------+--------------+--------------------+---------------+\n",
      "PROGRESS: SUCCESS: Optimal solution found.\n",
      "PROGRESS:\n"
     ]
    }
   ],
   "source": [
    "my_features_model = graphlab.linear_regression.create(train_data,target='price',features=my_features,validation_set=None)"
   ]
  },
  {
   "cell_type": "code",
   "execution_count": 19,
   "metadata": {
    "collapsed": false
   },
   "outputs": [
    {
     "name": "stdout",
     "output_type": "stream",
     "text": [
      "['bedrooms', 'bathrooms', 'sqft_living', 'sqft_lot', 'floors', 'zipcode']\n"
     ]
    }
   ],
   "source": [
    "print my_features"
   ]
  },
  {
   "cell_type": "markdown",
   "metadata": {},
   "source": [
    "## Comparing the results of the simple model with adding more features"
   ]
  },
  {
   "cell_type": "code",
   "execution_count": 20,
   "metadata": {
    "collapsed": false
   },
   "outputs": [
    {
     "name": "stdout",
     "output_type": "stream",
     "text": [
      "{'max_error': 4143550.8825285956, 'rmse': 255191.0287052738}\n",
      "{'max_error': 3486584.5093818563, 'rmse': 179542.4333126908}\n"
     ]
    }
   ],
   "source": [
    "print sqft_model.evaluate(test_data)\n",
    "print my_features_model.evaluate(test_data)"
   ]
  },
  {
   "cell_type": "markdown",
   "metadata": {},
   "source": [
    "The RMSE goes down from \\$255,170 to \\$179,508 with more features."
   ]
  },
  {
   "cell_type": "markdown",
   "metadata": {},
   "source": [
    "# Apply learned models to predict prices of 3 houses"
   ]
  },
  {
   "cell_type": "markdown",
   "metadata": {},
   "source": [
    "The first house we will use is considered an \"average\" house in Seattle. "
   ]
  },
  {
   "cell_type": "code",
   "execution_count": 21,
   "metadata": {
    "collapsed": true
   },
   "outputs": [],
   "source": [
    "house1 = sales[sales['id']=='5309101200']"
   ]
  },
  {
   "cell_type": "code",
   "execution_count": 22,
   "metadata": {
    "collapsed": false
   },
   "outputs": [
    {
     "data": {
      "text/html": [
       "<div style=\"max-height:1000px;max-width:1500px;overflow:auto;\"><table frame=\"box\" rules=\"cols\">\n",
       "    <tr>\n",
       "        <th style=\"padding-left: 1em; padding-right: 1em; text-align: center\">id</th>\n",
       "        <th style=\"padding-left: 1em; padding-right: 1em; text-align: center\">date</th>\n",
       "        <th style=\"padding-left: 1em; padding-right: 1em; text-align: center\">price</th>\n",
       "        <th style=\"padding-left: 1em; padding-right: 1em; text-align: center\">bedrooms</th>\n",
       "        <th style=\"padding-left: 1em; padding-right: 1em; text-align: center\">bathrooms</th>\n",
       "        <th style=\"padding-left: 1em; padding-right: 1em; text-align: center\">sqft_living</th>\n",
       "        <th style=\"padding-left: 1em; padding-right: 1em; text-align: center\">sqft_lot</th>\n",
       "        <th style=\"padding-left: 1em; padding-right: 1em; text-align: center\">floors</th>\n",
       "        <th style=\"padding-left: 1em; padding-right: 1em; text-align: center\">waterfront</th>\n",
       "    </tr>\n",
       "    <tr>\n",
       "        <td style=\"padding-left: 1em; padding-right: 1em; text-align: center; vertical-align: top\">5309101200</td>\n",
       "        <td style=\"padding-left: 1em; padding-right: 1em; text-align: center; vertical-align: top\">2014-06-05 00:00:00+00:00</td>\n",
       "        <td style=\"padding-left: 1em; padding-right: 1em; text-align: center; vertical-align: top\">620000</td>\n",
       "        <td style=\"padding-left: 1em; padding-right: 1em; text-align: center; vertical-align: top\">4</td>\n",
       "        <td style=\"padding-left: 1em; padding-right: 1em; text-align: center; vertical-align: top\">2.25</td>\n",
       "        <td style=\"padding-left: 1em; padding-right: 1em; text-align: center; vertical-align: top\">2400</td>\n",
       "        <td style=\"padding-left: 1em; padding-right: 1em; text-align: center; vertical-align: top\">5350</td>\n",
       "        <td style=\"padding-left: 1em; padding-right: 1em; text-align: center; vertical-align: top\">1.5</td>\n",
       "        <td style=\"padding-left: 1em; padding-right: 1em; text-align: center; vertical-align: top\">0</td>\n",
       "    </tr>\n",
       "</table>\n",
       "<table frame=\"box\" rules=\"cols\">\n",
       "    <tr>\n",
       "        <th style=\"padding-left: 1em; padding-right: 1em; text-align: center\">view</th>\n",
       "        <th style=\"padding-left: 1em; padding-right: 1em; text-align: center\">condition</th>\n",
       "        <th style=\"padding-left: 1em; padding-right: 1em; text-align: center\">grade</th>\n",
       "        <th style=\"padding-left: 1em; padding-right: 1em; text-align: center\">sqft_above</th>\n",
       "        <th style=\"padding-left: 1em; padding-right: 1em; text-align: center\">sqft_basement</th>\n",
       "        <th style=\"padding-left: 1em; padding-right: 1em; text-align: center\">yr_built</th>\n",
       "        <th style=\"padding-left: 1em; padding-right: 1em; text-align: center\">yr_renovated</th>\n",
       "        <th style=\"padding-left: 1em; padding-right: 1em; text-align: center\">zipcode</th>\n",
       "        <th style=\"padding-left: 1em; padding-right: 1em; text-align: center\">lat</th>\n",
       "    </tr>\n",
       "    <tr>\n",
       "        <td style=\"padding-left: 1em; padding-right: 1em; text-align: center; vertical-align: top\">0</td>\n",
       "        <td style=\"padding-left: 1em; padding-right: 1em; text-align: center; vertical-align: top\">4</td>\n",
       "        <td style=\"padding-left: 1em; padding-right: 1em; text-align: center; vertical-align: top\">7</td>\n",
       "        <td style=\"padding-left: 1em; padding-right: 1em; text-align: center; vertical-align: top\">1460</td>\n",
       "        <td style=\"padding-left: 1em; padding-right: 1em; text-align: center; vertical-align: top\">940</td>\n",
       "        <td style=\"padding-left: 1em; padding-right: 1em; text-align: center; vertical-align: top\">1929</td>\n",
       "        <td style=\"padding-left: 1em; padding-right: 1em; text-align: center; vertical-align: top\">0</td>\n",
       "        <td style=\"padding-left: 1em; padding-right: 1em; text-align: center; vertical-align: top\">98117</td>\n",
       "        <td style=\"padding-left: 1em; padding-right: 1em; text-align: center; vertical-align: top\">47.67632376</td>\n",
       "    </tr>\n",
       "</table>\n",
       "<table frame=\"box\" rules=\"cols\">\n",
       "    <tr>\n",
       "        <th style=\"padding-left: 1em; padding-right: 1em; text-align: center\">long</th>\n",
       "        <th style=\"padding-left: 1em; padding-right: 1em; text-align: center\">sqft_living15</th>\n",
       "        <th style=\"padding-left: 1em; padding-right: 1em; text-align: center\">sqft_lot15</th>\n",
       "    </tr>\n",
       "    <tr>\n",
       "        <td style=\"padding-left: 1em; padding-right: 1em; text-align: center; vertical-align: top\">-122.37010126</td>\n",
       "        <td style=\"padding-left: 1em; padding-right: 1em; text-align: center; vertical-align: top\">1250.0</td>\n",
       "        <td style=\"padding-left: 1em; padding-right: 1em; text-align: center; vertical-align: top\">4880.0</td>\n",
       "    </tr>\n",
       "</table>\n",
       "[? rows x 21 columns]<br/>Note: Only the head of the SFrame is printed. This SFrame is lazily evaluated.<br/>You can use len(sf) to force materialization.\n",
       "</div>"
      ],
      "text/plain": [
       "Columns:\n",
       "\tid\tstr\n",
       "\tdate\tdatetime\n",
       "\tprice\tint\n",
       "\tbedrooms\tstr\n",
       "\tbathrooms\tstr\n",
       "\tsqft_living\tint\n",
       "\tsqft_lot\tint\n",
       "\tfloors\tstr\n",
       "\twaterfront\tint\n",
       "\tview\tint\n",
       "\tcondition\tint\n",
       "\tgrade\tint\n",
       "\tsqft_above\tint\n",
       "\tsqft_basement\tint\n",
       "\tyr_built\tint\n",
       "\tyr_renovated\tint\n",
       "\tzipcode\tstr\n",
       "\tlat\tfloat\n",
       "\tlong\tfloat\n",
       "\tsqft_living15\tfloat\n",
       "\tsqft_lot15\tfloat\n",
       "\n",
       "Rows: Unknown\n",
       "\n",
       "Data:\n",
       "+------------+---------------------------+--------+----------+-----------+-------------+\n",
       "|     id     |            date           | price  | bedrooms | bathrooms | sqft_living |\n",
       "+------------+---------------------------+--------+----------+-----------+-------------+\n",
       "| 5309101200 | 2014-06-05 00:00:00+00:00 | 620000 |    4     |    2.25   |     2400    |\n",
       "+------------+---------------------------+--------+----------+-----------+-------------+\n",
       "+----------+--------+------------+------+-----------+-------+------------+---------------+\n",
       "| sqft_lot | floors | waterfront | view | condition | grade | sqft_above | sqft_basement |\n",
       "+----------+--------+------------+------+-----------+-------+------------+---------------+\n",
       "|   5350   |  1.5   |     0      |  0   |     4     |   7   |    1460    |      940      |\n",
       "+----------+--------+------------+------+-----------+-------+------------+---------------+\n",
       "+----------+--------------+---------+-------------+---------------+---------------+-----+\n",
       "| yr_built | yr_renovated | zipcode |     lat     |      long     | sqft_living15 | ... |\n",
       "+----------+--------------+---------+-------------+---------------+---------------+-----+\n",
       "|   1929   |      0       |  98117  | 47.67632376 | -122.37010126 |     1250.0    | ... |\n",
       "+----------+--------------+---------+-------------+---------------+---------------+-----+\n",
       "[? rows x 21 columns]\n",
       "Note: Only the head of the SFrame is printed. This SFrame is lazily evaluated.\n",
       "You can use len(sf) to force materialization."
      ]
     },
     "execution_count": 22,
     "metadata": {},
     "output_type": "execute_result"
    }
   ],
   "source": [
    "house1"
   ]
  },
  {
   "cell_type": "markdown",
   "metadata": {},
   "source": [
    "<img src=\"http://info.kingcounty.gov/Assessor/eRealProperty/MediaHandler.aspx?Media=2916871\">"
   ]
  },
  {
   "cell_type": "code",
   "execution_count": 23,
   "metadata": {
    "collapsed": false
   },
   "outputs": [
    {
     "name": "stdout",
     "output_type": "stream",
     "text": [
      "[620000, ... ]\n"
     ]
    }
   ],
   "source": [
    "print house1['price']"
   ]
  },
  {
   "cell_type": "code",
   "execution_count": 24,
   "metadata": {
    "collapsed": false
   },
   "outputs": [
    {
     "name": "stdout",
     "output_type": "stream",
     "text": [
      "[629584.8197281545]\n"
     ]
    }
   ],
   "source": [
    "print sqft_model.predict(house1)"
   ]
  },
  {
   "cell_type": "code",
   "execution_count": 25,
   "metadata": {
    "collapsed": false
   },
   "outputs": [
    {
     "name": "stdout",
     "output_type": "stream",
     "text": [
      "[721918.9333272739]\n"
     ]
    }
   ],
   "source": [
    "print my_features_model.predict(house1)"
   ]
  },
  {
   "cell_type": "markdown",
   "metadata": {},
   "source": [
    "In this case, the model with more features provides a worse prediction than the simpler model with only 1 feature.  However, on average, the model with more features is better."
   ]
  },
  {
   "cell_type": "markdown",
   "metadata": {},
   "source": [
    "## Prediction for a second, fancier house\n",
    "\n",
    "We will now examine the predictions for a fancier house."
   ]
  },
  {
   "cell_type": "code",
   "execution_count": 26,
   "metadata": {
    "collapsed": true
   },
   "outputs": [],
   "source": [
    "house2 = sales[sales['id']=='1925069082']"
   ]
  },
  {
   "cell_type": "code",
   "execution_count": 27,
   "metadata": {
    "collapsed": false
   },
   "outputs": [
    {
     "data": {
      "text/html": [
       "<div style=\"max-height:1000px;max-width:1500px;overflow:auto;\"><table frame=\"box\" rules=\"cols\">\n",
       "    <tr>\n",
       "        <th style=\"padding-left: 1em; padding-right: 1em; text-align: center\">id</th>\n",
       "        <th style=\"padding-left: 1em; padding-right: 1em; text-align: center\">date</th>\n",
       "        <th style=\"padding-left: 1em; padding-right: 1em; text-align: center\">price</th>\n",
       "        <th style=\"padding-left: 1em; padding-right: 1em; text-align: center\">bedrooms</th>\n",
       "        <th style=\"padding-left: 1em; padding-right: 1em; text-align: center\">bathrooms</th>\n",
       "        <th style=\"padding-left: 1em; padding-right: 1em; text-align: center\">sqft_living</th>\n",
       "        <th style=\"padding-left: 1em; padding-right: 1em; text-align: center\">sqft_lot</th>\n",
       "        <th style=\"padding-left: 1em; padding-right: 1em; text-align: center\">floors</th>\n",
       "        <th style=\"padding-left: 1em; padding-right: 1em; text-align: center\">waterfront</th>\n",
       "    </tr>\n",
       "    <tr>\n",
       "        <td style=\"padding-left: 1em; padding-right: 1em; text-align: center; vertical-align: top\">1925069082</td>\n",
       "        <td style=\"padding-left: 1em; padding-right: 1em; text-align: center; vertical-align: top\">2015-05-11 00:00:00+00:00</td>\n",
       "        <td style=\"padding-left: 1em; padding-right: 1em; text-align: center; vertical-align: top\">2200000</td>\n",
       "        <td style=\"padding-left: 1em; padding-right: 1em; text-align: center; vertical-align: top\">5</td>\n",
       "        <td style=\"padding-left: 1em; padding-right: 1em; text-align: center; vertical-align: top\">4.25</td>\n",
       "        <td style=\"padding-left: 1em; padding-right: 1em; text-align: center; vertical-align: top\">4640</td>\n",
       "        <td style=\"padding-left: 1em; padding-right: 1em; text-align: center; vertical-align: top\">22703</td>\n",
       "        <td style=\"padding-left: 1em; padding-right: 1em; text-align: center; vertical-align: top\">2</td>\n",
       "        <td style=\"padding-left: 1em; padding-right: 1em; text-align: center; vertical-align: top\">1</td>\n",
       "    </tr>\n",
       "</table>\n",
       "<table frame=\"box\" rules=\"cols\">\n",
       "    <tr>\n",
       "        <th style=\"padding-left: 1em; padding-right: 1em; text-align: center\">view</th>\n",
       "        <th style=\"padding-left: 1em; padding-right: 1em; text-align: center\">condition</th>\n",
       "        <th style=\"padding-left: 1em; padding-right: 1em; text-align: center\">grade</th>\n",
       "        <th style=\"padding-left: 1em; padding-right: 1em; text-align: center\">sqft_above</th>\n",
       "        <th style=\"padding-left: 1em; padding-right: 1em; text-align: center\">sqft_basement</th>\n",
       "        <th style=\"padding-left: 1em; padding-right: 1em; text-align: center\">yr_built</th>\n",
       "        <th style=\"padding-left: 1em; padding-right: 1em; text-align: center\">yr_renovated</th>\n",
       "        <th style=\"padding-left: 1em; padding-right: 1em; text-align: center\">zipcode</th>\n",
       "        <th style=\"padding-left: 1em; padding-right: 1em; text-align: center\">lat</th>\n",
       "    </tr>\n",
       "    <tr>\n",
       "        <td style=\"padding-left: 1em; padding-right: 1em; text-align: center; vertical-align: top\">4</td>\n",
       "        <td style=\"padding-left: 1em; padding-right: 1em; text-align: center; vertical-align: top\">5</td>\n",
       "        <td style=\"padding-left: 1em; padding-right: 1em; text-align: center; vertical-align: top\">8</td>\n",
       "        <td style=\"padding-left: 1em; padding-right: 1em; text-align: center; vertical-align: top\">2860</td>\n",
       "        <td style=\"padding-left: 1em; padding-right: 1em; text-align: center; vertical-align: top\">1780</td>\n",
       "        <td style=\"padding-left: 1em; padding-right: 1em; text-align: center; vertical-align: top\">1952</td>\n",
       "        <td style=\"padding-left: 1em; padding-right: 1em; text-align: center; vertical-align: top\">0</td>\n",
       "        <td style=\"padding-left: 1em; padding-right: 1em; text-align: center; vertical-align: top\">98052</td>\n",
       "        <td style=\"padding-left: 1em; padding-right: 1em; text-align: center; vertical-align: top\">47.63925783</td>\n",
       "    </tr>\n",
       "</table>\n",
       "<table frame=\"box\" rules=\"cols\">\n",
       "    <tr>\n",
       "        <th style=\"padding-left: 1em; padding-right: 1em; text-align: center\">long</th>\n",
       "        <th style=\"padding-left: 1em; padding-right: 1em; text-align: center\">sqft_living15</th>\n",
       "        <th style=\"padding-left: 1em; padding-right: 1em; text-align: center\">sqft_lot15</th>\n",
       "    </tr>\n",
       "    <tr>\n",
       "        <td style=\"padding-left: 1em; padding-right: 1em; text-align: center; vertical-align: top\">-122.09722322</td>\n",
       "        <td style=\"padding-left: 1em; padding-right: 1em; text-align: center; vertical-align: top\">3140.0</td>\n",
       "        <td style=\"padding-left: 1em; padding-right: 1em; text-align: center; vertical-align: top\">14200.0</td>\n",
       "    </tr>\n",
       "</table>\n",
       "[? rows x 21 columns]<br/>Note: Only the head of the SFrame is printed. This SFrame is lazily evaluated.<br/>You can use len(sf) to force materialization.\n",
       "</div>"
      ],
      "text/plain": [
       "Columns:\n",
       "\tid\tstr\n",
       "\tdate\tdatetime\n",
       "\tprice\tint\n",
       "\tbedrooms\tstr\n",
       "\tbathrooms\tstr\n",
       "\tsqft_living\tint\n",
       "\tsqft_lot\tint\n",
       "\tfloors\tstr\n",
       "\twaterfront\tint\n",
       "\tview\tint\n",
       "\tcondition\tint\n",
       "\tgrade\tint\n",
       "\tsqft_above\tint\n",
       "\tsqft_basement\tint\n",
       "\tyr_built\tint\n",
       "\tyr_renovated\tint\n",
       "\tzipcode\tstr\n",
       "\tlat\tfloat\n",
       "\tlong\tfloat\n",
       "\tsqft_living15\tfloat\n",
       "\tsqft_lot15\tfloat\n",
       "\n",
       "Rows: Unknown\n",
       "\n",
       "Data:\n",
       "+------------+---------------------------+---------+----------+-----------+-------------+\n",
       "|     id     |            date           |  price  | bedrooms | bathrooms | sqft_living |\n",
       "+------------+---------------------------+---------+----------+-----------+-------------+\n",
       "| 1925069082 | 2015-05-11 00:00:00+00:00 | 2200000 |    5     |    4.25   |     4640    |\n",
       "+------------+---------------------------+---------+----------+-----------+-------------+\n",
       "+----------+--------+------------+------+-----------+-------+------------+---------------+\n",
       "| sqft_lot | floors | waterfront | view | condition | grade | sqft_above | sqft_basement |\n",
       "+----------+--------+------------+------+-----------+-------+------------+---------------+\n",
       "|  22703   |   2    |     1      |  4   |     5     |   8   |    2860    |      1780     |\n",
       "+----------+--------+------------+------+-----------+-------+------------+---------------+\n",
       "+----------+--------------+---------+-------------+---------------+---------------+-----+\n",
       "| yr_built | yr_renovated | zipcode |     lat     |      long     | sqft_living15 | ... |\n",
       "+----------+--------------+---------+-------------+---------------+---------------+-----+\n",
       "|   1952   |      0       |  98052  | 47.63925783 | -122.09722322 |     3140.0    | ... |\n",
       "+----------+--------------+---------+-------------+---------------+---------------+-----+\n",
       "[? rows x 21 columns]\n",
       "Note: Only the head of the SFrame is printed. This SFrame is lazily evaluated.\n",
       "You can use len(sf) to force materialization."
      ]
     },
     "execution_count": 27,
     "metadata": {},
     "output_type": "execute_result"
    }
   ],
   "source": [
    "house2"
   ]
  },
  {
   "cell_type": "markdown",
   "metadata": {},
   "source": [
    "<img src=\"https://ssl.cdn-redfin.com/photo/1/bigphoto/302/734302_0.jpg\">"
   ]
  },
  {
   "cell_type": "code",
   "execution_count": 28,
   "metadata": {
    "collapsed": false
   },
   "outputs": [
    {
     "name": "stdout",
     "output_type": "stream",
     "text": [
      "[1261170.4040999676]\n"
     ]
    }
   ],
   "source": [
    "print sqft_model.predict(house2)"
   ]
  },
  {
   "cell_type": "code",
   "execution_count": 29,
   "metadata": {
    "collapsed": false
   },
   "outputs": [
    {
     "name": "stdout",
     "output_type": "stream",
     "text": [
      "[1446472.4690775052]\n"
     ]
    }
   ],
   "source": [
    "print my_features_model.predict(house2)"
   ]
  },
  {
   "cell_type": "markdown",
   "metadata": {},
   "source": [
    "In this case, the model with more features provides a better prediction.  This behavior is expected here, because this house is more differentiated by features that go beyond its square feet of living space, especially the fact that it's a waterfront house. "
   ]
  },
  {
   "cell_type": "markdown",
   "metadata": {},
   "source": [
    "## Last house, super fancy\n",
    "\n",
    "Our last house is a very large one owned by a famous Seattleite."
   ]
  },
  {
   "cell_type": "code",
   "execution_count": 30,
   "metadata": {
    "collapsed": true
   },
   "outputs": [],
   "source": [
    "bill_gates = {'bedrooms':[8], \n",
    "              'bathrooms':[25], \n",
    "              'sqft_living':[50000], \n",
    "              'sqft_lot':[225000],\n",
    "              'floors':[4], \n",
    "              'zipcode':['98039'], \n",
    "              'condition':[10], \n",
    "              'grade':[10],\n",
    "              'waterfront':[1],\n",
    "              'view':[4],\n",
    "              'sqft_above':[37500],\n",
    "              'sqft_basement':[12500],\n",
    "              'yr_built':[1994],\n",
    "              'yr_renovated':[2010],\n",
    "              'lat':[47.627606],\n",
    "              'long':[-122.242054],\n",
    "              'sqft_living15':[5000],\n",
    "              'sqft_lot15':[40000]}"
   ]
  },
  {
   "cell_type": "markdown",
   "metadata": {},
   "source": [
    "<img src=\"https://upload.wikimedia.org/wikipedia/commons/thumb/d/d9/Bill_gates%27_house.jpg/2560px-Bill_gates%27_house.jpg\">"
   ]
  },
  {
   "cell_type": "code",
   "execution_count": 31,
   "metadata": {
    "collapsed": false
   },
   "outputs": [
    {
     "name": "stdout",
     "output_type": "stream",
     "text": [
      "[13749825.525718132]\n"
     ]
    }
   ],
   "source": [
    "print my_features_model.predict(graphlab.SFrame(bill_gates))"
   ]
  },
  {
   "cell_type": "markdown",
   "metadata": {
    "collapsed": true
   },
   "source": [
    "The model predicts a price of over $13M for this house! But we expect the house to cost much more.  (There are very few samples in the dataset of houses that are this fancy, so we don't expect the model to capture a perfect prediction here.)"
   ]
  },
  {
   "cell_type": "code",
   "execution_count": 32,
   "metadata": {
    "collapsed": true
   },
   "outputs": [],
   "source": [
    "zipcode_98039 = sales[sales['zipcode']=='98039']"
   ]
  },
  {
   "cell_type": "code",
   "execution_count": 33,
   "metadata": {
    "collapsed": false
   },
   "outputs": [
    {
     "data": {
      "text/html": [
       "<div style=\"max-height:1000px;max-width:1500px;overflow:auto;\"><table frame=\"box\" rules=\"cols\">\n",
       "    <tr>\n",
       "        <th style=\"padding-left: 1em; padding-right: 1em; text-align: center\">id</th>\n",
       "        <th style=\"padding-left: 1em; padding-right: 1em; text-align: center\">date</th>\n",
       "        <th style=\"padding-left: 1em; padding-right: 1em; text-align: center\">price</th>\n",
       "        <th style=\"padding-left: 1em; padding-right: 1em; text-align: center\">bedrooms</th>\n",
       "        <th style=\"padding-left: 1em; padding-right: 1em; text-align: center\">bathrooms</th>\n",
       "        <th style=\"padding-left: 1em; padding-right: 1em; text-align: center\">sqft_living</th>\n",
       "        <th style=\"padding-left: 1em; padding-right: 1em; text-align: center\">sqft_lot</th>\n",
       "        <th style=\"padding-left: 1em; padding-right: 1em; text-align: center\">floors</th>\n",
       "        <th style=\"padding-left: 1em; padding-right: 1em; text-align: center\">waterfront</th>\n",
       "    </tr>\n",
       "    <tr>\n",
       "        <td style=\"padding-left: 1em; padding-right: 1em; text-align: center; vertical-align: top\">3625049014</td>\n",
       "        <td style=\"padding-left: 1em; padding-right: 1em; text-align: center; vertical-align: top\">2014-08-29 00:00:00+00:00</td>\n",
       "        <td style=\"padding-left: 1em; padding-right: 1em; text-align: center; vertical-align: top\">2950000</td>\n",
       "        <td style=\"padding-left: 1em; padding-right: 1em; text-align: center; vertical-align: top\">4</td>\n",
       "        <td style=\"padding-left: 1em; padding-right: 1em; text-align: center; vertical-align: top\">3.5</td>\n",
       "        <td style=\"padding-left: 1em; padding-right: 1em; text-align: center; vertical-align: top\">4860</td>\n",
       "        <td style=\"padding-left: 1em; padding-right: 1em; text-align: center; vertical-align: top\">23885</td>\n",
       "        <td style=\"padding-left: 1em; padding-right: 1em; text-align: center; vertical-align: top\">2</td>\n",
       "        <td style=\"padding-left: 1em; padding-right: 1em; text-align: center; vertical-align: top\">0</td>\n",
       "    </tr>\n",
       "    <tr>\n",
       "        <td style=\"padding-left: 1em; padding-right: 1em; text-align: center; vertical-align: top\">2540700110</td>\n",
       "        <td style=\"padding-left: 1em; padding-right: 1em; text-align: center; vertical-align: top\">2015-02-12 00:00:00+00:00</td>\n",
       "        <td style=\"padding-left: 1em; padding-right: 1em; text-align: center; vertical-align: top\">1905000</td>\n",
       "        <td style=\"padding-left: 1em; padding-right: 1em; text-align: center; vertical-align: top\">4</td>\n",
       "        <td style=\"padding-left: 1em; padding-right: 1em; text-align: center; vertical-align: top\">3.5</td>\n",
       "        <td style=\"padding-left: 1em; padding-right: 1em; text-align: center; vertical-align: top\">4210</td>\n",
       "        <td style=\"padding-left: 1em; padding-right: 1em; text-align: center; vertical-align: top\">18564</td>\n",
       "        <td style=\"padding-left: 1em; padding-right: 1em; text-align: center; vertical-align: top\">2</td>\n",
       "        <td style=\"padding-left: 1em; padding-right: 1em; text-align: center; vertical-align: top\">0</td>\n",
       "    </tr>\n",
       "    <tr>\n",
       "        <td style=\"padding-left: 1em; padding-right: 1em; text-align: center; vertical-align: top\">3262300940</td>\n",
       "        <td style=\"padding-left: 1em; padding-right: 1em; text-align: center; vertical-align: top\">2014-11-07 00:00:00+00:00</td>\n",
       "        <td style=\"padding-left: 1em; padding-right: 1em; text-align: center; vertical-align: top\">875000</td>\n",
       "        <td style=\"padding-left: 1em; padding-right: 1em; text-align: center; vertical-align: top\">3</td>\n",
       "        <td style=\"padding-left: 1em; padding-right: 1em; text-align: center; vertical-align: top\">1</td>\n",
       "        <td style=\"padding-left: 1em; padding-right: 1em; text-align: center; vertical-align: top\">1220</td>\n",
       "        <td style=\"padding-left: 1em; padding-right: 1em; text-align: center; vertical-align: top\">8119</td>\n",
       "        <td style=\"padding-left: 1em; padding-right: 1em; text-align: center; vertical-align: top\">1</td>\n",
       "        <td style=\"padding-left: 1em; padding-right: 1em; text-align: center; vertical-align: top\">0</td>\n",
       "    </tr>\n",
       "    <tr>\n",
       "        <td style=\"padding-left: 1em; padding-right: 1em; text-align: center; vertical-align: top\">3262300940</td>\n",
       "        <td style=\"padding-left: 1em; padding-right: 1em; text-align: center; vertical-align: top\">2015-02-10 00:00:00+00:00</td>\n",
       "        <td style=\"padding-left: 1em; padding-right: 1em; text-align: center; vertical-align: top\">940000</td>\n",
       "        <td style=\"padding-left: 1em; padding-right: 1em; text-align: center; vertical-align: top\">3</td>\n",
       "        <td style=\"padding-left: 1em; padding-right: 1em; text-align: center; vertical-align: top\">1</td>\n",
       "        <td style=\"padding-left: 1em; padding-right: 1em; text-align: center; vertical-align: top\">1220</td>\n",
       "        <td style=\"padding-left: 1em; padding-right: 1em; text-align: center; vertical-align: top\">8119</td>\n",
       "        <td style=\"padding-left: 1em; padding-right: 1em; text-align: center; vertical-align: top\">1</td>\n",
       "        <td style=\"padding-left: 1em; padding-right: 1em; text-align: center; vertical-align: top\">0</td>\n",
       "    </tr>\n",
       "    <tr>\n",
       "        <td style=\"padding-left: 1em; padding-right: 1em; text-align: center; vertical-align: top\">6447300265</td>\n",
       "        <td style=\"padding-left: 1em; padding-right: 1em; text-align: center; vertical-align: top\">2014-10-14 00:00:00+00:00</td>\n",
       "        <td style=\"padding-left: 1em; padding-right: 1em; text-align: center; vertical-align: top\">4000000</td>\n",
       "        <td style=\"padding-left: 1em; padding-right: 1em; text-align: center; vertical-align: top\">4</td>\n",
       "        <td style=\"padding-left: 1em; padding-right: 1em; text-align: center; vertical-align: top\">5.5</td>\n",
       "        <td style=\"padding-left: 1em; padding-right: 1em; text-align: center; vertical-align: top\">7080</td>\n",
       "        <td style=\"padding-left: 1em; padding-right: 1em; text-align: center; vertical-align: top\">16573</td>\n",
       "        <td style=\"padding-left: 1em; padding-right: 1em; text-align: center; vertical-align: top\">2</td>\n",
       "        <td style=\"padding-left: 1em; padding-right: 1em; text-align: center; vertical-align: top\">0</td>\n",
       "    </tr>\n",
       "    <tr>\n",
       "        <td style=\"padding-left: 1em; padding-right: 1em; text-align: center; vertical-align: top\">2470100110</td>\n",
       "        <td style=\"padding-left: 1em; padding-right: 1em; text-align: center; vertical-align: top\">2014-08-04 00:00:00+00:00</td>\n",
       "        <td style=\"padding-left: 1em; padding-right: 1em; text-align: center; vertical-align: top\">5570000</td>\n",
       "        <td style=\"padding-left: 1em; padding-right: 1em; text-align: center; vertical-align: top\">5</td>\n",
       "        <td style=\"padding-left: 1em; padding-right: 1em; text-align: center; vertical-align: top\">5.75</td>\n",
       "        <td style=\"padding-left: 1em; padding-right: 1em; text-align: center; vertical-align: top\">9200</td>\n",
       "        <td style=\"padding-left: 1em; padding-right: 1em; text-align: center; vertical-align: top\">35069</td>\n",
       "        <td style=\"padding-left: 1em; padding-right: 1em; text-align: center; vertical-align: top\">2</td>\n",
       "        <td style=\"padding-left: 1em; padding-right: 1em; text-align: center; vertical-align: top\">0</td>\n",
       "    </tr>\n",
       "    <tr>\n",
       "        <td style=\"padding-left: 1em; padding-right: 1em; text-align: center; vertical-align: top\">2210500019</td>\n",
       "        <td style=\"padding-left: 1em; padding-right: 1em; text-align: center; vertical-align: top\">2015-03-24 00:00:00+00:00</td>\n",
       "        <td style=\"padding-left: 1em; padding-right: 1em; text-align: center; vertical-align: top\">937500</td>\n",
       "        <td style=\"padding-left: 1em; padding-right: 1em; text-align: center; vertical-align: top\">3</td>\n",
       "        <td style=\"padding-left: 1em; padding-right: 1em; text-align: center; vertical-align: top\">1</td>\n",
       "        <td style=\"padding-left: 1em; padding-right: 1em; text-align: center; vertical-align: top\">1320</td>\n",
       "        <td style=\"padding-left: 1em; padding-right: 1em; text-align: center; vertical-align: top\">8500</td>\n",
       "        <td style=\"padding-left: 1em; padding-right: 1em; text-align: center; vertical-align: top\">1</td>\n",
       "        <td style=\"padding-left: 1em; padding-right: 1em; text-align: center; vertical-align: top\">0</td>\n",
       "    </tr>\n",
       "    <tr>\n",
       "        <td style=\"padding-left: 1em; padding-right: 1em; text-align: center; vertical-align: top\">6447300345</td>\n",
       "        <td style=\"padding-left: 1em; padding-right: 1em; text-align: center; vertical-align: top\">2015-04-06 00:00:00+00:00</td>\n",
       "        <td style=\"padding-left: 1em; padding-right: 1em; text-align: center; vertical-align: top\">1160000</td>\n",
       "        <td style=\"padding-left: 1em; padding-right: 1em; text-align: center; vertical-align: top\">4</td>\n",
       "        <td style=\"padding-left: 1em; padding-right: 1em; text-align: center; vertical-align: top\">3</td>\n",
       "        <td style=\"padding-left: 1em; padding-right: 1em; text-align: center; vertical-align: top\">2680</td>\n",
       "        <td style=\"padding-left: 1em; padding-right: 1em; text-align: center; vertical-align: top\">15438</td>\n",
       "        <td style=\"padding-left: 1em; padding-right: 1em; text-align: center; vertical-align: top\">2</td>\n",
       "        <td style=\"padding-left: 1em; padding-right: 1em; text-align: center; vertical-align: top\">0</td>\n",
       "    </tr>\n",
       "    <tr>\n",
       "        <td style=\"padding-left: 1em; padding-right: 1em; text-align: center; vertical-align: top\">6447300225</td>\n",
       "        <td style=\"padding-left: 1em; padding-right: 1em; text-align: center; vertical-align: top\">2014-11-06 00:00:00+00:00</td>\n",
       "        <td style=\"padding-left: 1em; padding-right: 1em; text-align: center; vertical-align: top\">1880000</td>\n",
       "        <td style=\"padding-left: 1em; padding-right: 1em; text-align: center; vertical-align: top\">3</td>\n",
       "        <td style=\"padding-left: 1em; padding-right: 1em; text-align: center; vertical-align: top\">2.75</td>\n",
       "        <td style=\"padding-left: 1em; padding-right: 1em; text-align: center; vertical-align: top\">2620</td>\n",
       "        <td style=\"padding-left: 1em; padding-right: 1em; text-align: center; vertical-align: top\">17919</td>\n",
       "        <td style=\"padding-left: 1em; padding-right: 1em; text-align: center; vertical-align: top\">1</td>\n",
       "        <td style=\"padding-left: 1em; padding-right: 1em; text-align: center; vertical-align: top\">0</td>\n",
       "    </tr>\n",
       "    <tr>\n",
       "        <td style=\"padding-left: 1em; padding-right: 1em; text-align: center; vertical-align: top\">2525049148</td>\n",
       "        <td style=\"padding-left: 1em; padding-right: 1em; text-align: center; vertical-align: top\">2014-10-07 00:00:00+00:00</td>\n",
       "        <td style=\"padding-left: 1em; padding-right: 1em; text-align: center; vertical-align: top\">3418800</td>\n",
       "        <td style=\"padding-left: 1em; padding-right: 1em; text-align: center; vertical-align: top\">5</td>\n",
       "        <td style=\"padding-left: 1em; padding-right: 1em; text-align: center; vertical-align: top\">5</td>\n",
       "        <td style=\"padding-left: 1em; padding-right: 1em; text-align: center; vertical-align: top\">5450</td>\n",
       "        <td style=\"padding-left: 1em; padding-right: 1em; text-align: center; vertical-align: top\">20412</td>\n",
       "        <td style=\"padding-left: 1em; padding-right: 1em; text-align: center; vertical-align: top\">2</td>\n",
       "        <td style=\"padding-left: 1em; padding-right: 1em; text-align: center; vertical-align: top\">0</td>\n",
       "    </tr>\n",
       "</table>\n",
       "<table frame=\"box\" rules=\"cols\">\n",
       "    <tr>\n",
       "        <th style=\"padding-left: 1em; padding-right: 1em; text-align: center\">view</th>\n",
       "        <th style=\"padding-left: 1em; padding-right: 1em; text-align: center\">condition</th>\n",
       "        <th style=\"padding-left: 1em; padding-right: 1em; text-align: center\">grade</th>\n",
       "        <th style=\"padding-left: 1em; padding-right: 1em; text-align: center\">sqft_above</th>\n",
       "        <th style=\"padding-left: 1em; padding-right: 1em; text-align: center\">sqft_basement</th>\n",
       "        <th style=\"padding-left: 1em; padding-right: 1em; text-align: center\">yr_built</th>\n",
       "        <th style=\"padding-left: 1em; padding-right: 1em; text-align: center\">yr_renovated</th>\n",
       "        <th style=\"padding-left: 1em; padding-right: 1em; text-align: center\">zipcode</th>\n",
       "        <th style=\"padding-left: 1em; padding-right: 1em; text-align: center\">lat</th>\n",
       "    </tr>\n",
       "    <tr>\n",
       "        <td style=\"padding-left: 1em; padding-right: 1em; text-align: center; vertical-align: top\">0</td>\n",
       "        <td style=\"padding-left: 1em; padding-right: 1em; text-align: center; vertical-align: top\">3</td>\n",
       "        <td style=\"padding-left: 1em; padding-right: 1em; text-align: center; vertical-align: top\">12</td>\n",
       "        <td style=\"padding-left: 1em; padding-right: 1em; text-align: center; vertical-align: top\">4860</td>\n",
       "        <td style=\"padding-left: 1em; padding-right: 1em; text-align: center; vertical-align: top\">0</td>\n",
       "        <td style=\"padding-left: 1em; padding-right: 1em; text-align: center; vertical-align: top\">1996</td>\n",
       "        <td style=\"padding-left: 1em; padding-right: 1em; text-align: center; vertical-align: top\">0</td>\n",
       "        <td style=\"padding-left: 1em; padding-right: 1em; text-align: center; vertical-align: top\">98039</td>\n",
       "        <td style=\"padding-left: 1em; padding-right: 1em; text-align: center; vertical-align: top\">47.61717049</td>\n",
       "    </tr>\n",
       "    <tr>\n",
       "        <td style=\"padding-left: 1em; padding-right: 1em; text-align: center; vertical-align: top\">0</td>\n",
       "        <td style=\"padding-left: 1em; padding-right: 1em; text-align: center; vertical-align: top\">3</td>\n",
       "        <td style=\"padding-left: 1em; padding-right: 1em; text-align: center; vertical-align: top\">11</td>\n",
       "        <td style=\"padding-left: 1em; padding-right: 1em; text-align: center; vertical-align: top\">4210</td>\n",
       "        <td style=\"padding-left: 1em; padding-right: 1em; text-align: center; vertical-align: top\">0</td>\n",
       "        <td style=\"padding-left: 1em; padding-right: 1em; text-align: center; vertical-align: top\">2001</td>\n",
       "        <td style=\"padding-left: 1em; padding-right: 1em; text-align: center; vertical-align: top\">0</td>\n",
       "        <td style=\"padding-left: 1em; padding-right: 1em; text-align: center; vertical-align: top\">98039</td>\n",
       "        <td style=\"padding-left: 1em; padding-right: 1em; text-align: center; vertical-align: top\">47.62060082</td>\n",
       "    </tr>\n",
       "    <tr>\n",
       "        <td style=\"padding-left: 1em; padding-right: 1em; text-align: center; vertical-align: top\">0</td>\n",
       "        <td style=\"padding-left: 1em; padding-right: 1em; text-align: center; vertical-align: top\">4</td>\n",
       "        <td style=\"padding-left: 1em; padding-right: 1em; text-align: center; vertical-align: top\">7</td>\n",
       "        <td style=\"padding-left: 1em; padding-right: 1em; text-align: center; vertical-align: top\">1220</td>\n",
       "        <td style=\"padding-left: 1em; padding-right: 1em; text-align: center; vertical-align: top\">0</td>\n",
       "        <td style=\"padding-left: 1em; padding-right: 1em; text-align: center; vertical-align: top\">1955</td>\n",
       "        <td style=\"padding-left: 1em; padding-right: 1em; text-align: center; vertical-align: top\">0</td>\n",
       "        <td style=\"padding-left: 1em; padding-right: 1em; text-align: center; vertical-align: top\">98039</td>\n",
       "        <td style=\"padding-left: 1em; padding-right: 1em; text-align: center; vertical-align: top\">47.63281908</td>\n",
       "    </tr>\n",
       "    <tr>\n",
       "        <td style=\"padding-left: 1em; padding-right: 1em; text-align: center; vertical-align: top\">0</td>\n",
       "        <td style=\"padding-left: 1em; padding-right: 1em; text-align: center; vertical-align: top\">4</td>\n",
       "        <td style=\"padding-left: 1em; padding-right: 1em; text-align: center; vertical-align: top\">7</td>\n",
       "        <td style=\"padding-left: 1em; padding-right: 1em; text-align: center; vertical-align: top\">1220</td>\n",
       "        <td style=\"padding-left: 1em; padding-right: 1em; text-align: center; vertical-align: top\">0</td>\n",
       "        <td style=\"padding-left: 1em; padding-right: 1em; text-align: center; vertical-align: top\">1955</td>\n",
       "        <td style=\"padding-left: 1em; padding-right: 1em; text-align: center; vertical-align: top\">0</td>\n",
       "        <td style=\"padding-left: 1em; padding-right: 1em; text-align: center; vertical-align: top\">98039</td>\n",
       "        <td style=\"padding-left: 1em; padding-right: 1em; text-align: center; vertical-align: top\">47.63281908</td>\n",
       "    </tr>\n",
       "    <tr>\n",
       "        <td style=\"padding-left: 1em; padding-right: 1em; text-align: center; vertical-align: top\">0</td>\n",
       "        <td style=\"padding-left: 1em; padding-right: 1em; text-align: center; vertical-align: top\">3</td>\n",
       "        <td style=\"padding-left: 1em; padding-right: 1em; text-align: center; vertical-align: top\">12</td>\n",
       "        <td style=\"padding-left: 1em; padding-right: 1em; text-align: center; vertical-align: top\">5760</td>\n",
       "        <td style=\"padding-left: 1em; padding-right: 1em; text-align: center; vertical-align: top\">1320</td>\n",
       "        <td style=\"padding-left: 1em; padding-right: 1em; text-align: center; vertical-align: top\">2008</td>\n",
       "        <td style=\"padding-left: 1em; padding-right: 1em; text-align: center; vertical-align: top\">0</td>\n",
       "        <td style=\"padding-left: 1em; padding-right: 1em; text-align: center; vertical-align: top\">98039</td>\n",
       "        <td style=\"padding-left: 1em; padding-right: 1em; text-align: center; vertical-align: top\">47.61512031</td>\n",
       "    </tr>\n",
       "    <tr>\n",
       "        <td style=\"padding-left: 1em; padding-right: 1em; text-align: center; vertical-align: top\">0</td>\n",
       "        <td style=\"padding-left: 1em; padding-right: 1em; text-align: center; vertical-align: top\">3</td>\n",
       "        <td style=\"padding-left: 1em; padding-right: 1em; text-align: center; vertical-align: top\">13</td>\n",
       "        <td style=\"padding-left: 1em; padding-right: 1em; text-align: center; vertical-align: top\">6200</td>\n",
       "        <td style=\"padding-left: 1em; padding-right: 1em; text-align: center; vertical-align: top\">3000</td>\n",
       "        <td style=\"padding-left: 1em; padding-right: 1em; text-align: center; vertical-align: top\">2001</td>\n",
       "        <td style=\"padding-left: 1em; padding-right: 1em; text-align: center; vertical-align: top\">0</td>\n",
       "        <td style=\"padding-left: 1em; padding-right: 1em; text-align: center; vertical-align: top\">98039</td>\n",
       "        <td style=\"padding-left: 1em; padding-right: 1em; text-align: center; vertical-align: top\">47.62888314</td>\n",
       "    </tr>\n",
       "    <tr>\n",
       "        <td style=\"padding-left: 1em; padding-right: 1em; text-align: center; vertical-align: top\">0</td>\n",
       "        <td style=\"padding-left: 1em; padding-right: 1em; text-align: center; vertical-align: top\">4</td>\n",
       "        <td style=\"padding-left: 1em; padding-right: 1em; text-align: center; vertical-align: top\">7</td>\n",
       "        <td style=\"padding-left: 1em; padding-right: 1em; text-align: center; vertical-align: top\">1320</td>\n",
       "        <td style=\"padding-left: 1em; padding-right: 1em; text-align: center; vertical-align: top\">0</td>\n",
       "        <td style=\"padding-left: 1em; padding-right: 1em; text-align: center; vertical-align: top\">1954</td>\n",
       "        <td style=\"padding-left: 1em; padding-right: 1em; text-align: center; vertical-align: top\">0</td>\n",
       "        <td style=\"padding-left: 1em; padding-right: 1em; text-align: center; vertical-align: top\">98039</td>\n",
       "        <td style=\"padding-left: 1em; padding-right: 1em; text-align: center; vertical-align: top\">47.61872888</td>\n",
       "    </tr>\n",
       "    <tr>\n",
       "        <td style=\"padding-left: 1em; padding-right: 1em; text-align: center; vertical-align: top\">2</td>\n",
       "        <td style=\"padding-left: 1em; padding-right: 1em; text-align: center; vertical-align: top\">3</td>\n",
       "        <td style=\"padding-left: 1em; padding-right: 1em; text-align: center; vertical-align: top\">8</td>\n",
       "        <td style=\"padding-left: 1em; padding-right: 1em; text-align: center; vertical-align: top\">2680</td>\n",
       "        <td style=\"padding-left: 1em; padding-right: 1em; text-align: center; vertical-align: top\">0</td>\n",
       "        <td style=\"padding-left: 1em; padding-right: 1em; text-align: center; vertical-align: top\">1902</td>\n",
       "        <td style=\"padding-left: 1em; padding-right: 1em; text-align: center; vertical-align: top\">1956</td>\n",
       "        <td style=\"padding-left: 1em; padding-right: 1em; text-align: center; vertical-align: top\">98039</td>\n",
       "        <td style=\"padding-left: 1em; padding-right: 1em; text-align: center; vertical-align: top\">47.61089438</td>\n",
       "    </tr>\n",
       "    <tr>\n",
       "        <td style=\"padding-left: 1em; padding-right: 1em; text-align: center; vertical-align: top\">1</td>\n",
       "        <td style=\"padding-left: 1em; padding-right: 1em; text-align: center; vertical-align: top\">4</td>\n",
       "        <td style=\"padding-left: 1em; padding-right: 1em; text-align: center; vertical-align: top\">9</td>\n",
       "        <td style=\"padding-left: 1em; padding-right: 1em; text-align: center; vertical-align: top\">2620</td>\n",
       "        <td style=\"padding-left: 1em; padding-right: 1em; text-align: center; vertical-align: top\">0</td>\n",
       "        <td style=\"padding-left: 1em; padding-right: 1em; text-align: center; vertical-align: top\">1949</td>\n",
       "        <td style=\"padding-left: 1em; padding-right: 1em; text-align: center; vertical-align: top\">0</td>\n",
       "        <td style=\"padding-left: 1em; padding-right: 1em; text-align: center; vertical-align: top\">98039</td>\n",
       "        <td style=\"padding-left: 1em; padding-right: 1em; text-align: center; vertical-align: top\">47.61435052</td>\n",
       "    </tr>\n",
       "    <tr>\n",
       "        <td style=\"padding-left: 1em; padding-right: 1em; text-align: center; vertical-align: top\">0</td>\n",
       "        <td style=\"padding-left: 1em; padding-right: 1em; text-align: center; vertical-align: top\">3</td>\n",
       "        <td style=\"padding-left: 1em; padding-right: 1em; text-align: center; vertical-align: top\">11</td>\n",
       "        <td style=\"padding-left: 1em; padding-right: 1em; text-align: center; vertical-align: top\">5450</td>\n",
       "        <td style=\"padding-left: 1em; padding-right: 1em; text-align: center; vertical-align: top\">0</td>\n",
       "        <td style=\"padding-left: 1em; padding-right: 1em; text-align: center; vertical-align: top\">2014</td>\n",
       "        <td style=\"padding-left: 1em; padding-right: 1em; text-align: center; vertical-align: top\">0</td>\n",
       "        <td style=\"padding-left: 1em; padding-right: 1em; text-align: center; vertical-align: top\">98039</td>\n",
       "        <td style=\"padding-left: 1em; padding-right: 1em; text-align: center; vertical-align: top\">47.62087993</td>\n",
       "    </tr>\n",
       "</table>\n",
       "<table frame=\"box\" rules=\"cols\">\n",
       "    <tr>\n",
       "        <th style=\"padding-left: 1em; padding-right: 1em; text-align: center\">long</th>\n",
       "        <th style=\"padding-left: 1em; padding-right: 1em; text-align: center\">sqft_living15</th>\n",
       "        <th style=\"padding-left: 1em; padding-right: 1em; text-align: center\">sqft_lot15</th>\n",
       "    </tr>\n",
       "    <tr>\n",
       "        <td style=\"padding-left: 1em; padding-right: 1em; text-align: center; vertical-align: top\">-122.23040939</td>\n",
       "        <td style=\"padding-left: 1em; padding-right: 1em; text-align: center; vertical-align: top\">3580.0</td>\n",
       "        <td style=\"padding-left: 1em; padding-right: 1em; text-align: center; vertical-align: top\">16054.0</td>\n",
       "    </tr>\n",
       "    <tr>\n",
       "        <td style=\"padding-left: 1em; padding-right: 1em; text-align: center; vertical-align: top\">-122.2245047</td>\n",
       "        <td style=\"padding-left: 1em; padding-right: 1em; text-align: center; vertical-align: top\">3520.0</td>\n",
       "        <td style=\"padding-left: 1em; padding-right: 1em; text-align: center; vertical-align: top\">18564.0</td>\n",
       "    </tr>\n",
       "    <tr>\n",
       "        <td style=\"padding-left: 1em; padding-right: 1em; text-align: center; vertical-align: top\">-122.23554392</td>\n",
       "        <td style=\"padding-left: 1em; padding-right: 1em; text-align: center; vertical-align: top\">1910.0</td>\n",
       "        <td style=\"padding-left: 1em; padding-right: 1em; text-align: center; vertical-align: top\">8119.0</td>\n",
       "    </tr>\n",
       "    <tr>\n",
       "        <td style=\"padding-left: 1em; padding-right: 1em; text-align: center; vertical-align: top\">-122.23554392</td>\n",
       "        <td style=\"padding-left: 1em; padding-right: 1em; text-align: center; vertical-align: top\">1910.0</td>\n",
       "        <td style=\"padding-left: 1em; padding-right: 1em; text-align: center; vertical-align: top\">8119.0</td>\n",
       "    </tr>\n",
       "    <tr>\n",
       "        <td style=\"padding-left: 1em; padding-right: 1em; text-align: center; vertical-align: top\">-122.22420058</td>\n",
       "        <td style=\"padding-left: 1em; padding-right: 1em; text-align: center; vertical-align: top\">3140.0</td>\n",
       "        <td style=\"padding-left: 1em; padding-right: 1em; text-align: center; vertical-align: top\">15996.0</td>\n",
       "    </tr>\n",
       "    <tr>\n",
       "        <td style=\"padding-left: 1em; padding-right: 1em; text-align: center; vertical-align: top\">-122.23346379</td>\n",
       "        <td style=\"padding-left: 1em; padding-right: 1em; text-align: center; vertical-align: top\">3560.0</td>\n",
       "        <td style=\"padding-left: 1em; padding-right: 1em; text-align: center; vertical-align: top\">24345.0</td>\n",
       "    </tr>\n",
       "    <tr>\n",
       "        <td style=\"padding-left: 1em; padding-right: 1em; text-align: center; vertical-align: top\">-122.22643371</td>\n",
       "        <td style=\"padding-left: 1em; padding-right: 1em; text-align: center; vertical-align: top\">2790.0</td>\n",
       "        <td style=\"padding-left: 1em; padding-right: 1em; text-align: center; vertical-align: top\">10800.0</td>\n",
       "    </tr>\n",
       "    <tr>\n",
       "        <td style=\"padding-left: 1em; padding-right: 1em; text-align: center; vertical-align: top\">-122.22582388</td>\n",
       "        <td style=\"padding-left: 1em; padding-right: 1em; text-align: center; vertical-align: top\">4480.0</td>\n",
       "        <td style=\"padding-left: 1em; padding-right: 1em; text-align: center; vertical-align: top\">14406.0</td>\n",
       "    </tr>\n",
       "    <tr>\n",
       "        <td style=\"padding-left: 1em; padding-right: 1em; text-align: center; vertical-align: top\">-122.22772057</td>\n",
       "        <td style=\"padding-left: 1em; padding-right: 1em; text-align: center; vertical-align: top\">3400.0</td>\n",
       "        <td style=\"padding-left: 1em; padding-right: 1em; text-align: center; vertical-align: top\">14400.0</td>\n",
       "    </tr>\n",
       "    <tr>\n",
       "        <td style=\"padding-left: 1em; padding-right: 1em; text-align: center; vertical-align: top\">-122.23726918</td>\n",
       "        <td style=\"padding-left: 1em; padding-right: 1em; text-align: center; vertical-align: top\">3160.0</td>\n",
       "        <td style=\"padding-left: 1em; padding-right: 1em; text-align: center; vertical-align: top\">17825.0</td>\n",
       "    </tr>\n",
       "</table>\n",
       "[? rows x 21 columns]<br/>Note: Only the head of the SFrame is printed. This SFrame is lazily evaluated.<br/>You can use len(sf) to force materialization.\n",
       "</div>"
      ],
      "text/plain": [
       "Columns:\n",
       "\tid\tstr\n",
       "\tdate\tdatetime\n",
       "\tprice\tint\n",
       "\tbedrooms\tstr\n",
       "\tbathrooms\tstr\n",
       "\tsqft_living\tint\n",
       "\tsqft_lot\tint\n",
       "\tfloors\tstr\n",
       "\twaterfront\tint\n",
       "\tview\tint\n",
       "\tcondition\tint\n",
       "\tgrade\tint\n",
       "\tsqft_above\tint\n",
       "\tsqft_basement\tint\n",
       "\tyr_built\tint\n",
       "\tyr_renovated\tint\n",
       "\tzipcode\tstr\n",
       "\tlat\tfloat\n",
       "\tlong\tfloat\n",
       "\tsqft_living15\tfloat\n",
       "\tsqft_lot15\tfloat\n",
       "\n",
       "Rows: Unknown\n",
       "\n",
       "Data:\n",
       "+------------+---------------------------+---------+----------+-----------+-------------+\n",
       "|     id     |            date           |  price  | bedrooms | bathrooms | sqft_living |\n",
       "+------------+---------------------------+---------+----------+-----------+-------------+\n",
       "| 3625049014 | 2014-08-29 00:00:00+00:00 | 2950000 |    4     |    3.5    |     4860    |\n",
       "| 2540700110 | 2015-02-12 00:00:00+00:00 | 1905000 |    4     |    3.5    |     4210    |\n",
       "| 3262300940 | 2014-11-07 00:00:00+00:00 |  875000 |    3     |     1     |     1220    |\n",
       "| 3262300940 | 2015-02-10 00:00:00+00:00 |  940000 |    3     |     1     |     1220    |\n",
       "| 6447300265 | 2014-10-14 00:00:00+00:00 | 4000000 |    4     |    5.5    |     7080    |\n",
       "| 2470100110 | 2014-08-04 00:00:00+00:00 | 5570000 |    5     |    5.75   |     9200    |\n",
       "| 2210500019 | 2015-03-24 00:00:00+00:00 |  937500 |    3     |     1     |     1320    |\n",
       "| 6447300345 | 2015-04-06 00:00:00+00:00 | 1160000 |    4     |     3     |     2680    |\n",
       "| 6447300225 | 2014-11-06 00:00:00+00:00 | 1880000 |    3     |    2.75   |     2620    |\n",
       "| 2525049148 | 2014-10-07 00:00:00+00:00 | 3418800 |    5     |     5     |     5450    |\n",
       "+------------+---------------------------+---------+----------+-----------+-------------+\n",
       "+----------+--------+------------+------+-----------+-------+------------+---------------+\n",
       "| sqft_lot | floors | waterfront | view | condition | grade | sqft_above | sqft_basement |\n",
       "+----------+--------+------------+------+-----------+-------+------------+---------------+\n",
       "|  23885   |   2    |     0      |  0   |     3     |   12  |    4860    |       0       |\n",
       "|  18564   |   2    |     0      |  0   |     3     |   11  |    4210    |       0       |\n",
       "|   8119   |   1    |     0      |  0   |     4     |   7   |    1220    |       0       |\n",
       "|   8119   |   1    |     0      |  0   |     4     |   7   |    1220    |       0       |\n",
       "|  16573   |   2    |     0      |  0   |     3     |   12  |    5760    |      1320     |\n",
       "|  35069   |   2    |     0      |  0   |     3     |   13  |    6200    |      3000     |\n",
       "|   8500   |   1    |     0      |  0   |     4     |   7   |    1320    |       0       |\n",
       "|  15438   |   2    |     0      |  2   |     3     |   8   |    2680    |       0       |\n",
       "|  17919   |   1    |     0      |  1   |     4     |   9   |    2620    |       0       |\n",
       "|  20412   |   2    |     0      |  0   |     3     |   11  |    5450    |       0       |\n",
       "+----------+--------+------------+------+-----------+-------+------------+---------------+\n",
       "+----------+--------------+---------+-------------+---------------+---------------+-----+\n",
       "| yr_built | yr_renovated | zipcode |     lat     |      long     | sqft_living15 | ... |\n",
       "+----------+--------------+---------+-------------+---------------+---------------+-----+\n",
       "|   1996   |      0       |  98039  | 47.61717049 | -122.23040939 |     3580.0    | ... |\n",
       "|   2001   |      0       |  98039  | 47.62060082 |  -122.2245047 |     3520.0    | ... |\n",
       "|   1955   |      0       |  98039  | 47.63281908 | -122.23554392 |     1910.0    | ... |\n",
       "|   1955   |      0       |  98039  | 47.63281908 | -122.23554392 |     1910.0    | ... |\n",
       "|   2008   |      0       |  98039  | 47.61512031 | -122.22420058 |     3140.0    | ... |\n",
       "|   2001   |      0       |  98039  | 47.62888314 | -122.23346379 |     3560.0    | ... |\n",
       "|   1954   |      0       |  98039  | 47.61872888 | -122.22643371 |     2790.0    | ... |\n",
       "|   1902   |     1956     |  98039  | 47.61089438 | -122.22582388 |     4480.0    | ... |\n",
       "|   1949   |      0       |  98039  | 47.61435052 | -122.22772057 |     3400.0    | ... |\n",
       "|   2014   |      0       |  98039  | 47.62087993 | -122.23726918 |     3160.0    | ... |\n",
       "+----------+--------------+---------+-------------+---------------+---------------+-----+\n",
       "[? rows x 21 columns]\n",
       "Note: Only the head of the SFrame is printed. This SFrame is lazily evaluated.\n",
       "You can use len(sf) to force materialization."
      ]
     },
     "execution_count": 33,
     "metadata": {},
     "output_type": "execute_result"
    }
   ],
   "source": [
    "zipcode_98039"
   ]
  },
  {
   "cell_type": "code",
   "execution_count": 43,
   "metadata": {
    "collapsed": false
   },
   "outputs": [
    {
     "data": {
      "text/plain": [
       "graphlab.data_structures.sframe.SFrame"
      ]
     },
     "execution_count": 43,
     "metadata": {},
     "output_type": "execute_result"
    }
   ],
   "source": [
    "type(zipcode_98039)"
   ]
  },
  {
   "cell_type": "code",
   "execution_count": 50,
   "metadata": {
    "collapsed": false
   },
   "outputs": [
    {
     "data": {
      "text/plain": [
       "2160606.6000000001"
      ]
     },
     "execution_count": 50,
     "metadata": {},
     "output_type": "execute_result"
    }
   ],
   "source": [
    "import numpy\n",
    "average = numpy.average(zipcode_98039['price'])\n",
    "average"
   ]
  },
  {
   "cell_type": "code",
   "execution_count": 90,
   "metadata": {
    "collapsed": false
   },
   "outputs": [
    {
     "data": {
      "text/plain": [
       "2160606.6000000006"
      ]
     },
     "execution_count": 90,
     "metadata": {},
     "output_type": "execute_result"
    }
   ],
   "source": [
    "zipcode_98039['price'].mean()"
   ]
  },
  {
   "cell_type": "code",
   "execution_count": 75,
   "metadata": {
    "collapsed": false
   },
   "outputs": [
    {
     "name": "stdout",
     "output_type": "stream",
     "text": [
      "9118\n",
      "21613\n",
      "0.421875722945\n"
     ]
    }
   ],
   "source": [
    "filtered_sales = sales[(sales['sqft_living'] > 2000) & (sales['sqft_living'] <= 4000)]\n",
    "count_filtered_sales = len(filtered_sales)\n",
    "count_total_sales = len(sales)\n",
    "print count_filtered_sales\n",
    "print count_total_sales\n",
    "fraction = float(count_filtered_sales) / float(count_total_sales)\n",
    "print fraction"
   ]
  },
  {
   "cell_type": "code",
   "execution_count": 89,
   "metadata": {
    "collapsed": false
   },
   "outputs": [],
   "source": [
    "advanced_features = \\\n",
    "[\\\n",
    "'bedrooms', 'bathrooms', 'sqft_living', 'sqft_lot', 'floors', 'zipcode',\\\n",
    "'condition', # condition of house\n",
    "'grade',# measure of quality of construction\n",
    "'waterfront', # waterfront property\n",
    "'view', # type of view\t\n",
    "'sqft_above', # square feet above ground\n",
    "'sqft_basement', # square feet in basement\n",
    "'yr_built', # the year built\n",
    "'yr_renovated', # the year renovated\n",
    "'lat', 'long', # the lat-long of the parcel\n",
    "'sqft_living15', # average sq.ft. of 15 nearest neighbors \n",
    "'sqft_lot15', # average lot size of 15 nearest neighbors \n",
    "]"
   ]
  },
  {
   "cell_type": "code",
   "execution_count": 91,
   "metadata": {
    "collapsed": false
   },
   "outputs": [
    {
     "name": "stdout",
     "output_type": "stream",
     "text": [
      "PROGRESS: Linear regression:\n",
      "PROGRESS: --------------------------------------------------------\n",
      "PROGRESS: Number of examples          : 17384\n",
      "PROGRESS: Number of features          : 18\n",
      "PROGRESS: Number of unpacked features : 18\n",
      "PROGRESS: Number of coefficients    : 127\n",
      "PROGRESS: Starting Newton Method\n",
      "PROGRESS: --------------------------------------------------------\n",
      "PROGRESS: +-----------+----------+--------------+--------------------+---------------+\n",
      "PROGRESS: | Iteration | Passes   | Elapsed Time | Training-max_error | Training-rmse |\n",
      "PROGRESS: +-----------+----------+--------------+--------------------+---------------+\n",
      "PROGRESS: | 1         | 2        | 0.086703     | 3469012.450487     | 154580.940732 |\n",
      "PROGRESS: | 2         | 3        | 0.145362     | 3469012.450673     | 154580.940735 |\n",
      "PROGRESS: +-----------+----------+--------------+--------------------+---------------+\n",
      "PROGRESS: SUCCESS: Optimal solution found.\n",
      "PROGRESS:\n"
     ]
    }
   ],
   "source": [
    "advanced_features_model = graphlab.linear_regression.create(train_data,target='price',features=advanced_features,validation_set=None)"
   ]
  },
  {
   "cell_type": "code",
   "execution_count": 93,
   "metadata": {
    "collapsed": false
   },
   "outputs": [
    {
     "name": "stdout",
     "output_type": "stream",
     "text": [
      "{'max_error': 3486584.5093818563, 'rmse': 179542.4333126908}\n",
      "{'max_error': 3556849.4138490623, 'rmse': 156831.11680200786}\n"
     ]
    }
   ],
   "source": [
    "print my_features_model.evaluate(test_data)\n",
    "print advanced_features_model.evaluate(test_data)"
   ]
  },
  {
   "cell_type": "code",
   "execution_count": 94,
   "metadata": {
    "collapsed": true
   },
   "outputs": [],
   "source": [
    "rmse_diff = 179542.4333126908 - 156831.11680200786"
   ]
  },
  {
   "cell_type": "code",
   "execution_count": 95,
   "metadata": {
    "collapsed": false
   },
   "outputs": [
    {
     "name": "stdout",
     "output_type": "stream",
     "text": [
      "22711.3165107\n"
     ]
    }
   ],
   "source": [
    "print rmse_diff"
   ]
  }
 ],
 "metadata": {
  "kernelspec": {
   "display_name": "Python 2",
   "language": "python",
   "name": "python2"
  },
  "language_info": {
   "codemirror_mode": {
    "name": "ipython",
    "version": 2
   },
   "file_extension": ".py",
   "mimetype": "text/x-python",
   "name": "python",
   "nbconvert_exporter": "python",
   "pygments_lexer": "ipython2",
   "version": "2.7.11"
  }
 },
 "nbformat": 4,
 "nbformat_minor": 0
}
